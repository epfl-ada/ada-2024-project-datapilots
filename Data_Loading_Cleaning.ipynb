{
 "cells": [
  {
   "cell_type": "markdown",
   "id": "3873d0e1-f004-48d6-b2f0-3855a6ffec74",
   "metadata": {},
   "source": [
    "# Dataset"
   ]
  },
  {
   "cell_type": "markdown",
   "id": "b6eec147-4e78-4906-b5b3-3efc8a039db8",
   "metadata": {},
   "source": [
    "The dataset used in this analysis consists of beer reviews from two beer rating websites,**BeerAdvocate** and **RateBeer**, for a period ranging from 2001 to 2017. For each website, we have 5 files:\n",
    "- users.csv: metadata about reviewers\n",
    "- beers.csv : metadata about reviewed beers\n",
    "- breweries.csv : metadata about breweries\n",
    "- ratings.txt : all reviews given by users, including numerical ratings and sometimes textual reviews\n",
    "- reviews.txt : only reviews given by users that include both numerical ratings and textual reviews\n",
    "\n",
    "In our analysis, we will not use textual reviews. Thus, we will only use ratings.txt files and not reviews.txt files, as we will use all reviews, whether or not they include textual reviews."
   ]
  },
  {
   "cell_type": "markdown",
   "id": "c1fb47a8-b45c-4a0a-8c78-2ffea51350f8",
   "metadata": {},
   "source": [
    "### Load data into Dataframes"
   ]
  },
  {
   "cell_type": "markdown",
   "id": "d92e247a-379a-4c23-b87a-9673d2c8f06f",
   "metadata": {},
   "source": [
    "The .csv files are not too large and can efficiently be loaded into DataFrames."
   ]
  },
  {
   "cell_type": "code",
   "execution_count": 3,
   "id": "123852bb",
   "metadata": {},
   "outputs": [],
   "source": [
    "BA_DATA_FOLDER = 'data/BeerAdvocate/'\n",
    "RB_DATA_FOLDER = 'data/RateBeer/'\n",
    "\n",
    "BA_USERS = BA_DATA_FOLDER+\"users.csv\"\n",
    "BA_BEERS = BA_DATA_FOLDER+\"beers.csv\"\n",
    "BA_BREWERIES = BA_DATA_FOLDER+\"breweries.csv\"\n",
    "\n",
    "RB_USERS = RB_DATA_FOLDER+\"users.csv\"\n",
    "RB_BEERS = RB_DATA_FOLDER+\"beers.csv\"\n",
    "RB_BREWERIES = RB_DATA_FOLDER+\"breweries.csv\""
   ]
  },
  {
   "cell_type": "code",
   "execution_count": 4,
   "id": "4498cfd3",
   "metadata": {},
   "outputs": [],
   "source": [
    "ba_users = pd.read_csv(BA_USERS)\n",
    "ba_beers = pd.read_csv(BA_BEERS)\n",
    "ba_breweries = pd.read_csv(BA_BREWERIES)\n",
    "\n",
    "rb_users = pd.read_csv(RB_USERS)\n",
    "rb_beers = pd.read_csv(RB_BEERS)\n",
    "rb_breweries = pd.read_csv(RB_BREWERIES)"
   ]
  },
  {
   "cell_type": "markdown",
   "id": "e518fb76-9bc0-4a9b-bf87-2b5cee53d623",
   "metadata": {},
   "source": [
    "On the other hand, the ratings.txt files are extremely large, and trying to load them directly into DataFrames leads to kernel freezes. In order to circumvent this problem, we wrote a script (review_parser.py, located in src/scripts), which processes each rating file by dividing it into parts, parsing each part, and saving as JSON. In the notebook, we then load the different JSON files into DataFrames, that we concatenate. Dividing the large .txt files into smaller JSON chunks and then loading each chunk separately, avoids trying to load the entire file into memory at once, which can cause kernel freezes due to memory overload. In addition, JSON is a format that pandas can read efficiently."
   ]
  },
  {
   "cell_type": "code",
   "execution_count": 5,
   "id": "d4804663",
   "metadata": {},
   "outputs": [],
   "source": [
    "# Load BeerAdvocate ratings stored in json files into a single DataFrame\n",
    "ba_json_files = glob.glob(BA_DATA_FOLDER+'*.json')\n",
    "ba_df_list = [pd.read_json(file) for file in ba_json_files]\n",
    "ba_ratings = pd.concat(ba_df_list, ignore_index=True)"
   ]
  },
  {
   "cell_type": "code",
   "execution_count": 6,
   "id": "3f017fde",
   "metadata": {},
   "outputs": [],
   "source": [
    "# Load RateBeer ratings stored in json files into a single DataFrame\n",
    "rb_json_files = glob.glob(RB_DATA_FOLDER+'*.json')\n",
    "rb_df_list = [pd.read_json(file) for file in rb_json_files]\n",
    "rb_ratings = pd.concat(rb_df_list, ignore_index=True)"
   ]
  },
  {
   "cell_type": "markdown",
   "id": "7d8833f0-ce3f-48b6-b0ad-3eda16d4917e",
   "metadata": {},
   "source": [
    "### First look at the data\n",
    "\n",
    "We will now examine the different DataFrames in more detail."
   ]
  },
  {
   "cell_type": "markdown",
   "id": "69fe0d4a-d324-4216-a588-adcff76f3c2b",
   "metadata": {},
   "source": [
    "**BeerAdvocate beer Dataframe**"
   ]
  },
  {
   "cell_type": "code",
   "execution_count": 7,
   "id": "44eeef34",
   "metadata": {},
   "outputs": [
    {
     "data": {
      "text/html": [
       "<div>\n",
       "<style scoped>\n",
       "    .dataframe tbody tr th:only-of-type {\n",
       "        vertical-align: middle;\n",
       "    }\n",
       "\n",
       "    .dataframe tbody tr th {\n",
       "        vertical-align: top;\n",
       "    }\n",
       "\n",
       "    .dataframe thead th {\n",
       "        text-align: right;\n",
       "    }\n",
       "</style>\n",
       "<table border=\"1\" class=\"dataframe\">\n",
       "  <thead>\n",
       "    <tr style=\"text-align: right;\">\n",
       "      <th></th>\n",
       "      <th>beer_id</th>\n",
       "      <th>beer_name</th>\n",
       "      <th>brewery_id</th>\n",
       "      <th>brewery_name</th>\n",
       "      <th>style</th>\n",
       "      <th>nbr_ratings</th>\n",
       "      <th>nbr_reviews</th>\n",
       "      <th>avg</th>\n",
       "      <th>ba_score</th>\n",
       "      <th>bros_score</th>\n",
       "      <th>abv</th>\n",
       "      <th>avg_computed</th>\n",
       "      <th>zscore</th>\n",
       "      <th>nbr_matched_valid_ratings</th>\n",
       "      <th>avg_matched_valid_ratings</th>\n",
       "    </tr>\n",
       "  </thead>\n",
       "  <tbody>\n",
       "    <tr>\n",
       "      <th>156895</th>\n",
       "      <td>9802</td>\n",
       "      <td>60 Shilling Ale</td>\n",
       "      <td>1042</td>\n",
       "      <td>Nodding Head Brewery</td>\n",
       "      <td>Scottish Ale</td>\n",
       "      <td>40</td>\n",
       "      <td>19</td>\n",
       "      <td>3.29</td>\n",
       "      <td>80.0</td>\n",
       "      <td>NaN</td>\n",
       "      <td>4.75</td>\n",
       "      <td>3.283750</td>\n",
       "      <td>NaN</td>\n",
       "      <td>0</td>\n",
       "      <td>NaN</td>\n",
       "    </tr>\n",
       "    <tr>\n",
       "      <th>104845</th>\n",
       "      <td>171163</td>\n",
       "      <td>Narquois Rouge</td>\n",
       "      <td>4980</td>\n",
       "      <td>Engine House No. 9</td>\n",
       "      <td>Flanders Red Ale</td>\n",
       "      <td>2</td>\n",
       "      <td>1</td>\n",
       "      <td>3.73</td>\n",
       "      <td>NaN</td>\n",
       "      <td>NaN</td>\n",
       "      <td>7.80</td>\n",
       "      <td>3.710000</td>\n",
       "      <td>-0.491621</td>\n",
       "      <td>1</td>\n",
       "      <td>3.75</td>\n",
       "    </tr>\n",
       "    <tr>\n",
       "      <th>132422</th>\n",
       "      <td>225840</td>\n",
       "      <td>Saison Delivery</td>\n",
       "      <td>18120</td>\n",
       "      <td>Trinity Brewing Company</td>\n",
       "      <td>Saison / Farmhouse Ale</td>\n",
       "      <td>13</td>\n",
       "      <td>2</td>\n",
       "      <td>4.41</td>\n",
       "      <td>87.0</td>\n",
       "      <td>NaN</td>\n",
       "      <td>NaN</td>\n",
       "      <td>4.200769</td>\n",
       "      <td>NaN</td>\n",
       "      <td>0</td>\n",
       "      <td>NaN</td>\n",
       "    </tr>\n",
       "    <tr>\n",
       "      <th>161473</th>\n",
       "      <td>92659</td>\n",
       "      <td>Port Barrel Aged Dark Lord Imperial Stout</td>\n",
       "      <td>26</td>\n",
       "      <td>3 Floyds Brewing Co.</td>\n",
       "      <td>Russian Imperial Stout</td>\n",
       "      <td>116</td>\n",
       "      <td>10</td>\n",
       "      <td>4.20</td>\n",
       "      <td>91.0</td>\n",
       "      <td>NaN</td>\n",
       "      <td>15.00</td>\n",
       "      <td>4.268017</td>\n",
       "      <td>NaN</td>\n",
       "      <td>0</td>\n",
       "      <td>NaN</td>\n",
       "    </tr>\n",
       "  </tbody>\n",
       "</table>\n",
       "</div>"
      ],
      "text/plain": [
       "        beer_id                                  beer_name  brewery_id  \\\n",
       "156895     9802                            60 Shilling Ale        1042   \n",
       "104845   171163                             Narquois Rouge        4980   \n",
       "132422   225840                            Saison Delivery       18120   \n",
       "161473    92659  Port Barrel Aged Dark Lord Imperial Stout          26   \n",
       "\n",
       "                   brewery_name                   style  nbr_ratings  \\\n",
       "156895     Nodding Head Brewery            Scottish Ale           40   \n",
       "104845       Engine House No. 9        Flanders Red Ale            2   \n",
       "132422  Trinity Brewing Company  Saison / Farmhouse Ale           13   \n",
       "161473     3 Floyds Brewing Co.  Russian Imperial Stout          116   \n",
       "\n",
       "        nbr_reviews   avg  ba_score  bros_score    abv  avg_computed  \\\n",
       "156895           19  3.29      80.0         NaN   4.75      3.283750   \n",
       "104845            1  3.73       NaN         NaN   7.80      3.710000   \n",
       "132422            2  4.41      87.0         NaN    NaN      4.200769   \n",
       "161473           10  4.20      91.0         NaN  15.00      4.268017   \n",
       "\n",
       "          zscore  nbr_matched_valid_ratings  avg_matched_valid_ratings  \n",
       "156895       NaN                          0                        NaN  \n",
       "104845 -0.491621                          1                       3.75  \n",
       "132422       NaN                          0                        NaN  \n",
       "161473       NaN                          0                        NaN  "
      ]
     },
     "execution_count": 7,
     "metadata": {},
     "output_type": "execute_result"
    }
   ],
   "source": [
    "ba_beers.sample(4)"
   ]
  },
  {
   "cell_type": "markdown",
   "id": "550dc618-9b07-4bf7-8763-56a7ac3a4284",
   "metadata": {},
   "source": [
    "Let us explain the different columns of the BeerAdvocate beer Dataframe, in which each row is a beer:\n",
    "- beer_id, beer_name, brewery_id, brewery_name, style are explicit\n",
    "- nbr_ratings: total number of reviews for that beer, whether or not they include textual reviews\n",
    "- nbr_reviews: number of reviews for that beer that include textual reviews\n",
    "- avg: average rating (out of 5) given to the beer based on user ratings\n",
    "- ba_score: the BeerAdvocate score assigned to the beer, which corresponds to the beer's overall rating within its style category, calculated using a trimmed mean and a custom Bayesian formula that adjusts for the beer's style, balancing the score based on the number of ratings and the style's average\n",
    "- bros_score: beer rating given by the site’s founders\n",
    "- abv: 'Alcohol by volume', which indicates the percentage of alcohol content in the beer\n",
    "- avg_computed: average rating (out of 5) recalculated using a weighted sum of the different aspect ratings\n",
    "- zscore: z-score of the beer's average rating, which is a statistical measure that indicates how many standard deviations the average rating is from the mean of all ratings from the BeerAdvocate dataset\n",
    "- nbr_matched_valid_ratings: number of valid ratings for beers that were successfully matched between two BeerAdvocate and RateBeer\n",
    "- avg_matched_valid_ratings: average rating of those matched and valid ratings across the sites\n",
    "\n",
    "The last two columns are related to the analysis performed by Robert West and Gael Lederrey in the following paper: https://dlab.epfl.ch/people/west/pub/Lederrey-West_WWW-18.pdf."
   ]
  },
  {
   "cell_type": "markdown",
   "id": "af109638-4e72-4d30-94b0-9b76edb2dc72",
   "metadata": {},
   "source": [
    "**RateBeer beer Dataframe**"
   ]
  },
  {
   "cell_type": "code",
   "execution_count": 8,
   "id": "ec3c9289",
   "metadata": {},
   "outputs": [
    {
     "data": {
      "text/html": [
       "<div>\n",
       "<style scoped>\n",
       "    .dataframe tbody tr th:only-of-type {\n",
       "        vertical-align: middle;\n",
       "    }\n",
       "\n",
       "    .dataframe tbody tr th {\n",
       "        vertical-align: top;\n",
       "    }\n",
       "\n",
       "    .dataframe thead th {\n",
       "        text-align: right;\n",
       "    }\n",
       "</style>\n",
       "<table border=\"1\" class=\"dataframe\">\n",
       "  <thead>\n",
       "    <tr style=\"text-align: right;\">\n",
       "      <th></th>\n",
       "      <th>beer_id</th>\n",
       "      <th>beer_name</th>\n",
       "      <th>brewery_id</th>\n",
       "      <th>brewery_name</th>\n",
       "      <th>style</th>\n",
       "      <th>nbr_ratings</th>\n",
       "      <th>overall_score</th>\n",
       "      <th>style_score</th>\n",
       "      <th>avg</th>\n",
       "      <th>abv</th>\n",
       "      <th>avg_computed</th>\n",
       "      <th>zscore</th>\n",
       "      <th>nbr_matched_valid_ratings</th>\n",
       "      <th>avg_matched_valid_ratings</th>\n",
       "    </tr>\n",
       "  </thead>\n",
       "  <tbody>\n",
       "    <tr>\n",
       "      <th>196026</th>\n",
       "      <td>423313</td>\n",
       "      <td>Populuxe 3rd Anniversary IPA</td>\n",
       "      <td>16245</td>\n",
       "      <td>Populuxe Brewing Company</td>\n",
       "      <td>India Pale Ale (IPA)</td>\n",
       "      <td>1</td>\n",
       "      <td>NaN</td>\n",
       "      <td>NaN</td>\n",
       "      <td>3.09</td>\n",
       "      <td>6.8</td>\n",
       "      <td>3.70</td>\n",
       "      <td>NaN</td>\n",
       "      <td>0</td>\n",
       "      <td>NaN</td>\n",
       "    </tr>\n",
       "    <tr>\n",
       "      <th>179681</th>\n",
       "      <td>264259</td>\n",
       "      <td>Peter Bs DIPA</td>\n",
       "      <td>2128</td>\n",
       "      <td>Peter Bs Brewpub</td>\n",
       "      <td>Imperial IPA</td>\n",
       "      <td>2</td>\n",
       "      <td>NaN</td>\n",
       "      <td>NaN</td>\n",
       "      <td>3.23</td>\n",
       "      <td>9.5</td>\n",
       "      <td>3.80</td>\n",
       "      <td>NaN</td>\n",
       "      <td>0</td>\n",
       "      <td>NaN</td>\n",
       "    </tr>\n",
       "    <tr>\n",
       "      <th>325169</th>\n",
       "      <td>76468</td>\n",
       "      <td>Maumee Bay Naked Saison</td>\n",
       "      <td>1507</td>\n",
       "      <td>Maumee Bay Brewing Co.</td>\n",
       "      <td>Saison</td>\n",
       "      <td>2</td>\n",
       "      <td>NaN</td>\n",
       "      <td>NaN</td>\n",
       "      <td>2.70</td>\n",
       "      <td>NaN</td>\n",
       "      <td>2.65</td>\n",
       "      <td>NaN</td>\n",
       "      <td>0</td>\n",
       "      <td>NaN</td>\n",
       "    </tr>\n",
       "    <tr>\n",
       "      <th>129583</th>\n",
       "      <td>342459</td>\n",
       "      <td>Äppelbo Imperial Nitro Stout</td>\n",
       "      <td>20270</td>\n",
       "      <td>Äppelbo Bryggeri</td>\n",
       "      <td>Imperial Stout</td>\n",
       "      <td>14</td>\n",
       "      <td>24.0</td>\n",
       "      <td>0.0</td>\n",
       "      <td>2.83</td>\n",
       "      <td>9.5</td>\n",
       "      <td>2.80</td>\n",
       "      <td>-1.242101</td>\n",
       "      <td>14</td>\n",
       "      <td>2.8</td>\n",
       "    </tr>\n",
       "  </tbody>\n",
       "</table>\n",
       "</div>"
      ],
      "text/plain": [
       "        beer_id                     beer_name  brewery_id  \\\n",
       "196026   423313  Populuxe 3rd Anniversary IPA       16245   \n",
       "179681   264259                Peter Bs DIPA        2128   \n",
       "325169    76468       Maumee Bay Naked Saison        1507   \n",
       "129583   342459  Äppelbo Imperial Nitro Stout       20270   \n",
       "\n",
       "                    brewery_name                 style  nbr_ratings  \\\n",
       "196026  Populuxe Brewing Company  India Pale Ale (IPA)            1   \n",
       "179681         Peter Bs Brewpub          Imperial IPA            2   \n",
       "325169    Maumee Bay Brewing Co.                Saison            2   \n",
       "129583          Äppelbo Bryggeri        Imperial Stout           14   \n",
       "\n",
       "        overall_score  style_score   avg  abv  avg_computed    zscore  \\\n",
       "196026            NaN          NaN  3.09  6.8          3.70       NaN   \n",
       "179681            NaN          NaN  3.23  9.5          3.80       NaN   \n",
       "325169            NaN          NaN  2.70  NaN          2.65       NaN   \n",
       "129583           24.0          0.0  2.83  9.5          2.80 -1.242101   \n",
       "\n",
       "        nbr_matched_valid_ratings  avg_matched_valid_ratings  \n",
       "196026                          0                        NaN  \n",
       "179681                          0                        NaN  \n",
       "325169                          0                        NaN  \n",
       "129583                         14                        2.8  "
      ]
     },
     "execution_count": 8,
     "metadata": {},
     "output_type": "execute_result"
    }
   ],
   "source": [
    "rb_beers.sample(4)"
   ]
  },
  {
   "cell_type": "markdown",
   "id": "d887099e-6dd8-4f50-a94b-fe2f2de9f625",
   "metadata": {},
   "source": [
    "Let us explain the different columns of the RateBeer beer Dataframe, in which each row is a beer:\n",
    "\n",
    "The beer_id, beer_name, brewery_id, brewery_name, style, nbr_ratings, avg, abv, avg_computed, z-score, nbr_matched_valid_ratings and avg_matched_valid_ratings are the same as for the BeerAdvocate beer Dataframe.\n",
    "\n",
    "Some columns are missing compared to the BeerAdvocate beer Dataframe: ba_score and bros_score (which makes sense as these are BeerAdvocate-specific scores), and nbr_reviews.\n",
    "\n",
    "New columns are present compared to the BeerAdvocate beer Dataframe:\n",
    "- overall_score: score (out of 100) which \"reflects the rating given by RateBeer users and how this beer compares to all other beers on RateBeer\", calculated by considering the ratings given by each user and the total number of ratings for the beer\n",
    "- style_score: score given to the beer (out of 100) specifically within its style category"
   ]
  },
  {
   "cell_type": "markdown",
   "id": "47010386-7455-4305-b51e-22d5c32c956a",
   "metadata": {},
   "source": [
    "**Characteristics of the beer data**"
   ]
  },
  {
   "cell_type": "markdown",
   "id": "61ce2d92-a2b5-4e0c-a94e-2e1fa04b7e9d",
   "metadata": {},
   "source": [
    "Let us determine how many different beers are present in the dataset."
   ]
  },
  {
   "cell_type": "code",
   "execution_count": 9,
   "id": "790c84cf",
   "metadata": {},
   "outputs": [
    {
     "name": "stdout",
     "output_type": "stream",
     "text": [
      "Number of different beers reviewed in Beer Advocate: 280823\n",
      "Number of different beers reviewed in Rate Beer: 442081\n",
      "Number of different beers reviewed in the combined datasets: 502784\n"
     ]
    }
   ],
   "source": [
    "print('Number of different beers reviewed in Beer Advocate:', ba_beers.shape[0])\n",
    "print('Number of different beers reviewed in Rate Beer:', rb_beers.shape[0])\n",
    "print('Number of different beers reviewed in the combined datasets:', pd.concat([ba_beers['beer_id'], rb_beers['beer_id']]).nunique())"
   ]
  },
  {
   "cell_type": "markdown",
   "id": "43e56970-8f0f-43bb-9e67-8a6e0763a684",
   "metadata": {},
   "source": [
    "Let us determine how many different beer styles are present in the dataset."
   ]
  },
  {
   "cell_type": "code",
   "execution_count": 10,
   "id": "c63a1c31",
   "metadata": {},
   "outputs": [
    {
     "name": "stdout",
     "output_type": "stream",
     "text": [
      "Number of different beer styles reviewed in Beer Advocate: 104\n",
      "Number of different beer styles reviewed in Rate Beer: 94\n",
      "Number of different beer styles reviewed in the combined datasets: 184\n"
     ]
    }
   ],
   "source": [
    "print('Number of different beer styles reviewed in Beer Advocate:', ba_beers['style'].nunique())\n",
    "print('Number of different beer styles reviewed in Rate Beer:', rb_beers['style'].nunique())\n",
    "print('Number of different beer styles reviewed in the combined datasets:', pd.concat([ba_beers['style'], rb_beers['style']]).nunique())"
   ]
  },
  {
   "cell_type": "markdown",
   "id": "586adb3c-3b7a-4e2b-ad13-2c4a15c57373",
   "metadata": {},
   "source": [
    "**BeerAdvocate user Dataframe**"
   ]
  },
  {
   "cell_type": "code",
   "execution_count": 11,
   "id": "67b4a9da",
   "metadata": {},
   "outputs": [
    {
     "data": {
      "text/html": [
       "<div>\n",
       "<style scoped>\n",
       "    .dataframe tbody tr th:only-of-type {\n",
       "        vertical-align: middle;\n",
       "    }\n",
       "\n",
       "    .dataframe tbody tr th {\n",
       "        vertical-align: top;\n",
       "    }\n",
       "\n",
       "    .dataframe thead th {\n",
       "        text-align: right;\n",
       "    }\n",
       "</style>\n",
       "<table border=\"1\" class=\"dataframe\">\n",
       "  <thead>\n",
       "    <tr style=\"text-align: right;\">\n",
       "      <th></th>\n",
       "      <th>nbr_ratings</th>\n",
       "      <th>nbr_reviews</th>\n",
       "      <th>user_id</th>\n",
       "      <th>user_name</th>\n",
       "      <th>joined</th>\n",
       "      <th>location</th>\n",
       "    </tr>\n",
       "  </thead>\n",
       "  <tbody>\n",
       "    <tr>\n",
       "      <th>41538</th>\n",
       "      <td>2</td>\n",
       "      <td>0</td>\n",
       "      <td>veroymatt.713731</td>\n",
       "      <td>veroymatt</td>\n",
       "      <td>1.358507e+09</td>\n",
       "      <td>NaN</td>\n",
       "    </tr>\n",
       "    <tr>\n",
       "      <th>11806</th>\n",
       "      <td>316</td>\n",
       "      <td>1</td>\n",
       "      <td>jeltmaaj.672497</td>\n",
       "      <td>JeltMaaj</td>\n",
       "      <td>1.334311e+09</td>\n",
       "      <td>United States, Illinois</td>\n",
       "    </tr>\n",
       "    <tr>\n",
       "      <th>46252</th>\n",
       "      <td>1</td>\n",
       "      <td>1</td>\n",
       "      <td>witweizenlover.627758</td>\n",
       "      <td>WitWeizenLover</td>\n",
       "      <td>1.318586e+09</td>\n",
       "      <td>United States, Illinois</td>\n",
       "    </tr>\n",
       "    <tr>\n",
       "      <th>107137</th>\n",
       "      <td>2</td>\n",
       "      <td>0</td>\n",
       "      <td>posty10.780830</td>\n",
       "      <td>POSTY10</td>\n",
       "      <td>1.391857e+09</td>\n",
       "      <td>United States, Delaware</td>\n",
       "    </tr>\n",
       "  </tbody>\n",
       "</table>\n",
       "</div>"
      ],
      "text/plain": [
       "        nbr_ratings  nbr_reviews                user_id       user_name  \\\n",
       "41538             2            0       veroymatt.713731       veroymatt   \n",
       "11806           316            1        jeltmaaj.672497        JeltMaaj   \n",
       "46252             1            1  witweizenlover.627758  WitWeizenLover   \n",
       "107137            2            0         posty10.780830         POSTY10   \n",
       "\n",
       "              joined                 location  \n",
       "41538   1.358507e+09                      NaN  \n",
       "11806   1.334311e+09  United States, Illinois  \n",
       "46252   1.318586e+09  United States, Illinois  \n",
       "107137  1.391857e+09  United States, Delaware  "
      ]
     },
     "execution_count": 11,
     "metadata": {},
     "output_type": "execute_result"
    }
   ],
   "source": [
    "ba_users.sample(4)"
   ]
  },
  {
   "cell_type": "markdown",
   "id": "aac929e7-a6b4-4b8c-91f7-6e5decb53dcf",
   "metadata": {},
   "source": [
    "Let us explain the different columns of the BeerAdvocate user Dataframe, in which each row is a reviewer:\n",
    "- nbr_ratings, nbr_reviews, user_id, user_name, and location are explicit\n",
    "- joined: timestamp indicating when the user joined BeerAdvocate in Unix timestamp format (the number of seconds since January 1, 1970, 00:00:00 UTC)"
   ]
  },
  {
   "cell_type": "markdown",
   "id": "69035883-d0d7-4970-ab0b-2e75906e9fe6",
   "metadata": {},
   "source": [
    "**RateBeer user Dataframe**"
   ]
  },
  {
   "cell_type": "code",
   "execution_count": 12,
   "id": "0c9b9f01",
   "metadata": {},
   "outputs": [
    {
     "data": {
      "text/html": [
       "<div>\n",
       "<style scoped>\n",
       "    .dataframe tbody tr th:only-of-type {\n",
       "        vertical-align: middle;\n",
       "    }\n",
       "\n",
       "    .dataframe tbody tr th {\n",
       "        vertical-align: top;\n",
       "    }\n",
       "\n",
       "    .dataframe thead th {\n",
       "        text-align: right;\n",
       "    }\n",
       "</style>\n",
       "<table border=\"1\" class=\"dataframe\">\n",
       "  <thead>\n",
       "    <tr style=\"text-align: right;\">\n",
       "      <th></th>\n",
       "      <th>nbr_ratings</th>\n",
       "      <th>user_id</th>\n",
       "      <th>user_name</th>\n",
       "      <th>joined</th>\n",
       "      <th>location</th>\n",
       "    </tr>\n",
       "  </thead>\n",
       "  <tbody>\n",
       "    <tr>\n",
       "      <th>44780</th>\n",
       "      <td>1</td>\n",
       "      <td>92557</td>\n",
       "      <td>IronLionZion</td>\n",
       "      <td>1.245838e+09</td>\n",
       "      <td>NaN</td>\n",
       "    </tr>\n",
       "    <tr>\n",
       "      <th>46292</th>\n",
       "      <td>2</td>\n",
       "      <td>426793</td>\n",
       "      <td>bluegrass</td>\n",
       "      <td>1.473070e+09</td>\n",
       "      <td>United States, California</td>\n",
       "    </tr>\n",
       "    <tr>\n",
       "      <th>60682</th>\n",
       "      <td>1</td>\n",
       "      <td>264552</td>\n",
       "      <td>NWBEERGUY</td>\n",
       "      <td>1.371377e+09</td>\n",
       "      <td>NaN</td>\n",
       "    </tr>\n",
       "    <tr>\n",
       "      <th>13175</th>\n",
       "      <td>45</td>\n",
       "      <td>119838</td>\n",
       "      <td>karlsnes</td>\n",
       "      <td>1.293448e+09</td>\n",
       "      <td>Norway</td>\n",
       "    </tr>\n",
       "  </tbody>\n",
       "</table>\n",
       "</div>"
      ],
      "text/plain": [
       "       nbr_ratings  user_id     user_name        joined  \\\n",
       "44780            1    92557  IronLionZion  1.245838e+09   \n",
       "46292            2   426793     bluegrass  1.473070e+09   \n",
       "60682            1   264552     NWBEERGUY  1.371377e+09   \n",
       "13175           45   119838      karlsnes  1.293448e+09   \n",
       "\n",
       "                        location  \n",
       "44780                        NaN  \n",
       "46292  United States, California  \n",
       "60682                        NaN  \n",
       "13175                     Norway  "
      ]
     },
     "execution_count": 12,
     "metadata": {},
     "output_type": "execute_result"
    }
   ],
   "source": [
    "rb_users.sample(4)"
   ]
  },
  {
   "cell_type": "markdown",
   "id": "7474a3c8-dc9c-4c19-a6f4-50e2e4bcd107",
   "metadata": {},
   "source": [
    "Let us explain the different columns of the RateBeer user Dataframe, in which each row is a reviewer:\n",
    "\n",
    "The columns are the same as in the BeerAdvocate user Dataframe (joined is obviously the timestamp indicating when the user joined RateBeer and not BeerAdvocate), except that nbr_reviews is missing."
   ]
  },
  {
   "cell_type": "markdown",
   "id": "02e61181-a522-4239-b692-88b36094844c",
   "metadata": {},
   "source": [
    "**Number of users in the dataset**"
   ]
  },
  {
   "cell_type": "code",
   "execution_count": 13,
   "id": "61107df4",
   "metadata": {},
   "outputs": [
    {
     "name": "stdout",
     "output_type": "stream",
     "text": [
      "Number of users from Beer Advocate: 153704\n",
      "Number of users from Rate Beer: 70174\n",
      "Total number of users: 223878\n"
     ]
    }
   ],
   "source": [
    "print('Number of users from Beer Advocate:', ba_users.shape[0])\n",
    "print('Number of users from Rate Beer:', rb_users.shape[0])\n",
    "print('Total number of users:', (ba_users.shape[0] + rb_users.shape[0]))"
   ]
  },
  {
   "cell_type": "markdown",
   "id": "25b82c07-db24-457f-9d59-b1bd3516a18b",
   "metadata": {},
   "source": [
    "**Brewery Dataframes**"
   ]
  },
  {
   "cell_type": "code",
   "execution_count": 14,
   "id": "c0331fec",
   "metadata": {},
   "outputs": [
    {
     "data": {
      "text/html": [
       "<div>\n",
       "<style scoped>\n",
       "    .dataframe tbody tr th:only-of-type {\n",
       "        vertical-align: middle;\n",
       "    }\n",
       "\n",
       "    .dataframe tbody tr th {\n",
       "        vertical-align: top;\n",
       "    }\n",
       "\n",
       "    .dataframe thead th {\n",
       "        text-align: right;\n",
       "    }\n",
       "</style>\n",
       "<table border=\"1\" class=\"dataframe\">\n",
       "  <thead>\n",
       "    <tr style=\"text-align: right;\">\n",
       "      <th></th>\n",
       "      <th>id</th>\n",
       "      <th>location</th>\n",
       "      <th>name</th>\n",
       "      <th>nbr_beers</th>\n",
       "    </tr>\n",
       "  </thead>\n",
       "  <tbody>\n",
       "    <tr>\n",
       "      <th>2324</th>\n",
       "      <td>661</td>\n",
       "      <td>Canada</td>\n",
       "      <td>Muskoka Brewery</td>\n",
       "      <td>81</td>\n",
       "    </tr>\n",
       "    <tr>\n",
       "      <th>902</th>\n",
       "      <td>6985</td>\n",
       "      <td>England</td>\n",
       "      <td>Vale Brewery Company</td>\n",
       "      <td>14</td>\n",
       "    </tr>\n",
       "    <tr>\n",
       "      <th>6870</th>\n",
       "      <td>2425</td>\n",
       "      <td>Czech Republic</td>\n",
       "      <td>Pivovar Zlatopramen</td>\n",
       "      <td>6</td>\n",
       "    </tr>\n",
       "    <tr>\n",
       "      <th>8897</th>\n",
       "      <td>1018</td>\n",
       "      <td>United States, California</td>\n",
       "      <td>San Pedro Brewing Company</td>\n",
       "      <td>19</td>\n",
       "    </tr>\n",
       "  </tbody>\n",
       "</table>\n",
       "</div>"
      ],
      "text/plain": [
       "        id                   location                       name  nbr_beers\n",
       "2324   661                     Canada            Muskoka Brewery         81\n",
       "902   6985                    England       Vale Brewery Company         14\n",
       "6870  2425             Czech Republic        Pivovar Zlatopramen          6\n",
       "8897  1018  United States, California  San Pedro Brewing Company         19"
      ]
     },
     "execution_count": 14,
     "metadata": {},
     "output_type": "execute_result"
    }
   ],
   "source": [
    "ba_breweries.sample(4)"
   ]
  },
  {
   "cell_type": "code",
   "execution_count": 15,
   "id": "852b3b64",
   "metadata": {},
   "outputs": [
    {
     "data": {
      "text/html": [
       "<div>\n",
       "<style scoped>\n",
       "    .dataframe tbody tr th:only-of-type {\n",
       "        vertical-align: middle;\n",
       "    }\n",
       "\n",
       "    .dataframe tbody tr th {\n",
       "        vertical-align: top;\n",
       "    }\n",
       "\n",
       "    .dataframe thead th {\n",
       "        text-align: right;\n",
       "    }\n",
       "</style>\n",
       "<table border=\"1\" class=\"dataframe\">\n",
       "  <thead>\n",
       "    <tr style=\"text-align: right;\">\n",
       "      <th></th>\n",
       "      <th>id</th>\n",
       "      <th>location</th>\n",
       "      <th>name</th>\n",
       "      <th>nbr_beers</th>\n",
       "    </tr>\n",
       "  </thead>\n",
       "  <tbody>\n",
       "    <tr>\n",
       "      <th>5953</th>\n",
       "      <td>5262</td>\n",
       "      <td>Germany</td>\n",
       "      <td>Weldebräu</td>\n",
       "      <td>34</td>\n",
       "    </tr>\n",
       "    <tr>\n",
       "      <th>1070</th>\n",
       "      <td>13241</td>\n",
       "      <td>Canada</td>\n",
       "      <td>Glutenberg Brewing Company</td>\n",
       "      <td>42</td>\n",
       "    </tr>\n",
       "    <tr>\n",
       "      <th>14664</th>\n",
       "      <td>4070</td>\n",
       "      <td>United States, Washington</td>\n",
       "      <td>The Rock Wood Fired Pizza &amp; Brewery</td>\n",
       "      <td>18</td>\n",
       "    </tr>\n",
       "    <tr>\n",
       "      <th>6586</th>\n",
       "      <td>6597</td>\n",
       "      <td>Switzerland</td>\n",
       "      <td>Wetzel</td>\n",
       "      <td>5</td>\n",
       "    </tr>\n",
       "  </tbody>\n",
       "</table>\n",
       "</div>"
      ],
      "text/plain": [
       "          id                   location                                 name  \\\n",
       "5953    5262                    Germany                            Weldebräu   \n",
       "1070   13241                     Canada           Glutenberg Brewing Company   \n",
       "14664   4070  United States, Washington  The Rock Wood Fired Pizza & Brewery   \n",
       "6586    6597                Switzerland                               Wetzel   \n",
       "\n",
       "       nbr_beers  \n",
       "5953          34  \n",
       "1070          42  \n",
       "14664         18  \n",
       "6586           5  "
      ]
     },
     "execution_count": 15,
     "metadata": {},
     "output_type": "execute_result"
    }
   ],
   "source": [
    "rb_breweries.sample(4)"
   ]
  },
  {
   "cell_type": "markdown",
   "id": "0a3c4d5b-709a-4208-9166-352c67ccb4ff",
   "metadata": {},
   "source": [
    "The columns are explicit and are the same for the 2 websites. Each row is a brewery."
   ]
  },
  {
   "cell_type": "markdown",
   "id": "4dfcae24-52e9-48c7-bab4-bea2b2dc998d",
   "metadata": {},
   "source": [
    "**Rating Dataframes**"
   ]
  },
  {
   "cell_type": "code",
   "execution_count": 16,
   "id": "37205561",
   "metadata": {},
   "outputs": [
    {
     "data": {
      "text/html": [
       "<div>\n",
       "<style scoped>\n",
       "    .dataframe tbody tr th:only-of-type {\n",
       "        vertical-align: middle;\n",
       "    }\n",
       "\n",
       "    .dataframe tbody tr th {\n",
       "        vertical-align: top;\n",
       "    }\n",
       "\n",
       "    .dataframe thead th {\n",
       "        text-align: right;\n",
       "    }\n",
       "</style>\n",
       "<table border=\"1\" class=\"dataframe\">\n",
       "  <thead>\n",
       "    <tr style=\"text-align: right;\">\n",
       "      <th></th>\n",
       "      <th>beer_name</th>\n",
       "      <th>beer_id</th>\n",
       "      <th>brewery_name</th>\n",
       "      <th>brewery_id</th>\n",
       "      <th>style</th>\n",
       "      <th>abv</th>\n",
       "      <th>date</th>\n",
       "      <th>user_name</th>\n",
       "      <th>user_id</th>\n",
       "      <th>appearance</th>\n",
       "      <th>aroma</th>\n",
       "      <th>palate</th>\n",
       "      <th>taste</th>\n",
       "      <th>overall</th>\n",
       "      <th>rating</th>\n",
       "    </tr>\n",
       "  </thead>\n",
       "  <tbody>\n",
       "    <tr>\n",
       "      <th>2196993</th>\n",
       "      <td>Claritas</td>\n",
       "      <td>65003.0</td>\n",
       "      <td>Mike Hess Brewing - Miramar</td>\n",
       "      <td>23347.0</td>\n",
       "      <td>Kölsch</td>\n",
       "      <td>5.25</td>\n",
       "      <td>2016-12-05 11:00:00</td>\n",
       "      <td>ChuckTom</td>\n",
       "      <td>chucktom.1101100</td>\n",
       "      <td>4.5</td>\n",
       "      <td>4.25</td>\n",
       "      <td>4.5</td>\n",
       "      <td>4.5</td>\n",
       "      <td>4.5</td>\n",
       "      <td>4.44</td>\n",
       "    </tr>\n",
       "    <tr>\n",
       "      <th>2055065</th>\n",
       "      <td>The Kimmie, The Yink &amp; The Holy Gose</td>\n",
       "      <td>99790.0</td>\n",
       "      <td>Anderson Valley Brewing Company</td>\n",
       "      <td>193.0</td>\n",
       "      <td>Gose</td>\n",
       "      <td>4.20</td>\n",
       "      <td>2015-08-04 10:00:00</td>\n",
       "      <td>beermike83</td>\n",
       "      <td>beermike83.1023229</td>\n",
       "      <td>4.0</td>\n",
       "      <td>4.00</td>\n",
       "      <td>5.0</td>\n",
       "      <td>4.0</td>\n",
       "      <td>4.5</td>\n",
       "      <td>4.20</td>\n",
       "    </tr>\n",
       "    <tr>\n",
       "      <th>2690065</th>\n",
       "      <td>Sour In The Rye</td>\n",
       "      <td>51741.0</td>\n",
       "      <td>The Bruery</td>\n",
       "      <td>16866.0</td>\n",
       "      <td>American Wild Ale</td>\n",
       "      <td>7.80</td>\n",
       "      <td>2013-10-12 10:00:00</td>\n",
       "      <td>rc51sport</td>\n",
       "      <td>rc51sport.720425</td>\n",
       "      <td>NaN</td>\n",
       "      <td>NaN</td>\n",
       "      <td>NaN</td>\n",
       "      <td>NaN</td>\n",
       "      <td>NaN</td>\n",
       "      <td>4.00</td>\n",
       "    </tr>\n",
       "    <tr>\n",
       "      <th>2258751</th>\n",
       "      <td>Grapefruit Sculpin</td>\n",
       "      <td>89174.0</td>\n",
       "      <td>Ballast Point Brewing Company</td>\n",
       "      <td>199.0</td>\n",
       "      <td>American IPA</td>\n",
       "      <td>7.00</td>\n",
       "      <td>2015-03-10 11:00:00</td>\n",
       "      <td>avisong</td>\n",
       "      <td>avisong.609807</td>\n",
       "      <td>4.5</td>\n",
       "      <td>4.50</td>\n",
       "      <td>4.5</td>\n",
       "      <td>4.5</td>\n",
       "      <td>4.5</td>\n",
       "      <td>4.50</td>\n",
       "    </tr>\n",
       "  </tbody>\n",
       "</table>\n",
       "</div>"
      ],
      "text/plain": [
       "                                    beer_name  beer_id  \\\n",
       "2196993                              Claritas  65003.0   \n",
       "2055065  The Kimmie, The Yink & The Holy Gose  99790.0   \n",
       "2690065                       Sour In The Rye  51741.0   \n",
       "2258751                    Grapefruit Sculpin  89174.0   \n",
       "\n",
       "                            brewery_name  brewery_id              style   abv  \\\n",
       "2196993      Mike Hess Brewing - Miramar     23347.0             Kölsch  5.25   \n",
       "2055065  Anderson Valley Brewing Company       193.0               Gose  4.20   \n",
       "2690065                       The Bruery     16866.0  American Wild Ale  7.80   \n",
       "2258751    Ballast Point Brewing Company       199.0       American IPA  7.00   \n",
       "\n",
       "                       date   user_name             user_id  appearance  \\\n",
       "2196993 2016-12-05 11:00:00    ChuckTom    chucktom.1101100         4.5   \n",
       "2055065 2015-08-04 10:00:00  beermike83  beermike83.1023229         4.0   \n",
       "2690065 2013-10-12 10:00:00   rc51sport    rc51sport.720425         NaN   \n",
       "2258751 2015-03-10 11:00:00     avisong      avisong.609807         4.5   \n",
       "\n",
       "         aroma  palate  taste  overall  rating  \n",
       "2196993   4.25     4.5    4.5      4.5    4.44  \n",
       "2055065   4.00     5.0    4.0      4.5    4.20  \n",
       "2690065    NaN     NaN    NaN      NaN    4.00  \n",
       "2258751   4.50     4.5    4.5      4.5    4.50  "
      ]
     },
     "execution_count": 16,
     "metadata": {},
     "output_type": "execute_result"
    }
   ],
   "source": [
    "ba_ratings.sample(4)"
   ]
  },
  {
   "cell_type": "code",
   "execution_count": 17,
   "id": "32dfbaae",
   "metadata": {},
   "outputs": [
    {
     "data": {
      "text/html": [
       "<div>\n",
       "<style scoped>\n",
       "    .dataframe tbody tr th:only-of-type {\n",
       "        vertical-align: middle;\n",
       "    }\n",
       "\n",
       "    .dataframe tbody tr th {\n",
       "        vertical-align: top;\n",
       "    }\n",
       "\n",
       "    .dataframe thead th {\n",
       "        text-align: right;\n",
       "    }\n",
       "</style>\n",
       "<table border=\"1\" class=\"dataframe\">\n",
       "  <thead>\n",
       "    <tr style=\"text-align: right;\">\n",
       "      <th></th>\n",
       "      <th>beer_name</th>\n",
       "      <th>beer_id</th>\n",
       "      <th>brewery_name</th>\n",
       "      <th>brewery_id</th>\n",
       "      <th>style</th>\n",
       "      <th>abv</th>\n",
       "      <th>date</th>\n",
       "      <th>user_name</th>\n",
       "      <th>user_id</th>\n",
       "      <th>appearance</th>\n",
       "      <th>aroma</th>\n",
       "      <th>palate</th>\n",
       "      <th>taste</th>\n",
       "      <th>overall</th>\n",
       "      <th>rating</th>\n",
       "    </tr>\n",
       "  </thead>\n",
       "  <tbody>\n",
       "    <tr>\n",
       "      <th>2254016</th>\n",
       "      <td>CAP Exciter IPA</td>\n",
       "      <td>216768.0</td>\n",
       "      <td>CAP Brewery</td>\n",
       "      <td>16529.0</td>\n",
       "      <td>India Pale Ale (IPA)</td>\n",
       "      <td>6.0</td>\n",
       "      <td>2013-08-08 10:00:00</td>\n",
       "      <td>gyllenbock</td>\n",
       "      <td>90466.0</td>\n",
       "      <td>3.0</td>\n",
       "      <td>7.0</td>\n",
       "      <td>3.0</td>\n",
       "      <td>6.0</td>\n",
       "      <td>12.0</td>\n",
       "      <td>3.1</td>\n",
       "    </tr>\n",
       "    <tr>\n",
       "      <th>5157313</th>\n",
       "      <td>BridgePort IPA</td>\n",
       "      <td>106.0</td>\n",
       "      <td>BridgePort Brewing</td>\n",
       "      <td>21.0</td>\n",
       "      <td>India Pale Ale (IPA)</td>\n",
       "      <td>5.5</td>\n",
       "      <td>2005-07-24 10:00:00</td>\n",
       "      <td>Malakin</td>\n",
       "      <td>10451.0</td>\n",
       "      <td>3.0</td>\n",
       "      <td>6.0</td>\n",
       "      <td>4.0</td>\n",
       "      <td>7.0</td>\n",
       "      <td>14.0</td>\n",
       "      <td>3.4</td>\n",
       "    </tr>\n",
       "    <tr>\n",
       "      <th>6658027</th>\n",
       "      <td>Lindemans Kriek</td>\n",
       "      <td>344.0</td>\n",
       "      <td>Brouwerij Lindemans</td>\n",
       "      <td>62.0</td>\n",
       "      <td>Lambic Style - Fruit</td>\n",
       "      <td>3.5</td>\n",
       "      <td>2005-05-10 10:00:00</td>\n",
       "      <td>madsberg</td>\n",
       "      <td>5011.0</td>\n",
       "      <td>4.0</td>\n",
       "      <td>7.0</td>\n",
       "      <td>3.0</td>\n",
       "      <td>8.0</td>\n",
       "      <td>14.0</td>\n",
       "      <td>3.6</td>\n",
       "    </tr>\n",
       "    <tr>\n",
       "      <th>1364317</th>\n",
       "      <td>Jäcklein Jubiläums Bier</td>\n",
       "      <td>88356.0</td>\n",
       "      <td>Bürgerliches Brauhaus Saalfeld</td>\n",
       "      <td>659.0</td>\n",
       "      <td>Oktoberfest/Märzen</td>\n",
       "      <td>5.6</td>\n",
       "      <td>2009-10-24 10:00:00</td>\n",
       "      <td>KimJohansen</td>\n",
       "      <td>38332.0</td>\n",
       "      <td>3.0</td>\n",
       "      <td>5.0</td>\n",
       "      <td>3.0</td>\n",
       "      <td>6.0</td>\n",
       "      <td>12.0</td>\n",
       "      <td>2.9</td>\n",
       "    </tr>\n",
       "  </tbody>\n",
       "</table>\n",
       "</div>"
      ],
      "text/plain": [
       "                       beer_name   beer_id                    brewery_name  \\\n",
       "2254016          CAP Exciter IPA  216768.0                     CAP Brewery   \n",
       "5157313           BridgePort IPA     106.0              BridgePort Brewing   \n",
       "6658027          Lindemans Kriek     344.0             Brouwerij Lindemans   \n",
       "1364317  Jäcklein Jubiläums Bier   88356.0  Bürgerliches Brauhaus Saalfeld   \n",
       "\n",
       "         brewery_id                 style  abv                date  \\\n",
       "2254016     16529.0  India Pale Ale (IPA)  6.0 2013-08-08 10:00:00   \n",
       "5157313        21.0  India Pale Ale (IPA)  5.5 2005-07-24 10:00:00   \n",
       "6658027        62.0  Lambic Style - Fruit  3.5 2005-05-10 10:00:00   \n",
       "1364317       659.0    Oktoberfest/Märzen  5.6 2009-10-24 10:00:00   \n",
       "\n",
       "           user_name  user_id  appearance  aroma  palate  taste  overall  \\\n",
       "2254016   gyllenbock  90466.0         3.0    7.0     3.0    6.0     12.0   \n",
       "5157313      Malakin  10451.0         3.0    6.0     4.0    7.0     14.0   \n",
       "6658027     madsberg   5011.0         4.0    7.0     3.0    8.0     14.0   \n",
       "1364317  KimJohansen  38332.0         3.0    5.0     3.0    6.0     12.0   \n",
       "\n",
       "         rating  \n",
       "2254016     3.1  \n",
       "5157313     3.4  \n",
       "6658027     3.6  \n",
       "1364317     2.9  "
      ]
     },
     "execution_count": 17,
     "metadata": {},
     "output_type": "execute_result"
    }
   ],
   "source": [
    "rb_ratings.sample(4)"
   ]
  },
  {
   "cell_type": "markdown",
   "id": "4ae76908-fce2-48bf-9ded-97087a767195",
   "metadata": {},
   "source": [
    "The columns are the same for the 2 Dataframes. Each row corresponds to an individual review. Most column names are explicit. \n",
    "- 'appearance','aroma', 'palate','taste' correspond to aspect ratings (out of 5)\n",
    "- 'overall' is the mean of the 4 aspect ratings\n",
    "- 'rating' is the final rating given by the user to the beer"
   ]
  },
  {
   "cell_type": "markdown",
   "id": "fbf3cb46-3257-4f3f-9c4f-4d38254d2df2",
   "metadata": {},
   "source": [
    "**Number of reviews in the dataset**"
   ]
  },
  {
   "cell_type": "code",
   "execution_count": 18,
   "id": "21d95709",
   "metadata": {},
   "outputs": [
    {
     "name": "stdout",
     "output_type": "stream",
     "text": [
      "Number of reviews from Beer Advocate: 8393034\n",
      "Number of reviews from Rate Beer: 7122076\n",
      "Total number of reviews: 15515110\n"
     ]
    }
   ],
   "source": [
    "print('Number of reviews from Beer Advocate:', ba_ratings.shape[0])\n",
    "print('Number of reviews from Rate Beer:', rb_ratings.shape[0])\n",
    "print('Total number of reviews:', (ba_ratings.shape[0] + rb_ratings.shape[0]))"
   ]
  },
  {
   "cell_type": "markdown",
   "id": "727624e1-9746-4ffe-93b0-25619ef05b1d",
   "metadata": {},
   "source": [
    "# 0) Data cleaning"
   ]
  },
  {
   "cell_type": "markdown",
   "id": "1b6053a2-be98-42f5-a860-84b0d92b263c",
   "metadata": {},
   "source": [
    "### **BASIC CLEANING**"
   ]
  },
  {
   "cell_type": "markdown",
   "id": "7dde0613-028a-463e-ab48-828e5e85441e",
   "metadata": {},
   "source": [
    "## Filtering Dataframes\n",
    "\n",
    "Let us start by removing columns in the different Dataframes that we will not use in our analysis."
   ]
  },
  {
   "cell_type": "markdown",
   "id": "067beb79-849e-4e80-97c1-4c94ffeba02a",
   "metadata": {},
   "source": [
    "The following rows will not be used in our analysis:\n",
    "nbr_reviews, ba_score, bros_score, abv, avg_computed, zscore, nbr_matched_valid_ratings and avg_matched_valid_ratings, overall_score and style_score.\n",
    "\n",
    "Let us remove them."
   ]
  },
  {
   "cell_type": "code",
   "execution_count": 19,
   "id": "76ae459e",
   "metadata": {},
   "outputs": [
    {
     "name": "stdout",
     "output_type": "stream",
     "text": [
      "Index(['beer_id', 'beer_name', 'brewery_id', 'brewery_name', 'style',\n",
      "       'nbr_ratings', 'avg'],\n",
      "      dtype='object')\n"
     ]
    }
   ],
   "source": [
    "useless_columns_ba = ['nbr_reviews', 'ba_score', 'bros_score', 'abv', 'avg_computed', 'zscore', 'nbr_matched_valid_ratings', 'avg_matched_valid_ratings']\n",
    "ba_beers = ba_beers.drop(columns=useless_columns_ba)\n",
    "print(ba_beers.columns)"
   ]
  },
  {
   "cell_type": "code",
   "execution_count": 20,
   "id": "b62ea6e6",
   "metadata": {},
   "outputs": [
    {
     "name": "stdout",
     "output_type": "stream",
     "text": [
      "Index(['beer_id', 'beer_name', 'brewery_id', 'brewery_name', 'style',\n",
      "       'nbr_ratings', 'avg'],\n",
      "      dtype='object')\n"
     ]
    }
   ],
   "source": [
    "useless_columns_rb = [col for col in useless_columns_ba if col not in ['nbr_reviews','ba_score', 'bros_score']] + ['overall_score', 'style_score']\n",
    "rb_beers = rb_beers.drop(columns=useless_columns_rb)\n",
    "print(rb_beers.columns)"
   ]
  },
  {
   "cell_type": "markdown",
   "id": "75a90461-8c91-4ede-8933-5aaea39edc17",
   "metadata": {},
   "source": [
    "We will also not use the timestamps indicating the time when users joined the platforms, so let us remove this as well."
   ]
  },
  {
   "cell_type": "code",
   "execution_count": 21,
   "id": "06a39719",
   "metadata": {},
   "outputs": [
    {
     "name": "stdout",
     "output_type": "stream",
     "text": [
      "Index(['nbr_ratings', 'nbr_reviews', 'user_id', 'user_name', 'location'], dtype='object')\n"
     ]
    }
   ],
   "source": [
    "ba_users = ba_users.drop(columns='joined')\n",
    "rb_users = rb_users.drop(columns='joined')\n",
    "print(ba_users.columns)"
   ]
  },
  {
   "cell_type": "markdown",
   "id": "7489ab92-55cb-4bf5-b9cb-894625f28277",
   "metadata": {},
   "source": [
    "## Verifying value types\n",
    "\n",
    "Let us verify that the values in the different columns of the different Dataframes have the appropriate type."
   ]
  },
  {
   "cell_type": "code",
   "execution_count": 22,
   "id": "4f8a00b4",
   "metadata": {},
   "outputs": [
    {
     "name": "stdout",
     "output_type": "stream",
     "text": [
      "beer_id           int64\n",
      "beer_name        object\n",
      "brewery_id        int64\n",
      "brewery_name     object\n",
      "style            object\n",
      "nbr_ratings       int64\n",
      "avg             float64\n",
      "dtype: object \n",
      " \n",
      " beer_id           int64\n",
      "beer_name        object\n",
      "brewery_id        int64\n",
      "brewery_name     object\n",
      "style            object\n",
      "nbr_ratings       int64\n",
      "avg             float64\n",
      "dtype: object\n"
     ]
    }
   ],
   "source": [
    "print(ba_beers.dtypes,'\\n','\\n',rb_beers.dtypes)"
   ]
  },
  {
   "cell_type": "code",
   "execution_count": 23,
   "id": "c1e57ec5",
   "metadata": {},
   "outputs": [
    {
     "name": "stdout",
     "output_type": "stream",
     "text": [
      "nbr_ratings     int64\n",
      "nbr_reviews     int64\n",
      "user_id        object\n",
      "user_name      object\n",
      "location       object\n",
      "dtype: object \n",
      " \n",
      " nbr_ratings     int64\n",
      "user_id         int64\n",
      "user_name      object\n",
      "location       object\n",
      "dtype: object\n"
     ]
    }
   ],
   "source": [
    "print(ba_users.dtypes,'\\n','\\n',rb_users.dtypes)"
   ]
  },
  {
   "cell_type": "code",
   "execution_count": 24,
   "id": "dfef4cd9",
   "metadata": {},
   "outputs": [
    {
     "name": "stdout",
     "output_type": "stream",
     "text": [
      "id            int64\n",
      "location     object\n",
      "name         object\n",
      "nbr_beers     int64\n",
      "dtype: object \n",
      " \n",
      " id            int64\n",
      "location     object\n",
      "name         object\n",
      "nbr_beers     int64\n",
      "dtype: object\n"
     ]
    }
   ],
   "source": [
    "print(ba_breweries.dtypes,'\\n','\\n',rb_breweries.dtypes)"
   ]
  },
  {
   "cell_type": "code",
   "execution_count": 25,
   "id": "287263dd",
   "metadata": {},
   "outputs": [
    {
     "name": "stdout",
     "output_type": "stream",
     "text": [
      "beer_name               object\n",
      "beer_id                float64\n",
      "brewery_name            object\n",
      "brewery_id             float64\n",
      "style                   object\n",
      "abv                    float64\n",
      "date            datetime64[ns]\n",
      "user_name               object\n",
      "user_id                 object\n",
      "appearance             float64\n",
      "aroma                  float64\n",
      "palate                 float64\n",
      "taste                  float64\n",
      "overall                float64\n",
      "rating                 float64\n",
      "dtype: object \n",
      " \n",
      " beer_name               object\n",
      "beer_id                float64\n",
      "brewery_name            object\n",
      "brewery_id             float64\n",
      "style                   object\n",
      "abv                    float64\n",
      "date            datetime64[ns]\n",
      "user_name               object\n",
      "user_id                float64\n",
      "appearance             float64\n",
      "aroma                  float64\n",
      "palate                 float64\n",
      "taste                  float64\n",
      "overall                float64\n",
      "rating                 float64\n",
      "dtype: object\n"
     ]
    }
   ],
   "source": [
    "print(ba_ratings.dtypes,'\\n','\\n',rb_ratings.dtypes)"
   ]
  },
  {
   "cell_type": "markdown",
   "id": "d985d6f2-68ee-4688-a9ec-904292458e4c",
   "metadata": {},
   "source": [
    "The types of the values in the different columns of the different Dataframes seem appropriate."
   ]
  },
  {
   "cell_type": "markdown",
   "id": "ab4aac9a-ee86-4d16-8b1f-aca3b82128b1",
   "metadata": {},
   "source": [
    "## Dealing with missing values"
   ]
  },
  {
   "cell_type": "markdown",
   "id": "e0f4316f-e14c-414d-9ee7-a1d322e84365",
   "metadata": {},
   "source": [
    "*Beers with no reviews*"
   ]
  },
  {
   "cell_type": "markdown",
   "id": "8b59146e-bb2d-4aad-9e10-df07bf78a864",
   "metadata": {},
   "source": [
    "Let us verify that all the beers in the beer DataFrames have at least received 1 review."
   ]
  },
  {
   "cell_type": "code",
   "execution_count": 26,
   "id": "e08397f7",
   "metadata": {},
   "outputs": [
    {
     "name": "stdout",
     "output_type": "stream",
     "text": [
      "Number of beers with no reviews (Beer Advocate): 32841\n",
      "Number of beers with no reviews (Rate Beer): 45391\n"
     ]
    }
   ],
   "source": [
    "# get the number of beers with 0 reviews\n",
    "# Beer Advocate\n",
    "ba_beers_without_reviews = ba_beers[ba_beers['nbr_ratings'] == 0].shape[0]\n",
    "print('Number of beers with no reviews (Beer Advocate):',ba_beers_without_reviews)\n",
    "\n",
    "# Rate Beer\n",
    "rb_beers_without_reviews = rb_beers[rb_beers['nbr_ratings'] == 0].shape[0]\n",
    "print('Number of beers with no reviews (Rate Beer):',rb_beers_without_reviews)"
   ]
  },
  {
   "cell_type": "markdown",
   "id": "f581c074-55dd-4bda-80a3-ff855ddf0695",
   "metadata": {},
   "source": [
    "We can see that in Both Dataframes, there are many beers with no reviews. These beers are useless for our analysis and we can remove them from the DataFrames."
   ]
  },
  {
   "cell_type": "code",
   "execution_count": 27,
   "id": "82cf6774",
   "metadata": {},
   "outputs": [
    {
     "name": "stdout",
     "output_type": "stream",
     "text": [
      "Number of beers with no reviews (Beer Advocate): 0\n",
      "Number of beers with no reviews (Rate Beer): 0\n"
     ]
    }
   ],
   "source": [
    "# remove beers with zero reviews\n",
    "# Beer Advocate\n",
    "ba_beers = ba_beers[ba_beers['nbr_ratings'] != 0]\n",
    "# Rate Beer\n",
    "rb_beers = rb_beers[rb_beers['nbr_ratings'] != 0]\n",
    "\n",
    "# verification:\n",
    "ba_beers_without_reviews = ba_beers[ba_beers['nbr_ratings'] == 0].shape[0]\n",
    "print('Number of beers with no reviews (Beer Advocate):',ba_beers_without_reviews)\n",
    "rb_beers_without_reviews = rb_beers[rb_beers['nbr_ratings'] == 0].shape[0]\n",
    "print('Number of beers with no reviews (Rate Beer):',rb_beers_without_reviews)"
   ]
  },
  {
   "cell_type": "markdown",
   "id": "8de5a70c-245c-42b7-96aa-448366e2bf49",
   "metadata": {},
   "source": [
    "*Reviews with no final rating*"
   ]
  },
  {
   "cell_type": "markdown",
   "id": "e2eeb925-c3f9-4522-85ac-d5d4095c73a9",
   "metadata": {},
   "source": [
    "Let us now determine if some reviews lack a final rating. If that is the case, we will remove them from the rating DataFrames as we will need final ratings in our analysis. The final rating, unlike the overall rating, cannot be calculated using aspect ratings, so we cannot retrieve missing final rating values. Some reviews may lack certain aspect ratings, but we will not remove them as if they do have a final rating, we will be able to use them in many parts of our analysis."
   ]
  },
  {
   "cell_type": "code",
   "execution_count": 28,
   "id": "047ec6a7",
   "metadata": {},
   "outputs": [
    {
     "name": "stdout",
     "output_type": "stream",
     "text": [
      "Number of reviews lacking a final rating (Beer Advocate): 2\n",
      "Number of reviews lacking a final rating (Rate Beer): 2\n"
     ]
    }
   ],
   "source": [
    "# get the number of reviews with Nan in the 'rating' column\n",
    "# Beer Advocate\n",
    "print('Number of reviews lacking a final rating (Beer Advocate):',ba_ratings['rating'].isna().sum())\n",
    "# Rate Beer\n",
    "print('Number of reviews lacking a final rating (Rate Beer):',rb_ratings['rating'].isna().sum())"
   ]
  },
  {
   "cell_type": "markdown",
   "id": "30314235-6924-4f53-a747-a8b80e26120c",
   "metadata": {},
   "source": [
    "There are only 2 reviews lacking a final rating for each website, but let us remove them anyway."
   ]
  },
  {
   "cell_type": "code",
   "execution_count": 29,
   "id": "9b7d62dd",
   "metadata": {},
   "outputs": [
    {
     "name": "stdout",
     "output_type": "stream",
     "text": [
      "Number of reviews lacking a final rating (Beer Advocate): 0\n",
      "Number of reviews lacking a final rating (Rate Beer): 0\n"
     ]
    }
   ],
   "source": [
    "# remove reviews with no final rating\n",
    "ba_ratings = ba_ratings.dropna(subset=['rating'])\n",
    "rb_ratings = rb_ratings.dropna(subset=['rating'])\n",
    "\n",
    "# verification \n",
    "print('Number of reviews lacking a final rating (Beer Advocate):',ba_ratings['rating'].isna().sum())\n",
    "print('Number of reviews lacking a final rating (Rate Beer):',rb_ratings['rating'].isna().sum())"
   ]
  },
  {
   "cell_type": "markdown",
   "id": "b22866d1-a8d6-4ab8-be63-0978a23bfc26",
   "metadata": {},
   "source": [
    "## Cleaning location information"
   ]
  },
  {
   "cell_type": "markdown",
   "id": "d75eca4e-4900-4418-85dd-a79530ffb5d8",
   "metadata": {},
   "source": [
    "Let us have a closer look at the values present in the 'location' column of user and brewery DataFrames."
   ]
  },
  {
   "cell_type": "code",
   "execution_count": 30,
   "id": "bc463959",
   "metadata": {},
   "outputs": [
    {
     "data": {
      "text/plain": [
       "location\n",
       "United States, California       11638\n",
       "United States, Pennsylvania      8689\n",
       "United States, New York          7432\n",
       "United States, Illinois          6866\n",
       "United States, Massachusetts     6658\n",
       "                                ...  \n",
       "Angola                              1\n",
       "Kazakhstan                          1\n",
       "Tokelau                             1\n",
       "Sri Lanka                           1\n",
       "Sint Maarten                        1\n",
       "Name: count, Length: 194, dtype: int64"
      ]
     },
     "execution_count": 30,
     "metadata": {},
     "output_type": "execute_result"
    }
   ],
   "source": [
    "ba_users['location'].value_counts()"
   ]
  },
  {
   "cell_type": "code",
   "execution_count": 31,
   "id": "8edb47bb",
   "metadata": {},
   "outputs": [
    {
     "data": {
      "text/plain": [
       "location\n",
       "Canada                         3255\n",
       "United States, California      2804\n",
       "England                        2734\n",
       "Poland                         1701\n",
       "United States, Pennsylvania    1632\n",
       "                               ... \n",
       "Liechtenstein                     1\n",
       "Lesotho                           1\n",
       "East Timor                        1\n",
       "Falkland Islands                  1\n",
       "Tibet                             1\n",
       "Name: count, Length: 222, dtype: int64"
      ]
     },
     "execution_count": 31,
     "metadata": {},
     "output_type": "execute_result"
    }
   ],
   "source": [
    "rb_users['location'].value_counts()"
   ]
  },
  {
   "cell_type": "code",
   "execution_count": 32,
   "id": "474abc73",
   "metadata": {},
   "outputs": [
    {
     "data": {
      "text/plain": [
       "location\n",
       "Germany                                                                                                                                                                          1431\n",
       "England                                                                                                                                                                           997\n",
       "United States, California                                                                                                                                                         929\n",
       "Canada                                                                                                                                                                            775\n",
       "United States, Washington                                                                                                                                                         411\n",
       "                                                                                                                                                                                 ... \n",
       "Andorra                                                                                                                                                                             1\n",
       "Botswana                                                                                                                                                                            1\n",
       "Turks and Caicos Islands                                                                                                                                                            1\n",
       "Papua New Guinea                                                                                                                                                                    1\n",
       "United States</a> | <a href=\"http://maps.google.com/maps?oi=map&q=%2C+US\" target=\"_blank\">map</a><br><a href=\"http://fullsailbrewing.com\" target=\"_blank\">fullsailbrewing.com       1\n",
       "Name: count, Length: 297, dtype: int64"
      ]
     },
     "execution_count": 32,
     "metadata": {},
     "output_type": "execute_result"
    }
   ],
   "source": [
    "ba_breweries['location'].value_counts()"
   ]
  },
  {
   "cell_type": "code",
   "execution_count": 33,
   "id": "c412ed2d",
   "metadata": {},
   "outputs": [
    {
     "data": {
      "text/plain": [
       "location\n",
       "England                      2124\n",
       "Germany                      1999\n",
       "Italy                        1051\n",
       "Canada                        884\n",
       "United States, California     867\n",
       "                             ... \n",
       "Senegal                         1\n",
       "Mozambique                      1\n",
       "French Polynesia                1\n",
       "Papua New Guinea                1\n",
       "Gabon                           1\n",
       "Name: count, Length: 267, dtype: int64"
      ]
     },
     "execution_count": 33,
     "metadata": {},
     "output_type": "execute_result"
    }
   ],
   "source": [
    "rb_breweries['location'].value_counts()"
   ]
  },
  {
   "cell_type": "code",
   "execution_count": 34,
   "id": "600eb728",
   "metadata": {},
   "outputs": [
    {
     "data": {
      "text/plain": [
       "location\n",
       "England                     997\n",
       "Scotland                    104\n",
       "Ireland                      84\n",
       "Wales                        58\n",
       "United Kingdom, England      32\n",
       "Northern Ireland             25\n",
       "United Kingdom, Scotland      3\n",
       "United Kingdom, Wales         2\n",
       "Name: count, dtype: int64"
      ]
     },
     "execution_count": 34,
     "metadata": {},
     "output_type": "execute_result"
    }
   ],
   "source": [
    "# see all the possibilities for locations containing 'Wales', 'Scotland', 'England' or 'Ireland'\n",
    "ba_breweries[ba_breweries['location'].str.contains('Wales|Scotland|England|Ireland', case=False, na=False)]['location'].value_counts()"
   ]
  },
  {
   "cell_type": "code",
   "execution_count": 35,
   "id": "b7c254ba",
   "metadata": {},
   "outputs": [
    {
     "data": {
      "text/plain": [
       "location\n",
       "Canada                               775\n",
       "Canada, Quebec                        28\n",
       "Canada, Ontario                       25\n",
       "Canada, British Columbia              12\n",
       "Canada, Nova Scotia                    6\n",
       "Canada, Alberta                        6\n",
       "Canada, Manitoba                       3\n",
       "Canada, Saskatchewan                   2\n",
       "Canada, New Brunswick                  2\n",
       "Canada, Newfoundland and Labrador      1\n",
       "Name: count, dtype: int64"
      ]
     },
     "execution_count": 35,
     "metadata": {},
     "output_type": "execute_result"
    }
   ],
   "source": [
    "# see all the possibilities for locations starting with 'Canada'\n",
    "ba_breweries[ba_breweries['location'].str.startswith('Canada', na=False)]['location'].value_counts()"
   ]
  },
  {
   "cell_type": "markdown",
   "id": "c7609fec-b4f6-4571-aae0-702544a3b485",
   "metadata": {},
   "source": [
    "We can make 4 important observations: \n",
    "- US locations all contain state information\n",
    "- some locations contain embedded HTML links\n",
    "- Canada locations contain province information\n",
    "- UK countries are represented in 2 different ways: either 'United Kingdom, *country*' or '*country*'\n",
    "\n",
    "We will remove both these HTML links and the state and province information, as we will not use it in our analysis. We will also make sure that UK countries are represented in only 1 way. We will do so by applying a function named 'clean_location_column' which cleans the location information and that we have written in src/utils/data_utils.py()."
   ]
  },
  {
   "cell_type": "code",
   "execution_count": 36,
   "id": "a79c907f",
   "metadata": {},
   "outputs": [],
   "source": [
    "# Clean location information in user and brewery dataframes\n",
    "# Beer Advocate\n",
    "ba_users = clean_location_column(ba_users)\n",
    "ba_breweries = clean_location_column(ba_breweries)\n",
    "\n",
    "# Rate Beer\n",
    "rb_users = clean_location_column(rb_users)\n",
    "rb_breweries = clean_location_column(rb_breweries)"
   ]
  },
  {
   "cell_type": "markdown",
   "id": "66fd0160-5a4f-47ac-813c-af34e627e168",
   "metadata": {},
   "source": [
    "Let us now have a look at the cleaned location columns."
   ]
  },
  {
   "cell_type": "code",
   "execution_count": 37,
   "id": "016561e5",
   "metadata": {},
   "outputs": [
    {
     "data": {
      "text/plain": [
       "location\n",
       "United States                               113223\n",
       "nan                                          31279\n",
       "Canada                                        3324\n",
       "England                                        791\n",
       "Australia                                      520\n",
       "                                             ...  \n",
       "South Georgia and South Sandwich Islands         1\n",
       "Angola                                           1\n",
       "Kazakhstan                                       1\n",
       "Egypt                                            1\n",
       "Sint Maarten                                     1\n",
       "Name: count, Length: 146, dtype: int64"
      ]
     },
     "execution_count": 37,
     "metadata": {},
     "output_type": "execute_result"
    }
   ],
   "source": [
    "ba_users['location'].value_counts()"
   ]
  },
  {
   "cell_type": "code",
   "execution_count": 38,
   "id": "11cc03b6",
   "metadata": {},
   "outputs": [
    {
     "data": {
      "text/plain": [
       "location\n",
       "United States       26855\n",
       "nan                 19582\n",
       "Canada               3255\n",
       "England              2734\n",
       "Poland               1701\n",
       "                    ...  \n",
       "Honduras                1\n",
       "Falkland Islands        1\n",
       "Kyrgyzstan              1\n",
       "Papua New Guinea        1\n",
       "Tibet                   1\n",
       "Name: count, Length: 174, dtype: int64"
      ]
     },
     "execution_count": 38,
     "metadata": {},
     "output_type": "execute_result"
    }
   ],
   "source": [
    "rb_users['location'].value_counts()"
   ]
  },
  {
   "cell_type": "code",
   "execution_count": 39,
   "id": "62147d66",
   "metadata": {},
   "outputs": [
    {
     "data": {
      "text/plain": [
       "location\n",
       "United States               7399\n",
       "Germany                     1431\n",
       "England                     1029\n",
       "Canada                       860\n",
       "France                       402\n",
       "                            ... \n",
       "Dominica                       1\n",
       "French Guiana                  1\n",
       "Senegal                        1\n",
       "Gibraltar                      1\n",
       "Virgin Islands (British)       1\n",
       "Name: count, Length: 200, dtype: int64"
      ]
     },
     "execution_count": 39,
     "metadata": {},
     "output_type": "execute_result"
    }
   ],
   "source": [
    "ba_breweries['location'].value_counts()"
   ]
  },
  {
   "cell_type": "code",
   "execution_count": 40,
   "id": "e6ac8406",
   "metadata": {},
   "outputs": [
    {
     "data": {
      "text/plain": [
       "location\n",
       "United States            6921\n",
       "England                  2124\n",
       "Germany                  1999\n",
       "Italy                    1051\n",
       "Canada                    884\n",
       "                         ... \n",
       "Sao Tome and Principe       1\n",
       "Iraq                        1\n",
       "Micronesia                  1\n",
       "French Guiana               1\n",
       "Gabon                       1\n",
       "Name: count, Length: 217, dtype: int64"
      ]
     },
     "execution_count": 40,
     "metadata": {},
     "output_type": "execute_result"
    }
   ],
   "source": [
    "rb_breweries['location'].value_counts()"
   ]
  },
  {
   "cell_type": "code",
   "execution_count": 41,
   "id": "4a78df57",
   "metadata": {},
   "outputs": [
    {
     "data": {
      "text/plain": [
       "location\n",
       "England             1029\n",
       "Scotland             107\n",
       "Ireland               84\n",
       "Wales                 60\n",
       "Northern Ireland      25\n",
       "Name: count, dtype: int64"
      ]
     },
     "execution_count": 41,
     "metadata": {},
     "output_type": "execute_result"
    }
   ],
   "source": [
    "# see all the possibilities for locations containing 'Wales', 'Scotland', 'England' or 'Ireland'\n",
    "ba_breweries[ba_breweries['location'].str.contains('Wales|Scotland|England|Ireland', case=False, na=False)]['location'].value_counts()"
   ]
  },
  {
   "cell_type": "code",
   "execution_count": 42,
   "id": "bdef0c4b",
   "metadata": {},
   "outputs": [
    {
     "data": {
      "text/plain": [
       "location\n",
       "Canada    860\n",
       "Name: count, dtype: int64"
      ]
     },
     "execution_count": 42,
     "metadata": {},
     "output_type": "execute_result"
    }
   ],
   "source": [
    "# see all the possibilities for locations starting with 'Canada'\n",
    "ba_breweries[ba_breweries['location'].str.startswith('Canada', na=False)]['location'].value_counts()"
   ]
  },
  {
   "cell_type": "markdown",
   "id": "12f9e443-6934-4539-ad5b-fa18effc0c2e",
   "metadata": {},
   "source": [
    "Now that the location information has been cleaned, we can look a the distribution of the location of both users and breweries in the dataset.\n",
    "\n",
    "Let us start by observing the distribution of user locations."
   ]
  },
  {
   "cell_type": "code",
   "execution_count": 43,
   "id": "669ebe29",
   "metadata": {},
   "outputs": [
    {
     "name": "stdout",
     "output_type": "stream",
     "text": [
      "Number of distinct user locations: 202\n"
     ]
    }
   ],
   "source": [
    "print('Number of distinct user locations:',pd.concat([ba_users['location'],rb_users['location']]).nunique())"
   ]
  },
  {
   "cell_type": "code",
   "execution_count": 44,
   "id": "155dcd29",
   "metadata": {},
   "outputs": [
    {
     "data": {
      "image/png": "[encoded data removed]",
      "text/plain": [
       "<Figure size 1600x800 with 2 Axes>"
      ]
     },
     "metadata": {},
     "output_type": "display_data"
    }
   ],
   "source": [
    "# Distribution of user locations\n",
    "# 10 most frequent user locations for each dataset (to make plots easier to read)\n",
    "ba_top_10_user_locations = ba_users[ba_users['location'] != 'nan']['location'].value_counts().head(10)\n",
    "rb_top_10_user_locations = rb_users[rb_users['location'] != 'nan']['location'].value_counts().head(10)\n",
    "\n",
    "top_10_plots(ba_top_10_user_locations,rb_top_10_user_locations,'User Location') # Plot function"
   ]
  },
  {
   "cell_type": "markdown",
   "id": "2a8f292d-e030-4a9a-a2b2-9c790c84def9",
   "metadata": {},
   "source": [
    "We can see that for the 2 websites, the vast majority of users come from the US. The next most common user locations are Canada and England."
   ]
  },
  {
   "cell_type": "markdown",
   "id": "55ce892a-f7c4-400e-b93b-aaefb4832c8a",
   "metadata": {},
   "source": [
    "Let us now observe the distribution of brewery locations."
   ]
  },
  {
   "cell_type": "code",
   "execution_count": 45,
   "id": "b2bdf69f",
   "metadata": {},
   "outputs": [
    {
     "name": "stdout",
     "output_type": "stream",
     "text": [
      "Number of distinct brewery locations: 218\n"
     ]
    }
   ],
   "source": [
    "print('Number of distinct brewery locations:',pd.concat([ba_breweries['location'],rb_breweries['location']]).nunique())"
   ]
  },
  {
   "cell_type": "code",
   "execution_count": 46,
   "id": "faf79386",
   "metadata": {},
   "outputs": [
    {
     "data": {
      "image/png": "[encoded data removed]",
      "text/plain": [
       "<Figure size 1600x800 with 2 Axes>"
      ]
     },
     "metadata": {},
     "output_type": "display_data"
    }
   ],
   "source": [
    "# Distribution of brewery locations\n",
    "# 10 most frequent brewery locations for each dataset (to make plots easier to read)\n",
    "ba_top_10_brewery_locations = ba_breweries[ba_breweries['location'] != 'nan']['location'].value_counts().head(10)\n",
    "rb_top_10_brewery_locations = rb_breweries[rb_breweries['location'] != 'nan']['location'].value_counts().head(10)\n",
    "\n",
    "top_10_plots(ba_top_10_brewery_locations,rb_top_10_brewery_locations,'Brewery Locations')"
   ]
  },
  {
   "cell_type": "markdown",
   "id": "b7251b97-502a-4e07-a93d-c22899b19aa8",
   "metadata": {},
   "source": [
    "Similarly, we can observe that the vast majority of breweries included in the 2 datasets are located in the US. The next most common brewery locations are Germany and England."
   ]
  },
  {
   "cell_type": "markdown",
   "id": "c940129c-4a09-4542-a223-7ba2d0be77ef",
   "metadata": {},
   "source": [
    "### **ADDITION OF USEFUL COLUMNS**"
   ]
  },
  {
   "cell_type": "markdown",
   "id": "b98819b9-e374-4e60-92b5-88aa9ed04c32",
   "metadata": {},
   "source": [
    "To streamline our analysis and avoid redundant computations, we will calculate certain statistics that will be used in several parts of the analysis once and store them as new columns in the respective dataframes."
   ]
  },
  {
   "cell_type": "markdown",
   "id": "fae9fc9a-fee4-4742-ab56-16da6d342db3",
   "metadata": {},
   "source": [
    "Let us first add a column to the rating dataframes corresponding to the average rating given by the user who wrote the review."
   ]
  },
  {
   "cell_type": "code",
   "execution_count": 47,
   "id": "69b46584",
   "metadata": {},
   "outputs": [
    {
     "data": {
      "text/html": [
       "<div>\n",
       "<style scoped>\n",
       "    .dataframe tbody tr th:only-of-type {\n",
       "        vertical-align: middle;\n",
       "    }\n",
       "\n",
       "    .dataframe tbody tr th {\n",
       "        vertical-align: top;\n",
       "    }\n",
       "\n",
       "    .dataframe thead th {\n",
       "        text-align: right;\n",
       "    }\n",
       "</style>\n",
       "<table border=\"1\" class=\"dataframe\">\n",
       "  <thead>\n",
       "    <tr style=\"text-align: right;\">\n",
       "      <th></th>\n",
       "      <th>beer_name</th>\n",
       "      <th>beer_id</th>\n",
       "      <th>brewery_name</th>\n",
       "      <th>brewery_id</th>\n",
       "      <th>style</th>\n",
       "      <th>abv</th>\n",
       "      <th>date</th>\n",
       "      <th>user_name</th>\n",
       "      <th>user_id</th>\n",
       "      <th>appearance</th>\n",
       "      <th>aroma</th>\n",
       "      <th>palate</th>\n",
       "      <th>taste</th>\n",
       "      <th>overall</th>\n",
       "      <th>rating</th>\n",
       "      <th>user_avg_rating</th>\n",
       "    </tr>\n",
       "  </thead>\n",
       "  <tbody>\n",
       "    <tr>\n",
       "      <th>0</th>\n",
       "      <td>Régab</td>\n",
       "      <td>142544.0</td>\n",
       "      <td>Societe des Brasseries du Gabon (SOBRAGA)</td>\n",
       "      <td>37262.0</td>\n",
       "      <td>Euro Pale Lager</td>\n",
       "      <td>4.5</td>\n",
       "      <td>2015-08-20 10:00:00</td>\n",
       "      <td>nmann08</td>\n",
       "      <td>nmann08.184925</td>\n",
       "      <td>3.25</td>\n",
       "      <td>2.75</td>\n",
       "      <td>3.25</td>\n",
       "      <td>2.75</td>\n",
       "      <td>3.0</td>\n",
       "      <td>2.88</td>\n",
       "      <td>3.730887</td>\n",
       "    </tr>\n",
       "    <tr>\n",
       "      <th>1</th>\n",
       "      <td>Barelegs Brew</td>\n",
       "      <td>19590.0</td>\n",
       "      <td>Strangford Lough Brewing Company Ltd</td>\n",
       "      <td>10093.0</td>\n",
       "      <td>English Pale Ale</td>\n",
       "      <td>4.5</td>\n",
       "      <td>2009-02-20 11:00:00</td>\n",
       "      <td>StJamesGate</td>\n",
       "      <td>stjamesgate.163714</td>\n",
       "      <td>3.00</td>\n",
       "      <td>3.50</td>\n",
       "      <td>3.50</td>\n",
       "      <td>4.00</td>\n",
       "      <td>3.5</td>\n",
       "      <td>3.67</td>\n",
       "      <td>3.885664</td>\n",
       "    </tr>\n",
       "    <tr>\n",
       "      <th>2</th>\n",
       "      <td>Barelegs Brew</td>\n",
       "      <td>19590.0</td>\n",
       "      <td>Strangford Lough Brewing Company Ltd</td>\n",
       "      <td>10093.0</td>\n",
       "      <td>English Pale Ale</td>\n",
       "      <td>4.5</td>\n",
       "      <td>2006-03-13 11:00:00</td>\n",
       "      <td>mdagnew</td>\n",
       "      <td>mdagnew.19527</td>\n",
       "      <td>4.00</td>\n",
       "      <td>3.50</td>\n",
       "      <td>3.50</td>\n",
       "      <td>4.00</td>\n",
       "      <td>3.5</td>\n",
       "      <td>3.73</td>\n",
       "      <td>3.866884</td>\n",
       "    </tr>\n",
       "    <tr>\n",
       "      <th>3</th>\n",
       "      <td>Barelegs Brew</td>\n",
       "      <td>19590.0</td>\n",
       "      <td>Strangford Lough Brewing Company Ltd</td>\n",
       "      <td>10093.0</td>\n",
       "      <td>English Pale Ale</td>\n",
       "      <td>4.5</td>\n",
       "      <td>2004-12-01 11:00:00</td>\n",
       "      <td>helloloser12345</td>\n",
       "      <td>helloloser12345.10867</td>\n",
       "      <td>4.00</td>\n",
       "      <td>3.50</td>\n",
       "      <td>4.00</td>\n",
       "      <td>4.00</td>\n",
       "      <td>4.5</td>\n",
       "      <td>3.98</td>\n",
       "      <td>3.563226</td>\n",
       "    </tr>\n",
       "    <tr>\n",
       "      <th>4</th>\n",
       "      <td>Barelegs Brew</td>\n",
       "      <td>19590.0</td>\n",
       "      <td>Strangford Lough Brewing Company Ltd</td>\n",
       "      <td>10093.0</td>\n",
       "      <td>English Pale Ale</td>\n",
       "      <td>4.5</td>\n",
       "      <td>2004-08-30 10:00:00</td>\n",
       "      <td>cypressbob</td>\n",
       "      <td>cypressbob.3708</td>\n",
       "      <td>4.00</td>\n",
       "      <td>4.00</td>\n",
       "      <td>4.00</td>\n",
       "      <td>4.00</td>\n",
       "      <td>4.0</td>\n",
       "      <td>4.00</td>\n",
       "      <td>3.624354</td>\n",
       "    </tr>\n",
       "  </tbody>\n",
       "</table>\n",
       "</div>"
      ],
      "text/plain": [
       "       beer_name   beer_id                               brewery_name  \\\n",
       "0          Régab  142544.0  Societe des Brasseries du Gabon (SOBRAGA)   \n",
       "1  Barelegs Brew   19590.0       Strangford Lough Brewing Company Ltd   \n",
       "2  Barelegs Brew   19590.0       Strangford Lough Brewing Company Ltd   \n",
       "3  Barelegs Brew   19590.0       Strangford Lough Brewing Company Ltd   \n",
       "4  Barelegs Brew   19590.0       Strangford Lough Brewing Company Ltd   \n",
       "\n",
       "   brewery_id             style  abv                date        user_name  \\\n",
       "0     37262.0   Euro Pale Lager  4.5 2015-08-20 10:00:00          nmann08   \n",
       "1     10093.0  English Pale Ale  4.5 2009-02-20 11:00:00      StJamesGate   \n",
       "2     10093.0  English Pale Ale  4.5 2006-03-13 11:00:00          mdagnew   \n",
       "3     10093.0  English Pale Ale  4.5 2004-12-01 11:00:00  helloloser12345   \n",
       "4     10093.0  English Pale Ale  4.5 2004-08-30 10:00:00       cypressbob   \n",
       "\n",
       "                 user_id  appearance  aroma  palate  taste  overall  rating  \\\n",
       "0         nmann08.184925        3.25   2.75    3.25   2.75      3.0    2.88   \n",
       "1     stjamesgate.163714        3.00   3.50    3.50   4.00      3.5    3.67   \n",
       "2          mdagnew.19527        4.00   3.50    3.50   4.00      3.5    3.73   \n",
       "3  helloloser12345.10867        4.00   3.50    4.00   4.00      4.5    3.98   \n",
       "4        cypressbob.3708        4.00   4.00    4.00   4.00      4.0    4.00   \n",
       "\n",
       "   user_avg_rating  \n",
       "0         3.730887  \n",
       "1         3.885664  \n",
       "2         3.866884  \n",
       "3         3.563226  \n",
       "4         3.624354  "
      ]
     },
     "execution_count": 47,
     "metadata": {},
     "output_type": "execute_result"
    }
   ],
   "source": [
    "# calculate the average rating for each user\n",
    "average_ratings_by_user_ba = ba_ratings.groupby('user_id')['rating'].mean().reset_index()\n",
    "average_ratings_by_user_ba.rename(columns={'rating': 'user_avg_rating'}, inplace=True)\n",
    "\n",
    "average_ratings_by_user_rb = rb_ratings.groupby('user_id')['rating'].mean().reset_index()\n",
    "average_ratings_by_user_rb.rename(columns={'rating': 'user_avg_rating'}, inplace=True)\n",
    "\n",
    "# add the average ratings by user to the rating dataframes\n",
    "ba_ratings = ba_ratings.merge(average_ratings_by_user_ba, on='user_id', how='left')\n",
    "rb_ratings = rb_ratings.merge(average_ratings_by_user_rb, on='user_id', how='left')\n",
    "\n",
    "ba_ratings.head()"
   ]
  },
  {
   "cell_type": "markdown",
   "id": "f144c1a9-f7ad-43b8-941a-e39d40505298",
   "metadata": {},
   "source": [
    "Let us now add a column to the rating dataframes corresponding to the average rating of all beers coming from the brewery that produced the reviewed beer. This metric can be used as a proxy for brewery reputation and will be used in certain parts of the analysis to account for the fact that some breweries might have established reputations that bias user ratings."
   ]
  },
  {
   "cell_type": "code",
   "execution_count": 48,
   "id": "d406bdff",
   "metadata": {},
   "outputs": [
    {
     "data": {
      "text/html": [
       "<div>\n",
       "<style scoped>\n",
       "    .dataframe tbody tr th:only-of-type {\n",
       "        vertical-align: middle;\n",
       "    }\n",
       "\n",
       "    .dataframe tbody tr th {\n",
       "        vertical-align: top;\n",
       "    }\n",
       "\n",
       "    .dataframe thead th {\n",
       "        text-align: right;\n",
       "    }\n",
       "</style>\n",
       "<table border=\"1\" class=\"dataframe\">\n",
       "  <thead>\n",
       "    <tr style=\"text-align: right;\">\n",
       "      <th></th>\n",
       "      <th>beer_name</th>\n",
       "      <th>beer_id</th>\n",
       "      <th>brewery_name</th>\n",
       "      <th>brewery_id</th>\n",
       "      <th>style</th>\n",
       "      <th>abv</th>\n",
       "      <th>date</th>\n",
       "      <th>user_name</th>\n",
       "      <th>user_id</th>\n",
       "      <th>appearance</th>\n",
       "      <th>aroma</th>\n",
       "      <th>palate</th>\n",
       "      <th>taste</th>\n",
       "      <th>overall</th>\n",
       "      <th>rating</th>\n",
       "      <th>user_avg_rating</th>\n",
       "      <th>brewery_avg_rating</th>\n",
       "    </tr>\n",
       "  </thead>\n",
       "  <tbody>\n",
       "    <tr>\n",
       "      <th>0</th>\n",
       "      <td>Régab</td>\n",
       "      <td>142544.0</td>\n",
       "      <td>Societe des Brasseries du Gabon (SOBRAGA)</td>\n",
       "      <td>37262.0</td>\n",
       "      <td>Euro Pale Lager</td>\n",
       "      <td>4.5</td>\n",
       "      <td>2015-08-20 10:00:00</td>\n",
       "      <td>nmann08</td>\n",
       "      <td>nmann08.184925</td>\n",
       "      <td>3.25</td>\n",
       "      <td>2.75</td>\n",
       "      <td>3.25</td>\n",
       "      <td>2.75</td>\n",
       "      <td>3.0</td>\n",
       "      <td>2.88</td>\n",
       "      <td>3.730887</td>\n",
       "      <td>2.880000</td>\n",
       "    </tr>\n",
       "    <tr>\n",
       "      <th>1</th>\n",
       "      <td>Barelegs Brew</td>\n",
       "      <td>19590.0</td>\n",
       "      <td>Strangford Lough Brewing Company Ltd</td>\n",
       "      <td>10093.0</td>\n",
       "      <td>English Pale Ale</td>\n",
       "      <td>4.5</td>\n",
       "      <td>2009-02-20 11:00:00</td>\n",
       "      <td>StJamesGate</td>\n",
       "      <td>stjamesgate.163714</td>\n",
       "      <td>3.00</td>\n",
       "      <td>3.50</td>\n",
       "      <td>3.50</td>\n",
       "      <td>4.00</td>\n",
       "      <td>3.5</td>\n",
       "      <td>3.67</td>\n",
       "      <td>3.885664</td>\n",
       "      <td>3.526513</td>\n",
       "    </tr>\n",
       "    <tr>\n",
       "      <th>2</th>\n",
       "      <td>Barelegs Brew</td>\n",
       "      <td>19590.0</td>\n",
       "      <td>Strangford Lough Brewing Company Ltd</td>\n",
       "      <td>10093.0</td>\n",
       "      <td>English Pale Ale</td>\n",
       "      <td>4.5</td>\n",
       "      <td>2006-03-13 11:00:00</td>\n",
       "      <td>mdagnew</td>\n",
       "      <td>mdagnew.19527</td>\n",
       "      <td>4.00</td>\n",
       "      <td>3.50</td>\n",
       "      <td>3.50</td>\n",
       "      <td>4.00</td>\n",
       "      <td>3.5</td>\n",
       "      <td>3.73</td>\n",
       "      <td>3.866884</td>\n",
       "      <td>3.526513</td>\n",
       "    </tr>\n",
       "    <tr>\n",
       "      <th>3</th>\n",
       "      <td>Barelegs Brew</td>\n",
       "      <td>19590.0</td>\n",
       "      <td>Strangford Lough Brewing Company Ltd</td>\n",
       "      <td>10093.0</td>\n",
       "      <td>English Pale Ale</td>\n",
       "      <td>4.5</td>\n",
       "      <td>2004-12-01 11:00:00</td>\n",
       "      <td>helloloser12345</td>\n",
       "      <td>helloloser12345.10867</td>\n",
       "      <td>4.00</td>\n",
       "      <td>3.50</td>\n",
       "      <td>4.00</td>\n",
       "      <td>4.00</td>\n",
       "      <td>4.5</td>\n",
       "      <td>3.98</td>\n",
       "      <td>3.563226</td>\n",
       "      <td>3.526513</td>\n",
       "    </tr>\n",
       "    <tr>\n",
       "      <th>4</th>\n",
       "      <td>Barelegs Brew</td>\n",
       "      <td>19590.0</td>\n",
       "      <td>Strangford Lough Brewing Company Ltd</td>\n",
       "      <td>10093.0</td>\n",
       "      <td>English Pale Ale</td>\n",
       "      <td>4.5</td>\n",
       "      <td>2004-08-30 10:00:00</td>\n",
       "      <td>cypressbob</td>\n",
       "      <td>cypressbob.3708</td>\n",
       "      <td>4.00</td>\n",
       "      <td>4.00</td>\n",
       "      <td>4.00</td>\n",
       "      <td>4.00</td>\n",
       "      <td>4.0</td>\n",
       "      <td>4.00</td>\n",
       "      <td>3.624354</td>\n",
       "      <td>3.526513</td>\n",
       "    </tr>\n",
       "  </tbody>\n",
       "</table>\n",
       "</div>"
      ],
      "text/plain": [
       "       beer_name   beer_id                               brewery_name  \\\n",
       "0          Régab  142544.0  Societe des Brasseries du Gabon (SOBRAGA)   \n",
       "1  Barelegs Brew   19590.0       Strangford Lough Brewing Company Ltd   \n",
       "2  Barelegs Brew   19590.0       Strangford Lough Brewing Company Ltd   \n",
       "3  Barelegs Brew   19590.0       Strangford Lough Brewing Company Ltd   \n",
       "4  Barelegs Brew   19590.0       Strangford Lough Brewing Company Ltd   \n",
       "\n",
       "   brewery_id             style  abv                date        user_name  \\\n",
       "0     37262.0   Euro Pale Lager  4.5 2015-08-20 10:00:00          nmann08   \n",
       "1     10093.0  English Pale Ale  4.5 2009-02-20 11:00:00      StJamesGate   \n",
       "2     10093.0  English Pale Ale  4.5 2006-03-13 11:00:00          mdagnew   \n",
       "3     10093.0  English Pale Ale  4.5 2004-12-01 11:00:00  helloloser12345   \n",
       "4     10093.0  English Pale Ale  4.5 2004-08-30 10:00:00       cypressbob   \n",
       "\n",
       "                 user_id  appearance  aroma  palate  taste  overall  rating  \\\n",
       "0         nmann08.184925        3.25   2.75    3.25   2.75      3.0    2.88   \n",
       "1     stjamesgate.163714        3.00   3.50    3.50   4.00      3.5    3.67   \n",
       "2          mdagnew.19527        4.00   3.50    3.50   4.00      3.5    3.73   \n",
       "3  helloloser12345.10867        4.00   3.50    4.00   4.00      4.5    3.98   \n",
       "4        cypressbob.3708        4.00   4.00    4.00   4.00      4.0    4.00   \n",
       "\n",
       "   user_avg_rating  brewery_avg_rating  \n",
       "0         3.730887            2.880000  \n",
       "1         3.885664            3.526513  \n",
       "2         3.866884            3.526513  \n",
       "3         3.563226            3.526513  \n",
       "4         3.624354            3.526513  "
      ]
     },
     "execution_count": 48,
     "metadata": {},
     "output_type": "execute_result"
    }
   ],
   "source": [
    "# calculate the average rating for each brewery\n",
    "average_ratings_by_brewery_ba = ba_ratings.groupby('brewery_id')['rating'].mean().reset_index()\n",
    "average_ratings_by_brewery_ba.rename(columns={'rating': 'brewery_avg_rating'}, inplace=True)\n",
    "\n",
    "average_ratings_by_brewery_rb = rb_ratings.groupby('brewery_id')['rating'].mean().reset_index()\n",
    "average_ratings_by_brewery_rb.rename(columns={'rating': 'brewery_avg_rating'}, inplace=True)\n",
    "\n",
    "# add the average ratings by brewery to the rating dataframes\n",
    "ba_ratings = ba_ratings.merge(average_ratings_by_brewery_ba, on='brewery_id', how='left')\n",
    "rb_ratings = rb_ratings.merge(average_ratings_by_brewery_rb, on='brewery_id', how='left')\n",
    "\n",
    "ba_ratings.head()"
   ]
  },
  {
   "cell_type": "markdown",
   "id": "252dd64c-488a-410c-93d7-86fd4592cae2",
   "metadata": {},
   "source": [
    "We will now add a column to the rating dataframes corresponding to the average rating of all beers with the same style as the reviewed beer. "
   ]
  },
  {
   "cell_type": "code",
   "execution_count": 49,
   "id": "f1a4cf44",
   "metadata": {},
   "outputs": [
    {
     "data": {
      "text/html": [
       "<div>\n",
       "<style scoped>\n",
       "    .dataframe tbody tr th:only-of-type {\n",
       "        vertical-align: middle;\n",
       "    }\n",
       "\n",
       "    .dataframe tbody tr th {\n",
       "        vertical-align: top;\n",
       "    }\n",
       "\n",
       "    .dataframe thead th {\n",
       "        text-align: right;\n",
       "    }\n",
       "</style>\n",
       "<table border=\"1\" class=\"dataframe\">\n",
       "  <thead>\n",
       "    <tr style=\"text-align: right;\">\n",
       "      <th></th>\n",
       "      <th>beer_name</th>\n",
       "      <th>beer_id</th>\n",
       "      <th>brewery_name</th>\n",
       "      <th>brewery_id</th>\n",
       "      <th>style</th>\n",
       "      <th>abv</th>\n",
       "      <th>date</th>\n",
       "      <th>user_name</th>\n",
       "      <th>user_id</th>\n",
       "      <th>appearance</th>\n",
       "      <th>aroma</th>\n",
       "      <th>palate</th>\n",
       "      <th>taste</th>\n",
       "      <th>overall</th>\n",
       "      <th>rating</th>\n",
       "      <th>user_avg_rating</th>\n",
       "      <th>brewery_avg_rating</th>\n",
       "      <th>style_avg_rating</th>\n",
       "    </tr>\n",
       "  </thead>\n",
       "  <tbody>\n",
       "    <tr>\n",
       "      <th>0</th>\n",
       "      <td>Régab</td>\n",
       "      <td>142544.0</td>\n",
       "      <td>Societe des Brasseries du Gabon (SOBRAGA)</td>\n",
       "      <td>37262.0</td>\n",
       "      <td>Euro Pale Lager</td>\n",
       "      <td>4.5</td>\n",
       "      <td>2015-08-20 10:00:00</td>\n",
       "      <td>nmann08</td>\n",
       "      <td>nmann08.184925</td>\n",
       "      <td>3.25</td>\n",
       "      <td>2.75</td>\n",
       "      <td>3.25</td>\n",
       "      <td>2.75</td>\n",
       "      <td>3.0</td>\n",
       "      <td>2.88</td>\n",
       "      <td>3.730887</td>\n",
       "      <td>2.880000</td>\n",
       "      <td>2.986608</td>\n",
       "    </tr>\n",
       "    <tr>\n",
       "      <th>1</th>\n",
       "      <td>Barelegs Brew</td>\n",
       "      <td>19590.0</td>\n",
       "      <td>Strangford Lough Brewing Company Ltd</td>\n",
       "      <td>10093.0</td>\n",
       "      <td>English Pale Ale</td>\n",
       "      <td>4.5</td>\n",
       "      <td>2009-02-20 11:00:00</td>\n",
       "      <td>StJamesGate</td>\n",
       "      <td>stjamesgate.163714</td>\n",
       "      <td>3.00</td>\n",
       "      <td>3.50</td>\n",
       "      <td>3.50</td>\n",
       "      <td>4.00</td>\n",
       "      <td>3.5</td>\n",
       "      <td>3.67</td>\n",
       "      <td>3.885664</td>\n",
       "      <td>3.526513</td>\n",
       "      <td>3.542445</td>\n",
       "    </tr>\n",
       "    <tr>\n",
       "      <th>2</th>\n",
       "      <td>Barelegs Brew</td>\n",
       "      <td>19590.0</td>\n",
       "      <td>Strangford Lough Brewing Company Ltd</td>\n",
       "      <td>10093.0</td>\n",
       "      <td>English Pale Ale</td>\n",
       "      <td>4.5</td>\n",
       "      <td>2006-03-13 11:00:00</td>\n",
       "      <td>mdagnew</td>\n",
       "      <td>mdagnew.19527</td>\n",
       "      <td>4.00</td>\n",
       "      <td>3.50</td>\n",
       "      <td>3.50</td>\n",
       "      <td>4.00</td>\n",
       "      <td>3.5</td>\n",
       "      <td>3.73</td>\n",
       "      <td>3.866884</td>\n",
       "      <td>3.526513</td>\n",
       "      <td>3.542445</td>\n",
       "    </tr>\n",
       "    <tr>\n",
       "      <th>3</th>\n",
       "      <td>Barelegs Brew</td>\n",
       "      <td>19590.0</td>\n",
       "      <td>Strangford Lough Brewing Company Ltd</td>\n",
       "      <td>10093.0</td>\n",
       "      <td>English Pale Ale</td>\n",
       "      <td>4.5</td>\n",
       "      <td>2004-12-01 11:00:00</td>\n",
       "      <td>helloloser12345</td>\n",
       "      <td>helloloser12345.10867</td>\n",
       "      <td>4.00</td>\n",
       "      <td>3.50</td>\n",
       "      <td>4.00</td>\n",
       "      <td>4.00</td>\n",
       "      <td>4.5</td>\n",
       "      <td>3.98</td>\n",
       "      <td>3.563226</td>\n",
       "      <td>3.526513</td>\n",
       "      <td>3.542445</td>\n",
       "    </tr>\n",
       "    <tr>\n",
       "      <th>4</th>\n",
       "      <td>Barelegs Brew</td>\n",
       "      <td>19590.0</td>\n",
       "      <td>Strangford Lough Brewing Company Ltd</td>\n",
       "      <td>10093.0</td>\n",
       "      <td>English Pale Ale</td>\n",
       "      <td>4.5</td>\n",
       "      <td>2004-08-30 10:00:00</td>\n",
       "      <td>cypressbob</td>\n",
       "      <td>cypressbob.3708</td>\n",
       "      <td>4.00</td>\n",
       "      <td>4.00</td>\n",
       "      <td>4.00</td>\n",
       "      <td>4.00</td>\n",
       "      <td>4.0</td>\n",
       "      <td>4.00</td>\n",
       "      <td>3.624354</td>\n",
       "      <td>3.526513</td>\n",
       "      <td>3.542445</td>\n",
       "    </tr>\n",
       "  </tbody>\n",
       "</table>\n",
       "</div>"
      ],
      "text/plain": [
       "       beer_name   beer_id                               brewery_name  \\\n",
       "0          Régab  142544.0  Societe des Brasseries du Gabon (SOBRAGA)   \n",
       "1  Barelegs Brew   19590.0       Strangford Lough Brewing Company Ltd   \n",
       "2  Barelegs Brew   19590.0       Strangford Lough Brewing Company Ltd   \n",
       "3  Barelegs Brew   19590.0       Strangford Lough Brewing Company Ltd   \n",
       "4  Barelegs Brew   19590.0       Strangford Lough Brewing Company Ltd   \n",
       "\n",
       "   brewery_id             style  abv                date        user_name  \\\n",
       "0     37262.0   Euro Pale Lager  4.5 2015-08-20 10:00:00          nmann08   \n",
       "1     10093.0  English Pale Ale  4.5 2009-02-20 11:00:00      StJamesGate   \n",
       "2     10093.0  English Pale Ale  4.5 2006-03-13 11:00:00          mdagnew   \n",
       "3     10093.0  English Pale Ale  4.5 2004-12-01 11:00:00  helloloser12345   \n",
       "4     10093.0  English Pale Ale  4.5 2004-08-30 10:00:00       cypressbob   \n",
       "\n",
       "                 user_id  appearance  aroma  palate  taste  overall  rating  \\\n",
       "0         nmann08.184925        3.25   2.75    3.25   2.75      3.0    2.88   \n",
       "1     stjamesgate.163714        3.00   3.50    3.50   4.00      3.5    3.67   \n",
       "2          mdagnew.19527        4.00   3.50    3.50   4.00      3.5    3.73   \n",
       "3  helloloser12345.10867        4.00   3.50    4.00   4.00      4.5    3.98   \n",
       "4        cypressbob.3708        4.00   4.00    4.00   4.00      4.0    4.00   \n",
       "\n",
       "   user_avg_rating  brewery_avg_rating  style_avg_rating  \n",
       "0         3.730887            2.880000          2.986608  \n",
       "1         3.885664            3.526513          3.542445  \n",
       "2         3.866884            3.526513          3.542445  \n",
       "3         3.563226            3.526513          3.542445  \n",
       "4         3.624354            3.526513          3.542445  "
      ]
     },
     "execution_count": 49,
     "metadata": {},
     "output_type": "execute_result"
    }
   ],
   "source": [
    "# calculate the average rating for each beer style\n",
    "average_ratings_by_style_ba = ba_ratings.groupby('style')['rating'].mean().reset_index()\n",
    "average_ratings_by_style_ba.rename(columns={'rating': 'style_avg_rating'}, inplace=True)\n",
    "\n",
    "average_ratings_by_style_rb = rb_ratings.groupby('style')['rating'].mean().reset_index()\n",
    "average_ratings_by_style_rb.rename(columns={'rating': 'style_avg_rating'}, inplace=True)\n",
    "\n",
    "# add the average ratings by style to the rating dataframes\n",
    "ba_ratings = ba_ratings.merge(average_ratings_by_style_ba, on='style', how='left')\n",
    "rb_ratings = rb_ratings.merge(average_ratings_by_style_rb, on='style', how='left')\n",
    "\n",
    "ba_ratings.head()"
   ]
  },
  {
   "cell_type": "markdown",
   "id": "d0849845-8ecf-4804-990c-2daea7df3c47",
   "metadata": {},
   "source": [
    "Finally, we will add a column to the rating dataframes corresponding to the number of reviews given by the user who wrote the review."
   ]
  },
  {
   "cell_type": "code",
   "execution_count": 50,
   "id": "57c7e7df-c157-44d1-900f-2aa3cb8c5388",
   "metadata": {},
   "outputs": [
    {
     "data": {
      "text/html": [
       "<div>\n",
       "<style scoped>\n",
       "    .dataframe tbody tr th:only-of-type {\n",
       "        vertical-align: middle;\n",
       "    }\n",
       "\n",
       "    .dataframe tbody tr th {\n",
       "        vertical-align: top;\n",
       "    }\n",
       "\n",
       "    .dataframe thead th {\n",
       "        text-align: right;\n",
       "    }\n",
       "</style>\n",
       "<table border=\"1\" class=\"dataframe\">\n",
       "  <thead>\n",
       "    <tr style=\"text-align: right;\">\n",
       "      <th></th>\n",
       "      <th>beer_name</th>\n",
       "      <th>beer_id</th>\n",
       "      <th>brewery_name</th>\n",
       "      <th>brewery_id</th>\n",
       "      <th>style</th>\n",
       "      <th>abv</th>\n",
       "      <th>date</th>\n",
       "      <th>user_name</th>\n",
       "      <th>user_id</th>\n",
       "      <th>appearance</th>\n",
       "      <th>aroma</th>\n",
       "      <th>palate</th>\n",
       "      <th>taste</th>\n",
       "      <th>overall</th>\n",
       "      <th>rating</th>\n",
       "      <th>user_avg_rating</th>\n",
       "      <th>brewery_avg_rating</th>\n",
       "      <th>style_avg_rating</th>\n",
       "      <th>user_nb_reviews</th>\n",
       "    </tr>\n",
       "  </thead>\n",
       "  <tbody>\n",
       "    <tr>\n",
       "      <th>0</th>\n",
       "      <td>Régab</td>\n",
       "      <td>142544.0</td>\n",
       "      <td>Societe des Brasseries du Gabon (SOBRAGA)</td>\n",
       "      <td>37262.0</td>\n",
       "      <td>Euro Pale Lager</td>\n",
       "      <td>4.5</td>\n",
       "      <td>2015-08-20 10:00:00</td>\n",
       "      <td>nmann08</td>\n",
       "      <td>nmann08.184925</td>\n",
       "      <td>3.25</td>\n",
       "      <td>2.75</td>\n",
       "      <td>3.25</td>\n",
       "      <td>2.75</td>\n",
       "      <td>3.0</td>\n",
       "      <td>2.88</td>\n",
       "      <td>3.730887</td>\n",
       "      <td>2.880000</td>\n",
       "      <td>2.986608</td>\n",
       "      <td>465.0</td>\n",
       "    </tr>\n",
       "    <tr>\n",
       "      <th>1</th>\n",
       "      <td>Barelegs Brew</td>\n",
       "      <td>19590.0</td>\n",
       "      <td>Strangford Lough Brewing Company Ltd</td>\n",
       "      <td>10093.0</td>\n",
       "      <td>English Pale Ale</td>\n",
       "      <td>4.5</td>\n",
       "      <td>2009-02-20 11:00:00</td>\n",
       "      <td>StJamesGate</td>\n",
       "      <td>stjamesgate.163714</td>\n",
       "      <td>3.00</td>\n",
       "      <td>3.50</td>\n",
       "      <td>3.50</td>\n",
       "      <td>4.00</td>\n",
       "      <td>3.5</td>\n",
       "      <td>3.67</td>\n",
       "      <td>3.885664</td>\n",
       "      <td>3.526513</td>\n",
       "      <td>3.542445</td>\n",
       "      <td>2504.0</td>\n",
       "    </tr>\n",
       "    <tr>\n",
       "      <th>2</th>\n",
       "      <td>Barelegs Brew</td>\n",
       "      <td>19590.0</td>\n",
       "      <td>Strangford Lough Brewing Company Ltd</td>\n",
       "      <td>10093.0</td>\n",
       "      <td>English Pale Ale</td>\n",
       "      <td>4.5</td>\n",
       "      <td>2006-03-13 11:00:00</td>\n",
       "      <td>mdagnew</td>\n",
       "      <td>mdagnew.19527</td>\n",
       "      <td>4.00</td>\n",
       "      <td>3.50</td>\n",
       "      <td>3.50</td>\n",
       "      <td>4.00</td>\n",
       "      <td>3.5</td>\n",
       "      <td>3.73</td>\n",
       "      <td>3.866884</td>\n",
       "      <td>3.526513</td>\n",
       "      <td>3.542445</td>\n",
       "      <td>1143.0</td>\n",
       "    </tr>\n",
       "    <tr>\n",
       "      <th>3</th>\n",
       "      <td>Barelegs Brew</td>\n",
       "      <td>19590.0</td>\n",
       "      <td>Strangford Lough Brewing Company Ltd</td>\n",
       "      <td>10093.0</td>\n",
       "      <td>English Pale Ale</td>\n",
       "      <td>4.5</td>\n",
       "      <td>2004-12-01 11:00:00</td>\n",
       "      <td>helloloser12345</td>\n",
       "      <td>helloloser12345.10867</td>\n",
       "      <td>4.00</td>\n",
       "      <td>3.50</td>\n",
       "      <td>4.00</td>\n",
       "      <td>4.00</td>\n",
       "      <td>4.5</td>\n",
       "      <td>3.98</td>\n",
       "      <td>3.563226</td>\n",
       "      <td>3.526513</td>\n",
       "      <td>3.542445</td>\n",
       "      <td>31.0</td>\n",
       "    </tr>\n",
       "    <tr>\n",
       "      <th>4</th>\n",
       "      <td>Barelegs Brew</td>\n",
       "      <td>19590.0</td>\n",
       "      <td>Strangford Lough Brewing Company Ltd</td>\n",
       "      <td>10093.0</td>\n",
       "      <td>English Pale Ale</td>\n",
       "      <td>4.5</td>\n",
       "      <td>2004-08-30 10:00:00</td>\n",
       "      <td>cypressbob</td>\n",
       "      <td>cypressbob.3708</td>\n",
       "      <td>4.00</td>\n",
       "      <td>4.00</td>\n",
       "      <td>4.00</td>\n",
       "      <td>4.00</td>\n",
       "      <td>4.0</td>\n",
       "      <td>4.00</td>\n",
       "      <td>3.624354</td>\n",
       "      <td>3.526513</td>\n",
       "      <td>3.542445</td>\n",
       "      <td>604.0</td>\n",
       "    </tr>\n",
       "  </tbody>\n",
       "</table>\n",
       "</div>"
      ],
      "text/plain": [
       "       beer_name   beer_id                               brewery_name  \\\n",
       "0          Régab  142544.0  Societe des Brasseries du Gabon (SOBRAGA)   \n",
       "1  Barelegs Brew   19590.0       Strangford Lough Brewing Company Ltd   \n",
       "2  Barelegs Brew   19590.0       Strangford Lough Brewing Company Ltd   \n",
       "3  Barelegs Brew   19590.0       Strangford Lough Brewing Company Ltd   \n",
       "4  Barelegs Brew   19590.0       Strangford Lough Brewing Company Ltd   \n",
       "\n",
       "   brewery_id             style  abv                date        user_name  \\\n",
       "0     37262.0   Euro Pale Lager  4.5 2015-08-20 10:00:00          nmann08   \n",
       "1     10093.0  English Pale Ale  4.5 2009-02-20 11:00:00      StJamesGate   \n",
       "2     10093.0  English Pale Ale  4.5 2006-03-13 11:00:00          mdagnew   \n",
       "3     10093.0  English Pale Ale  4.5 2004-12-01 11:00:00  helloloser12345   \n",
       "4     10093.0  English Pale Ale  4.5 2004-08-30 10:00:00       cypressbob   \n",
       "\n",
       "                 user_id  appearance  aroma  palate  taste  overall  rating  \\\n",
       "0         nmann08.184925        3.25   2.75    3.25   2.75      3.0    2.88   \n",
       "1     stjamesgate.163714        3.00   3.50    3.50   4.00      3.5    3.67   \n",
       "2          mdagnew.19527        4.00   3.50    3.50   4.00      3.5    3.73   \n",
       "3  helloloser12345.10867        4.00   3.50    4.00   4.00      4.5    3.98   \n",
       "4        cypressbob.3708        4.00   4.00    4.00   4.00      4.0    4.00   \n",
       "\n",
       "   user_avg_rating  brewery_avg_rating  style_avg_rating  user_nb_reviews  \n",
       "0         3.730887            2.880000          2.986608            465.0  \n",
       "1         3.885664            3.526513          3.542445           2504.0  \n",
       "2         3.866884            3.526513          3.542445           1143.0  \n",
       "3         3.563226            3.526513          3.542445             31.0  \n",
       "4         3.624354            3.526513          3.542445            604.0  "
      ]
     },
     "execution_count": 50,
     "metadata": {},
     "output_type": "execute_result"
    }
   ],
   "source": [
    "# merge the rating dataframes with the users dataframes on user_id\n",
    "ba_ratings = ba_ratings.merge(ba_users[['user_id', 'nbr_reviews']], on='user_id', how='left')\n",
    "rb_ratings = rb_ratings.merge(rb_users[['user_id', 'nbr_ratings']], on='user_id', how='left')\n",
    "\n",
    "ba_ratings = ba_ratings.rename(columns={'nbr_reviews': 'user_nb_reviews'})\n",
    "rb_ratings = rb_ratings.rename(columns={'nbr_ratings': 'user_nb_reviews'})\n",
    "\n",
    "ba_ratings.head()"
   ]
  },
  {
   "cell_type": "markdown",
   "id": "ecf77dc9-b62e-4fa9-8731-e5d0b2aa0516",
   "metadata": {},
   "source": [
    "### **'LOCATION-SPECIFIC' CLEANING**"
   ]
  },
  {
   "cell_type": "markdown",
   "id": "3d4b4ed9-856e-402c-bf65-1fe99f899266",
   "metadata": {},
   "source": [
    "Several parts of our analysis will involve comparing data from different countries and will require working with the location information in the user DataFrames. In these parts, we will only consider countries with a 'sufficiently large' number of reviewers, as only a few reviewers may not be representative of an entire country. We will thus filter out countries that we consider to have not enough reviewers. We decide arbitrarily to filter out countries with less than 50 different reviewers.\n",
    "\n",
    "In this part of the data cleaning, we will work on a copy of the original DataFrames, and we will use these copies only for the parts of the analysis where we compare certain countries. Indeed, this filtering is not relevant for the parts that do not involve comparing certain countries."
   ]
  },
  {
   "cell_type": "code",
   "execution_count": 51,
   "id": "e517a53c",
   "metadata": {},
   "outputs": [],
   "source": [
    "# create copies of the user and rating DataFrames, which will undergo filtering related to the location information\n",
    "ba_users_loc_filtered = ba_users.copy()\n",
    "rb_users_loc_filtered = rb_users.copy()\n",
    "ba_ratings_loc_filtered = ba_ratings.copy()\n",
    "rb_ratings_loc_filtered = rb_ratings.copy()"
   ]
  },
  {
   "cell_type": "markdown",
   "id": "5d263250-ebcd-4fcb-a87f-13071a11613a",
   "metadata": {},
   "source": [
    "## Removing users with missing location information"
   ]
  },
  {
   "cell_type": "markdown",
   "id": "a6017abb-091d-489b-9048-82fcae86c2bd",
   "metadata": {},
   "source": [
    "First, let us determine if some users are missing the location information."
   ]
  },
  {
   "cell_type": "code",
   "execution_count": 52,
   "id": "a0d1ca39",
   "metadata": {},
   "outputs": [
    {
     "name": "stdout",
     "output_type": "stream",
     "text": [
      "Number of users lacking the location information (Beer Advocate): 31279\n",
      "Number of users lacking the location information (Rate Beer): 19582\n"
     ]
    }
   ],
   "source": [
    "# get the number of users with 'nan' in the 'location' column\n",
    "# Beer Advocate\n",
    "print('Number of users lacking the location information (Beer Advocate):',ba_users_loc_filtered[ba_users_loc_filtered['location'] == 'nan'].shape[0])\n",
    "# Rate Beer\n",
    "print('Number of users lacking the location information (Rate Beer):',rb_users_loc_filtered[rb_users_loc_filtered['location'] == 'nan'].shape[0])"
   ]
  },
  {
   "cell_type": "markdown",
   "id": "a0d24add-31cd-4c6b-932d-fb65fe60cadc",
   "metadata": {},
   "source": [
    "We can see that there are indeed some users missing the location information. Let us remove these users."
   ]
  },
  {
   "cell_type": "code",
   "execution_count": 53,
   "id": "c70077e7",
   "metadata": {},
   "outputs": [
    {
     "name": "stdout",
     "output_type": "stream",
     "text": [
      "Number of users lacking the location information (Beer Advocate): 0\n",
      "Number of users lacking the location information (Rate Beer): 0\n"
     ]
    }
   ],
   "source": [
    "# remove users with 'nan' in the 'location' column\n",
    "ba_users_loc_filtered = ba_users_loc_filtered[ba_users_loc_filtered['location'] != 'nan']\n",
    "rb_users_loc_filtered = rb_users_loc_filtered[rb_users_loc_filtered['location'] != 'nan']\n",
    "\n",
    "# verification\n",
    "print('Number of users lacking the location information (Beer Advocate):',ba_users_loc_filtered[ba_users_loc_filtered['location'] == 'nan'].shape[0])\n",
    "print('Number of users lacking the location information (Rate Beer):',rb_users_loc_filtered[rb_users_loc_filtered['location'] == 'nan'].shape[0])"
   ]
  },
  {
   "cell_type": "markdown",
   "id": "38172442-18c3-49d5-b3c3-268f5df3b266",
   "metadata": {},
   "source": [
    "## Filtering out users and reviews written by users from countries with too few users"
   ]
  },
  {
   "cell_type": "markdown",
   "id": "d79e5597-2ba1-4681-8ef1-9e9ec626798d",
   "metadata": {},
   "source": [
    "Let us first identify the countries with a number of users that is smaller than the threshold we set earlier, that is, 10 users."
   ]
  },
  {
   "cell_type": "code",
   "execution_count": 54,
   "id": "6738b89e",
   "metadata": {},
   "outputs": [
    {
     "name": "stdout",
     "output_type": "stream",
     "text": [
      "Countries with less than 50 users across both DataFrames:\n",
      "['Aotearoa', 'Panama', 'Colombia', 'Bosnia and Herzegovina', 'Costa Rica', 'Cyprus', 'Luxembourg', 'Belarus', 'Dominican Republic', 'El Salvador', 'Peru', 'Moldova', 'Guatemala', 'Ecuador', 'Macedonia', 'Venezuela', 'Paraguay', 'Uruguay', 'Lebanon', 'Malaysia', 'Vietnam', 'Indonesia', 'Virgin Islands (U.S.)', 'Bahamas', 'Faroe Islands', 'Afghanistan', 'Malta', 'Andorra', 'Cambodia', 'Guam', 'Kenya', 'United Arab Emirates', 'Isle of Man', 'Antarctica', 'Cayman Islands', 'Bermuda', 'Bolivia', 'Honduras', 'Montenegro', 'Egypt', 'Tanzania', 'Uganda', 'Botswana', 'Zimbabwe', 'Albania', 'Tajikistan', 'Azerbaijan', 'Trinidad and Tobago', 'American Samoa', 'Tunisia', 'Jersey', 'Vanuatu', 'Pakistan', 'Jordan', 'Mauritius', 'Belize', 'Nicaragua', 'Barbados', 'Mozambique', 'Aruba', 'Uzbekistan', 'Nigeria', 'Palestine', 'Namibia', 'Abkhazia', 'Papua New Guinea', 'Armenia', 'Morocco', 'Nepal', 'Burkina Faso', 'Marshall Islands', 'Ascension Island', 'Vatican City', 'Hawaii', 'Algeria', 'Kosovo', 'Laos', 'Monaco', 'Bangladesh', 'Sint Maarten', 'Norfolk Island', 'Ghana', 'Slovakia', 'Saint Helena', 'Dem Rep of Congo', 'San Marino', 'Zambia', 'Iraq', 'Syria', 'Northern Mariana Islands', 'Kazakhstan', 'New Caledonia', 'Fiji Islands', 'Bouvet Island', 'Lesotho', 'Guernsey', 'Svalbard and Jan Mayen Islands', 'Bhutan', 'Ethiopia', 'Haiti', 'Antigua and Barbuda', 'Kyrgyzstan', 'Iran', 'Tokelau', 'Sudan', 'Anguilla', 'Oman', 'Liechtenstein', 'Yemen', 'East Timor', 'Falkland Islands', 'Virgin Islands (British)', 'Nagorno-Karabakh', 'Micronesia', 'Saint Lucia', 'Saint Vincent and The Grenadines', 'Tuvalu', 'Jamaica', 'Macau', 'British Indian Ocean Territory', 'Gibraltar', 'Montserrat', 'Saudi Arabia', 'Senegal', 'North Korea', 'Greenland', 'Mauritania', 'Christmas Island', 'Seychelles', 'Turkmenistan', 'Liberia', 'Togo', 'Solomon Islands', 'Angola', 'Mongolia', 'South Georgia and South Sandwich Islands', 'Equatorial Guinea', 'Burundi', 'Heard and McDonald Islands', 'Ivory Coast', 'Rwanda', 'Cuba', 'Sri Lanka', 'French Guiana', 'Malvinas', 'Tibet']\n"
     ]
    }
   ],
   "source": [
    "USER_NB_THRESHOLD = 50\n",
    "\n",
    "# concatenate the 'location' columns from the 2 user dataframes\n",
    "combined_locations = pd.concat([ba_users_loc_filtered['location'], rb_users_loc_filtered['location']])\n",
    "\n",
    "# get the counts of each unique value in 'location'\n",
    "location_counts = combined_locations.value_counts()\n",
    "\n",
    "# keep only locations with less than 50 counts\n",
    "locations_with_few_counts = location_counts[location_counts < USER_NB_THRESHOLD]\n",
    "\n",
    "# Get the list of location values with less than 50 counts\n",
    "countries_with_few_users = locations_with_few_counts.index.tolist()\n",
    "\n",
    "print(\"Countries with less than 50 users across both DataFrames:\")\n",
    "print(countries_with_few_users)"
   ]
  },
  {
   "cell_type": "markdown",
   "id": "9eabd144-c7ba-49d2-a42c-9aed2968dd5d",
   "metadata": {},
   "source": [
    "Let us determine if filtering out these 113 countries would leave us with enough data, ie with enough countries, to perform our analysis comparing different countries."
   ]
  },
  {
   "cell_type": "code",
   "execution_count": 55,
   "id": "521e4a36",
   "metadata": {},
   "outputs": [
    {
     "name": "stdout",
     "output_type": "stream",
     "text": [
      "Remaining countries after filtering: 55\n"
     ]
    }
   ],
   "source": [
    "print('Remaining countries after filtering:',(len(location_counts)-len(locations_with_few_counts)))"
   ]
  },
  {
   "cell_type": "markdown",
   "id": "9990f583-d21f-4b1d-b92d-7bb1e4ba86b7",
   "metadata": {},
   "source": [
    "Filtering out those countries would leave us with 55 countries, which is enough to perform our analysis."
   ]
  },
  {
   "cell_type": "markdown",
   "id": "ea5cb89f-d753-47b7-92d2-d7600072bde9",
   "metadata": {},
   "source": [
    "Ultimately, we would like to remove reviews from users coming from countries with too few reviewers. \n",
    "To do so, we will start by adding the user location information to review DataFrames. This will facilitate the filtering and analysis."
   ]
  },
  {
   "cell_type": "code",
   "execution_count": 56,
   "id": "ca53a80b",
   "metadata": {},
   "outputs": [
    {
     "data": {
      "text/html": [
       "<div>\n",
       "<style scoped>\n",
       "    .dataframe tbody tr th:only-of-type {\n",
       "        vertical-align: middle;\n",
       "    }\n",
       "\n",
       "    .dataframe tbody tr th {\n",
       "        vertical-align: top;\n",
       "    }\n",
       "\n",
       "    .dataframe thead th {\n",
       "        text-align: right;\n",
       "    }\n",
       "</style>\n",
       "<table border=\"1\" class=\"dataframe\">\n",
       "  <thead>\n",
       "    <tr style=\"text-align: right;\">\n",
       "      <th></th>\n",
       "      <th>beer_name</th>\n",
       "      <th>beer_id</th>\n",
       "      <th>brewery_name</th>\n",
       "      <th>brewery_id</th>\n",
       "      <th>style</th>\n",
       "      <th>abv</th>\n",
       "      <th>date</th>\n",
       "      <th>user_name</th>\n",
       "      <th>user_id</th>\n",
       "      <th>appearance</th>\n",
       "      <th>aroma</th>\n",
       "      <th>palate</th>\n",
       "      <th>taste</th>\n",
       "      <th>overall</th>\n",
       "      <th>rating</th>\n",
       "      <th>user_avg_rating</th>\n",
       "      <th>brewery_avg_rating</th>\n",
       "      <th>style_avg_rating</th>\n",
       "      <th>user_nb_reviews</th>\n",
       "      <th>user_location</th>\n",
       "    </tr>\n",
       "  </thead>\n",
       "  <tbody>\n",
       "    <tr>\n",
       "      <th>0</th>\n",
       "      <td>Régab</td>\n",
       "      <td>142544.0</td>\n",
       "      <td>Societe des Brasseries du Gabon (SOBRAGA)</td>\n",
       "      <td>37262.0</td>\n",
       "      <td>Euro Pale Lager</td>\n",
       "      <td>4.5</td>\n",
       "      <td>2015-08-20 10:00:00</td>\n",
       "      <td>nmann08</td>\n",
       "      <td>nmann08.184925</td>\n",
       "      <td>3.25</td>\n",
       "      <td>2.75</td>\n",
       "      <td>3.25</td>\n",
       "      <td>2.75</td>\n",
       "      <td>3.0</td>\n",
       "      <td>2.88</td>\n",
       "      <td>3.730887</td>\n",
       "      <td>2.880000</td>\n",
       "      <td>2.986608</td>\n",
       "      <td>465.0</td>\n",
       "      <td>United States</td>\n",
       "    </tr>\n",
       "    <tr>\n",
       "      <th>1</th>\n",
       "      <td>Barelegs Brew</td>\n",
       "      <td>19590.0</td>\n",
       "      <td>Strangford Lough Brewing Company Ltd</td>\n",
       "      <td>10093.0</td>\n",
       "      <td>English Pale Ale</td>\n",
       "      <td>4.5</td>\n",
       "      <td>2009-02-20 11:00:00</td>\n",
       "      <td>StJamesGate</td>\n",
       "      <td>stjamesgate.163714</td>\n",
       "      <td>3.00</td>\n",
       "      <td>3.50</td>\n",
       "      <td>3.50</td>\n",
       "      <td>4.00</td>\n",
       "      <td>3.5</td>\n",
       "      <td>3.67</td>\n",
       "      <td>3.885664</td>\n",
       "      <td>3.526513</td>\n",
       "      <td>3.542445</td>\n",
       "      <td>2504.0</td>\n",
       "      <td>United States</td>\n",
       "    </tr>\n",
       "    <tr>\n",
       "      <th>2</th>\n",
       "      <td>Barelegs Brew</td>\n",
       "      <td>19590.0</td>\n",
       "      <td>Strangford Lough Brewing Company Ltd</td>\n",
       "      <td>10093.0</td>\n",
       "      <td>English Pale Ale</td>\n",
       "      <td>4.5</td>\n",
       "      <td>2006-03-13 11:00:00</td>\n",
       "      <td>mdagnew</td>\n",
       "      <td>mdagnew.19527</td>\n",
       "      <td>4.00</td>\n",
       "      <td>3.50</td>\n",
       "      <td>3.50</td>\n",
       "      <td>4.00</td>\n",
       "      <td>3.5</td>\n",
       "      <td>3.73</td>\n",
       "      <td>3.866884</td>\n",
       "      <td>3.526513</td>\n",
       "      <td>3.542445</td>\n",
       "      <td>1143.0</td>\n",
       "      <td>Northern Ireland</td>\n",
       "    </tr>\n",
       "    <tr>\n",
       "      <th>3</th>\n",
       "      <td>Barelegs Brew</td>\n",
       "      <td>19590.0</td>\n",
       "      <td>Strangford Lough Brewing Company Ltd</td>\n",
       "      <td>10093.0</td>\n",
       "      <td>English Pale Ale</td>\n",
       "      <td>4.5</td>\n",
       "      <td>2004-12-01 11:00:00</td>\n",
       "      <td>helloloser12345</td>\n",
       "      <td>helloloser12345.10867</td>\n",
       "      <td>4.00</td>\n",
       "      <td>3.50</td>\n",
       "      <td>4.00</td>\n",
       "      <td>4.00</td>\n",
       "      <td>4.5</td>\n",
       "      <td>3.98</td>\n",
       "      <td>3.563226</td>\n",
       "      <td>3.526513</td>\n",
       "      <td>3.542445</td>\n",
       "      <td>31.0</td>\n",
       "      <td>Northern Ireland</td>\n",
       "    </tr>\n",
       "    <tr>\n",
       "      <th>4</th>\n",
       "      <td>Barelegs Brew</td>\n",
       "      <td>19590.0</td>\n",
       "      <td>Strangford Lough Brewing Company Ltd</td>\n",
       "      <td>10093.0</td>\n",
       "      <td>English Pale Ale</td>\n",
       "      <td>4.5</td>\n",
       "      <td>2004-08-30 10:00:00</td>\n",
       "      <td>cypressbob</td>\n",
       "      <td>cypressbob.3708</td>\n",
       "      <td>4.00</td>\n",
       "      <td>4.00</td>\n",
       "      <td>4.00</td>\n",
       "      <td>4.00</td>\n",
       "      <td>4.0</td>\n",
       "      <td>4.00</td>\n",
       "      <td>3.624354</td>\n",
       "      <td>3.526513</td>\n",
       "      <td>3.542445</td>\n",
       "      <td>604.0</td>\n",
       "      <td>Northern Ireland</td>\n",
       "    </tr>\n",
       "  </tbody>\n",
       "</table>\n",
       "</div>"
      ],
      "text/plain": [
       "       beer_name   beer_id                               brewery_name  \\\n",
       "0          Régab  142544.0  Societe des Brasseries du Gabon (SOBRAGA)   \n",
       "1  Barelegs Brew   19590.0       Strangford Lough Brewing Company Ltd   \n",
       "2  Barelegs Brew   19590.0       Strangford Lough Brewing Company Ltd   \n",
       "3  Barelegs Brew   19590.0       Strangford Lough Brewing Company Ltd   \n",
       "4  Barelegs Brew   19590.0       Strangford Lough Brewing Company Ltd   \n",
       "\n",
       "   brewery_id             style  abv                date        user_name  \\\n",
       "0     37262.0   Euro Pale Lager  4.5 2015-08-20 10:00:00          nmann08   \n",
       "1     10093.0  English Pale Ale  4.5 2009-02-20 11:00:00      StJamesGate   \n",
       "2     10093.0  English Pale Ale  4.5 2006-03-13 11:00:00          mdagnew   \n",
       "3     10093.0  English Pale Ale  4.5 2004-12-01 11:00:00  helloloser12345   \n",
       "4     10093.0  English Pale Ale  4.5 2004-08-30 10:00:00       cypressbob   \n",
       "\n",
       "                 user_id  appearance  aroma  palate  taste  overall  rating  \\\n",
       "0         nmann08.184925        3.25   2.75    3.25   2.75      3.0    2.88   \n",
       "1     stjamesgate.163714        3.00   3.50    3.50   4.00      3.5    3.67   \n",
       "2          mdagnew.19527        4.00   3.50    3.50   4.00      3.5    3.73   \n",
       "3  helloloser12345.10867        4.00   3.50    4.00   4.00      4.5    3.98   \n",
       "4        cypressbob.3708        4.00   4.00    4.00   4.00      4.0    4.00   \n",
       "\n",
       "   user_avg_rating  brewery_avg_rating  style_avg_rating  user_nb_reviews  \\\n",
       "0         3.730887            2.880000          2.986608            465.0   \n",
       "1         3.885664            3.526513          3.542445           2504.0   \n",
       "2         3.866884            3.526513          3.542445           1143.0   \n",
       "3         3.563226            3.526513          3.542445             31.0   \n",
       "4         3.624354            3.526513          3.542445            604.0   \n",
       "\n",
       "      user_location  \n",
       "0     United States  \n",
       "1     United States  \n",
       "2  Northern Ireland  \n",
       "3  Northern Ireland  \n",
       "4  Northern Ireland  "
      ]
     },
     "execution_count": 56,
     "metadata": {},
     "output_type": "execute_result"
    }
   ],
   "source": [
    "# merge rating dataframes with user dataframes on 'user_id' to add the'location' column to rating dataframes as 'user_location'\n",
    "\n",
    "# Beer Advocate\n",
    "ba_ratings_loc_filtered = ba_ratings_loc_filtered.merge(ba_users_loc_filtered[['user_id', 'location']], on='user_id', how='left')\n",
    "ba_ratings_loc_filtered = ba_ratings_loc_filtered.rename(columns={'location': 'user_location'})\n",
    "\n",
    "# Rate Beer\n",
    "rb_ratings_loc_filtered = rb_ratings_loc_filtered.merge(rb_users_loc_filtered[['user_id', 'location']], on='user_id', how='left')\n",
    "rb_ratings_loc_filtered = rb_ratings_loc_filtered.rename(columns={'location': 'user_location'})\n",
    "\n",
    "ba_ratings_loc_filtered.head()"
   ]
  },
  {
   "cell_type": "markdown",
   "id": "ec8f56bd-b59f-4789-ba04-7a78b4a595bb",
   "metadata": {},
   "source": [
    "We now must remove the reviews from users whose location is NaN. Such users correspond to the users lacking a ocation information that have been previously removed from the user dataframes, but which are still present in the review dataframes."
   ]
  },
  {
   "cell_type": "code",
   "execution_count": 57,
   "id": "d47e26af",
   "metadata": {},
   "outputs": [],
   "source": [
    "# remove reviews from users for which the location is NaN\n",
    "ba_ratings_loc_filtered = ba_ratings_loc_filtered.dropna(subset=['user_location'])\n",
    "rb_ratings_loc_filtered = rb_ratings_loc_filtered.dropna(subset=['user_location'])"
   ]
  },
  {
   "cell_type": "markdown",
   "id": "c3f5a327-6d95-45df-afeb-bba0714a45ad",
   "metadata": {},
   "source": [
    "We can now remove reviews from users coming from countries with too few reviewers."
   ]
  },
  {
   "cell_type": "code",
   "execution_count": 58,
   "id": "4a8d2e07",
   "metadata": {},
   "outputs": [],
   "source": [
    "# remove reviews where 'user_location' is in the 'countries_with_few_users' list\n",
    "ba_ratings_loc_filtered = ba_ratings_loc_filtered[~ba_ratings_loc_filtered['user_location'].isin(countries_with_few_users)]\n",
    "rb_ratings_loc_filtered = rb_ratings_loc_filtered[~rb_ratings_loc_filtered['user_location'].isin(countries_with_few_users)]"
   ]
  },
  {
   "cell_type": "markdown",
   "id": "ab930510-7945-4885-893e-58ffa198bbb4",
   "metadata": {},
   "source": [
    "We will now remove users coming from countries with too few reviewers from the user dataframes."
   ]
  },
  {
   "cell_type": "code",
   "execution_count": 59,
   "id": "bd30ba8f",
   "metadata": {},
   "outputs": [],
   "source": [
    "# remove users for which 'location' is in the 'countries_with_few_users' list\n",
    "ba_users_loc_filtered = ba_users_loc_filtered[~ba_users_loc_filtered['location'].isin(countries_with_few_users)]\n",
    "rb_users_loc_filtered = rb_users_loc_filtered[~rb_users_loc_filtered['location'].isin(countries_with_few_users)]"
   ]
  },
  {
   "cell_type": "code",
   "execution_count": 60,
   "id": "511567d4",
   "metadata": {},
   "outputs": [
    {
     "data": {
      "text/html": [
       "<div>\n",
       "<style scoped>\n",
       "    .dataframe tbody tr th:only-of-type {\n",
       "        vertical-align: middle;\n",
       "    }\n",
       "\n",
       "    .dataframe tbody tr th {\n",
       "        vertical-align: top;\n",
       "    }\n",
       "\n",
       "    .dataframe thead th {\n",
       "        text-align: right;\n",
       "    }\n",
       "</style>\n",
       "<table border=\"1\" class=\"dataframe\">\n",
       "  <thead>\n",
       "    <tr style=\"text-align: right;\">\n",
       "      <th></th>\n",
       "      <th>nbr_ratings</th>\n",
       "      <th>nbr_reviews</th>\n",
       "      <th>user_id</th>\n",
       "      <th>user_name</th>\n",
       "      <th>location</th>\n",
       "    </tr>\n",
       "  </thead>\n",
       "  <tbody>\n",
       "    <tr>\n",
       "      <th>0</th>\n",
       "      <td>7820</td>\n",
       "      <td>465</td>\n",
       "      <td>nmann08.184925</td>\n",
       "      <td>nmann08</td>\n",
       "      <td>United States</td>\n",
       "    </tr>\n",
       "    <tr>\n",
       "      <th>1</th>\n",
       "      <td>2521</td>\n",
       "      <td>2504</td>\n",
       "      <td>stjamesgate.163714</td>\n",
       "      <td>StJamesGate</td>\n",
       "      <td>United States</td>\n",
       "    </tr>\n",
       "    <tr>\n",
       "      <th>2</th>\n",
       "      <td>1797</td>\n",
       "      <td>1143</td>\n",
       "      <td>mdagnew.19527</td>\n",
       "      <td>mdagnew</td>\n",
       "      <td>Northern Ireland</td>\n",
       "    </tr>\n",
       "    <tr>\n",
       "      <th>3</th>\n",
       "      <td>31</td>\n",
       "      <td>31</td>\n",
       "      <td>helloloser12345.10867</td>\n",
       "      <td>helloloser12345</td>\n",
       "      <td>Northern Ireland</td>\n",
       "    </tr>\n",
       "    <tr>\n",
       "      <th>4</th>\n",
       "      <td>604</td>\n",
       "      <td>604</td>\n",
       "      <td>cypressbob.3708</td>\n",
       "      <td>cypressbob</td>\n",
       "      <td>Northern Ireland</td>\n",
       "    </tr>\n",
       "  </tbody>\n",
       "</table>\n",
       "</div>"
      ],
      "text/plain": [
       "   nbr_ratings  nbr_reviews                user_id        user_name  \\\n",
       "0         7820          465         nmann08.184925          nmann08   \n",
       "1         2521         2504     stjamesgate.163714      StJamesGate   \n",
       "2         1797         1143          mdagnew.19527          mdagnew   \n",
       "3           31           31  helloloser12345.10867  helloloser12345   \n",
       "4          604          604        cypressbob.3708       cypressbob   \n",
       "\n",
       "           location  \n",
       "0     United States  \n",
       "1     United States  \n",
       "2  Northern Ireland  \n",
       "3  Northern Ireland  \n",
       "4  Northern Ireland  "
      ]
     },
     "execution_count": 60,
     "metadata": {},
     "output_type": "execute_result"
    }
   ],
   "source": [
    "ba_users_loc_filtered.head()"
   ]
  },
  {
   "cell_type": "code",
   "execution_count": 61,
   "id": "5e27062a",
   "metadata": {},
   "outputs": [
    {
     "data": {
      "text/html": [
       "<div>\n",
       "<style scoped>\n",
       "    .dataframe tbody tr th:only-of-type {\n",
       "        vertical-align: middle;\n",
       "    }\n",
       "\n",
       "    .dataframe tbody tr th {\n",
       "        vertical-align: top;\n",
       "    }\n",
       "\n",
       "    .dataframe thead th {\n",
       "        text-align: right;\n",
       "    }\n",
       "</style>\n",
       "<table border=\"1\" class=\"dataframe\">\n",
       "  <thead>\n",
       "    <tr style=\"text-align: right;\">\n",
       "      <th></th>\n",
       "      <th>nbr_ratings</th>\n",
       "      <th>user_id</th>\n",
       "      <th>user_name</th>\n",
       "      <th>location</th>\n",
       "    </tr>\n",
       "  </thead>\n",
       "  <tbody>\n",
       "    <tr>\n",
       "      <th>0</th>\n",
       "      <td>1890</td>\n",
       "      <td>175852</td>\n",
       "      <td>Manslow</td>\n",
       "      <td>Poland</td>\n",
       "    </tr>\n",
       "    <tr>\n",
       "      <th>1</th>\n",
       "      <td>89</td>\n",
       "      <td>442761</td>\n",
       "      <td>MAGICuenca91</td>\n",
       "      <td>Spain</td>\n",
       "    </tr>\n",
       "    <tr>\n",
       "      <th>2</th>\n",
       "      <td>169</td>\n",
       "      <td>288889</td>\n",
       "      <td>Sibarh</td>\n",
       "      <td>Poland</td>\n",
       "    </tr>\n",
       "    <tr>\n",
       "      <th>3</th>\n",
       "      <td>3371</td>\n",
       "      <td>250510</td>\n",
       "      <td>fombe89</td>\n",
       "      <td>Spain</td>\n",
       "    </tr>\n",
       "    <tr>\n",
       "      <th>4</th>\n",
       "      <td>13043</td>\n",
       "      <td>122778</td>\n",
       "      <td>kevnic2008</td>\n",
       "      <td>Germany</td>\n",
       "    </tr>\n",
       "  </tbody>\n",
       "</table>\n",
       "</div>"
      ],
      "text/plain": [
       "   nbr_ratings  user_id     user_name location\n",
       "0         1890   175852       Manslow   Poland\n",
       "1           89   442761  MAGICuenca91    Spain\n",
       "2          169   288889        Sibarh   Poland\n",
       "3         3371   250510       fombe89    Spain\n",
       "4        13043   122778    kevnic2008  Germany"
      ]
     },
     "execution_count": 61,
     "metadata": {},
     "output_type": "execute_result"
    }
   ],
   "source": [
    "rb_users_loc_filtered.head()"
   ]
  },
  {
   "cell_type": "markdown",
   "id": "bc11e9f4-0da9-41f3-add7-bf3e40a4911b",
   "metadata": {},
   "source": [
    "## Adding brewery location information to filtered review DataFrames"
   ]
  },
  {
   "cell_type": "markdown",
   "id": "2ec53025-0060-447e-9e88-be5e1fbbaa29",
   "metadata": {},
   "source": [
    "Finally, to facilitate our analysis, we will add the brewery location information for each beer reviewed in the review dataframes. "
   ]
  },
  {
   "cell_type": "code",
   "execution_count": 62,
   "id": "91bf9ba2",
   "metadata": {},
   "outputs": [],
   "source": [
    "ba_breweries_loc_filtered = ba_breweries.copy()\n",
    "rb_breweries_loc_filtered = rb_breweries.copy()"
   ]
  },
  {
   "cell_type": "code",
   "execution_count": 63,
   "id": "c7e8c352",
   "metadata": {
    "scrolled": true
   },
   "outputs": [
    {
     "data": {
      "text/html": [
       "<div>\n",
       "<style scoped>\n",
       "    .dataframe tbody tr th:only-of-type {\n",
       "        vertical-align: middle;\n",
       "    }\n",
       "\n",
       "    .dataframe tbody tr th {\n",
       "        vertical-align: top;\n",
       "    }\n",
       "\n",
       "    .dataframe thead th {\n",
       "        text-align: right;\n",
       "    }\n",
       "</style>\n",
       "<table border=\"1\" class=\"dataframe\">\n",
       "  <thead>\n",
       "    <tr style=\"text-align: right;\">\n",
       "      <th></th>\n",
       "      <th>beer_name</th>\n",
       "      <th>beer_id</th>\n",
       "      <th>brewery_name</th>\n",
       "      <th>brewery_id</th>\n",
       "      <th>style</th>\n",
       "      <th>abv</th>\n",
       "      <th>date</th>\n",
       "      <th>user_name</th>\n",
       "      <th>user_id</th>\n",
       "      <th>appearance</th>\n",
       "      <th>...</th>\n",
       "      <th>palate</th>\n",
       "      <th>taste</th>\n",
       "      <th>overall</th>\n",
       "      <th>rating</th>\n",
       "      <th>user_avg_rating</th>\n",
       "      <th>brewery_avg_rating</th>\n",
       "      <th>style_avg_rating</th>\n",
       "      <th>user_nb_reviews</th>\n",
       "      <th>user_location</th>\n",
       "      <th>brewery_location</th>\n",
       "    </tr>\n",
       "  </thead>\n",
       "  <tbody>\n",
       "    <tr>\n",
       "      <th>0</th>\n",
       "      <td>Régab</td>\n",
       "      <td>142544.0</td>\n",
       "      <td>Societe des Brasseries du Gabon (SOBRAGA)</td>\n",
       "      <td>37262.0</td>\n",
       "      <td>Euro Pale Lager</td>\n",
       "      <td>4.5</td>\n",
       "      <td>2015-08-20 10:00:00</td>\n",
       "      <td>nmann08</td>\n",
       "      <td>nmann08.184925</td>\n",
       "      <td>3.25</td>\n",
       "      <td>...</td>\n",
       "      <td>3.25</td>\n",
       "      <td>2.75</td>\n",
       "      <td>3.0</td>\n",
       "      <td>2.88</td>\n",
       "      <td>3.730887</td>\n",
       "      <td>2.880000</td>\n",
       "      <td>2.986608</td>\n",
       "      <td>465.0</td>\n",
       "      <td>United States</td>\n",
       "      <td>Gabon</td>\n",
       "    </tr>\n",
       "    <tr>\n",
       "      <th>1</th>\n",
       "      <td>Barelegs Brew</td>\n",
       "      <td>19590.0</td>\n",
       "      <td>Strangford Lough Brewing Company Ltd</td>\n",
       "      <td>10093.0</td>\n",
       "      <td>English Pale Ale</td>\n",
       "      <td>4.5</td>\n",
       "      <td>2009-02-20 11:00:00</td>\n",
       "      <td>StJamesGate</td>\n",
       "      <td>stjamesgate.163714</td>\n",
       "      <td>3.00</td>\n",
       "      <td>...</td>\n",
       "      <td>3.50</td>\n",
       "      <td>4.00</td>\n",
       "      <td>3.5</td>\n",
       "      <td>3.67</td>\n",
       "      <td>3.885664</td>\n",
       "      <td>3.526513</td>\n",
       "      <td>3.542445</td>\n",
       "      <td>2504.0</td>\n",
       "      <td>United States</td>\n",
       "      <td>Northern Ireland</td>\n",
       "    </tr>\n",
       "    <tr>\n",
       "      <th>2</th>\n",
       "      <td>Barelegs Brew</td>\n",
       "      <td>19590.0</td>\n",
       "      <td>Strangford Lough Brewing Company Ltd</td>\n",
       "      <td>10093.0</td>\n",
       "      <td>English Pale Ale</td>\n",
       "      <td>4.5</td>\n",
       "      <td>2006-03-13 11:00:00</td>\n",
       "      <td>mdagnew</td>\n",
       "      <td>mdagnew.19527</td>\n",
       "      <td>4.00</td>\n",
       "      <td>...</td>\n",
       "      <td>3.50</td>\n",
       "      <td>4.00</td>\n",
       "      <td>3.5</td>\n",
       "      <td>3.73</td>\n",
       "      <td>3.866884</td>\n",
       "      <td>3.526513</td>\n",
       "      <td>3.542445</td>\n",
       "      <td>1143.0</td>\n",
       "      <td>Northern Ireland</td>\n",
       "      <td>Northern Ireland</td>\n",
       "    </tr>\n",
       "    <tr>\n",
       "      <th>3</th>\n",
       "      <td>Barelegs Brew</td>\n",
       "      <td>19590.0</td>\n",
       "      <td>Strangford Lough Brewing Company Ltd</td>\n",
       "      <td>10093.0</td>\n",
       "      <td>English Pale Ale</td>\n",
       "      <td>4.5</td>\n",
       "      <td>2004-12-01 11:00:00</td>\n",
       "      <td>helloloser12345</td>\n",
       "      <td>helloloser12345.10867</td>\n",
       "      <td>4.00</td>\n",
       "      <td>...</td>\n",
       "      <td>4.00</td>\n",
       "      <td>4.00</td>\n",
       "      <td>4.5</td>\n",
       "      <td>3.98</td>\n",
       "      <td>3.563226</td>\n",
       "      <td>3.526513</td>\n",
       "      <td>3.542445</td>\n",
       "      <td>31.0</td>\n",
       "      <td>Northern Ireland</td>\n",
       "      <td>Northern Ireland</td>\n",
       "    </tr>\n",
       "    <tr>\n",
       "      <th>4</th>\n",
       "      <td>Barelegs Brew</td>\n",
       "      <td>19590.0</td>\n",
       "      <td>Strangford Lough Brewing Company Ltd</td>\n",
       "      <td>10093.0</td>\n",
       "      <td>English Pale Ale</td>\n",
       "      <td>4.5</td>\n",
       "      <td>2004-08-30 10:00:00</td>\n",
       "      <td>cypressbob</td>\n",
       "      <td>cypressbob.3708</td>\n",
       "      <td>4.00</td>\n",
       "      <td>...</td>\n",
       "      <td>4.00</td>\n",
       "      <td>4.00</td>\n",
       "      <td>4.0</td>\n",
       "      <td>4.00</td>\n",
       "      <td>3.624354</td>\n",
       "      <td>3.526513</td>\n",
       "      <td>3.542445</td>\n",
       "      <td>604.0</td>\n",
       "      <td>Northern Ireland</td>\n",
       "      <td>Northern Ireland</td>\n",
       "    </tr>\n",
       "  </tbody>\n",
       "</table>\n",
       "<p>5 rows × 21 columns</p>\n",
       "</div>"
      ],
      "text/plain": [
       "       beer_name   beer_id                               brewery_name  \\\n",
       "0          Régab  142544.0  Societe des Brasseries du Gabon (SOBRAGA)   \n",
       "1  Barelegs Brew   19590.0       Strangford Lough Brewing Company Ltd   \n",
       "2  Barelegs Brew   19590.0       Strangford Lough Brewing Company Ltd   \n",
       "3  Barelegs Brew   19590.0       Strangford Lough Brewing Company Ltd   \n",
       "4  Barelegs Brew   19590.0       Strangford Lough Brewing Company Ltd   \n",
       "\n",
       "   brewery_id             style  abv                date        user_name  \\\n",
       "0     37262.0   Euro Pale Lager  4.5 2015-08-20 10:00:00          nmann08   \n",
       "1     10093.0  English Pale Ale  4.5 2009-02-20 11:00:00      StJamesGate   \n",
       "2     10093.0  English Pale Ale  4.5 2006-03-13 11:00:00          mdagnew   \n",
       "3     10093.0  English Pale Ale  4.5 2004-12-01 11:00:00  helloloser12345   \n",
       "4     10093.0  English Pale Ale  4.5 2004-08-30 10:00:00       cypressbob   \n",
       "\n",
       "                 user_id  appearance  ...  palate  taste  overall  rating  \\\n",
       "0         nmann08.184925        3.25  ...    3.25   2.75      3.0    2.88   \n",
       "1     stjamesgate.163714        3.00  ...    3.50   4.00      3.5    3.67   \n",
       "2          mdagnew.19527        4.00  ...    3.50   4.00      3.5    3.73   \n",
       "3  helloloser12345.10867        4.00  ...    4.00   4.00      4.5    3.98   \n",
       "4        cypressbob.3708        4.00  ...    4.00   4.00      4.0    4.00   \n",
       "\n",
       "   user_avg_rating  brewery_avg_rating  style_avg_rating  user_nb_reviews  \\\n",
       "0         3.730887            2.880000          2.986608            465.0   \n",
       "1         3.885664            3.526513          3.542445           2504.0   \n",
       "2         3.866884            3.526513          3.542445           1143.0   \n",
       "3         3.563226            3.526513          3.542445             31.0   \n",
       "4         3.624354            3.526513          3.542445            604.0   \n",
       "\n",
       "      user_location  brewery_location  \n",
       "0     United States             Gabon  \n",
       "1     United States  Northern Ireland  \n",
       "2  Northern Ireland  Northern Ireland  \n",
       "3  Northern Ireland  Northern Ireland  \n",
       "4  Northern Ireland  Northern Ireland  \n",
       "\n",
       "[5 rows x 21 columns]"
      ]
     },
     "execution_count": 63,
     "metadata": {},
     "output_type": "execute_result"
    }
   ],
   "source": [
    "# rename 'id' column to 'brewerie_id' column in brewery dataframes to facilitate merging with rating dataframes\n",
    "ba_breweries_loc_filtered = ba_breweries_loc_filtered.rename(columns={'id': 'brewery_id'})\n",
    "rb_breweries_loc_filtered = rb_breweries_loc_filtered.rename(columns={'id': 'brewery_id'})\n",
    "\n",
    "# merge rating dataframes with brewery dataframes on 'brewery_id' to add the'location' column to rating dataframes as 'brewerie_location'\n",
    "\n",
    "# Beer Advocate\n",
    "ba_ratings_loc_filtered = ba_ratings_loc_filtered.merge(ba_breweries_loc_filtered[['brewery_id', 'location']], on='brewery_id', how='left')\n",
    "ba_ratings_loc_filtered = ba_ratings_loc_filtered.rename(columns={'location': 'brewery_location'})\n",
    "\n",
    "# Rate Beer\n",
    "rb_ratings_loc_filtered = rb_ratings_loc_filtered.merge(rb_breweries_loc_filtered[['brewery_id', 'location']], on='brewery_id', how='left')\n",
    "rb_ratings_loc_filtered = rb_ratings_loc_filtered.rename(columns={'location': 'brewery_location'})\n",
    "\n",
    "ba_ratings_loc_filtered.head()"
   ]
  }
 ],
 "metadata": {
  "kernelspec": {
   "display_name": "Python 3 (ipykernel)",
   "language": "python",
   "name": "python3"
  },
  "language_info": {
   "codemirror_mode": {
    "name": "ipython",
    "version": 3
   },
   "file_extension": ".py",
   "mimetype": "text/x-python",
   "name": "python",
   "nbconvert_exporter": "python",
   "pygments_lexer": "ipython3",
   "version": "3.11.9"
  }
 },
 "nbformat": 4,
 "nbformat_minor": 5
}
