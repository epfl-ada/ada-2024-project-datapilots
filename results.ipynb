{
 "cells": [
  {
   "cell_type": "markdown",
   "id": "d3a731f1-24db-4ba4-b628-5d09cc3adc73",
   "metadata": {},
   "source": [
    "# Modules"
   ]
  },
  {
   "cell_type": "code",
   "execution_count": 1,
   "id": "817aa5ec-0095-41bb-b9d0-2050c0a947ff",
   "metadata": {},
   "outputs": [],
   "source": [
    "import pandas as pd\n",
    "import numpy as np\n",
    "from matplotlib import pyplot as plt\n",
    "from datetime import datetime, date, time\n",
    "import seaborn as sns\n",
    "from scipy import stats\n",
    "import scipy.stats as st\n",
    "import glob"
   ]
  },
  {
   "cell_type": "markdown",
   "id": "0d1b97c3-e90e-4a37-8667-e050f93563d3",
   "metadata": {},
   "source": [
    "# Dataset"
   ]
  },
  {
   "cell_type": "markdown",
   "id": "fe4147ef-94f7-4a75-a554-e1c15c82bb40",
   "metadata": {},
   "source": [
    "The dataset used in this analysis consists of beer reviews from two beer rating websites,**BeerAdvocate** and **RateBeer**, for a period ranging from 2001 to 2017. For each website, we have 5 files:\n",
    "- users.csv: metadata about reviewers\n",
    "- beers.csv : metadata about reviewed beers\n",
    "- breweries.csv : metadata about breweries\n",
    "- ratings.txt : all reviews given by users, including numerical ratings and sometimes textual reviews\n",
    "- reviews.txt : only reviews given by users that include both numerical ratings and textual reviews\n",
    "\n",
    "In our analysis, we will not use textual reviews. Thus, we will only use ratings.txt files and not reviews.txt files, as we will use all reviews, whether or not they include textual reviews."
   ]
  },
  {
   "cell_type": "markdown",
   "id": "409aefca-a83b-4b8e-9093-30e0eb8d4053",
   "metadata": {},
   "source": [
    "### Load data into Dataframes"
   ]
  },
  {
   "cell_type": "markdown",
   "id": "3b16dd61-703d-4448-b0c3-137c4d554928",
   "metadata": {},
   "source": [
    "The .csv files are not too large and can efficiently be loaded into DataFrames."
   ]
  },
  {
   "cell_type": "code",
   "execution_count": 2,
   "id": "326a7c11-1c12-42ad-aba0-c3e374a48646",
   "metadata": {},
   "outputs": [],
   "source": [
    "BA_DATA_FOLDER = 'data/BeerAdvocate/'\n",
    "RB_DATA_FOLDER = 'data/RateBeer/'\n",
    "\n",
    "BA_USERS = BA_DATA_FOLDER+\"users.csv\"\n",
    "BA_BEERS = BA_DATA_FOLDER+\"beers.csv\"\n",
    "BA_BREWERIES = BA_DATA_FOLDER+\"breweries.csv\"\n",
    "\n",
    "RB_USERS = RB_DATA_FOLDER+\"users.csv\"\n",
    "RB_BEERS = RB_DATA_FOLDER+\"users.csv\"\n",
    "RB_BREWERIES = RB_DATA_FOLDER+\"users.csv\""
   ]
  },
  {
   "cell_type": "code",
   "execution_count": 3,
   "id": "3933ff6e-e76e-4e92-bd2b-bfa8ba49722b",
   "metadata": {},
   "outputs": [],
   "source": [
    "ba_users = pd.read_csv(BA_USERS)\n",
    "ba_beers = pd.read_csv(BA_BEERS)\n",
    "ba_breweries = pd.read_csv(BA_BREWERIES)\n",
    "\n",
    "rb_users = pd.read_csv(RB_USERS)\n",
    "rb_beers = pd.read_csv(RB_BEERS)\n",
    "rb_breweries = pd.read_csv(RB_BREWERIES)"
   ]
  },
  {
   "cell_type": "markdown",
   "id": "ffa18e39-98c3-4cce-a093-793f2e770bba",
   "metadata": {},
   "source": [
    "On the other hand, the ratings.txt files are extremely large, and trying to load them directly into DataFrames leads to kernel freezes. In order to circumvent this problem, we wrote a script (review_parser.py, located in src/scripts), which processes each rating file by dividing it into parts, parsing each part, and saving as JSON. In the notebook, we then load the different JSON files into DataFrames, that we concatenate. Dividing the large .txt files into smaller JSON chunks and then loading each chunk separately, avoids trying to load the entire file into memory at once, which can cause kernel freezes due to memory overload. In addition, JSON is a format that pandas can read efficiently."
   ]
  },
  {
   "cell_type": "code",
   "execution_count": 5,
   "id": "3cdbc2d8-b8e4-48d9-bf4b-bf6a6a696147",
   "metadata": {},
   "outputs": [
    {
     "name": "stderr",
     "output_type": "stream",
     "text": [
      "C:\\Users\\athea\\AppData\\Local\\Temp\\ipykernel_23824\\3299018877.py:3: FutureWarning: The behavior of 'to_datetime' with 'unit' when parsing strings is deprecated. In a future version, strings will be parsed as datetime strings, matching the behavior without a 'unit'. To retain the old behavior, explicitly cast ints or floats to numeric type before calling to_datetime.\n",
      "  ba_df_list = [pd.read_json(file) for file in ba_json_files]\n",
      "C:\\Users\\athea\\AppData\\Local\\Temp\\ipykernel_23824\\3299018877.py:3: FutureWarning: The behavior of 'to_datetime' with 'unit' when parsing strings is deprecated. In a future version, strings will be parsed as datetime strings, matching the behavior without a 'unit'. To retain the old behavior, explicitly cast ints or floats to numeric type before calling to_datetime.\n",
      "  ba_df_list = [pd.read_json(file) for file in ba_json_files]\n"
     ]
    },
    {
     "data": {
      "text/html": [
       "<div>\n",
       "<style scoped>\n",
       "    .dataframe tbody tr th:only-of-type {\n",
       "        vertical-align: middle;\n",
       "    }\n",
       "\n",
       "    .dataframe tbody tr th {\n",
       "        vertical-align: top;\n",
       "    }\n",
       "\n",
       "    .dataframe thead th {\n",
       "        text-align: right;\n",
       "    }\n",
       "</style>\n",
       "<table border=\"1\" class=\"dataframe\">\n",
       "  <thead>\n",
       "    <tr style=\"text-align: right;\">\n",
       "      <th></th>\n",
       "      <th>beer_name</th>\n",
       "      <th>beer_id</th>\n",
       "      <th>brewery_name</th>\n",
       "      <th>brewery_id</th>\n",
       "      <th>style</th>\n",
       "      <th>abv</th>\n",
       "      <th>date</th>\n",
       "      <th>user_name</th>\n",
       "      <th>user_id</th>\n",
       "      <th>appearance</th>\n",
       "      <th>aroma</th>\n",
       "      <th>palate</th>\n",
       "      <th>taste</th>\n",
       "      <th>overall</th>\n",
       "      <th>rating</th>\n",
       "    </tr>\n",
       "  </thead>\n",
       "  <tbody>\n",
       "    <tr>\n",
       "      <th>0</th>\n",
       "      <td>Régab</td>\n",
       "      <td>142544.0</td>\n",
       "      <td>Societe des Brasseries du Gabon (SOBRAGA)</td>\n",
       "      <td>37262.0</td>\n",
       "      <td>Euro Pale Lager</td>\n",
       "      <td>4.5</td>\n",
       "      <td>2015-08-20 10:00:00</td>\n",
       "      <td>nmann08</td>\n",
       "      <td>nmann08.184925</td>\n",
       "      <td>3.25</td>\n",
       "      <td>2.75</td>\n",
       "      <td>3.25</td>\n",
       "      <td>2.75</td>\n",
       "      <td>3.0</td>\n",
       "      <td>2.88</td>\n",
       "    </tr>\n",
       "    <tr>\n",
       "      <th>1</th>\n",
       "      <td>Barelegs Brew</td>\n",
       "      <td>19590.0</td>\n",
       "      <td>Strangford Lough Brewing Company Ltd</td>\n",
       "      <td>10093.0</td>\n",
       "      <td>English Pale Ale</td>\n",
       "      <td>4.5</td>\n",
       "      <td>2009-02-20 11:00:00</td>\n",
       "      <td>StJamesGate</td>\n",
       "      <td>stjamesgate.163714</td>\n",
       "      <td>3.00</td>\n",
       "      <td>3.50</td>\n",
       "      <td>3.50</td>\n",
       "      <td>4.00</td>\n",
       "      <td>3.5</td>\n",
       "      <td>3.67</td>\n",
       "    </tr>\n",
       "    <tr>\n",
       "      <th>2</th>\n",
       "      <td>Barelegs Brew</td>\n",
       "      <td>19590.0</td>\n",
       "      <td>Strangford Lough Brewing Company Ltd</td>\n",
       "      <td>10093.0</td>\n",
       "      <td>English Pale Ale</td>\n",
       "      <td>4.5</td>\n",
       "      <td>2006-03-13 11:00:00</td>\n",
       "      <td>mdagnew</td>\n",
       "      <td>mdagnew.19527</td>\n",
       "      <td>4.00</td>\n",
       "      <td>3.50</td>\n",
       "      <td>3.50</td>\n",
       "      <td>4.00</td>\n",
       "      <td>3.5</td>\n",
       "      <td>3.73</td>\n",
       "    </tr>\n",
       "    <tr>\n",
       "      <th>3</th>\n",
       "      <td>Barelegs Brew</td>\n",
       "      <td>19590.0</td>\n",
       "      <td>Strangford Lough Brewing Company Ltd</td>\n",
       "      <td>10093.0</td>\n",
       "      <td>English Pale Ale</td>\n",
       "      <td>4.5</td>\n",
       "      <td>2004-12-01 11:00:00</td>\n",
       "      <td>helloloser12345</td>\n",
       "      <td>helloloser12345.10867</td>\n",
       "      <td>4.00</td>\n",
       "      <td>3.50</td>\n",
       "      <td>4.00</td>\n",
       "      <td>4.00</td>\n",
       "      <td>4.5</td>\n",
       "      <td>3.98</td>\n",
       "    </tr>\n",
       "    <tr>\n",
       "      <th>4</th>\n",
       "      <td>Barelegs Brew</td>\n",
       "      <td>19590.0</td>\n",
       "      <td>Strangford Lough Brewing Company Ltd</td>\n",
       "      <td>10093.0</td>\n",
       "      <td>English Pale Ale</td>\n",
       "      <td>4.5</td>\n",
       "      <td>2004-08-30 10:00:00</td>\n",
       "      <td>cypressbob</td>\n",
       "      <td>cypressbob.3708</td>\n",
       "      <td>4.00</td>\n",
       "      <td>4.00</td>\n",
       "      <td>4.00</td>\n",
       "      <td>4.00</td>\n",
       "      <td>4.0</td>\n",
       "      <td>4.00</td>\n",
       "    </tr>\n",
       "  </tbody>\n",
       "</table>\n",
       "</div>"
      ],
      "text/plain": [
       "       beer_name   beer_id                               brewery_name  \\\n",
       "0          Régab  142544.0  Societe des Brasseries du Gabon (SOBRAGA)   \n",
       "1  Barelegs Brew   19590.0       Strangford Lough Brewing Company Ltd   \n",
       "2  Barelegs Brew   19590.0       Strangford Lough Brewing Company Ltd   \n",
       "3  Barelegs Brew   19590.0       Strangford Lough Brewing Company Ltd   \n",
       "4  Barelegs Brew   19590.0       Strangford Lough Brewing Company Ltd   \n",
       "\n",
       "   brewery_id             style  abv                date        user_name  \\\n",
       "0     37262.0   Euro Pale Lager  4.5 2015-08-20 10:00:00          nmann08   \n",
       "1     10093.0  English Pale Ale  4.5 2009-02-20 11:00:00      StJamesGate   \n",
       "2     10093.0  English Pale Ale  4.5 2006-03-13 11:00:00          mdagnew   \n",
       "3     10093.0  English Pale Ale  4.5 2004-12-01 11:00:00  helloloser12345   \n",
       "4     10093.0  English Pale Ale  4.5 2004-08-30 10:00:00       cypressbob   \n",
       "\n",
       "                 user_id  appearance  aroma  palate  taste  overall  rating  \n",
       "0         nmann08.184925        3.25   2.75    3.25   2.75      3.0    2.88  \n",
       "1     stjamesgate.163714        3.00   3.50    3.50   4.00      3.5    3.67  \n",
       "2          mdagnew.19527        4.00   3.50    3.50   4.00      3.5    3.73  \n",
       "3  helloloser12345.10867        4.00   3.50    4.00   4.00      4.5    3.98  \n",
       "4        cypressbob.3708        4.00   4.00    4.00   4.00      4.0    4.00  "
      ]
     },
     "execution_count": 5,
     "metadata": {},
     "output_type": "execute_result"
    }
   ],
   "source": [
    "# Load BeerAdvocate ratings stored in json files into a single DataFrame\n",
    "ba_json_files = glob.glob(BA_DATA_FOLDER+'*.json')\n",
    "ba_df_list = [pd.read_json(file) for file in ba_json_files]\n",
    "ba_ratings = pd.concat(ba_df_list, ignore_index=True)\n",
    "ba_ratings.head()"
   ]
  },
  {
   "cell_type": "code",
   "execution_count": 8,
   "id": "fb11f725-802b-4adb-b7b3-0485722a279b",
   "metadata": {},
   "outputs": [
    {
     "name": "stderr",
     "output_type": "stream",
     "text": [
      "C:\\Users\\athea\\AppData\\Local\\Temp\\ipykernel_23824\\180671459.py:3: FutureWarning: The behavior of 'to_datetime' with 'unit' when parsing strings is deprecated. In a future version, strings will be parsed as datetime strings, matching the behavior without a 'unit'. To retain the old behavior, explicitly cast ints or floats to numeric type before calling to_datetime.\n",
      "  rb_df_list = [pd.read_json(file) for file in rb_json_files]\n",
      "C:\\Users\\athea\\AppData\\Local\\Temp\\ipykernel_23824\\180671459.py:3: FutureWarning: The behavior of 'to_datetime' with 'unit' when parsing strings is deprecated. In a future version, strings will be parsed as datetime strings, matching the behavior without a 'unit'. To retain the old behavior, explicitly cast ints or floats to numeric type before calling to_datetime.\n",
      "  rb_df_list = [pd.read_json(file) for file in rb_json_files]\n"
     ]
    },
    {
     "data": {
      "text/html": [
       "<div>\n",
       "<style scoped>\n",
       "    .dataframe tbody tr th:only-of-type {\n",
       "        vertical-align: middle;\n",
       "    }\n",
       "\n",
       "    .dataframe tbody tr th {\n",
       "        vertical-align: top;\n",
       "    }\n",
       "\n",
       "    .dataframe thead th {\n",
       "        text-align: right;\n",
       "    }\n",
       "</style>\n",
       "<table border=\"1\" class=\"dataframe\">\n",
       "  <thead>\n",
       "    <tr style=\"text-align: right;\">\n",
       "      <th></th>\n",
       "      <th>beer_name</th>\n",
       "      <th>beer_id</th>\n",
       "      <th>brewery_name</th>\n",
       "      <th>brewery_id</th>\n",
       "      <th>style</th>\n",
       "      <th>abv</th>\n",
       "      <th>date</th>\n",
       "      <th>user_name</th>\n",
       "      <th>user_id</th>\n",
       "      <th>appearance</th>\n",
       "      <th>aroma</th>\n",
       "      <th>palate</th>\n",
       "      <th>taste</th>\n",
       "      <th>overall</th>\n",
       "      <th>rating</th>\n",
       "    </tr>\n",
       "  </thead>\n",
       "  <tbody>\n",
       "    <tr>\n",
       "      <th>0</th>\n",
       "      <td>33 Export (Gabon)</td>\n",
       "      <td>410549.0</td>\n",
       "      <td>Sobraga</td>\n",
       "      <td>3198.0</td>\n",
       "      <td>Pale Lager</td>\n",
       "      <td>5.0</td>\n",
       "      <td>2016-04-26 10:00:00</td>\n",
       "      <td>Manslow</td>\n",
       "      <td>175852.0</td>\n",
       "      <td>2.0</td>\n",
       "      <td>4.0</td>\n",
       "      <td>2.0</td>\n",
       "      <td>4.0</td>\n",
       "      <td>8.0</td>\n",
       "      <td>2.0</td>\n",
       "    </tr>\n",
       "    <tr>\n",
       "      <th>1</th>\n",
       "      <td>Castel Beer (Gabon)</td>\n",
       "      <td>105273.0</td>\n",
       "      <td>Sobraga</td>\n",
       "      <td>3198.0</td>\n",
       "      <td>Pale Lager</td>\n",
       "      <td>5.2</td>\n",
       "      <td>2017-02-17 11:00:00</td>\n",
       "      <td>MAGICuenca91</td>\n",
       "      <td>442761.0</td>\n",
       "      <td>2.0</td>\n",
       "      <td>3.0</td>\n",
       "      <td>2.0</td>\n",
       "      <td>4.0</td>\n",
       "      <td>8.0</td>\n",
       "      <td>1.9</td>\n",
       "    </tr>\n",
       "    <tr>\n",
       "      <th>2</th>\n",
       "      <td>Castel Beer (Gabon)</td>\n",
       "      <td>105273.0</td>\n",
       "      <td>Sobraga</td>\n",
       "      <td>3198.0</td>\n",
       "      <td>Pale Lager</td>\n",
       "      <td>5.2</td>\n",
       "      <td>2016-06-24 10:00:00</td>\n",
       "      <td>Sibarh</td>\n",
       "      <td>288889.0</td>\n",
       "      <td>3.0</td>\n",
       "      <td>3.0</td>\n",
       "      <td>2.0</td>\n",
       "      <td>3.0</td>\n",
       "      <td>5.0</td>\n",
       "      <td>1.6</td>\n",
       "    </tr>\n",
       "    <tr>\n",
       "      <th>3</th>\n",
       "      <td>Castel Beer (Gabon)</td>\n",
       "      <td>105273.0</td>\n",
       "      <td>Sobraga</td>\n",
       "      <td>3198.0</td>\n",
       "      <td>Pale Lager</td>\n",
       "      <td>5.2</td>\n",
       "      <td>2016-01-01 11:00:00</td>\n",
       "      <td>fombe89</td>\n",
       "      <td>250510.0</td>\n",
       "      <td>4.0</td>\n",
       "      <td>3.0</td>\n",
       "      <td>1.0</td>\n",
       "      <td>2.0</td>\n",
       "      <td>5.0</td>\n",
       "      <td>1.5</td>\n",
       "    </tr>\n",
       "    <tr>\n",
       "      <th>4</th>\n",
       "      <td>Castel Beer (Gabon)</td>\n",
       "      <td>105273.0</td>\n",
       "      <td>Sobraga</td>\n",
       "      <td>3198.0</td>\n",
       "      <td>Pale Lager</td>\n",
       "      <td>5.2</td>\n",
       "      <td>2015-10-23 10:00:00</td>\n",
       "      <td>kevnic2008</td>\n",
       "      <td>122778.0</td>\n",
       "      <td>2.0</td>\n",
       "      <td>4.0</td>\n",
       "      <td>2.0</td>\n",
       "      <td>4.0</td>\n",
       "      <td>7.0</td>\n",
       "      <td>1.9</td>\n",
       "    </tr>\n",
       "  </tbody>\n",
       "</table>\n",
       "</div>"
      ],
      "text/plain": [
       "             beer_name   beer_id brewery_name  brewery_id       style  abv  \\\n",
       "0    33 Export (Gabon)  410549.0      Sobraga      3198.0  Pale Lager  5.0   \n",
       "1  Castel Beer (Gabon)  105273.0      Sobraga      3198.0  Pale Lager  5.2   \n",
       "2  Castel Beer (Gabon)  105273.0      Sobraga      3198.0  Pale Lager  5.2   \n",
       "3  Castel Beer (Gabon)  105273.0      Sobraga      3198.0  Pale Lager  5.2   \n",
       "4  Castel Beer (Gabon)  105273.0      Sobraga      3198.0  Pale Lager  5.2   \n",
       "\n",
       "                 date     user_name   user_id  appearance  aroma  palate  \\\n",
       "0 2016-04-26 10:00:00       Manslow  175852.0         2.0    4.0     2.0   \n",
       "1 2017-02-17 11:00:00  MAGICuenca91  442761.0         2.0    3.0     2.0   \n",
       "2 2016-06-24 10:00:00        Sibarh  288889.0         3.0    3.0     2.0   \n",
       "3 2016-01-01 11:00:00       fombe89  250510.0         4.0    3.0     1.0   \n",
       "4 2015-10-23 10:00:00    kevnic2008  122778.0         2.0    4.0     2.0   \n",
       "\n",
       "   taste  overall  rating  \n",
       "0    4.0      8.0     2.0  \n",
       "1    4.0      8.0     1.9  \n",
       "2    3.0      5.0     1.6  \n",
       "3    2.0      5.0     1.5  \n",
       "4    4.0      7.0     1.9  "
      ]
     },
     "execution_count": 8,
     "metadata": {},
     "output_type": "execute_result"
    }
   ],
   "source": [
    "# Load RateBeer ratings stored in json files into a single DataFrame\n",
    "rb_json_files = glob.glob(RB_DATA_FOLDER+'*.json')\n",
    "rb_df_list = [pd.read_json(file) for file in rb_json_files]\n",
    "rb_ratings = pd.concat(rb_df_list, ignore_index=True)\n",
    "rb_ratings.head()"
   ]
  },
  {
   "cell_type": "markdown",
   "id": "12805ef7-35b6-4379-ac9a-159ba5ff5fd7",
   "metadata": {},
   "source": [
    "### First look at the data\n",
    "\n",
    "We will now examine the different DataFrames in more detail."
   ]
  },
  {
   "cell_type": "code",
   "execution_count": 6,
   "id": "efc6e5ad-e6b4-4afa-a3bf-4b254ffd491c",
   "metadata": {},
   "outputs": [],
   "source": [
    "# explain the columns of users, beers, breweries and ratings DataFrames"
   ]
  },
  {
   "cell_type": "code",
   "execution_count": 7,
   "id": "65be628b-047e-4d84-8461-37f62f7896db",
   "metadata": {},
   "outputs": [],
   "source": [
    "# check the correspondance between brewery_id in the beers DataFrames and brewery_id in the breweries Dataframes"
   ]
  },
  {
   "cell_type": "markdown",
   "id": "42d1962e-2051-4db1-9d02-8644a25f4e3e",
   "metadata": {},
   "source": [
    "# 0) Data cleaning"
   ]
  },
  {
   "cell_type": "code",
   "execution_count": 10,
   "id": "8fa56452-c41e-45f4-aa1b-ae54b178c220",
   "metadata": {},
   "outputs": [],
   "source": [
    "# make sure each column has the right type\n",
    "# deal with missing or Nan values\n",
    "# set all US locations to 'United States' (remove state information)\n",
    "# remove any embedded HTML links in the location strings\n",
    "# remove countries with too few reviewers"
   ]
  },
  {
   "cell_type": "markdown",
   "id": "f40ad818-8b19-4eee-ac29-5fb7da5d9b1b",
   "metadata": {},
   "source": [
    "# 1) Link between culture and taste"
   ]
  },
  {
   "cell_type": "markdown",
   "id": "79f9c501-af10-4219-a5d3-68bccb141f05",
   "metadata": {},
   "source": [
    "## a) Beer style preferences"
   ]
  },
  {
   "cell_type": "code",
   "execution_count": 17,
   "id": "2f86c884-4d21-4354-8202-1c9833c9c003",
   "metadata": {},
   "outputs": [],
   "source": [
    "# use clustering techniques to determine beer style is most popular in each country / geographic area\n",
    "# use time information to determine if regional beer style preferences are stable (which would suggest that they are \n",
    "# strongly affected by culture)or if they vary over time"
   ]
  },
  {
   "cell_type": "markdown",
   "id": "5983a7d5-7c30-414f-a018-06ea6bc7ef71",
   "metadata": {},
   "source": [
    "## b) Importance of specific beer attributes"
   ]
  },
  {
   "cell_type": "code",
   "execution_count": 14,
   "id": "1ecb8aec-7393-4973-a836-f8cd44708931",
   "metadata": {},
   "outputs": [],
   "source": [
    "# perform linear regression between attribute ratings the final rating for all countries together and compare coefficients for each attribute\n",
    "# perform linear regression between attribute ratings the final rating for the different countries separately and observe the distribution of the coefficients for the different attributes across countries"
   ]
  },
  {
   "cell_type": "markdown",
   "id": "c01f5940-35af-427b-b75f-1d971a42d990",
   "metadata": {},
   "source": [
    "# 2) Location-related biases in ratings"
   ]
  },
  {
   "cell_type": "markdown",
   "id": "037f969a-228d-4ec8-bb87-b720d89e001f",
   "metadata": {},
   "source": [
    "## a) Cultural biases"
   ]
  },
  {
   "cell_type": "code",
   "execution_count": 15,
   "id": "5610c865-9208-43c0-8f42-fddd4a159ee4",
   "metadata": {},
   "outputs": [],
   "source": [
    "# determine the final rating for each country/ geographic area\n",
    "# determine if the final rating for each country/ geographic area is the same using statistical tests"
   ]
  },
  {
   "cell_type": "markdown",
   "id": "610ad20b-5961-408e-a124-d2ecaf99a0ad",
   "metadata": {},
   "source": [
    "## b) Beer origin bias"
   ]
  },
  {
   "cell_type": "code",
   "execution_count": 16,
   "id": "a0350cbf-f773-4db5-81c7-a08aef2f9f37",
   "metadata": {},
   "outputs": [],
   "source": [
    "# compare the final rating of domestic vs foreign beers and determine if there is a significant difference using statistical tests\n",
    "# determine if the final rating of a given beer is correlated with the number of reviewers from the country where the beer comes from who reviewed that beer (scatter plot + Pearson’s correlation coefficient + regression)\n",
    "# isolate beer enthusiasts (who wrote a very large number of reviews) and compare the final rating of domestic vs foreign beers and determine if there is a significant difference using statistical tests"
   ]
  },
  {
   "cell_type": "markdown",
   "id": "ce8cc7a4-05e3-4d31-8bd0-2bc692acb0ad",
   "metadata": {},
   "source": [
    "# 3) Other biases"
   ]
  },
  {
   "cell_type": "markdown",
   "id": "10db9d36-424f-48a0-96e0-22e1274bd46d",
   "metadata": {},
   "source": [
    "## a) Seasonal biases"
   ]
  },
  {
   "cell_type": "code",
   "execution_count": 19,
   "id": "89d52126-3c0a-4505-80c0-4266f7041665",
   "metadata": {},
   "outputs": [],
   "source": [
    "# use the time information to determine the season during which each rating was posted (only consider countries with 4 seasons)\n",
    "# group ratings by season\n",
    "# within each group, determine the average final rating of each beer style\n",
    "# compare the results for the different seasons"
   ]
  },
  {
   "cell_type": "markdown",
   "id": "5a90222b-dccb-4064-8f22-38326863b6bd",
   "metadata": {},
   "source": [
    "## b) Experience biais"
   ]
  },
  {
   "cell_type": "code",
   "execution_count": 20,
   "id": "7d1b5e93-edad-4670-8c8e-ab1a11aa4be3",
   "metadata": {},
   "outputs": [],
   "source": [
    "# isolate users who gave a lot of ratings (based on a chosen threshold)\n",
    "# for each user, sort their reviews chronologically and assign an \"experience level\" (predefined values that will be the same for all users: n<o<p) to each rating based the count of reviews posted by that user up to that rating: new reviewer (for the first n reviews), amateur (for the n+1 th review up to the oth review), expert (for the o+1 th review until the last review)\n",
    "# calculate the average final rating for each experience level across all users\n",
    "# represent results as a bar plot\n",
    "# if a particular trend is visible,perform a paired t-test (for early vs. late reviews by the same user) to test if the rating decrease or increase is statistically significant"
   ]
  }
 ],
 "metadata": {
  "kernelspec": {
   "display_name": "Python [conda env:ada] *",
   "language": "python",
   "name": "conda-env-ada-py"
  },
  "language_info": {
   "codemirror_mode": {
    "name": "ipython",
    "version": 3
   },
   "file_extension": ".py",
   "mimetype": "text/x-python",
   "name": "python",
   "nbconvert_exporter": "python",
   "pygments_lexer": "ipython3",
   "version": "3.11.9"
  }
 },
 "nbformat": 4,
 "nbformat_minor": 5
}
