{
 "cells": [
  {
   "cell_type": "markdown",
   "id": "d3a731f1-24db-4ba4-b628-5d09cc3adc73",
   "metadata": {},
   "source": [
    "# Modules"
   ]
  },
  {
   "cell_type": "code",
   "execution_count": 37,
   "id": "817aa5ec-0095-41bb-b9d0-2050c0a947ff",
   "metadata": {},
   "outputs": [],
   "source": [
    "import pandas as pd\n",
    "import numpy as np\n",
    "from matplotlib import pyplot as plt\n",
    "from datetime import datetime, date, time\n",
    "import seaborn as sns\n",
    "from scipy import stats\n",
    "import scipy.stats as st\n",
    "import glob"
   ]
  },
  {
   "cell_type": "markdown",
   "id": "0d1b97c3-e90e-4a37-8667-e050f93563d3",
   "metadata": {},
   "source": [
    "# Dataset"
   ]
  },
  {
   "cell_type": "markdown",
   "id": "fe4147ef-94f7-4a75-a554-e1c15c82bb40",
   "metadata": {},
   "source": [
    "The dataset used in this analysis consists of beer reviews from two beer rating websites,**BeerAdvocate** and **RateBeer**, for a period ranging from 2001 to 2017. For each website, we have 5 files:\n",
    "- users.csv: metadata about reviewers\n",
    "- beers.csv : metadata about reviewed beers\n",
    "- breweries.csv : metadata about breweries\n",
    "- ratings.txt : all reviews given by users, including numerical ratings and sometimes textual reviews\n",
    "- reviews.txt : only reviews given by users that include both numerical ratings and textual reviews\n",
    "\n",
    "In our analysis, we will not use textual reviews. Thus, we will only use ratings.txt files and not reviews.txt files, as we will use all reviews, whether or not they include textual reviews."
   ]
  },
  {
   "cell_type": "markdown",
   "id": "409aefca-a83b-4b8e-9093-30e0eb8d4053",
   "metadata": {},
   "source": [
    "### Load data into Dataframes"
   ]
  },
  {
   "cell_type": "markdown",
   "id": "3b16dd61-703d-4448-b0c3-137c4d554928",
   "metadata": {},
   "source": [
    "The .csv files are not too large and can efficiently be loaded into DataFrames."
   ]
  },
  {
   "cell_type": "code",
   "execution_count": 38,
   "id": "326a7c11-1c12-42ad-aba0-c3e374a48646",
   "metadata": {},
   "outputs": [],
   "source": [
    "BA_DATA_FOLDER = 'data/BeerAdvocate/'\n",
    "RB_DATA_FOLDER = 'data/RateBeer/'\n",
    "\n",
    "BA_USERS = BA_DATA_FOLDER+\"users.csv\"\n",
    "BA_BEERS = BA_DATA_FOLDER+\"beers.csv\"\n",
    "BA_BREWERIES = BA_DATA_FOLDER+\"breweries.csv\"\n",
    "\n",
    "RB_USERS = RB_DATA_FOLDER+\"users.csv\"\n",
    "RB_BEERS = RB_DATA_FOLDER+\"beers.csv\"\n",
    "RB_BREWERIES = RB_DATA_FOLDER+\"breweries.csv\""
   ]
  },
  {
   "cell_type": "code",
   "execution_count": 39,
   "id": "3933ff6e-e76e-4e92-bd2b-bfa8ba49722b",
   "metadata": {},
   "outputs": [],
   "source": [
    "ba_users = pd.read_csv(BA_USERS)\n",
    "ba_beers = pd.read_csv(BA_BEERS)\n",
    "ba_breweries = pd.read_csv(BA_BREWERIES)\n",
    "\n",
    "rb_users = pd.read_csv(RB_USERS)\n",
    "rb_beers = pd.read_csv(RB_BEERS)\n",
    "rb_breweries = pd.read_csv(RB_BREWERIES)"
   ]
  },
  {
   "cell_type": "markdown",
   "id": "ffa18e39-98c3-4cce-a093-793f2e770bba",
   "metadata": {},
   "source": [
    "On the other hand, the ratings.txt files are extremely large, and trying to load them directly into DataFrames leads to kernel freezes. In order to circumvent this problem, we wrote a script (review_parser.py, located in src/scripts), which processes each rating file by dividing it into parts, parsing each part, and saving as JSON. In the notebook, we then load the different JSON files into DataFrames, that we concatenate. Dividing the large .txt files into smaller JSON chunks and then loading each chunk separately, avoids trying to load the entire file into memory at once, which can cause kernel freezes due to memory overload. In addition, JSON is a format that pandas can read efficiently."
   ]
  },
  {
   "cell_type": "code",
   "execution_count": 40,
   "id": "3cdbc2d8-b8e4-48d9-bf4b-bf6a6a696147",
   "metadata": {},
   "outputs": [
    {
     "name": "stderr",
     "output_type": "stream",
     "text": [
      "C:\\Users\\athea\\AppData\\Local\\Temp\\ipykernel_23104\\3299018877.py:3: FutureWarning: The behavior of 'to_datetime' with 'unit' when parsing strings is deprecated. In a future version, strings will be parsed as datetime strings, matching the behavior without a 'unit'. To retain the old behavior, explicitly cast ints or floats to numeric type before calling to_datetime.\n",
      "  ba_df_list = [pd.read_json(file) for file in ba_json_files]\n",
      "C:\\Users\\athea\\AppData\\Local\\Temp\\ipykernel_23104\\3299018877.py:3: FutureWarning: The behavior of 'to_datetime' with 'unit' when parsing strings is deprecated. In a future version, strings will be parsed as datetime strings, matching the behavior without a 'unit'. To retain the old behavior, explicitly cast ints or floats to numeric type before calling to_datetime.\n",
      "  ba_df_list = [pd.read_json(file) for file in ba_json_files]\n"
     ]
    },
    {
     "data": {
      "text/html": [
       "<div>\n",
       "<style scoped>\n",
       "    .dataframe tbody tr th:only-of-type {\n",
       "        vertical-align: middle;\n",
       "    }\n",
       "\n",
       "    .dataframe tbody tr th {\n",
       "        vertical-align: top;\n",
       "    }\n",
       "\n",
       "    .dataframe thead th {\n",
       "        text-align: right;\n",
       "    }\n",
       "</style>\n",
       "<table border=\"1\" class=\"dataframe\">\n",
       "  <thead>\n",
       "    <tr style=\"text-align: right;\">\n",
       "      <th></th>\n",
       "      <th>beer_name</th>\n",
       "      <th>beer_id</th>\n",
       "      <th>brewery_name</th>\n",
       "      <th>brewery_id</th>\n",
       "      <th>style</th>\n",
       "      <th>abv</th>\n",
       "      <th>date</th>\n",
       "      <th>user_name</th>\n",
       "      <th>user_id</th>\n",
       "      <th>appearance</th>\n",
       "      <th>aroma</th>\n",
       "      <th>palate</th>\n",
       "      <th>taste</th>\n",
       "      <th>overall</th>\n",
       "      <th>rating</th>\n",
       "    </tr>\n",
       "  </thead>\n",
       "  <tbody>\n",
       "    <tr>\n",
       "      <th>0</th>\n",
       "      <td>Régab</td>\n",
       "      <td>142544.0</td>\n",
       "      <td>Societe des Brasseries du Gabon (SOBRAGA)</td>\n",
       "      <td>37262.0</td>\n",
       "      <td>Euro Pale Lager</td>\n",
       "      <td>4.5</td>\n",
       "      <td>2015-08-20 10:00:00</td>\n",
       "      <td>nmann08</td>\n",
       "      <td>nmann08.184925</td>\n",
       "      <td>3.25</td>\n",
       "      <td>2.75</td>\n",
       "      <td>3.25</td>\n",
       "      <td>2.75</td>\n",
       "      <td>3.0</td>\n",
       "      <td>2.88</td>\n",
       "    </tr>\n",
       "    <tr>\n",
       "      <th>1</th>\n",
       "      <td>Barelegs Brew</td>\n",
       "      <td>19590.0</td>\n",
       "      <td>Strangford Lough Brewing Company Ltd</td>\n",
       "      <td>10093.0</td>\n",
       "      <td>English Pale Ale</td>\n",
       "      <td>4.5</td>\n",
       "      <td>2009-02-20 11:00:00</td>\n",
       "      <td>StJamesGate</td>\n",
       "      <td>stjamesgate.163714</td>\n",
       "      <td>3.00</td>\n",
       "      <td>3.50</td>\n",
       "      <td>3.50</td>\n",
       "      <td>4.00</td>\n",
       "      <td>3.5</td>\n",
       "      <td>3.67</td>\n",
       "    </tr>\n",
       "    <tr>\n",
       "      <th>2</th>\n",
       "      <td>Barelegs Brew</td>\n",
       "      <td>19590.0</td>\n",
       "      <td>Strangford Lough Brewing Company Ltd</td>\n",
       "      <td>10093.0</td>\n",
       "      <td>English Pale Ale</td>\n",
       "      <td>4.5</td>\n",
       "      <td>2006-03-13 11:00:00</td>\n",
       "      <td>mdagnew</td>\n",
       "      <td>mdagnew.19527</td>\n",
       "      <td>4.00</td>\n",
       "      <td>3.50</td>\n",
       "      <td>3.50</td>\n",
       "      <td>4.00</td>\n",
       "      <td>3.5</td>\n",
       "      <td>3.73</td>\n",
       "    </tr>\n",
       "    <tr>\n",
       "      <th>3</th>\n",
       "      <td>Barelegs Brew</td>\n",
       "      <td>19590.0</td>\n",
       "      <td>Strangford Lough Brewing Company Ltd</td>\n",
       "      <td>10093.0</td>\n",
       "      <td>English Pale Ale</td>\n",
       "      <td>4.5</td>\n",
       "      <td>2004-12-01 11:00:00</td>\n",
       "      <td>helloloser12345</td>\n",
       "      <td>helloloser12345.10867</td>\n",
       "      <td>4.00</td>\n",
       "      <td>3.50</td>\n",
       "      <td>4.00</td>\n",
       "      <td>4.00</td>\n",
       "      <td>4.5</td>\n",
       "      <td>3.98</td>\n",
       "    </tr>\n",
       "    <tr>\n",
       "      <th>4</th>\n",
       "      <td>Barelegs Brew</td>\n",
       "      <td>19590.0</td>\n",
       "      <td>Strangford Lough Brewing Company Ltd</td>\n",
       "      <td>10093.0</td>\n",
       "      <td>English Pale Ale</td>\n",
       "      <td>4.5</td>\n",
       "      <td>2004-08-30 10:00:00</td>\n",
       "      <td>cypressbob</td>\n",
       "      <td>cypressbob.3708</td>\n",
       "      <td>4.00</td>\n",
       "      <td>4.00</td>\n",
       "      <td>4.00</td>\n",
       "      <td>4.00</td>\n",
       "      <td>4.0</td>\n",
       "      <td>4.00</td>\n",
       "    </tr>\n",
       "  </tbody>\n",
       "</table>\n",
       "</div>"
      ],
      "text/plain": [
       "       beer_name   beer_id                               brewery_name  \\\n",
       "0          Régab  142544.0  Societe des Brasseries du Gabon (SOBRAGA)   \n",
       "1  Barelegs Brew   19590.0       Strangford Lough Brewing Company Ltd   \n",
       "2  Barelegs Brew   19590.0       Strangford Lough Brewing Company Ltd   \n",
       "3  Barelegs Brew   19590.0       Strangford Lough Brewing Company Ltd   \n",
       "4  Barelegs Brew   19590.0       Strangford Lough Brewing Company Ltd   \n",
       "\n",
       "   brewery_id             style  abv                date        user_name  \\\n",
       "0     37262.0   Euro Pale Lager  4.5 2015-08-20 10:00:00          nmann08   \n",
       "1     10093.0  English Pale Ale  4.5 2009-02-20 11:00:00      StJamesGate   \n",
       "2     10093.0  English Pale Ale  4.5 2006-03-13 11:00:00          mdagnew   \n",
       "3     10093.0  English Pale Ale  4.5 2004-12-01 11:00:00  helloloser12345   \n",
       "4     10093.0  English Pale Ale  4.5 2004-08-30 10:00:00       cypressbob   \n",
       "\n",
       "                 user_id  appearance  aroma  palate  taste  overall  rating  \n",
       "0         nmann08.184925        3.25   2.75    3.25   2.75      3.0    2.88  \n",
       "1     stjamesgate.163714        3.00   3.50    3.50   4.00      3.5    3.67  \n",
       "2          mdagnew.19527        4.00   3.50    3.50   4.00      3.5    3.73  \n",
       "3  helloloser12345.10867        4.00   3.50    4.00   4.00      4.5    3.98  \n",
       "4        cypressbob.3708        4.00   4.00    4.00   4.00      4.0    4.00  "
      ]
     },
     "execution_count": 40,
     "metadata": {},
     "output_type": "execute_result"
    }
   ],
   "source": [
    "# Load BeerAdvocate ratings stored in json files into a single DataFrame\n",
    "ba_json_files = glob.glob(BA_DATA_FOLDER+'*.json')\n",
    "ba_df_list = [pd.read_json(file) for file in ba_json_files]\n",
    "ba_ratings = pd.concat(ba_df_list, ignore_index=True)\n",
    "ba_ratings.head()"
   ]
  },
  {
   "cell_type": "code",
   "execution_count": 41,
   "id": "fb11f725-802b-4adb-b7b3-0485722a279b",
   "metadata": {},
   "outputs": [
    {
     "name": "stderr",
     "output_type": "stream",
     "text": [
      "C:\\Users\\athea\\AppData\\Local\\Temp\\ipykernel_23104\\180671459.py:3: FutureWarning: The behavior of 'to_datetime' with 'unit' when parsing strings is deprecated. In a future version, strings will be parsed as datetime strings, matching the behavior without a 'unit'. To retain the old behavior, explicitly cast ints or floats to numeric type before calling to_datetime.\n",
      "  rb_df_list = [pd.read_json(file) for file in rb_json_files]\n",
      "C:\\Users\\athea\\AppData\\Local\\Temp\\ipykernel_23104\\180671459.py:3: FutureWarning: The behavior of 'to_datetime' with 'unit' when parsing strings is deprecated. In a future version, strings will be parsed as datetime strings, matching the behavior without a 'unit'. To retain the old behavior, explicitly cast ints or floats to numeric type before calling to_datetime.\n",
      "  rb_df_list = [pd.read_json(file) for file in rb_json_files]\n"
     ]
    },
    {
     "data": {
      "text/html": [
       "<div>\n",
       "<style scoped>\n",
       "    .dataframe tbody tr th:only-of-type {\n",
       "        vertical-align: middle;\n",
       "    }\n",
       "\n",
       "    .dataframe tbody tr th {\n",
       "        vertical-align: top;\n",
       "    }\n",
       "\n",
       "    .dataframe thead th {\n",
       "        text-align: right;\n",
       "    }\n",
       "</style>\n",
       "<table border=\"1\" class=\"dataframe\">\n",
       "  <thead>\n",
       "    <tr style=\"text-align: right;\">\n",
       "      <th></th>\n",
       "      <th>beer_name</th>\n",
       "      <th>beer_id</th>\n",
       "      <th>brewery_name</th>\n",
       "      <th>brewery_id</th>\n",
       "      <th>style</th>\n",
       "      <th>abv</th>\n",
       "      <th>date</th>\n",
       "      <th>user_name</th>\n",
       "      <th>user_id</th>\n",
       "      <th>appearance</th>\n",
       "      <th>aroma</th>\n",
       "      <th>palate</th>\n",
       "      <th>taste</th>\n",
       "      <th>overall</th>\n",
       "      <th>rating</th>\n",
       "    </tr>\n",
       "  </thead>\n",
       "  <tbody>\n",
       "    <tr>\n",
       "      <th>0</th>\n",
       "      <td>33 Export (Gabon)</td>\n",
       "      <td>410549.0</td>\n",
       "      <td>Sobraga</td>\n",
       "      <td>3198.0</td>\n",
       "      <td>Pale Lager</td>\n",
       "      <td>5.0</td>\n",
       "      <td>2016-04-26 10:00:00</td>\n",
       "      <td>Manslow</td>\n",
       "      <td>175852.0</td>\n",
       "      <td>2.0</td>\n",
       "      <td>4.0</td>\n",
       "      <td>2.0</td>\n",
       "      <td>4.0</td>\n",
       "      <td>8.0</td>\n",
       "      <td>2.0</td>\n",
       "    </tr>\n",
       "    <tr>\n",
       "      <th>1</th>\n",
       "      <td>Castel Beer (Gabon)</td>\n",
       "      <td>105273.0</td>\n",
       "      <td>Sobraga</td>\n",
       "      <td>3198.0</td>\n",
       "      <td>Pale Lager</td>\n",
       "      <td>5.2</td>\n",
       "      <td>2017-02-17 11:00:00</td>\n",
       "      <td>MAGICuenca91</td>\n",
       "      <td>442761.0</td>\n",
       "      <td>2.0</td>\n",
       "      <td>3.0</td>\n",
       "      <td>2.0</td>\n",
       "      <td>4.0</td>\n",
       "      <td>8.0</td>\n",
       "      <td>1.9</td>\n",
       "    </tr>\n",
       "    <tr>\n",
       "      <th>2</th>\n",
       "      <td>Castel Beer (Gabon)</td>\n",
       "      <td>105273.0</td>\n",
       "      <td>Sobraga</td>\n",
       "      <td>3198.0</td>\n",
       "      <td>Pale Lager</td>\n",
       "      <td>5.2</td>\n",
       "      <td>2016-06-24 10:00:00</td>\n",
       "      <td>Sibarh</td>\n",
       "      <td>288889.0</td>\n",
       "      <td>3.0</td>\n",
       "      <td>3.0</td>\n",
       "      <td>2.0</td>\n",
       "      <td>3.0</td>\n",
       "      <td>5.0</td>\n",
       "      <td>1.6</td>\n",
       "    </tr>\n",
       "    <tr>\n",
       "      <th>3</th>\n",
       "      <td>Castel Beer (Gabon)</td>\n",
       "      <td>105273.0</td>\n",
       "      <td>Sobraga</td>\n",
       "      <td>3198.0</td>\n",
       "      <td>Pale Lager</td>\n",
       "      <td>5.2</td>\n",
       "      <td>2016-01-01 11:00:00</td>\n",
       "      <td>fombe89</td>\n",
       "      <td>250510.0</td>\n",
       "      <td>4.0</td>\n",
       "      <td>3.0</td>\n",
       "      <td>1.0</td>\n",
       "      <td>2.0</td>\n",
       "      <td>5.0</td>\n",
       "      <td>1.5</td>\n",
       "    </tr>\n",
       "    <tr>\n",
       "      <th>4</th>\n",
       "      <td>Castel Beer (Gabon)</td>\n",
       "      <td>105273.0</td>\n",
       "      <td>Sobraga</td>\n",
       "      <td>3198.0</td>\n",
       "      <td>Pale Lager</td>\n",
       "      <td>5.2</td>\n",
       "      <td>2015-10-23 10:00:00</td>\n",
       "      <td>kevnic2008</td>\n",
       "      <td>122778.0</td>\n",
       "      <td>2.0</td>\n",
       "      <td>4.0</td>\n",
       "      <td>2.0</td>\n",
       "      <td>4.0</td>\n",
       "      <td>7.0</td>\n",
       "      <td>1.9</td>\n",
       "    </tr>\n",
       "  </tbody>\n",
       "</table>\n",
       "</div>"
      ],
      "text/plain": [
       "             beer_name   beer_id brewery_name  brewery_id       style  abv  \\\n",
       "0    33 Export (Gabon)  410549.0      Sobraga      3198.0  Pale Lager  5.0   \n",
       "1  Castel Beer (Gabon)  105273.0      Sobraga      3198.0  Pale Lager  5.2   \n",
       "2  Castel Beer (Gabon)  105273.0      Sobraga      3198.0  Pale Lager  5.2   \n",
       "3  Castel Beer (Gabon)  105273.0      Sobraga      3198.0  Pale Lager  5.2   \n",
       "4  Castel Beer (Gabon)  105273.0      Sobraga      3198.0  Pale Lager  5.2   \n",
       "\n",
       "                 date     user_name   user_id  appearance  aroma  palate  \\\n",
       "0 2016-04-26 10:00:00       Manslow  175852.0         2.0    4.0     2.0   \n",
       "1 2017-02-17 11:00:00  MAGICuenca91  442761.0         2.0    3.0     2.0   \n",
       "2 2016-06-24 10:00:00        Sibarh  288889.0         3.0    3.0     2.0   \n",
       "3 2016-01-01 11:00:00       fombe89  250510.0         4.0    3.0     1.0   \n",
       "4 2015-10-23 10:00:00    kevnic2008  122778.0         2.0    4.0     2.0   \n",
       "\n",
       "   taste  overall  rating  \n",
       "0    4.0      8.0     2.0  \n",
       "1    4.0      8.0     1.9  \n",
       "2    3.0      5.0     1.6  \n",
       "3    2.0      5.0     1.5  \n",
       "4    4.0      7.0     1.9  "
      ]
     },
     "execution_count": 41,
     "metadata": {},
     "output_type": "execute_result"
    }
   ],
   "source": [
    "# Load RateBeer ratings stored in json files into a single DataFrame\n",
    "rb_json_files = glob.glob(RB_DATA_FOLDER+'*.json')\n",
    "rb_df_list = [pd.read_json(file) for file in rb_json_files]\n",
    "rb_ratings = pd.concat(rb_df_list, ignore_index=True)\n",
    "rb_ratings.head()"
   ]
  },
  {
   "cell_type": "markdown",
   "id": "12805ef7-35b6-4379-ac9a-159ba5ff5fd7",
   "metadata": {},
   "source": [
    "### First look at the data\n",
    "\n",
    "We will now examine the different DataFrames in more detail."
   ]
  },
  {
   "cell_type": "code",
   "execution_count": 42,
   "id": "efc6e5ad-e6b4-4afa-a3bf-4b254ffd491c",
   "metadata": {},
   "outputs": [],
   "source": [
    "# explain the columns of users, beers, breweries and ratings DataFrames"
   ]
  },
  {
   "cell_type": "markdown",
   "id": "54774dee-6477-4b83-a52a-4869df8c9c4c",
   "metadata": {},
   "source": [
    "**BeerAdvocate beer Dataframe**"
   ]
  },
  {
   "cell_type": "code",
   "execution_count": 43,
   "id": "0d23278a-e5d5-44c7-8ea7-b0690bdd82bb",
   "metadata": {},
   "outputs": [
    {
     "data": {
      "text/html": [
       "<div>\n",
       "<style scoped>\n",
       "    .dataframe tbody tr th:only-of-type {\n",
       "        vertical-align: middle;\n",
       "    }\n",
       "\n",
       "    .dataframe tbody tr th {\n",
       "        vertical-align: top;\n",
       "    }\n",
       "\n",
       "    .dataframe thead th {\n",
       "        text-align: right;\n",
       "    }\n",
       "</style>\n",
       "<table border=\"1\" class=\"dataframe\">\n",
       "  <thead>\n",
       "    <tr style=\"text-align: right;\">\n",
       "      <th></th>\n",
       "      <th>beer_id</th>\n",
       "      <th>beer_name</th>\n",
       "      <th>brewery_id</th>\n",
       "      <th>brewery_name</th>\n",
       "      <th>style</th>\n",
       "      <th>nbr_ratings</th>\n",
       "      <th>nbr_reviews</th>\n",
       "      <th>avg</th>\n",
       "      <th>ba_score</th>\n",
       "      <th>bros_score</th>\n",
       "      <th>abv</th>\n",
       "      <th>avg_computed</th>\n",
       "      <th>zscore</th>\n",
       "      <th>nbr_matched_valid_ratings</th>\n",
       "      <th>avg_matched_valid_ratings</th>\n",
       "    </tr>\n",
       "  </thead>\n",
       "  <tbody>\n",
       "    <tr>\n",
       "      <th>111011</th>\n",
       "      <td>3751</td>\n",
       "      <td>Boston Garden Golden</td>\n",
       "      <td>299</td>\n",
       "      <td>Lowell Beer Works</td>\n",
       "      <td>American Blonde Ale</td>\n",
       "      <td>21</td>\n",
       "      <td>10</td>\n",
       "      <td>3.34</td>\n",
       "      <td>81.0</td>\n",
       "      <td>87.0</td>\n",
       "      <td>4.5</td>\n",
       "      <td>3.330952</td>\n",
       "      <td>NaN</td>\n",
       "      <td>0</td>\n",
       "      <td>NaN</td>\n",
       "    </tr>\n",
       "    <tr>\n",
       "      <th>153851</th>\n",
       "      <td>254225</td>\n",
       "      <td>Bramble</td>\n",
       "      <td>30870</td>\n",
       "      <td>La Cabra Brewing</td>\n",
       "      <td>American Porter</td>\n",
       "      <td>2</td>\n",
       "      <td>1</td>\n",
       "      <td>3.89</td>\n",
       "      <td>NaN</td>\n",
       "      <td>NaN</td>\n",
       "      <td>6.3</td>\n",
       "      <td>3.835000</td>\n",
       "      <td>NaN</td>\n",
       "      <td>0</td>\n",
       "      <td>NaN</td>\n",
       "    </tr>\n",
       "    <tr>\n",
       "      <th>80740</th>\n",
       "      <td>247530</td>\n",
       "      <td>Shower Beer</td>\n",
       "      <td>38745</td>\n",
       "      <td>Fieldwork Brewing Co.</td>\n",
       "      <td>American Pale Lager</td>\n",
       "      <td>4</td>\n",
       "      <td>1</td>\n",
       "      <td>4.21</td>\n",
       "      <td>NaN</td>\n",
       "      <td>NaN</td>\n",
       "      <td>4.2</td>\n",
       "      <td>4.137500</td>\n",
       "      <td>0.332629</td>\n",
       "      <td>1</td>\n",
       "      <td>4.24</td>\n",
       "    </tr>\n",
       "    <tr>\n",
       "      <th>209736</th>\n",
       "      <td>287235</td>\n",
       "      <td>Green Thizz</td>\n",
       "      <td>38798</td>\n",
       "      <td>Idyll Hounds Brewing Company</td>\n",
       "      <td>American Double / Imperial IPA</td>\n",
       "      <td>1</td>\n",
       "      <td>0</td>\n",
       "      <td>4.27</td>\n",
       "      <td>NaN</td>\n",
       "      <td>NaN</td>\n",
       "      <td>8.7</td>\n",
       "      <td>4.270000</td>\n",
       "      <td>0.593297</td>\n",
       "      <td>1</td>\n",
       "      <td>4.27</td>\n",
       "    </tr>\n",
       "  </tbody>\n",
       "</table>\n",
       "</div>"
      ],
      "text/plain": [
       "        beer_id             beer_name  brewery_id  \\\n",
       "111011     3751  Boston Garden Golden         299   \n",
       "153851   254225               Bramble       30870   \n",
       "80740    247530           Shower Beer       38745   \n",
       "209736   287235           Green Thizz       38798   \n",
       "\n",
       "                        brewery_name                           style  \\\n",
       "111011             Lowell Beer Works             American Blonde Ale   \n",
       "153851              La Cabra Brewing                 American Porter   \n",
       "80740          Fieldwork Brewing Co.             American Pale Lager   \n",
       "209736  Idyll Hounds Brewing Company  American Double / Imperial IPA   \n",
       "\n",
       "        nbr_ratings  nbr_reviews   avg  ba_score  bros_score  abv  \\\n",
       "111011           21           10  3.34      81.0        87.0  4.5   \n",
       "153851            2            1  3.89       NaN         NaN  6.3   \n",
       "80740             4            1  4.21       NaN         NaN  4.2   \n",
       "209736            1            0  4.27       NaN         NaN  8.7   \n",
       "\n",
       "        avg_computed    zscore  nbr_matched_valid_ratings  \\\n",
       "111011      3.330952       NaN                          0   \n",
       "153851      3.835000       NaN                          0   \n",
       "80740       4.137500  0.332629                          1   \n",
       "209736      4.270000  0.593297                          1   \n",
       "\n",
       "        avg_matched_valid_ratings  \n",
       "111011                        NaN  \n",
       "153851                        NaN  \n",
       "80740                        4.24  \n",
       "209736                       4.27  "
      ]
     },
     "execution_count": 43,
     "metadata": {},
     "output_type": "execute_result"
    }
   ],
   "source": [
    "ba_beers.sample(4)"
   ]
  },
  {
   "cell_type": "markdown",
   "id": "ab8c2aeb-e307-4927-8423-945eec894cc0",
   "metadata": {},
   "source": [
    "Let us explain the different columns of the BeerAdvocate beer Dataframe, in which each row is a beer:\n",
    "- beer_id, beer_name, brewery_id, brewery_name, style are explicit\n",
    "- nbr_ratings: total number of reviews for that beer, whether or not they include textual reviews\n",
    "- nbr_reviews: number of reviews for that beer that include textual reviews\n",
    "- avg: average rating (out of 5) given to the beer based on user ratings\n",
    "- ba_score: the BeerAdvocate score assigned to the beer, which corresponds to the beer's overall rating within its style category, calculated using a trimmed mean and a custom Bayesian formula that adjusts for the beer's style, balancing the score based on the number of ratings and the style's average\n",
    "- bros_score: beer rating given by the site’s founders\n",
    "- abv: 'Alcohol by volume', which indicates the percentage of alcohol content in the beer\n",
    "- avg_computed: average rating (out of 5) recalculated using a weighted sum of the different aspect ratings\n",
    "- zscore: z-score of the beer's average rating, which is a statistical measure that indicates how many standard deviations the average rating is from the mean of all ratings from the BeerAdvocate dataset\n",
    "- nbr_matched_valid_ratings: number of valid ratings for beers that were successfully matched between two BeerAdvocate and RateBeer\n",
    "- avg_matched_valid_ratings: average rating of those matched and valid ratings across the sites\n",
    "\n",
    "The last two columns are related to the analysis performed by Robert West and Gael Lederrey in the following paper: https://dlab.epfl.ch/people/west/pub/Lederrey-West_WWW-18.pdf."
   ]
  },
  {
   "cell_type": "markdown",
   "id": "01ed55b2-c5ee-48fb-a442-5f8b015369d4",
   "metadata": {},
   "source": [
    "**RateBeer beer Dataframe**"
   ]
  },
  {
   "cell_type": "code",
   "execution_count": 44,
   "id": "c161fb2b-1767-403a-a892-25edfc887c54",
   "metadata": {},
   "outputs": [
    {
     "data": {
      "text/html": [
       "<div>\n",
       "<style scoped>\n",
       "    .dataframe tbody tr th:only-of-type {\n",
       "        vertical-align: middle;\n",
       "    }\n",
       "\n",
       "    .dataframe tbody tr th {\n",
       "        vertical-align: top;\n",
       "    }\n",
       "\n",
       "    .dataframe thead th {\n",
       "        text-align: right;\n",
       "    }\n",
       "</style>\n",
       "<table border=\"1\" class=\"dataframe\">\n",
       "  <thead>\n",
       "    <tr style=\"text-align: right;\">\n",
       "      <th></th>\n",
       "      <th>beer_id</th>\n",
       "      <th>beer_name</th>\n",
       "      <th>brewery_id</th>\n",
       "      <th>brewery_name</th>\n",
       "      <th>style</th>\n",
       "      <th>nbr_ratings</th>\n",
       "      <th>overall_score</th>\n",
       "      <th>style_score</th>\n",
       "      <th>avg</th>\n",
       "      <th>abv</th>\n",
       "      <th>avg_computed</th>\n",
       "      <th>zscore</th>\n",
       "      <th>nbr_matched_valid_ratings</th>\n",
       "      <th>avg_matched_valid_ratings</th>\n",
       "    </tr>\n",
       "  </thead>\n",
       "  <tbody>\n",
       "    <tr>\n",
       "      <th>3113</th>\n",
       "      <td>262766</td>\n",
       "      <td>Border Psycho Brutal Imperial Stout</td>\n",
       "      <td>19523</td>\n",
       "      <td>Border Psycho Brewery</td>\n",
       "      <td>Imperial Stout</td>\n",
       "      <td>23</td>\n",
       "      <td>90.0</td>\n",
       "      <td>39.0</td>\n",
       "      <td>3.55</td>\n",
       "      <td>10.3</td>\n",
       "      <td>3.647826</td>\n",
       "      <td>0.352073</td>\n",
       "      <td>23</td>\n",
       "      <td>3.647826</td>\n",
       "    </tr>\n",
       "    <tr>\n",
       "      <th>237715</th>\n",
       "      <td>18646</td>\n",
       "      <td>Clay Pipe Backfin Pale Ale</td>\n",
       "      <td>3116</td>\n",
       "      <td>Clay Pipe Brewing Company</td>\n",
       "      <td>American Pale Ale</td>\n",
       "      <td>92</td>\n",
       "      <td>54.0</td>\n",
       "      <td>44.0</td>\n",
       "      <td>3.07</td>\n",
       "      <td>4.8</td>\n",
       "      <td>3.104348</td>\n",
       "      <td>NaN</td>\n",
       "      <td>0</td>\n",
       "      <td>NaN</td>\n",
       "    </tr>\n",
       "    <tr>\n",
       "      <th>160523</th>\n",
       "      <td>259305</td>\n",
       "      <td>NOLA Barrel Aged Swamp Grape</td>\n",
       "      <td>10338</td>\n",
       "      <td>NOLA - New Orleans Lager &amp; Ale</td>\n",
       "      <td>Belgian Ale</td>\n",
       "      <td>3</td>\n",
       "      <td>NaN</td>\n",
       "      <td>NaN</td>\n",
       "      <td>3.25</td>\n",
       "      <td>5.0</td>\n",
       "      <td>3.666667</td>\n",
       "      <td>NaN</td>\n",
       "      <td>0</td>\n",
       "      <td>NaN</td>\n",
       "    </tr>\n",
       "    <tr>\n",
       "      <th>290870</th>\n",
       "      <td>302941</td>\n",
       "      <td>Ass Clown Jasmine Tea Amber</td>\n",
       "      <td>13421</td>\n",
       "      <td>Ass Clown Brewing Company</td>\n",
       "      <td>Amber Ale</td>\n",
       "      <td>1</td>\n",
       "      <td>NaN</td>\n",
       "      <td>NaN</td>\n",
       "      <td>2.84</td>\n",
       "      <td>6.6</td>\n",
       "      <td>3.400000</td>\n",
       "      <td>NaN</td>\n",
       "      <td>0</td>\n",
       "      <td>NaN</td>\n",
       "    </tr>\n",
       "  </tbody>\n",
       "</table>\n",
       "</div>"
      ],
      "text/plain": [
       "        beer_id                            beer_name  brewery_id  \\\n",
       "3113     262766  Border Psycho Brutal Imperial Stout       19523   \n",
       "237715    18646           Clay Pipe Backfin Pale Ale        3116   \n",
       "160523   259305         NOLA Barrel Aged Swamp Grape       10338   \n",
       "290870   302941          Ass Clown Jasmine Tea Amber       13421   \n",
       "\n",
       "                          brewery_name              style  nbr_ratings  \\\n",
       "3113             Border Psycho Brewery     Imperial Stout           23   \n",
       "237715       Clay Pipe Brewing Company  American Pale Ale           92   \n",
       "160523  NOLA - New Orleans Lager & Ale        Belgian Ale            3   \n",
       "290870       Ass Clown Brewing Company          Amber Ale            1   \n",
       "\n",
       "        overall_score  style_score   avg   abv  avg_computed    zscore  \\\n",
       "3113             90.0         39.0  3.55  10.3      3.647826  0.352073   \n",
       "237715           54.0         44.0  3.07   4.8      3.104348       NaN   \n",
       "160523            NaN          NaN  3.25   5.0      3.666667       NaN   \n",
       "290870            NaN          NaN  2.84   6.6      3.400000       NaN   \n",
       "\n",
       "        nbr_matched_valid_ratings  avg_matched_valid_ratings  \n",
       "3113                           23                   3.647826  \n",
       "237715                          0                        NaN  \n",
       "160523                          0                        NaN  \n",
       "290870                          0                        NaN  "
      ]
     },
     "execution_count": 44,
     "metadata": {},
     "output_type": "execute_result"
    }
   ],
   "source": [
    "rb_beers.sample(4)"
   ]
  },
  {
   "cell_type": "markdown",
   "id": "c96fc7ab-14ac-46fa-92cd-ed6625c177a0",
   "metadata": {},
   "source": [
    "Let us explain the different columns of the RateBeer beer Dataframe, in which each row is a beer:\n",
    "\n",
    "The beer_id, beer_name, brewery_id, brewery_name, style, nbr_ratings, avg, abv, avg_computed, z-score, nbr_matched_valid_ratings and avg_matched_valid_ratings are the same as for the BeerAdvocate beer Dataframe.\n",
    "\n",
    "Some columns are missing compared to the BeerAdvocate beer Dataframe: ba_score and bros_score (which makes sense as these are BeerAdvocate-specific scores), and nbr_reviews.\n",
    "\n",
    "New columns are present compared to the BeerAdvocate beer Dataframe:\n",
    "- overall_score: score (out of 100) which \"reflects the rating given by RateBeer users and how this beer compares to all other beers on RateBeer\", calculated by considering the ratings given by each user and the total number of ratings for the beer\n",
    "- style_score: score given to the beer (out of 100) specifically within its style category"
   ]
  },
  {
   "cell_type": "markdown",
   "id": "e72a9eda-af03-441a-8ed7-e5ad0460b037",
   "metadata": {},
   "source": [
    "**BeerAdvocate user Dataframe**"
   ]
  },
  {
   "cell_type": "code",
   "execution_count": 45,
   "id": "ab6c6888-1999-4bcb-b950-8321913db7b7",
   "metadata": {},
   "outputs": [
    {
     "data": {
      "text/html": [
       "<div>\n",
       "<style scoped>\n",
       "    .dataframe tbody tr th:only-of-type {\n",
       "        vertical-align: middle;\n",
       "    }\n",
       "\n",
       "    .dataframe tbody tr th {\n",
       "        vertical-align: top;\n",
       "    }\n",
       "\n",
       "    .dataframe thead th {\n",
       "        text-align: right;\n",
       "    }\n",
       "</style>\n",
       "<table border=\"1\" class=\"dataframe\">\n",
       "  <thead>\n",
       "    <tr style=\"text-align: right;\">\n",
       "      <th></th>\n",
       "      <th>nbr_ratings</th>\n",
       "      <th>nbr_reviews</th>\n",
       "      <th>user_id</th>\n",
       "      <th>user_name</th>\n",
       "      <th>joined</th>\n",
       "      <th>location</th>\n",
       "    </tr>\n",
       "  </thead>\n",
       "  <tbody>\n",
       "    <tr>\n",
       "      <th>73441</th>\n",
       "      <td>8</td>\n",
       "      <td>8</td>\n",
       "      <td>hogheadjones.1171637</td>\n",
       "      <td>HogHeadJones</td>\n",
       "      <td>1.472551e+09</td>\n",
       "      <td>United States, New York</td>\n",
       "    </tr>\n",
       "    <tr>\n",
       "      <th>97463</th>\n",
       "      <td>2</td>\n",
       "      <td>0</td>\n",
       "      <td>ryuheiedo.639557</td>\n",
       "      <td>RyuheiEdo</td>\n",
       "      <td>1.322478e+09</td>\n",
       "      <td>United States, California</td>\n",
       "    </tr>\n",
       "    <tr>\n",
       "      <th>146224</th>\n",
       "      <td>1</td>\n",
       "      <td>0</td>\n",
       "      <td>mikelinc44.827435</td>\n",
       "      <td>Mikelinc44</td>\n",
       "      <td>1.405591e+09</td>\n",
       "      <td>NaN</td>\n",
       "    </tr>\n",
       "    <tr>\n",
       "      <th>66733</th>\n",
       "      <td>5</td>\n",
       "      <td>0</td>\n",
       "      <td>bday.947953</td>\n",
       "      <td>BDay</td>\n",
       "      <td>1.424516e+09</td>\n",
       "      <td>NaN</td>\n",
       "    </tr>\n",
       "  </tbody>\n",
       "</table>\n",
       "</div>"
      ],
      "text/plain": [
       "        nbr_ratings  nbr_reviews               user_id     user_name  \\\n",
       "73441             8            8  hogheadjones.1171637  HogHeadJones   \n",
       "97463             2            0      ryuheiedo.639557     RyuheiEdo   \n",
       "146224            1            0     mikelinc44.827435    Mikelinc44   \n",
       "66733             5            0           bday.947953          BDay   \n",
       "\n",
       "              joined                   location  \n",
       "73441   1.472551e+09    United States, New York  \n",
       "97463   1.322478e+09  United States, California  \n",
       "146224  1.405591e+09                        NaN  \n",
       "66733   1.424516e+09                        NaN  "
      ]
     },
     "execution_count": 45,
     "metadata": {},
     "output_type": "execute_result"
    }
   ],
   "source": [
    "ba_users.sample(4)"
   ]
  },
  {
   "cell_type": "markdown",
   "id": "070b3ce0-a5ea-41c7-a9b9-cbc266c0c146",
   "metadata": {},
   "source": [
    "Let us explain the different columns of the BeerAdvocate user Dataframe, in which each row is a reviewer:\n",
    "- nbr_ratings, nbr_reviews, user_id, user_name, and location are explicit\n",
    "- joined: timestamp indicating when the user joined BeerAdvocate in Unix timestamp format (the number of seconds since January 1, 1970, 00:00:00 UTC)"
   ]
  },
  {
   "cell_type": "markdown",
   "id": "592dd210-dd3d-47da-9bd6-7d07666bb7be",
   "metadata": {},
   "source": [
    "**RateBeer user Dataframe**"
   ]
  },
  {
   "cell_type": "code",
   "execution_count": 46,
   "id": "ca91c2e3-9c3e-4b0a-9938-f4caaf9522aa",
   "metadata": {},
   "outputs": [
    {
     "data": {
      "text/html": [
       "<div>\n",
       "<style scoped>\n",
       "    .dataframe tbody tr th:only-of-type {\n",
       "        vertical-align: middle;\n",
       "    }\n",
       "\n",
       "    .dataframe tbody tr th {\n",
       "        vertical-align: top;\n",
       "    }\n",
       "\n",
       "    .dataframe thead th {\n",
       "        text-align: right;\n",
       "    }\n",
       "</style>\n",
       "<table border=\"1\" class=\"dataframe\">\n",
       "  <thead>\n",
       "    <tr style=\"text-align: right;\">\n",
       "      <th></th>\n",
       "      <th>nbr_ratings</th>\n",
       "      <th>user_id</th>\n",
       "      <th>user_name</th>\n",
       "      <th>joined</th>\n",
       "      <th>location</th>\n",
       "    </tr>\n",
       "  </thead>\n",
       "  <tbody>\n",
       "    <tr>\n",
       "      <th>9395</th>\n",
       "      <td>455</td>\n",
       "      <td>40749</td>\n",
       "      <td>minch25</td>\n",
       "      <td>1.154772e+09</td>\n",
       "      <td>United States, Massachusetts</td>\n",
       "    </tr>\n",
       "    <tr>\n",
       "      <th>47752</th>\n",
       "      <td>6</td>\n",
       "      <td>22515</td>\n",
       "      <td>Oregonian</td>\n",
       "      <td>1.116929e+09</td>\n",
       "      <td>United States, Oregon</td>\n",
       "    </tr>\n",
       "    <tr>\n",
       "      <th>26330</th>\n",
       "      <td>7</td>\n",
       "      <td>358256</td>\n",
       "      <td>guilhermedias</td>\n",
       "      <td>1.423998e+09</td>\n",
       "      <td>Brazil</td>\n",
       "    </tr>\n",
       "    <tr>\n",
       "      <th>63154</th>\n",
       "      <td>2</td>\n",
       "      <td>350391</td>\n",
       "      <td>marcosmontesi</td>\n",
       "      <td>1.419764e+09</td>\n",
       "      <td>NaN</td>\n",
       "    </tr>\n",
       "  </tbody>\n",
       "</table>\n",
       "</div>"
      ],
      "text/plain": [
       "       nbr_ratings  user_id      user_name        joined  \\\n",
       "9395           455    40749        minch25  1.154772e+09   \n",
       "47752            6    22515      Oregonian  1.116929e+09   \n",
       "26330            7   358256  guilhermedias  1.423998e+09   \n",
       "63154            2   350391  marcosmontesi  1.419764e+09   \n",
       "\n",
       "                           location  \n",
       "9395   United States, Massachusetts  \n",
       "47752         United States, Oregon  \n",
       "26330                        Brazil  \n",
       "63154                           NaN  "
      ]
     },
     "execution_count": 46,
     "metadata": {},
     "output_type": "execute_result"
    }
   ],
   "source": [
    "rb_users.sample(4)"
   ]
  },
  {
   "cell_type": "markdown",
   "id": "38a2d497-2a05-4aae-9559-1202af180eb4",
   "metadata": {},
   "source": [
    "Let us explain the different columns of the RateBeer user Dataframe, in which each row is a reviewer:\n",
    "\n",
    "The columns are the same as in the BeerAdvocate user Dataframe (joined is obviously the timestamp indicating when the user joined RateBeer and not BeerAdvocate), except that nbr_reviews is missing."
   ]
  },
  {
   "cell_type": "markdown",
   "id": "0e168376-cdaf-40c4-8fbc-cff927932d97",
   "metadata": {},
   "source": [
    "**Brewery Dataframes**"
   ]
  },
  {
   "cell_type": "code",
   "execution_count": 47,
   "id": "73ae84fc-63d3-451f-b9f5-a4e4018d8e31",
   "metadata": {},
   "outputs": [
    {
     "data": {
      "text/html": [
       "<div>\n",
       "<style scoped>\n",
       "    .dataframe tbody tr th:only-of-type {\n",
       "        vertical-align: middle;\n",
       "    }\n",
       "\n",
       "    .dataframe tbody tr th {\n",
       "        vertical-align: top;\n",
       "    }\n",
       "\n",
       "    .dataframe thead th {\n",
       "        text-align: right;\n",
       "    }\n",
       "</style>\n",
       "<table border=\"1\" class=\"dataframe\">\n",
       "  <thead>\n",
       "    <tr style=\"text-align: right;\">\n",
       "      <th></th>\n",
       "      <th>id</th>\n",
       "      <th>location</th>\n",
       "      <th>name</th>\n",
       "      <th>nbr_beers</th>\n",
       "    </tr>\n",
       "  </thead>\n",
       "  <tbody>\n",
       "    <tr>\n",
       "      <th>10677</th>\n",
       "      <td>410</td>\n",
       "      <td>United States, Pennsylvania</td>\n",
       "      <td>Pittsburgh Brewing Co.</td>\n",
       "      <td>42</td>\n",
       "    </tr>\n",
       "    <tr>\n",
       "      <th>930</th>\n",
       "      <td>25434</td>\n",
       "      <td>England</td>\n",
       "      <td>Buxton Brewery</td>\n",
       "      <td>125</td>\n",
       "    </tr>\n",
       "    <tr>\n",
       "      <th>12190</th>\n",
       "      <td>44835</td>\n",
       "      <td>United States, Vermont</td>\n",
       "      <td>Saint J Brewery</td>\n",
       "      <td>9</td>\n",
       "    </tr>\n",
       "    <tr>\n",
       "      <th>12606</th>\n",
       "      <td>37287</td>\n",
       "      <td>United States, Florida</td>\n",
       "      <td>Zeta Brewing Company</td>\n",
       "      <td>14</td>\n",
       "    </tr>\n",
       "  </tbody>\n",
       "</table>\n",
       "</div>"
      ],
      "text/plain": [
       "          id                     location                    name  nbr_beers\n",
       "10677    410  United States, Pennsylvania  Pittsburgh Brewing Co.         42\n",
       "930    25434                      England          Buxton Brewery        125\n",
       "12190  44835       United States, Vermont         Saint J Brewery          9\n",
       "12606  37287       United States, Florida    Zeta Brewing Company         14"
      ]
     },
     "execution_count": 47,
     "metadata": {},
     "output_type": "execute_result"
    }
   ],
   "source": [
    "ba_breweries.sample(4)"
   ]
  },
  {
   "cell_type": "code",
   "execution_count": 48,
   "id": "7dbcdc37-96ca-45e2-adf5-a4d286f3151a",
   "metadata": {},
   "outputs": [
    {
     "data": {
      "text/html": [
       "<div>\n",
       "<style scoped>\n",
       "    .dataframe tbody tr th:only-of-type {\n",
       "        vertical-align: middle;\n",
       "    }\n",
       "\n",
       "    .dataframe tbody tr th {\n",
       "        vertical-align: top;\n",
       "    }\n",
       "\n",
       "    .dataframe thead th {\n",
       "        text-align: right;\n",
       "    }\n",
       "</style>\n",
       "<table border=\"1\" class=\"dataframe\">\n",
       "  <thead>\n",
       "    <tr style=\"text-align: right;\">\n",
       "      <th></th>\n",
       "      <th>id</th>\n",
       "      <th>location</th>\n",
       "      <th>name</th>\n",
       "      <th>nbr_beers</th>\n",
       "    </tr>\n",
       "  </thead>\n",
       "  <tbody>\n",
       "    <tr>\n",
       "      <th>21447</th>\n",
       "      <td>4402</td>\n",
       "      <td>England</td>\n",
       "      <td>Goodmanham</td>\n",
       "      <td>2</td>\n",
       "    </tr>\n",
       "    <tr>\n",
       "      <th>13223</th>\n",
       "      <td>9123</td>\n",
       "      <td>United States, Wisconsin</td>\n",
       "      <td>Red Eye Brewing Company</td>\n",
       "      <td>109</td>\n",
       "    </tr>\n",
       "    <tr>\n",
       "      <th>9767</th>\n",
       "      <td>32241</td>\n",
       "      <td>Brazil</td>\n",
       "      <td>Dark Side Brewery</td>\n",
       "      <td>1</td>\n",
       "    </tr>\n",
       "    <tr>\n",
       "      <th>2548</th>\n",
       "      <td>4949</td>\n",
       "      <td>Lithuania</td>\n",
       "      <td>Davra Alaus Darykla</td>\n",
       "      <td>13</td>\n",
       "    </tr>\n",
       "  </tbody>\n",
       "</table>\n",
       "</div>"
      ],
      "text/plain": [
       "          id                  location                     name  nbr_beers\n",
       "21447   4402                   England               Goodmanham          2\n",
       "13223   9123  United States, Wisconsin  Red Eye Brewing Company        109\n",
       "9767   32241                    Brazil        Dark Side Brewery          1\n",
       "2548    4949                 Lithuania      Davra Alaus Darykla         13"
      ]
     },
     "execution_count": 48,
     "metadata": {},
     "output_type": "execute_result"
    }
   ],
   "source": [
    "rb_breweries.sample(4)"
   ]
  },
  {
   "cell_type": "markdown",
   "id": "942c8c7f-abbe-405d-96e8-4ea5e8628e24",
   "metadata": {},
   "source": [
    "The columns are explicit and are the same for the 2 websites. Each row is a brewery."
   ]
  },
  {
   "cell_type": "markdown",
   "id": "b63e01d8-7b92-4a7d-b298-1517c2c3da30",
   "metadata": {},
   "source": [
    "**Rating Dataframes**"
   ]
  },
  {
   "cell_type": "code",
   "execution_count": 49,
   "id": "d165bf0f-8aec-4454-8258-13ab9e939ac1",
   "metadata": {},
   "outputs": [
    {
     "data": {
      "text/html": [
       "<div>\n",
       "<style scoped>\n",
       "    .dataframe tbody tr th:only-of-type {\n",
       "        vertical-align: middle;\n",
       "    }\n",
       "\n",
       "    .dataframe tbody tr th {\n",
       "        vertical-align: top;\n",
       "    }\n",
       "\n",
       "    .dataframe thead th {\n",
       "        text-align: right;\n",
       "    }\n",
       "</style>\n",
       "<table border=\"1\" class=\"dataframe\">\n",
       "  <thead>\n",
       "    <tr style=\"text-align: right;\">\n",
       "      <th></th>\n",
       "      <th>beer_name</th>\n",
       "      <th>beer_id</th>\n",
       "      <th>brewery_name</th>\n",
       "      <th>brewery_id</th>\n",
       "      <th>style</th>\n",
       "      <th>abv</th>\n",
       "      <th>date</th>\n",
       "      <th>user_name</th>\n",
       "      <th>user_id</th>\n",
       "      <th>appearance</th>\n",
       "      <th>aroma</th>\n",
       "      <th>palate</th>\n",
       "      <th>taste</th>\n",
       "      <th>overall</th>\n",
       "      <th>rating</th>\n",
       "    </tr>\n",
       "  </thead>\n",
       "  <tbody>\n",
       "    <tr>\n",
       "      <th>5294750</th>\n",
       "      <td>90 Minute IPA</td>\n",
       "      <td>2093.0</td>\n",
       "      <td>Dogfish Head Brewings &amp; Eats</td>\n",
       "      <td>64.0</td>\n",
       "      <td>American Double / Imperial IPA</td>\n",
       "      <td>9.0</td>\n",
       "      <td>2007-03-28 10:00:00</td>\n",
       "      <td>therica</td>\n",
       "      <td>therica.35737</td>\n",
       "      <td>4.0</td>\n",
       "      <td>3.5</td>\n",
       "      <td>3.5</td>\n",
       "      <td>4.0</td>\n",
       "      <td>3.5</td>\n",
       "      <td>3.73</td>\n",
       "    </tr>\n",
       "    <tr>\n",
       "      <th>8198616</th>\n",
       "      <td>4:20 Smuggle Brew</td>\n",
       "      <td>52011.0</td>\n",
       "      <td>Brouwerij Kerkom</td>\n",
       "      <td>3313.0</td>\n",
       "      <td>Belgian Pale Ale</td>\n",
       "      <td>7.5</td>\n",
       "      <td>2009-08-20 10:00:00</td>\n",
       "      <td>wl0307</td>\n",
       "      <td>wl0307.16869</td>\n",
       "      <td>4.5</td>\n",
       "      <td>3.5</td>\n",
       "      <td>4.0</td>\n",
       "      <td>4.0</td>\n",
       "      <td>3.5</td>\n",
       "      <td>3.81</td>\n",
       "    </tr>\n",
       "    <tr>\n",
       "      <th>7691683</th>\n",
       "      <td>Yuzu Fierce</td>\n",
       "      <td>186309.0</td>\n",
       "      <td>Off Color Brewing</td>\n",
       "      <td>31678.0</td>\n",
       "      <td>Berliner Weissbier</td>\n",
       "      <td>3.8</td>\n",
       "      <td>2015-08-26 10:00:00</td>\n",
       "      <td>mfnmbvp</td>\n",
       "      <td>mfnmbvp.705321</td>\n",
       "      <td>4.0</td>\n",
       "      <td>4.0</td>\n",
       "      <td>4.5</td>\n",
       "      <td>4.0</td>\n",
       "      <td>4.0</td>\n",
       "      <td>4.05</td>\n",
       "    </tr>\n",
       "    <tr>\n",
       "      <th>2696719</th>\n",
       "      <td>Tart Of Darkness</td>\n",
       "      <td>70286.0</td>\n",
       "      <td>The Bruery</td>\n",
       "      <td>16866.0</td>\n",
       "      <td>American Wild Ale</td>\n",
       "      <td>7.0</td>\n",
       "      <td>2013-01-19 11:00:00</td>\n",
       "      <td>Jspriest</td>\n",
       "      <td>jspriest.564915</td>\n",
       "      <td>NaN</td>\n",
       "      <td>NaN</td>\n",
       "      <td>NaN</td>\n",
       "      <td>NaN</td>\n",
       "      <td>NaN</td>\n",
       "      <td>4.75</td>\n",
       "    </tr>\n",
       "  </tbody>\n",
       "</table>\n",
       "</div>"
      ],
      "text/plain": [
       "                 beer_name   beer_id                  brewery_name  \\\n",
       "5294750      90 Minute IPA    2093.0  Dogfish Head Brewings & Eats   \n",
       "8198616  4:20 Smuggle Brew   52011.0              Brouwerij Kerkom   \n",
       "7691683        Yuzu Fierce  186309.0             Off Color Brewing   \n",
       "2696719   Tart Of Darkness   70286.0                    The Bruery   \n",
       "\n",
       "         brewery_id                           style  abv                date  \\\n",
       "5294750        64.0  American Double / Imperial IPA  9.0 2007-03-28 10:00:00   \n",
       "8198616      3313.0                Belgian Pale Ale  7.5 2009-08-20 10:00:00   \n",
       "7691683     31678.0              Berliner Weissbier  3.8 2015-08-26 10:00:00   \n",
       "2696719     16866.0               American Wild Ale  7.0 2013-01-19 11:00:00   \n",
       "\n",
       "        user_name          user_id  appearance  aroma  palate  taste  overall  \\\n",
       "5294750   therica    therica.35737         4.0    3.5     3.5    4.0      3.5   \n",
       "8198616    wl0307     wl0307.16869         4.5    3.5     4.0    4.0      3.5   \n",
       "7691683   mfnmbvp   mfnmbvp.705321         4.0    4.0     4.5    4.0      4.0   \n",
       "2696719  Jspriest  jspriest.564915         NaN    NaN     NaN    NaN      NaN   \n",
       "\n",
       "         rating  \n",
       "5294750    3.73  \n",
       "8198616    3.81  \n",
       "7691683    4.05  \n",
       "2696719    4.75  "
      ]
     },
     "execution_count": 49,
     "metadata": {},
     "output_type": "execute_result"
    }
   ],
   "source": [
    "ba_ratings.sample(4)"
   ]
  },
  {
   "cell_type": "code",
   "execution_count": 50,
   "id": "067f6131-2ab3-4d1b-8615-8d243b685fe5",
   "metadata": {},
   "outputs": [
    {
     "data": {
      "text/html": [
       "<div>\n",
       "<style scoped>\n",
       "    .dataframe tbody tr th:only-of-type {\n",
       "        vertical-align: middle;\n",
       "    }\n",
       "\n",
       "    .dataframe tbody tr th {\n",
       "        vertical-align: top;\n",
       "    }\n",
       "\n",
       "    .dataframe thead th {\n",
       "        text-align: right;\n",
       "    }\n",
       "</style>\n",
       "<table border=\"1\" class=\"dataframe\">\n",
       "  <thead>\n",
       "    <tr style=\"text-align: right;\">\n",
       "      <th></th>\n",
       "      <th>beer_name</th>\n",
       "      <th>beer_id</th>\n",
       "      <th>brewery_name</th>\n",
       "      <th>brewery_id</th>\n",
       "      <th>style</th>\n",
       "      <th>abv</th>\n",
       "      <th>date</th>\n",
       "      <th>user_name</th>\n",
       "      <th>user_id</th>\n",
       "      <th>appearance</th>\n",
       "      <th>aroma</th>\n",
       "      <th>palate</th>\n",
       "      <th>taste</th>\n",
       "      <th>overall</th>\n",
       "      <th>rating</th>\n",
       "    </tr>\n",
       "  </thead>\n",
       "  <tbody>\n",
       "    <tr>\n",
       "      <th>842481</th>\n",
       "      <td>Kvajj Mr. Brown</td>\n",
       "      <td>79582.0</td>\n",
       "      <td>Bryggeriet Kvajj</td>\n",
       "      <td>8574.0</td>\n",
       "      <td>Brown Ale</td>\n",
       "      <td>5.6</td>\n",
       "      <td>2007-12-29 11:00:00</td>\n",
       "      <td>Grovlam</td>\n",
       "      <td>42635.0</td>\n",
       "      <td>2.0</td>\n",
       "      <td>5.0</td>\n",
       "      <td>3.0</td>\n",
       "      <td>6.0</td>\n",
       "      <td>12.0</td>\n",
       "      <td>2.8</td>\n",
       "    </tr>\n",
       "    <tr>\n",
       "      <th>1699187</th>\n",
       "      <td>Invercargill Red Hot Chocolate Chili Stout</td>\n",
       "      <td>179331.0</td>\n",
       "      <td>Invercargill Brewery</td>\n",
       "      <td>2268.0</td>\n",
       "      <td>Stout</td>\n",
       "      <td>5.0</td>\n",
       "      <td>2012-07-14 10:00:00</td>\n",
       "      <td>mkel07</td>\n",
       "      <td>82398.0</td>\n",
       "      <td>4.0</td>\n",
       "      <td>7.0</td>\n",
       "      <td>3.0</td>\n",
       "      <td>3.0</td>\n",
       "      <td>17.0</td>\n",
       "      <td>3.4</td>\n",
       "    </tr>\n",
       "    <tr>\n",
       "      <th>3352582</th>\n",
       "      <td>Double Take India Pale Ale</td>\n",
       "      <td>146812.0</td>\n",
       "      <td>World Brews, Winery Exchange Inc.</td>\n",
       "      <td>12165.0</td>\n",
       "      <td>India Pale Ale (IPA)</td>\n",
       "      <td>6.9</td>\n",
       "      <td>2013-04-02 10:00:00</td>\n",
       "      <td>bytemesis</td>\n",
       "      <td>170314.0</td>\n",
       "      <td>4.0</td>\n",
       "      <td>4.0</td>\n",
       "      <td>2.0</td>\n",
       "      <td>4.0</td>\n",
       "      <td>8.0</td>\n",
       "      <td>2.2</td>\n",
       "    </tr>\n",
       "    <tr>\n",
       "      <th>2509718</th>\n",
       "      <td>Lervig Brewers Reserve Oat IPA</td>\n",
       "      <td>342255.0</td>\n",
       "      <td>Lervig Aktiebryggeri</td>\n",
       "      <td>6163.0</td>\n",
       "      <td>India Pale Ale (IPA)</td>\n",
       "      <td>7.2</td>\n",
       "      <td>2016-07-01 10:00:00</td>\n",
       "      <td>weark</td>\n",
       "      <td>125996.0</td>\n",
       "      <td>3.0</td>\n",
       "      <td>8.0</td>\n",
       "      <td>3.0</td>\n",
       "      <td>7.0</td>\n",
       "      <td>14.0</td>\n",
       "      <td>3.5</td>\n",
       "    </tr>\n",
       "  </tbody>\n",
       "</table>\n",
       "</div>"
      ],
      "text/plain": [
       "                                          beer_name   beer_id  \\\n",
       "842481                              Kvajj Mr. Brown   79582.0   \n",
       "1699187  Invercargill Red Hot Chocolate Chili Stout  179331.0   \n",
       "3352582                  Double Take India Pale Ale  146812.0   \n",
       "2509718              Lervig Brewers Reserve Oat IPA  342255.0   \n",
       "\n",
       "                              brewery_name  brewery_id                 style  \\\n",
       "842481                    Bryggeriet Kvajj      8574.0             Brown Ale   \n",
       "1699187               Invercargill Brewery      2268.0                 Stout   \n",
       "3352582  World Brews, Winery Exchange Inc.     12165.0  India Pale Ale (IPA)   \n",
       "2509718               Lervig Aktiebryggeri      6163.0  India Pale Ale (IPA)   \n",
       "\n",
       "         abv                date  user_name   user_id  appearance  aroma  \\\n",
       "842481   5.6 2007-12-29 11:00:00    Grovlam   42635.0         2.0    5.0   \n",
       "1699187  5.0 2012-07-14 10:00:00     mkel07   82398.0         4.0    7.0   \n",
       "3352582  6.9 2013-04-02 10:00:00  bytemesis  170314.0         4.0    4.0   \n",
       "2509718  7.2 2016-07-01 10:00:00      weark  125996.0         3.0    8.0   \n",
       "\n",
       "         palate  taste  overall  rating  \n",
       "842481      3.0    6.0     12.0     2.8  \n",
       "1699187     3.0    3.0     17.0     3.4  \n",
       "3352582     2.0    4.0      8.0     2.2  \n",
       "2509718     3.0    7.0     14.0     3.5  "
      ]
     },
     "execution_count": 50,
     "metadata": {},
     "output_type": "execute_result"
    }
   ],
   "source": [
    "rb_ratings.sample(4)"
   ]
  },
  {
   "cell_type": "markdown",
   "id": "ed1a35f7-557c-4c48-9bf0-2b4fd180bea2",
   "metadata": {},
   "source": [
    "The columns are the same for the 2 Dataframes. Each row corresponds to an individual review. Most column names are explicit. \n",
    "- 'appearance','aroma', 'palate','taste' correspond to aspect ratings (out of 5)\n",
    "- 'overall' is the mean of the 4 aspect ratings\n",
    "- 'rating' is the final rating given by the user to the beer"
   ]
  },
  {
   "cell_type": "markdown",
   "id": "42d1962e-2051-4db1-9d02-8644a25f4e3e",
   "metadata": {},
   "source": [
    "# 0) Data cleaning"
   ]
  },
  {
   "cell_type": "code",
   "execution_count": 51,
   "id": "8fa56452-c41e-45f4-aa1b-ae54b178c220",
   "metadata": {},
   "outputs": [],
   "source": [
    "# remove useless columns (done)\n",
    "# make sure each column has the right type (done)\n",
    "# deal with missing or Nan values\n",
    "# check the correspondance between brewery_id in the beers DataFrames and brewery_id in the breweries Dataframes\n",
    "# set all US locations to 'United States' (remove state information)\n",
    "# remove any embedded HTML links in the location strings\n",
    "# remove countries with too few reviewers"
   ]
  },
  {
   "cell_type": "markdown",
   "id": "54aa0e89-7353-46ce-91a3-bdf6a49ef6ab",
   "metadata": {},
   "source": [
    "## Filtering Dataframes\n",
    "\n",
    "Let us start by removing columns in the different Dataframes that we will not use in our analysis."
   ]
  },
  {
   "cell_type": "markdown",
   "id": "62b2cde0-bdcb-41db-8022-2bdf2810363f",
   "metadata": {},
   "source": [
    "The following rows will not be used in our analysis:\n",
    "nbr_reviews, ba_score, bros_score, abv, avg_computed, zscore, nbr_matched_valid_ratings and avg_matched_valid_ratings, overall_score and style_score.\n",
    "\n",
    "Let us remove them."
   ]
  },
  {
   "cell_type": "code",
   "execution_count": 52,
   "id": "1e6836b0-d4a2-475e-88ca-2b1b360c05eb",
   "metadata": {},
   "outputs": [
    {
     "name": "stdout",
     "output_type": "stream",
     "text": [
      "Index(['beer_id', 'beer_name', 'brewery_id', 'brewery_name', 'style',\n",
      "       'nbr_ratings', 'avg'],\n",
      "      dtype='object')\n"
     ]
    }
   ],
   "source": [
    "useless_columns_ba = ['nbr_reviews', 'ba_score', 'bros_score', 'abv', 'avg_computed', 'zscore', 'nbr_matched_valid_ratings', 'avg_matched_valid_ratings']\n",
    "ba_beers = ba_beers.drop(columns=useless_columns_ba)\n",
    "print(ba_beers.columns)"
   ]
  },
  {
   "cell_type": "code",
   "execution_count": 53,
   "id": "3479f328-241c-4e32-9176-332a37dc7a49",
   "metadata": {},
   "outputs": [
    {
     "name": "stdout",
     "output_type": "stream",
     "text": [
      "Index(['beer_id', 'beer_name', 'brewery_id', 'brewery_name', 'style',\n",
      "       'nbr_ratings', 'avg'],\n",
      "      dtype='object')\n"
     ]
    }
   ],
   "source": [
    "useless_columns_rb = [col for col in useless_columns_ba if col not in ['nbr_reviews','ba_score', 'bros_score']] + ['overall_score', 'style_score']\n",
    "rb_beers = rb_beers.drop(columns=useless_columns_rb)\n",
    "print(rb_beers.columns)"
   ]
  },
  {
   "cell_type": "markdown",
   "id": "a2421d31-13b4-4a14-a620-ca8747c3aa1d",
   "metadata": {},
   "source": [
    "We will also not use the timestamps indicating the time when users joined the platforms, so let us remove this as well."
   ]
  },
  {
   "cell_type": "code",
   "execution_count": 54,
   "id": "851cc433-f5cc-4aa5-8cbc-775333d71be5",
   "metadata": {},
   "outputs": [
    {
     "name": "stdout",
     "output_type": "stream",
     "text": [
      "Index(['nbr_ratings', 'nbr_reviews', 'user_id', 'user_name', 'location'], dtype='object')\n"
     ]
    }
   ],
   "source": [
    "ba_users = ba_users.drop(columns='joined')\n",
    "rb_users = rb_users.drop(columns='joined')\n",
    "print(ba_users.columns)"
   ]
  },
  {
   "cell_type": "markdown",
   "id": "6c5cc6e6-e477-4796-b74c-85b6e2573f62",
   "metadata": {},
   "source": [
    "## Verifying value types\n",
    "\n",
    "Let us verify that the values in the different columns of the different Dataframes have the appropriate type."
   ]
  },
  {
   "cell_type": "code",
   "execution_count": 55,
   "id": "5afaf9a4-d366-40a2-b292-ef833dc97676",
   "metadata": {},
   "outputs": [
    {
     "name": "stdout",
     "output_type": "stream",
     "text": [
      "beer_id           int64\n",
      "beer_name        object\n",
      "brewery_id        int64\n",
      "brewery_name     object\n",
      "style            object\n",
      "nbr_ratings       int64\n",
      "avg             float64\n",
      "dtype: object \n",
      " \n",
      " beer_id           int64\n",
      "beer_name        object\n",
      "brewery_id        int64\n",
      "brewery_name     object\n",
      "style            object\n",
      "nbr_ratings       int64\n",
      "avg             float64\n",
      "dtype: object\n"
     ]
    }
   ],
   "source": [
    "print(ba_beers.dtypes,'\\n','\\n',rb_beers.dtypes)"
   ]
  },
  {
   "cell_type": "code",
   "execution_count": 56,
   "id": "3e562e7a-54cb-438d-8660-1f5fed3dcc1a",
   "metadata": {},
   "outputs": [
    {
     "name": "stdout",
     "output_type": "stream",
     "text": [
      "nbr_ratings     int64\n",
      "nbr_reviews     int64\n",
      "user_id        object\n",
      "user_name      object\n",
      "location       object\n",
      "dtype: object \n",
      " \n",
      " nbr_ratings     int64\n",
      "user_id         int64\n",
      "user_name      object\n",
      "location       object\n",
      "dtype: object\n"
     ]
    }
   ],
   "source": [
    "print(ba_users.dtypes,'\\n','\\n',rb_users.dtypes)"
   ]
  },
  {
   "cell_type": "code",
   "execution_count": 57,
   "id": "677269e1-8481-4e69-a53b-683a53c1b5e3",
   "metadata": {},
   "outputs": [
    {
     "name": "stdout",
     "output_type": "stream",
     "text": [
      "id            int64\n",
      "location     object\n",
      "name         object\n",
      "nbr_beers     int64\n",
      "dtype: object \n",
      " \n",
      " id            int64\n",
      "location     object\n",
      "name         object\n",
      "nbr_beers     int64\n",
      "dtype: object\n"
     ]
    }
   ],
   "source": [
    "print(ba_breweries.dtypes,'\\n','\\n',rb_breweries.dtypes)"
   ]
  },
  {
   "cell_type": "code",
   "execution_count": 58,
   "id": "0b3a39fb-3f5f-472c-b084-6b50ec774377",
   "metadata": {},
   "outputs": [
    {
     "name": "stdout",
     "output_type": "stream",
     "text": [
      "beer_id           int64\n",
      "beer_name        object\n",
      "brewery_id        int64\n",
      "brewery_name     object\n",
      "style            object\n",
      "nbr_ratings       int64\n",
      "avg             float64\n",
      "dtype: object \n",
      " \n",
      " beer_id           int64\n",
      "beer_name        object\n",
      "brewery_id        int64\n",
      "brewery_name     object\n",
      "style            object\n",
      "nbr_ratings       int64\n",
      "avg             float64\n",
      "dtype: object\n"
     ]
    }
   ],
   "source": [
    "columns_to_convert = ['beer_name', 'brewery_name', 'style']\n",
    "\n",
    "ba_beers[columns_to_convert] = ba_beers[columns_to_convert].apply(lambda col: col.astype(str))\n",
    "rb_beers[columns_to_convert] = rb_beers[columns_to_convert].apply(lambda col: col.astype(str))\n",
    "print(ba_beers.dtypes,'\\n','\\n',rb_beers.dtypes)"
   ]
  },
  {
   "cell_type": "code",
   "execution_count": 59,
   "id": "388fe274-12f5-460c-8aed-61866374c50c",
   "metadata": {},
   "outputs": [
    {
     "name": "stdout",
     "output_type": "stream",
     "text": [
      "beer_name               object\n",
      "beer_id                float64\n",
      "brewery_name            object\n",
      "brewery_id             float64\n",
      "style                   object\n",
      "abv                    float64\n",
      "date            datetime64[ns]\n",
      "user_name               object\n",
      "user_id                 object\n",
      "appearance             float64\n",
      "aroma                  float64\n",
      "palate                 float64\n",
      "taste                  float64\n",
      "overall                float64\n",
      "rating                 float64\n",
      "dtype: object \n",
      " \n",
      " beer_name               object\n",
      "beer_id                float64\n",
      "brewery_name            object\n",
      "brewery_id             float64\n",
      "style                   object\n",
      "abv                    float64\n",
      "date            datetime64[ns]\n",
      "user_name               object\n",
      "user_id                float64\n",
      "appearance             float64\n",
      "aroma                  float64\n",
      "palate                 float64\n",
      "taste                  float64\n",
      "overall                float64\n",
      "rating                 float64\n",
      "dtype: object\n"
     ]
    }
   ],
   "source": [
    "print(ba_ratings.dtypes,'\\n','\\n',rb_ratings.dtypes)"
   ]
  },
  {
   "cell_type": "markdown",
   "id": "95c2100c-08fa-45ba-9d67-044347bd0c89",
   "metadata": {},
   "source": [
    "The types of the values in the different columns of the different Dataframes seem appropriate."
   ]
  },
  {
   "cell_type": "markdown",
   "id": "a704a5f4-bbfb-400c-af6e-52aa607ff0ba",
   "metadata": {},
   "source": [
    "## Dealing with missing values"
   ]
  },
  {
   "cell_type": "code",
   "execution_count": null,
   "id": "fb3a8579-41b4-496c-886b-f107d3f1b36c",
   "metadata": {},
   "outputs": [],
   "source": []
  },
  {
   "cell_type": "markdown",
   "id": "f40ad818-8b19-4eee-ac29-5fb7da5d9b1b",
   "metadata": {},
   "source": [
    "# 1) Link between culture and taste"
   ]
  },
  {
   "cell_type": "markdown",
   "id": "79f9c501-af10-4219-a5d3-68bccb141f05",
   "metadata": {},
   "source": [
    "## a) Beer style preferences"
   ]
  },
  {
   "cell_type": "code",
   "execution_count": 60,
   "id": "2f86c884-4d21-4354-8202-1c9833c9c003",
   "metadata": {},
   "outputs": [],
   "source": [
    "# use clustering techniques to determine beer style is most popular in each country / geographic area\n",
    "# use time information to determine if regional beer style preferences are stable (which would suggest that they are \n",
    "# strongly affected by culture)or if they vary over time"
   ]
  },
  {
   "cell_type": "markdown",
   "id": "5983a7d5-7c30-414f-a018-06ea6bc7ef71",
   "metadata": {},
   "source": [
    "## b) Importance of specific beer attributes"
   ]
  },
  {
   "cell_type": "code",
   "execution_count": 61,
   "id": "1ecb8aec-7393-4973-a836-f8cd44708931",
   "metadata": {},
   "outputs": [],
   "source": [
    "# perform linear regression between attribute ratings the final rating for all countries together and compare coefficients for each attribute\n",
    "# perform linear regression between attribute ratings the final rating for the different countries separately and observe the distribution of the coefficients for the different attributes across countries"
   ]
  },
  {
   "cell_type": "markdown",
   "id": "c01f5940-35af-427b-b75f-1d971a42d990",
   "metadata": {},
   "source": [
    "# 2) Location-related biases in ratings"
   ]
  },
  {
   "cell_type": "markdown",
   "id": "037f969a-228d-4ec8-bb87-b720d89e001f",
   "metadata": {},
   "source": [
    "## a) Cultural biases"
   ]
  },
  {
   "cell_type": "code",
   "execution_count": 62,
   "id": "5610c865-9208-43c0-8f42-fddd4a159ee4",
   "metadata": {},
   "outputs": [],
   "source": [
    "# determine the final rating for each country/ geographic area\n",
    "# determine if the final rating for each country/ geographic area is the same using statistical tests"
   ]
  },
  {
   "cell_type": "markdown",
   "id": "610ad20b-5961-408e-a124-d2ecaf99a0ad",
   "metadata": {},
   "source": [
    "## b) Beer origin bias"
   ]
  },
  {
   "cell_type": "code",
   "execution_count": 63,
   "id": "a0350cbf-f773-4db5-81c7-a08aef2f9f37",
   "metadata": {},
   "outputs": [],
   "source": [
    "# compare the final rating of domestic vs foreign beers and determine if there is a significant difference using statistical tests\n",
    "# determine if the final rating of a given beer is correlated with the number of reviewers from the country where the beer comes from who reviewed that beer (scatter plot + Pearson’s correlation coefficient + regression)\n",
    "# isolate beer enthusiasts (who wrote a very large number of reviews) and compare the final rating of domestic vs foreign beers and determine if there is a significant difference using statistical tests"
   ]
  },
  {
   "cell_type": "markdown",
   "id": "ce8cc7a4-05e3-4d31-8bd0-2bc692acb0ad",
   "metadata": {},
   "source": [
    "# 3) Other biases"
   ]
  },
  {
   "cell_type": "markdown",
   "id": "10db9d36-424f-48a0-96e0-22e1274bd46d",
   "metadata": {},
   "source": [
    "## a) Seasonal biases"
   ]
  },
  {
   "cell_type": "code",
   "execution_count": 64,
   "id": "89d52126-3c0a-4505-80c0-4266f7041665",
   "metadata": {},
   "outputs": [],
   "source": [
    "# use the time information to determine the season during which each rating was posted (only consider countries with 4 seasons)\n",
    "# group ratings by season\n",
    "# within each group, determine the average final rating of each beer style\n",
    "# compare the results for the different seasons"
   ]
  },
  {
   "cell_type": "markdown",
   "id": "5a90222b-dccb-4064-8f22-38326863b6bd",
   "metadata": {},
   "source": [
    "## b) Experience biais"
   ]
  },
  {
   "cell_type": "code",
   "execution_count": 65,
   "id": "7d1b5e93-edad-4670-8c8e-ab1a11aa4be3",
   "metadata": {},
   "outputs": [],
   "source": [
    "# isolate users who gave a lot of ratings (based on a chosen threshold)\n",
    "# for each user, sort their reviews chronologically and assign an \"experience level\" (predefined values that will be the same for all users: n<o<p) to each rating based the count of reviews posted by that user up to that rating: new reviewer (for the first n reviews), amateur (for the n+1 th review up to the oth review), expert (for the o+1 th review until the last review)\n",
    "# calculate the average final rating for each experience level across all users\n",
    "# represent results as a bar plot\n",
    "# if a particular trend is visible,perform a paired t-test (for early vs. late reviews by the same user) to test if the rating decrease or increase is statistically significant"
   ]
  }
 ],
 "metadata": {
  "kernelspec": {
   "display_name": "Python [conda env:ada] *",
   "language": "python",
   "name": "conda-env-ada-py"
  },
  "language_info": {
   "codemirror_mode": {
    "name": "ipython",
    "version": 3
   },
   "file_extension": ".py",
   "mimetype": "text/x-python",
   "name": "python",
   "nbconvert_exporter": "python",
   "pygments_lexer": "ipython3",
   "version": "3.11.9"
  }
 },
 "nbformat": 4,
 "nbformat_minor": 5
}
