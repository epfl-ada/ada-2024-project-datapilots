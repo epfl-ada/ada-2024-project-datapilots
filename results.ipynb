{
 "cells": [
  {
   "cell_type": "markdown",
   "id": "e9c53cdf",
   "metadata": {},
   "source": [
    "# Modules"
   ]
  },
  {
   "cell_type": "code",
   "execution_count": 2,
   "id": "92c60b06",
   "metadata": {},
   "outputs": [],
   "source": [
    "import pandas as pd\n",
    "import numpy as np\n",
    "from matplotlib import pyplot as plt\n",
    "from datetime import datetime, date, time\n",
    "import seaborn as sns\n",
    "from scipy import stats\n",
    "import scipy.stats as st\n",
    "import glob\n",
    "import warnings\n",
    "from scipy.stats import ttest_rel\n",
    "\n",
    "from src.utils.data_utils import assign_experience_level\n",
    "from src.utils.data_utils import clean_location_column"
   ]
  },
  {
   "cell_type": "code",
   "execution_count": 12,
   "id": "d7409f9c-6dae-4991-8407-ec2d4ef541d7",
   "metadata": {},
   "outputs": [],
   "source": [
    "# Suppress certain warnings\n",
    "warnings.filterwarnings(\"ignore\")"
   ]
  },
  {
   "cell_type": "markdown",
   "id": "33aa32a7",
   "metadata": {},
   "source": [
    "# Dataset"
   ]
  },
  {
   "cell_type": "markdown",
   "id": "dd63950a",
   "metadata": {},
   "source": [
    "The dataset used in this analysis consists of beer reviews from two beer rating websites,**BeerAdvocate** and **RateBeer**, for a period ranging from 2001 to 2017. For each website, we have 5 files:\n",
    "- users.csv: metadata about reviewers\n",
    "- beers.csv : metadata about reviewed beers\n",
    "- breweries.csv : metadata about breweries\n",
    "- ratings.txt : all reviews given by users, including numerical ratings and sometimes textual reviews\n",
    "- reviews.txt : only reviews given by users that include both numerical ratings and textual reviews\n",
    "\n",
    "In our analysis, we will not use textual reviews. Thus, we will only use ratings.txt files and not reviews.txt files, as we will use all reviews, whether or not they include textual reviews."
   ]
  },
  {
   "cell_type": "markdown",
   "id": "07f5967d",
   "metadata": {},
   "source": [
    "### Load data into Dataframes"
   ]
  },
  {
   "cell_type": "markdown",
   "id": "5ea7de26",
   "metadata": {},
   "source": [
    "The .csv files are not too large and can efficiently be loaded into DataFrames."
   ]
  },
  {
   "cell_type": "code",
   "execution_count": 4,
   "id": "29362fff",
   "metadata": {},
   "outputs": [],
   "source": [
    "BA_DATA_FOLDER = 'data/BeerAdvocate/'\n",
    "RB_DATA_FOLDER = 'data/RateBeer/'\n",
    "\n",
    "BA_USERS = BA_DATA_FOLDER+\"users.csv\"\n",
    "BA_BEERS = BA_DATA_FOLDER+\"beers.csv\"\n",
    "BA_BREWERIES = BA_DATA_FOLDER+\"breweries.csv\"\n",
    "\n",
    "RB_USERS = RB_DATA_FOLDER+\"users.csv\"\n",
    "RB_BEERS = RB_DATA_FOLDER+\"beers.csv\"\n",
    "RB_BREWERIES = RB_DATA_FOLDER+\"breweries.csv\""
   ]
  },
  {
   "cell_type": "code",
   "execution_count": 29,
   "id": "43d5750a",
   "metadata": {},
   "outputs": [],
   "source": [
    "ba_users = pd.read_csv(BA_USERS)\n",
    "ba_beers = pd.read_csv(BA_BEERS)\n",
    "ba_breweries = pd.read_csv(BA_BREWERIES)\n",
    "\n",
    "rb_users = pd.read_csv(RB_USERS)\n",
    "rb_beers = pd.read_csv(RB_BEERS)\n",
    "rb_breweries = pd.read_csv(RB_BREWERIES)"
   ]
  },
  {
   "cell_type": "markdown",
   "id": "b9de82ff",
   "metadata": {},
   "source": [
    "On the other hand, the ratings.txt files are extremely large, and trying to load them directly into DataFrames leads to kernel freezes. In order to circumvent this problem, we wrote a script (review_parser.py, located in src/scripts), which processes each rating file by dividing it into parts, parsing each part, and saving as JSON. In the notebook, we then load the different JSON files into DataFrames, that we concatenate. Dividing the large .txt files into smaller JSON chunks and then loading each chunk separately, avoids trying to load the entire file into memory at once, which can cause kernel freezes due to memory overload. In addition, JSON is a format that pandas can read efficiently."
   ]
  },
  {
   "cell_type": "code",
   "execution_count": 18,
   "id": "fea3c0da",
   "metadata": {},
   "outputs": [
    {
     "data": {
      "text/html": [
       "<div>\n",
       "<style scoped>\n",
       "    .dataframe tbody tr th:only-of-type {\n",
       "        vertical-align: middle;\n",
       "    }\n",
       "\n",
       "    .dataframe tbody tr th {\n",
       "        vertical-align: top;\n",
       "    }\n",
       "\n",
       "    .dataframe thead th {\n",
       "        text-align: right;\n",
       "    }\n",
       "</style>\n",
       "<table border=\"1\" class=\"dataframe\">\n",
       "  <thead>\n",
       "    <tr style=\"text-align: right;\">\n",
       "      <th></th>\n",
       "      <th>beer_name</th>\n",
       "      <th>beer_id</th>\n",
       "      <th>brewery_name</th>\n",
       "      <th>brewery_id</th>\n",
       "      <th>style</th>\n",
       "      <th>abv</th>\n",
       "      <th>date</th>\n",
       "      <th>user_name</th>\n",
       "      <th>user_id</th>\n",
       "      <th>appearance</th>\n",
       "      <th>aroma</th>\n",
       "      <th>palate</th>\n",
       "      <th>taste</th>\n",
       "      <th>overall</th>\n",
       "      <th>rating</th>\n",
       "    </tr>\n",
       "  </thead>\n",
       "  <tbody>\n",
       "    <tr>\n",
       "      <th>0</th>\n",
       "      <td>Régab</td>\n",
       "      <td>142544.0</td>\n",
       "      <td>Societe des Brasseries du Gabon (SOBRAGA)</td>\n",
       "      <td>37262.0</td>\n",
       "      <td>Euro Pale Lager</td>\n",
       "      <td>4.5</td>\n",
       "      <td>2015-08-20 10:00:00</td>\n",
       "      <td>nmann08</td>\n",
       "      <td>nmann08.184925</td>\n",
       "      <td>3.25</td>\n",
       "      <td>2.75</td>\n",
       "      <td>3.25</td>\n",
       "      <td>2.75</td>\n",
       "      <td>3.0</td>\n",
       "      <td>2.88</td>\n",
       "    </tr>\n",
       "    <tr>\n",
       "      <th>1</th>\n",
       "      <td>Barelegs Brew</td>\n",
       "      <td>19590.0</td>\n",
       "      <td>Strangford Lough Brewing Company Ltd</td>\n",
       "      <td>10093.0</td>\n",
       "      <td>English Pale Ale</td>\n",
       "      <td>4.5</td>\n",
       "      <td>2009-02-20 11:00:00</td>\n",
       "      <td>StJamesGate</td>\n",
       "      <td>stjamesgate.163714</td>\n",
       "      <td>3.00</td>\n",
       "      <td>3.50</td>\n",
       "      <td>3.50</td>\n",
       "      <td>4.00</td>\n",
       "      <td>3.5</td>\n",
       "      <td>3.67</td>\n",
       "    </tr>\n",
       "    <tr>\n",
       "      <th>2</th>\n",
       "      <td>Barelegs Brew</td>\n",
       "      <td>19590.0</td>\n",
       "      <td>Strangford Lough Brewing Company Ltd</td>\n",
       "      <td>10093.0</td>\n",
       "      <td>English Pale Ale</td>\n",
       "      <td>4.5</td>\n",
       "      <td>2006-03-13 11:00:00</td>\n",
       "      <td>mdagnew</td>\n",
       "      <td>mdagnew.19527</td>\n",
       "      <td>4.00</td>\n",
       "      <td>3.50</td>\n",
       "      <td>3.50</td>\n",
       "      <td>4.00</td>\n",
       "      <td>3.5</td>\n",
       "      <td>3.73</td>\n",
       "    </tr>\n",
       "    <tr>\n",
       "      <th>3</th>\n",
       "      <td>Barelegs Brew</td>\n",
       "      <td>19590.0</td>\n",
       "      <td>Strangford Lough Brewing Company Ltd</td>\n",
       "      <td>10093.0</td>\n",
       "      <td>English Pale Ale</td>\n",
       "      <td>4.5</td>\n",
       "      <td>2004-12-01 11:00:00</td>\n",
       "      <td>helloloser12345</td>\n",
       "      <td>helloloser12345.10867</td>\n",
       "      <td>4.00</td>\n",
       "      <td>3.50</td>\n",
       "      <td>4.00</td>\n",
       "      <td>4.00</td>\n",
       "      <td>4.5</td>\n",
       "      <td>3.98</td>\n",
       "    </tr>\n",
       "    <tr>\n",
       "      <th>4</th>\n",
       "      <td>Barelegs Brew</td>\n",
       "      <td>19590.0</td>\n",
       "      <td>Strangford Lough Brewing Company Ltd</td>\n",
       "      <td>10093.0</td>\n",
       "      <td>English Pale Ale</td>\n",
       "      <td>4.5</td>\n",
       "      <td>2004-08-30 10:00:00</td>\n",
       "      <td>cypressbob</td>\n",
       "      <td>cypressbob.3708</td>\n",
       "      <td>4.00</td>\n",
       "      <td>4.00</td>\n",
       "      <td>4.00</td>\n",
       "      <td>4.00</td>\n",
       "      <td>4.0</td>\n",
       "      <td>4.00</td>\n",
       "    </tr>\n",
       "  </tbody>\n",
       "</table>\n",
       "</div>"
      ],
      "text/plain": [
       "       beer_name   beer_id                               brewery_name  \\\n",
       "0          Régab  142544.0  Societe des Brasseries du Gabon (SOBRAGA)   \n",
       "1  Barelegs Brew   19590.0       Strangford Lough Brewing Company Ltd   \n",
       "2  Barelegs Brew   19590.0       Strangford Lough Brewing Company Ltd   \n",
       "3  Barelegs Brew   19590.0       Strangford Lough Brewing Company Ltd   \n",
       "4  Barelegs Brew   19590.0       Strangford Lough Brewing Company Ltd   \n",
       "\n",
       "   brewery_id             style  abv                date        user_name  \\\n",
       "0     37262.0   Euro Pale Lager  4.5 2015-08-20 10:00:00          nmann08   \n",
       "1     10093.0  English Pale Ale  4.5 2009-02-20 11:00:00      StJamesGate   \n",
       "2     10093.0  English Pale Ale  4.5 2006-03-13 11:00:00          mdagnew   \n",
       "3     10093.0  English Pale Ale  4.5 2004-12-01 11:00:00  helloloser12345   \n",
       "4     10093.0  English Pale Ale  4.5 2004-08-30 10:00:00       cypressbob   \n",
       "\n",
       "                 user_id  appearance  aroma  palate  taste  overall  rating  \n",
       "0         nmann08.184925        3.25   2.75    3.25   2.75      3.0    2.88  \n",
       "1     stjamesgate.163714        3.00   3.50    3.50   4.00      3.5    3.67  \n",
       "2          mdagnew.19527        4.00   3.50    3.50   4.00      3.5    3.73  \n",
       "3  helloloser12345.10867        4.00   3.50    4.00   4.00      4.5    3.98  \n",
       "4        cypressbob.3708        4.00   4.00    4.00   4.00      4.0    4.00  "
      ]
     },
     "execution_count": 18,
     "metadata": {},
     "output_type": "execute_result"
    }
   ],
   "source": [
    "# Load BeerAdvocate ratings stored in json files into a single DataFrame\n",
    "ba_json_files = glob.glob(BA_DATA_FOLDER+'*.json')\n",
    "ba_df_list = [pd.read_json(file) for file in ba_json_files]\n",
    "ba_ratings = pd.concat(ba_df_list, ignore_index=True)\n",
    "ba_ratings.head()"
   ]
  },
  {
   "cell_type": "code",
   "execution_count": 28,
   "id": "ad45bd19",
   "metadata": {},
   "outputs": [
    {
     "data": {
      "text/html": [
       "<div>\n",
       "<style scoped>\n",
       "    .dataframe tbody tr th:only-of-type {\n",
       "        vertical-align: middle;\n",
       "    }\n",
       "\n",
       "    .dataframe tbody tr th {\n",
       "        vertical-align: top;\n",
       "    }\n",
       "\n",
       "    .dataframe thead th {\n",
       "        text-align: right;\n",
       "    }\n",
       "</style>\n",
       "<table border=\"1\" class=\"dataframe\">\n",
       "  <thead>\n",
       "    <tr style=\"text-align: right;\">\n",
       "      <th></th>\n",
       "      <th>beer_name</th>\n",
       "      <th>beer_id</th>\n",
       "      <th>brewery_name</th>\n",
       "      <th>brewery_id</th>\n",
       "      <th>style</th>\n",
       "      <th>abv</th>\n",
       "      <th>date</th>\n",
       "      <th>user_name</th>\n",
       "      <th>user_id</th>\n",
       "      <th>appearance</th>\n",
       "      <th>aroma</th>\n",
       "      <th>palate</th>\n",
       "      <th>taste</th>\n",
       "      <th>overall</th>\n",
       "      <th>rating</th>\n",
       "    </tr>\n",
       "  </thead>\n",
       "  <tbody>\n",
       "    <tr>\n",
       "      <th>0</th>\n",
       "      <td>33 Export (Gabon)</td>\n",
       "      <td>410549.0</td>\n",
       "      <td>Sobraga</td>\n",
       "      <td>3198.0</td>\n",
       "      <td>Pale Lager</td>\n",
       "      <td>5.0</td>\n",
       "      <td>2016-04-26 10:00:00</td>\n",
       "      <td>Manslow</td>\n",
       "      <td>175852.0</td>\n",
       "      <td>2.0</td>\n",
       "      <td>4.0</td>\n",
       "      <td>2.0</td>\n",
       "      <td>4.0</td>\n",
       "      <td>8.0</td>\n",
       "      <td>2.0</td>\n",
       "    </tr>\n",
       "    <tr>\n",
       "      <th>1</th>\n",
       "      <td>Castel Beer (Gabon)</td>\n",
       "      <td>105273.0</td>\n",
       "      <td>Sobraga</td>\n",
       "      <td>3198.0</td>\n",
       "      <td>Pale Lager</td>\n",
       "      <td>5.2</td>\n",
       "      <td>2017-02-17 11:00:00</td>\n",
       "      <td>MAGICuenca91</td>\n",
       "      <td>442761.0</td>\n",
       "      <td>2.0</td>\n",
       "      <td>3.0</td>\n",
       "      <td>2.0</td>\n",
       "      <td>4.0</td>\n",
       "      <td>8.0</td>\n",
       "      <td>1.9</td>\n",
       "    </tr>\n",
       "    <tr>\n",
       "      <th>2</th>\n",
       "      <td>Castel Beer (Gabon)</td>\n",
       "      <td>105273.0</td>\n",
       "      <td>Sobraga</td>\n",
       "      <td>3198.0</td>\n",
       "      <td>Pale Lager</td>\n",
       "      <td>5.2</td>\n",
       "      <td>2016-06-24 10:00:00</td>\n",
       "      <td>Sibarh</td>\n",
       "      <td>288889.0</td>\n",
       "      <td>3.0</td>\n",
       "      <td>3.0</td>\n",
       "      <td>2.0</td>\n",
       "      <td>3.0</td>\n",
       "      <td>5.0</td>\n",
       "      <td>1.6</td>\n",
       "    </tr>\n",
       "    <tr>\n",
       "      <th>3</th>\n",
       "      <td>Castel Beer (Gabon)</td>\n",
       "      <td>105273.0</td>\n",
       "      <td>Sobraga</td>\n",
       "      <td>3198.0</td>\n",
       "      <td>Pale Lager</td>\n",
       "      <td>5.2</td>\n",
       "      <td>2016-01-01 11:00:00</td>\n",
       "      <td>fombe89</td>\n",
       "      <td>250510.0</td>\n",
       "      <td>4.0</td>\n",
       "      <td>3.0</td>\n",
       "      <td>1.0</td>\n",
       "      <td>2.0</td>\n",
       "      <td>5.0</td>\n",
       "      <td>1.5</td>\n",
       "    </tr>\n",
       "    <tr>\n",
       "      <th>4</th>\n",
       "      <td>Castel Beer (Gabon)</td>\n",
       "      <td>105273.0</td>\n",
       "      <td>Sobraga</td>\n",
       "      <td>3198.0</td>\n",
       "      <td>Pale Lager</td>\n",
       "      <td>5.2</td>\n",
       "      <td>2015-10-23 10:00:00</td>\n",
       "      <td>kevnic2008</td>\n",
       "      <td>122778.0</td>\n",
       "      <td>2.0</td>\n",
       "      <td>4.0</td>\n",
       "      <td>2.0</td>\n",
       "      <td>4.0</td>\n",
       "      <td>7.0</td>\n",
       "      <td>1.9</td>\n",
       "    </tr>\n",
       "  </tbody>\n",
       "</table>\n",
       "</div>"
      ],
      "text/plain": [
       "             beer_name   beer_id brewery_name  brewery_id       style  abv  \\\n",
       "0    33 Export (Gabon)  410549.0      Sobraga      3198.0  Pale Lager  5.0   \n",
       "1  Castel Beer (Gabon)  105273.0      Sobraga      3198.0  Pale Lager  5.2   \n",
       "2  Castel Beer (Gabon)  105273.0      Sobraga      3198.0  Pale Lager  5.2   \n",
       "3  Castel Beer (Gabon)  105273.0      Sobraga      3198.0  Pale Lager  5.2   \n",
       "4  Castel Beer (Gabon)  105273.0      Sobraga      3198.0  Pale Lager  5.2   \n",
       "\n",
       "                 date     user_name   user_id  appearance  aroma  palate  \\\n",
       "0 2016-04-26 10:00:00       Manslow  175852.0         2.0    4.0     2.0   \n",
       "1 2017-02-17 11:00:00  MAGICuenca91  442761.0         2.0    3.0     2.0   \n",
       "2 2016-06-24 10:00:00        Sibarh  288889.0         3.0    3.0     2.0   \n",
       "3 2016-01-01 11:00:00       fombe89  250510.0         4.0    3.0     1.0   \n",
       "4 2015-10-23 10:00:00    kevnic2008  122778.0         2.0    4.0     2.0   \n",
       "\n",
       "   taste  overall  rating  \n",
       "0    4.0      8.0     2.0  \n",
       "1    4.0      8.0     1.9  \n",
       "2    3.0      5.0     1.6  \n",
       "3    2.0      5.0     1.5  \n",
       "4    4.0      7.0     1.9  "
      ]
     },
     "execution_count": 28,
     "metadata": {},
     "output_type": "execute_result"
    }
   ],
   "source": [
    "# Load RateBeer ratings stored in json files into a single DataFrame\n",
    "rb_json_files = glob.glob(RB_DATA_FOLDER+'*.json')\n",
    "rb_df_list = [pd.read_json(file) for file in rb_json_files]\n",
    "rb_ratings = pd.concat(rb_df_list, ignore_index=True)\n",
    "rb_ratings.head()"
   ]
  },
  {
   "cell_type": "markdown",
   "id": "a0df2769",
   "metadata": {},
   "source": [
    "### First look at the data\n",
    "\n",
    "We will now examine the different DataFrames in more detail."
   ]
  },
  {
   "cell_type": "markdown",
   "id": "883544be",
   "metadata": {},
   "source": [
    "**BeerAdvocate beer Dataframe**"
   ]
  },
  {
   "cell_type": "code",
   "execution_count": 7,
   "id": "88626551",
   "metadata": {},
   "outputs": [
    {
     "data": {
      "text/html": [
       "<div>\n",
       "<style scoped>\n",
       "    .dataframe tbody tr th:only-of-type {\n",
       "        vertical-align: middle;\n",
       "    }\n",
       "\n",
       "    .dataframe tbody tr th {\n",
       "        vertical-align: top;\n",
       "    }\n",
       "\n",
       "    .dataframe thead th {\n",
       "        text-align: right;\n",
       "    }\n",
       "</style>\n",
       "<table border=\"1\" class=\"dataframe\">\n",
       "  <thead>\n",
       "    <tr style=\"text-align: right;\">\n",
       "      <th></th>\n",
       "      <th>beer_id</th>\n",
       "      <th>beer_name</th>\n",
       "      <th>brewery_id</th>\n",
       "      <th>brewery_name</th>\n",
       "      <th>style</th>\n",
       "      <th>nbr_ratings</th>\n",
       "      <th>nbr_reviews</th>\n",
       "      <th>avg</th>\n",
       "      <th>ba_score</th>\n",
       "      <th>bros_score</th>\n",
       "      <th>abv</th>\n",
       "      <th>avg_computed</th>\n",
       "      <th>zscore</th>\n",
       "      <th>nbr_matched_valid_ratings</th>\n",
       "      <th>avg_matched_valid_ratings</th>\n",
       "    </tr>\n",
       "  </thead>\n",
       "  <tbody>\n",
       "    <tr>\n",
       "      <th>109707</th>\n",
       "      <td>114756</td>\n",
       "      <td>Esmerelda</td>\n",
       "      <td>24474</td>\n",
       "      <td>NW Peaks Brewery</td>\n",
       "      <td>English Pale Ale</td>\n",
       "      <td>2</td>\n",
       "      <td>0</td>\n",
       "      <td>3.38</td>\n",
       "      <td>NaN</td>\n",
       "      <td>NaN</td>\n",
       "      <td>5.7</td>\n",
       "      <td>3.375000</td>\n",
       "      <td>NaN</td>\n",
       "      <td>0</td>\n",
       "      <td>NaN</td>\n",
       "    </tr>\n",
       "    <tr>\n",
       "      <th>147442</th>\n",
       "      <td>146438</td>\n",
       "      <td>Jong Bruin Kriek Cafe</td>\n",
       "      <td>1114</td>\n",
       "      <td>Bullfrog Brewery</td>\n",
       "      <td>Flanders Oud Bruin</td>\n",
       "      <td>14</td>\n",
       "      <td>1</td>\n",
       "      <td>3.45</td>\n",
       "      <td>82.0</td>\n",
       "      <td>NaN</td>\n",
       "      <td>6.5</td>\n",
       "      <td>3.882857</td>\n",
       "      <td>NaN</td>\n",
       "      <td>0</td>\n",
       "      <td>NaN</td>\n",
       "    </tr>\n",
       "    <tr>\n",
       "      <th>155014</th>\n",
       "      <td>94081</td>\n",
       "      <td>Caskette</td>\n",
       "      <td>28383</td>\n",
       "      <td>Tired Hands Brewing Company</td>\n",
       "      <td>English Pale Mild Ale</td>\n",
       "      <td>31</td>\n",
       "      <td>2</td>\n",
       "      <td>4.18</td>\n",
       "      <td>88.0</td>\n",
       "      <td>NaN</td>\n",
       "      <td>4.0</td>\n",
       "      <td>3.998387</td>\n",
       "      <td>NaN</td>\n",
       "      <td>0</td>\n",
       "      <td>NaN</td>\n",
       "    </tr>\n",
       "    <tr>\n",
       "      <th>127399</th>\n",
       "      <td>179107</td>\n",
       "      <td>Inter-Planetary Lager</td>\n",
       "      <td>653</td>\n",
       "      <td>Rohrbach Brewing Company (Brewpub)</td>\n",
       "      <td>American Double / Imperial Pilsner</td>\n",
       "      <td>6</td>\n",
       "      <td>1</td>\n",
       "      <td>3.73</td>\n",
       "      <td>NaN</td>\n",
       "      <td>NaN</td>\n",
       "      <td>NaN</td>\n",
       "      <td>3.748333</td>\n",
       "      <td>NaN</td>\n",
       "      <td>0</td>\n",
       "      <td>NaN</td>\n",
       "    </tr>\n",
       "  </tbody>\n",
       "</table>\n",
       "</div>"
      ],
      "text/plain": [
       "        beer_id              beer_name  brewery_id  \\\n",
       "109707   114756              Esmerelda       24474   \n",
       "147442   146438  Jong Bruin Kriek Cafe        1114   \n",
       "155014    94081               Caskette       28383   \n",
       "127399   179107  Inter-Planetary Lager         653   \n",
       "\n",
       "                              brewery_name  \\\n",
       "109707                    NW Peaks Brewery   \n",
       "147442                    Bullfrog Brewery   \n",
       "155014         Tired Hands Brewing Company   \n",
       "127399  Rohrbach Brewing Company (Brewpub)   \n",
       "\n",
       "                                     style  nbr_ratings  nbr_reviews   avg  \\\n",
       "109707                    English Pale Ale            2            0  3.38   \n",
       "147442                  Flanders Oud Bruin           14            1  3.45   \n",
       "155014               English Pale Mild Ale           31            2  4.18   \n",
       "127399  American Double / Imperial Pilsner            6            1  3.73   \n",
       "\n",
       "        ba_score  bros_score  abv  avg_computed  zscore  \\\n",
       "109707       NaN         NaN  5.7      3.375000     NaN   \n",
       "147442      82.0         NaN  6.5      3.882857     NaN   \n",
       "155014      88.0         NaN  4.0      3.998387     NaN   \n",
       "127399       NaN         NaN  NaN      3.748333     NaN   \n",
       "\n",
       "        nbr_matched_valid_ratings  avg_matched_valid_ratings  \n",
       "109707                          0                        NaN  \n",
       "147442                          0                        NaN  \n",
       "155014                          0                        NaN  \n",
       "127399                          0                        NaN  "
      ]
     },
     "execution_count": 7,
     "metadata": {},
     "output_type": "execute_result"
    }
   ],
   "source": [
    "ba_beers.sample(4)"
   ]
  },
  {
   "cell_type": "markdown",
   "id": "10b9da71",
   "metadata": {},
   "source": [
    "Let us explain the different columns of the BeerAdvocate beer Dataframe, in which each row is a beer:\n",
    "- beer_id, beer_name, brewery_id, brewery_name, style are explicit\n",
    "- nbr_ratings: total number of reviews for that beer, whether or not they include textual reviews\n",
    "- nbr_reviews: number of reviews for that beer that include textual reviews\n",
    "- avg: average rating (out of 5) given to the beer based on user ratings\n",
    "- ba_score: the BeerAdvocate score assigned to the beer, which corresponds to the beer's overall rating within its style category, calculated using a trimmed mean and a custom Bayesian formula that adjusts for the beer's style, balancing the score based on the number of ratings and the style's average\n",
    "- bros_score: beer rating given by the site’s founders\n",
    "- abv: 'Alcohol by volume', which indicates the percentage of alcohol content in the beer\n",
    "- avg_computed: average rating (out of 5) recalculated using a weighted sum of the different aspect ratings\n",
    "- zscore: z-score of the beer's average rating, which is a statistical measure that indicates how many standard deviations the average rating is from the mean of all ratings from the BeerAdvocate dataset\n",
    "- nbr_matched_valid_ratings: number of valid ratings for beers that were successfully matched between two BeerAdvocate and RateBeer\n",
    "- avg_matched_valid_ratings: average rating of those matched and valid ratings across the sites\n",
    "\n",
    "The last two columns are related to the analysis performed by Robert West and Gael Lederrey in the following paper: https://dlab.epfl.ch/people/west/pub/Lederrey-West_WWW-18.pdf."
   ]
  },
  {
   "cell_type": "markdown",
   "id": "b61ba0d8",
   "metadata": {},
   "source": [
    "**RateBeer beer Dataframe**"
   ]
  },
  {
   "cell_type": "code",
   "execution_count": 8,
   "id": "5f856a5a",
   "metadata": {},
   "outputs": [
    {
     "data": {
      "text/html": [
       "<div>\n",
       "<style scoped>\n",
       "    .dataframe tbody tr th:only-of-type {\n",
       "        vertical-align: middle;\n",
       "    }\n",
       "\n",
       "    .dataframe tbody tr th {\n",
       "        vertical-align: top;\n",
       "    }\n",
       "\n",
       "    .dataframe thead th {\n",
       "        text-align: right;\n",
       "    }\n",
       "</style>\n",
       "<table border=\"1\" class=\"dataframe\">\n",
       "  <thead>\n",
       "    <tr style=\"text-align: right;\">\n",
       "      <th></th>\n",
       "      <th>beer_id</th>\n",
       "      <th>beer_name</th>\n",
       "      <th>brewery_id</th>\n",
       "      <th>brewery_name</th>\n",
       "      <th>style</th>\n",
       "      <th>nbr_ratings</th>\n",
       "      <th>overall_score</th>\n",
       "      <th>style_score</th>\n",
       "      <th>avg</th>\n",
       "      <th>abv</th>\n",
       "      <th>avg_computed</th>\n",
       "      <th>zscore</th>\n",
       "      <th>nbr_matched_valid_ratings</th>\n",
       "      <th>avg_matched_valid_ratings</th>\n",
       "    </tr>\n",
       "  </thead>\n",
       "  <tbody>\n",
       "    <tr>\n",
       "      <th>405013</th>\n",
       "      <td>340882</td>\n",
       "      <td>Rudgate Dick Firkin</td>\n",
       "      <td>2292</td>\n",
       "      <td>Rudgate</td>\n",
       "      <td>Golden Ale/Blond Ale</td>\n",
       "      <td>9</td>\n",
       "      <td>NaN</td>\n",
       "      <td>NaN</td>\n",
       "      <td>2.95</td>\n",
       "      <td>4.0</td>\n",
       "      <td>2.966667</td>\n",
       "      <td>NaN</td>\n",
       "      <td>0</td>\n",
       "      <td>NaN</td>\n",
       "    </tr>\n",
       "    <tr>\n",
       "      <th>360725</th>\n",
       "      <td>436451</td>\n",
       "      <td>Blue Nose Guava Smooby</td>\n",
       "      <td>19935</td>\n",
       "      <td>Blue Nose Brewery</td>\n",
       "      <td>India Pale Ale (IPA)</td>\n",
       "      <td>1</td>\n",
       "      <td>NaN</td>\n",
       "      <td>NaN</td>\n",
       "      <td>3.15</td>\n",
       "      <td>5.8</td>\n",
       "      <td>4.000000</td>\n",
       "      <td>NaN</td>\n",
       "      <td>0</td>\n",
       "      <td>NaN</td>\n",
       "    </tr>\n",
       "    <tr>\n",
       "      <th>208784</th>\n",
       "      <td>535025</td>\n",
       "      <td>Argyle Summer Shandy</td>\n",
       "      <td>19808</td>\n",
       "      <td>Argyle Brewing Company</td>\n",
       "      <td>Radler/Shandy</td>\n",
       "      <td>1</td>\n",
       "      <td>NaN</td>\n",
       "      <td>NaN</td>\n",
       "      <td>3.11</td>\n",
       "      <td>4.3</td>\n",
       "      <td>3.800000</td>\n",
       "      <td>NaN</td>\n",
       "      <td>0</td>\n",
       "      <td>NaN</td>\n",
       "    </tr>\n",
       "    <tr>\n",
       "      <th>35794</th>\n",
       "      <td>289514</td>\n",
       "      <td>Cainz Home Kogane</td>\n",
       "      <td>29313</td>\n",
       "      <td>Unknown Origin - Asia</td>\n",
       "      <td>Pale Lager</td>\n",
       "      <td>2</td>\n",
       "      <td>NaN</td>\n",
       "      <td>NaN</td>\n",
       "      <td>2.58</td>\n",
       "      <td>5.0</td>\n",
       "      <td>1.950000</td>\n",
       "      <td>NaN</td>\n",
       "      <td>0</td>\n",
       "      <td>NaN</td>\n",
       "    </tr>\n",
       "  </tbody>\n",
       "</table>\n",
       "</div>"
      ],
      "text/plain": [
       "        beer_id               beer_name  brewery_id            brewery_name  \\\n",
       "405013   340882     Rudgate Dick Firkin        2292                 Rudgate   \n",
       "360725   436451  Blue Nose Guava Smooby       19935       Blue Nose Brewery   \n",
       "208784   535025    Argyle Summer Shandy       19808  Argyle Brewing Company   \n",
       "35794    289514       Cainz Home Kogane       29313   Unknown Origin - Asia   \n",
       "\n",
       "                       style  nbr_ratings  overall_score  style_score   avg  \\\n",
       "405013  Golden Ale/Blond Ale            9            NaN          NaN  2.95   \n",
       "360725  India Pale Ale (IPA)            1            NaN          NaN  3.15   \n",
       "208784         Radler/Shandy            1            NaN          NaN  3.11   \n",
       "35794             Pale Lager            2            NaN          NaN  2.58   \n",
       "\n",
       "        abv  avg_computed  zscore  nbr_matched_valid_ratings  \\\n",
       "405013  4.0      2.966667     NaN                          0   \n",
       "360725  5.8      4.000000     NaN                          0   \n",
       "208784  4.3      3.800000     NaN                          0   \n",
       "35794   5.0      1.950000     NaN                          0   \n",
       "\n",
       "        avg_matched_valid_ratings  \n",
       "405013                        NaN  \n",
       "360725                        NaN  \n",
       "208784                        NaN  \n",
       "35794                         NaN  "
      ]
     },
     "execution_count": 8,
     "metadata": {},
     "output_type": "execute_result"
    }
   ],
   "source": [
    "rb_beers.sample(4)"
   ]
  },
  {
   "cell_type": "markdown",
   "id": "dde8a37e",
   "metadata": {},
   "source": [
    "Let us explain the different columns of the RateBeer beer Dataframe, in which each row is a beer:\n",
    "\n",
    "The beer_id, beer_name, brewery_id, brewery_name, style, nbr_ratings, avg, abv, avg_computed, z-score, nbr_matched_valid_ratings and avg_matched_valid_ratings are the same as for the BeerAdvocate beer Dataframe.\n",
    "\n",
    "Some columns are missing compared to the BeerAdvocate beer Dataframe: ba_score and bros_score (which makes sense as these are BeerAdvocate-specific scores), and nbr_reviews.\n",
    "\n",
    "New columns are present compared to the BeerAdvocate beer Dataframe:\n",
    "- overall_score: score (out of 100) which \"reflects the rating given by RateBeer users and how this beer compares to all other beers on RateBeer\", calculated by considering the ratings given by each user and the total number of ratings for the beer\n",
    "- style_score: score given to the beer (out of 100) specifically within its style category"
   ]
  },
  {
   "cell_type": "markdown",
   "id": "0c05b97f",
   "metadata": {},
   "source": [
    "**BeerAdvocate user Dataframe**"
   ]
  },
  {
   "cell_type": "code",
   "execution_count": 9,
   "id": "e39afb3e",
   "metadata": {},
   "outputs": [
    {
     "data": {
      "text/html": [
       "<div>\n",
       "<style scoped>\n",
       "    .dataframe tbody tr th:only-of-type {\n",
       "        vertical-align: middle;\n",
       "    }\n",
       "\n",
       "    .dataframe tbody tr th {\n",
       "        vertical-align: top;\n",
       "    }\n",
       "\n",
       "    .dataframe thead th {\n",
       "        text-align: right;\n",
       "    }\n",
       "</style>\n",
       "<table border=\"1\" class=\"dataframe\">\n",
       "  <thead>\n",
       "    <tr style=\"text-align: right;\">\n",
       "      <th></th>\n",
       "      <th>nbr_ratings</th>\n",
       "      <th>nbr_reviews</th>\n",
       "      <th>user_id</th>\n",
       "      <th>user_name</th>\n",
       "      <th>joined</th>\n",
       "      <th>location</th>\n",
       "    </tr>\n",
       "  </thead>\n",
       "  <tbody>\n",
       "    <tr>\n",
       "      <th>146847</th>\n",
       "      <td>2</td>\n",
       "      <td>2</td>\n",
       "      <td>spooky_action.994733</td>\n",
       "      <td>Spooky_Action</td>\n",
       "      <td>1.433239e+09</td>\n",
       "      <td>United States, Pennsylvania</td>\n",
       "    </tr>\n",
       "    <tr>\n",
       "      <th>98987</th>\n",
       "      <td>1</td>\n",
       "      <td>0</td>\n",
       "      <td>farc320.1093069</td>\n",
       "      <td>farc320</td>\n",
       "      <td>1.452337e+09</td>\n",
       "      <td>United States, Connecticut</td>\n",
       "    </tr>\n",
       "    <tr>\n",
       "      <th>46005</th>\n",
       "      <td>29</td>\n",
       "      <td>0</td>\n",
       "      <td>bigjimo.685247</td>\n",
       "      <td>BigJiMo</td>\n",
       "      <td>1.342519e+09</td>\n",
       "      <td>United States, North Carolina</td>\n",
       "    </tr>\n",
       "    <tr>\n",
       "      <th>144258</th>\n",
       "      <td>1</td>\n",
       "      <td>0</td>\n",
       "      <td>netteflaherty.712721</td>\n",
       "      <td>Netteflaherty</td>\n",
       "      <td>1.357988e+09</td>\n",
       "      <td>NaN</td>\n",
       "    </tr>\n",
       "  </tbody>\n",
       "</table>\n",
       "</div>"
      ],
      "text/plain": [
       "        nbr_ratings  nbr_reviews               user_id      user_name  \\\n",
       "146847            2            2  spooky_action.994733  Spooky_Action   \n",
       "98987             1            0       farc320.1093069        farc320   \n",
       "46005            29            0        bigjimo.685247        BigJiMo   \n",
       "144258            1            0  netteflaherty.712721  Netteflaherty   \n",
       "\n",
       "              joined                       location  \n",
       "146847  1.433239e+09    United States, Pennsylvania  \n",
       "98987   1.452337e+09     United States, Connecticut  \n",
       "46005   1.342519e+09  United States, North Carolina  \n",
       "144258  1.357988e+09                            NaN  "
      ]
     },
     "execution_count": 9,
     "metadata": {},
     "output_type": "execute_result"
    }
   ],
   "source": [
    "ba_users.sample(4)"
   ]
  },
  {
   "cell_type": "markdown",
   "id": "72aa2be4",
   "metadata": {},
   "source": [
    "Let us explain the different columns of the BeerAdvocate user Dataframe, in which each row is a reviewer:\n",
    "- nbr_ratings, nbr_reviews, user_id, user_name, and location are explicit\n",
    "- joined: timestamp indicating when the user joined BeerAdvocate in Unix timestamp format (the number of seconds since January 1, 1970, 00:00:00 UTC)"
   ]
  },
  {
   "cell_type": "markdown",
   "id": "26b3a61b",
   "metadata": {},
   "source": [
    "**RateBeer user Dataframe**"
   ]
  },
  {
   "cell_type": "code",
   "execution_count": 10,
   "id": "36eed828",
   "metadata": {},
   "outputs": [
    {
     "data": {
      "text/html": [
       "<div>\n",
       "<style scoped>\n",
       "    .dataframe tbody tr th:only-of-type {\n",
       "        vertical-align: middle;\n",
       "    }\n",
       "\n",
       "    .dataframe tbody tr th {\n",
       "        vertical-align: top;\n",
       "    }\n",
       "\n",
       "    .dataframe thead th {\n",
       "        text-align: right;\n",
       "    }\n",
       "</style>\n",
       "<table border=\"1\" class=\"dataframe\">\n",
       "  <thead>\n",
       "    <tr style=\"text-align: right;\">\n",
       "      <th></th>\n",
       "      <th>nbr_ratings</th>\n",
       "      <th>user_id</th>\n",
       "      <th>user_name</th>\n",
       "      <th>joined</th>\n",
       "      <th>location</th>\n",
       "    </tr>\n",
       "  </thead>\n",
       "  <tbody>\n",
       "    <tr>\n",
       "      <th>36459</th>\n",
       "      <td>9</td>\n",
       "      <td>462397</td>\n",
       "      <td>strysio</td>\n",
       "      <td>1.493978e+09</td>\n",
       "      <td>NaN</td>\n",
       "    </tr>\n",
       "    <tr>\n",
       "      <th>27527</th>\n",
       "      <td>1</td>\n",
       "      <td>389056</td>\n",
       "      <td>AthosBeerserk</td>\n",
       "      <td>1.445857e+09</td>\n",
       "      <td>Chile</td>\n",
       "    </tr>\n",
       "    <tr>\n",
       "      <th>9213</th>\n",
       "      <td>3</td>\n",
       "      <td>89858</td>\n",
       "      <td>Roomspinning</td>\n",
       "      <td>1.239358e+09</td>\n",
       "      <td>Canada</td>\n",
       "    </tr>\n",
       "    <tr>\n",
       "      <th>25385</th>\n",
       "      <td>4</td>\n",
       "      <td>133047</td>\n",
       "      <td>wholly81</td>\n",
       "      <td>1.312452e+09</td>\n",
       "      <td>NaN</td>\n",
       "    </tr>\n",
       "  </tbody>\n",
       "</table>\n",
       "</div>"
      ],
      "text/plain": [
       "       nbr_ratings  user_id      user_name        joined location\n",
       "36459            9   462397        strysio  1.493978e+09      NaN\n",
       "27527            1   389056  AthosBeerserk  1.445857e+09    Chile\n",
       "9213             3    89858   Roomspinning  1.239358e+09   Canada\n",
       "25385            4   133047       wholly81  1.312452e+09      NaN"
      ]
     },
     "execution_count": 10,
     "metadata": {},
     "output_type": "execute_result"
    }
   ],
   "source": [
    "rb_users.sample(4)"
   ]
  },
  {
   "cell_type": "markdown",
   "id": "fabbb83a",
   "metadata": {},
   "source": [
    "Let us explain the different columns of the RateBeer user Dataframe, in which each row is a reviewer:\n",
    "\n",
    "The columns are the same as in the BeerAdvocate user Dataframe (joined is obviously the timestamp indicating when the user joined RateBeer and not BeerAdvocate), except that nbr_reviews is missing."
   ]
  },
  {
   "cell_type": "markdown",
   "id": "77f6da89",
   "metadata": {},
   "source": [
    "**Brewery Dataframes**"
   ]
  },
  {
   "cell_type": "code",
   "execution_count": 11,
   "id": "eb3b5830",
   "metadata": {},
   "outputs": [
    {
     "data": {
      "text/html": [
       "<div>\n",
       "<style scoped>\n",
       "    .dataframe tbody tr th:only-of-type {\n",
       "        vertical-align: middle;\n",
       "    }\n",
       "\n",
       "    .dataframe tbody tr th {\n",
       "        vertical-align: top;\n",
       "    }\n",
       "\n",
       "    .dataframe thead th {\n",
       "        text-align: right;\n",
       "    }\n",
       "</style>\n",
       "<table border=\"1\" class=\"dataframe\">\n",
       "  <thead>\n",
       "    <tr style=\"text-align: right;\">\n",
       "      <th></th>\n",
       "      <th>id</th>\n",
       "      <th>location</th>\n",
       "      <th>name</th>\n",
       "      <th>nbr_beers</th>\n",
       "    </tr>\n",
       "  </thead>\n",
       "  <tbody>\n",
       "    <tr>\n",
       "      <th>12272</th>\n",
       "      <td>47986</td>\n",
       "      <td>United States, New Mexico</td>\n",
       "      <td>Drafty Kilt Brewing Company</td>\n",
       "      <td>3</td>\n",
       "    </tr>\n",
       "    <tr>\n",
       "      <th>15607</th>\n",
       "      <td>166</td>\n",
       "      <td>United States, California</td>\n",
       "      <td>Palm Springs Brewery Inc.</td>\n",
       "      <td>2</td>\n",
       "    </tr>\n",
       "    <tr>\n",
       "      <th>1235</th>\n",
       "      <td>23486</td>\n",
       "      <td>China</td>\n",
       "      <td>Hebei Lanbei Liquor Group</td>\n",
       "      <td>1</td>\n",
       "    </tr>\n",
       "    <tr>\n",
       "      <th>7114</th>\n",
       "      <td>539</td>\n",
       "      <td>Netherlands</td>\n",
       "      <td>Hoeksche Waard Bierbrouwerij</td>\n",
       "      <td>4</td>\n",
       "    </tr>\n",
       "  </tbody>\n",
       "</table>\n",
       "</div>"
      ],
      "text/plain": [
       "          id                   location                          name  \\\n",
       "12272  47986  United States, New Mexico   Drafty Kilt Brewing Company   \n",
       "15607    166  United States, California     Palm Springs Brewery Inc.   \n",
       "1235   23486                      China     Hebei Lanbei Liquor Group   \n",
       "7114     539                Netherlands  Hoeksche Waard Bierbrouwerij   \n",
       "\n",
       "       nbr_beers  \n",
       "12272          3  \n",
       "15607          2  \n",
       "1235           1  \n",
       "7114           4  "
      ]
     },
     "execution_count": 11,
     "metadata": {},
     "output_type": "execute_result"
    }
   ],
   "source": [
    "ba_breweries.sample(4)"
   ]
  },
  {
   "cell_type": "code",
   "execution_count": 12,
   "id": "5c0d1708",
   "metadata": {},
   "outputs": [
    {
     "data": {
      "text/html": [
       "<div>\n",
       "<style scoped>\n",
       "    .dataframe tbody tr th:only-of-type {\n",
       "        vertical-align: middle;\n",
       "    }\n",
       "\n",
       "    .dataframe tbody tr th {\n",
       "        vertical-align: top;\n",
       "    }\n",
       "\n",
       "    .dataframe thead th {\n",
       "        text-align: right;\n",
       "    }\n",
       "</style>\n",
       "<table border=\"1\" class=\"dataframe\">\n",
       "  <thead>\n",
       "    <tr style=\"text-align: right;\">\n",
       "      <th></th>\n",
       "      <th>id</th>\n",
       "      <th>location</th>\n",
       "      <th>name</th>\n",
       "      <th>nbr_beers</th>\n",
       "    </tr>\n",
       "  </thead>\n",
       "  <tbody>\n",
       "    <tr>\n",
       "      <th>14938</th>\n",
       "      <td>28197</td>\n",
       "      <td>United States, New Jersey</td>\n",
       "      <td>Asbury Park Brewery</td>\n",
       "      <td>7</td>\n",
       "    </tr>\n",
       "    <tr>\n",
       "      <th>9718</th>\n",
       "      <td>30198</td>\n",
       "      <td>Brazil</td>\n",
       "      <td>Cervejaria Red Door</td>\n",
       "      <td>1</td>\n",
       "    </tr>\n",
       "    <tr>\n",
       "      <th>9669</th>\n",
       "      <td>17151</td>\n",
       "      <td>Brazil</td>\n",
       "      <td>Cervejaria Insana</td>\n",
       "      <td>8</td>\n",
       "    </tr>\n",
       "    <tr>\n",
       "      <th>5932</th>\n",
       "      <td>10546</td>\n",
       "      <td>Germany</td>\n",
       "      <td>Schlüsselbräu Privatbrauerei Helmut Bosch</td>\n",
       "      <td>9</td>\n",
       "    </tr>\n",
       "  </tbody>\n",
       "</table>\n",
       "</div>"
      ],
      "text/plain": [
       "          id                   location  \\\n",
       "14938  28197  United States, New Jersey   \n",
       "9718   30198                     Brazil   \n",
       "9669   17151                     Brazil   \n",
       "5932   10546                    Germany   \n",
       "\n",
       "                                            name  nbr_beers  \n",
       "14938                        Asbury Park Brewery          7  \n",
       "9718                         Cervejaria Red Door          1  \n",
       "9669                           Cervejaria Insana          8  \n",
       "5932   Schlüsselbräu Privatbrauerei Helmut Bosch          9  "
      ]
     },
     "execution_count": 12,
     "metadata": {},
     "output_type": "execute_result"
    }
   ],
   "source": [
    "rb_breweries.sample(4)"
   ]
  },
  {
   "cell_type": "markdown",
   "id": "dfc5c713",
   "metadata": {},
   "source": [
    "The columns are explicit and are the same for the 2 websites. Each row is a brewery."
   ]
  },
  {
   "cell_type": "markdown",
   "id": "e0984a9c",
   "metadata": {},
   "source": [
    "**Rating Dataframes**"
   ]
  },
  {
   "cell_type": "code",
   "execution_count": 13,
   "id": "5201a84c",
   "metadata": {},
   "outputs": [
    {
     "data": {
      "text/html": [
       "<div>\n",
       "<style scoped>\n",
       "    .dataframe tbody tr th:only-of-type {\n",
       "        vertical-align: middle;\n",
       "    }\n",
       "\n",
       "    .dataframe tbody tr th {\n",
       "        vertical-align: top;\n",
       "    }\n",
       "\n",
       "    .dataframe thead th {\n",
       "        text-align: right;\n",
       "    }\n",
       "</style>\n",
       "<table border=\"1\" class=\"dataframe\">\n",
       "  <thead>\n",
       "    <tr style=\"text-align: right;\">\n",
       "      <th></th>\n",
       "      <th>beer_name</th>\n",
       "      <th>beer_id</th>\n",
       "      <th>brewery_name</th>\n",
       "      <th>brewery_id</th>\n",
       "      <th>style</th>\n",
       "      <th>abv</th>\n",
       "      <th>date</th>\n",
       "      <th>user_name</th>\n",
       "      <th>user_id</th>\n",
       "      <th>appearance</th>\n",
       "      <th>aroma</th>\n",
       "      <th>palate</th>\n",
       "      <th>taste</th>\n",
       "      <th>overall</th>\n",
       "      <th>rating</th>\n",
       "    </tr>\n",
       "  </thead>\n",
       "  <tbody>\n",
       "    <tr>\n",
       "      <th>2532094</th>\n",
       "      <td>Stone Ruination IPA</td>\n",
       "      <td>4083.0</td>\n",
       "      <td>Stone Brewing</td>\n",
       "      <td>147.0</td>\n",
       "      <td>American Double / Imperial IPA</td>\n",
       "      <td>8.2</td>\n",
       "      <td>2012-03-01 11:00:00</td>\n",
       "      <td>bkrbdan</td>\n",
       "      <td>bkrbdan.662391</td>\n",
       "      <td>NaN</td>\n",
       "      <td>NaN</td>\n",
       "      <td>NaN</td>\n",
       "      <td>NaN</td>\n",
       "      <td>NaN</td>\n",
       "      <td>4.50</td>\n",
       "    </tr>\n",
       "    <tr>\n",
       "      <th>7163789</th>\n",
       "      <td>Umbrella IPA</td>\n",
       "      <td>164100.0</td>\n",
       "      <td>Pelican Pub &amp; Brewery</td>\n",
       "      <td>1304.0</td>\n",
       "      <td>American IPA</td>\n",
       "      <td>7.4</td>\n",
       "      <td>2016-06-28 10:00:00</td>\n",
       "      <td>South2NW</td>\n",
       "      <td>south2nw.766181</td>\n",
       "      <td>4.0</td>\n",
       "      <td>4.0</td>\n",
       "      <td>4.0</td>\n",
       "      <td>3.75</td>\n",
       "      <td>4.0</td>\n",
       "      <td>3.90</td>\n",
       "    </tr>\n",
       "    <tr>\n",
       "      <th>2315265</th>\n",
       "      <td>Black Racer</td>\n",
       "      <td>71451.0</td>\n",
       "      <td>Bear Republic Brewery</td>\n",
       "      <td>610.0</td>\n",
       "      <td>American Black Ale</td>\n",
       "      <td>8.1</td>\n",
       "      <td>2013-04-06 10:00:00</td>\n",
       "      <td>BeerBeast</td>\n",
       "      <td>beerbeast.698062</td>\n",
       "      <td>NaN</td>\n",
       "      <td>NaN</td>\n",
       "      <td>NaN</td>\n",
       "      <td>NaN</td>\n",
       "      <td>NaN</td>\n",
       "      <td>4.25</td>\n",
       "    </tr>\n",
       "    <tr>\n",
       "      <th>7339170</th>\n",
       "      <td>Pumpkin Spice Latte</td>\n",
       "      <td>142582.0</td>\n",
       "      <td>Buffalo Bayou Brewing Co</td>\n",
       "      <td>28255.0</td>\n",
       "      <td>Pumpkin Ale</td>\n",
       "      <td>9.5</td>\n",
       "      <td>2014-10-24 10:00:00</td>\n",
       "      <td>IrishGermanAmerican</td>\n",
       "      <td>irishgermanamerican.661253</td>\n",
       "      <td>NaN</td>\n",
       "      <td>NaN</td>\n",
       "      <td>NaN</td>\n",
       "      <td>NaN</td>\n",
       "      <td>NaN</td>\n",
       "      <td>3.50</td>\n",
       "    </tr>\n",
       "  </tbody>\n",
       "</table>\n",
       "</div>"
      ],
      "text/plain": [
       "                   beer_name   beer_id              brewery_name  brewery_id  \\\n",
       "2532094  Stone Ruination IPA    4083.0             Stone Brewing       147.0   \n",
       "7163789         Umbrella IPA  164100.0     Pelican Pub & Brewery      1304.0   \n",
       "2315265          Black Racer   71451.0     Bear Republic Brewery       610.0   \n",
       "7339170  Pumpkin Spice Latte  142582.0  Buffalo Bayou Brewing Co     28255.0   \n",
       "\n",
       "                                  style  abv                date  \\\n",
       "2532094  American Double / Imperial IPA  8.2 2012-03-01 11:00:00   \n",
       "7163789                    American IPA  7.4 2016-06-28 10:00:00   \n",
       "2315265              American Black Ale  8.1 2013-04-06 10:00:00   \n",
       "7339170                     Pumpkin Ale  9.5 2014-10-24 10:00:00   \n",
       "\n",
       "                   user_name                     user_id  appearance  aroma  \\\n",
       "2532094              bkrbdan              bkrbdan.662391         NaN    NaN   \n",
       "7163789             South2NW             south2nw.766181         4.0    4.0   \n",
       "2315265            BeerBeast            beerbeast.698062         NaN    NaN   \n",
       "7339170  IrishGermanAmerican  irishgermanamerican.661253         NaN    NaN   \n",
       "\n",
       "         palate  taste  overall  rating  \n",
       "2532094     NaN    NaN      NaN    4.50  \n",
       "7163789     4.0   3.75      4.0    3.90  \n",
       "2315265     NaN    NaN      NaN    4.25  \n",
       "7339170     NaN    NaN      NaN    3.50  "
      ]
     },
     "execution_count": 13,
     "metadata": {},
     "output_type": "execute_result"
    }
   ],
   "source": [
    "ba_ratings.sample(4)"
   ]
  },
  {
   "cell_type": "code",
   "execution_count": 14,
   "id": "e87f6a82",
   "metadata": {},
   "outputs": [
    {
     "data": {
      "text/html": [
       "<div>\n",
       "<style scoped>\n",
       "    .dataframe tbody tr th:only-of-type {\n",
       "        vertical-align: middle;\n",
       "    }\n",
       "\n",
       "    .dataframe tbody tr th {\n",
       "        vertical-align: top;\n",
       "    }\n",
       "\n",
       "    .dataframe thead th {\n",
       "        text-align: right;\n",
       "    }\n",
       "</style>\n",
       "<table border=\"1\" class=\"dataframe\">\n",
       "  <thead>\n",
       "    <tr style=\"text-align: right;\">\n",
       "      <th></th>\n",
       "      <th>beer_name</th>\n",
       "      <th>beer_id</th>\n",
       "      <th>brewery_name</th>\n",
       "      <th>brewery_id</th>\n",
       "      <th>style</th>\n",
       "      <th>abv</th>\n",
       "      <th>date</th>\n",
       "      <th>user_name</th>\n",
       "      <th>user_id</th>\n",
       "      <th>appearance</th>\n",
       "      <th>aroma</th>\n",
       "      <th>palate</th>\n",
       "      <th>taste</th>\n",
       "      <th>overall</th>\n",
       "      <th>rating</th>\n",
       "    </tr>\n",
       "  </thead>\n",
       "  <tbody>\n",
       "    <tr>\n",
       "      <th>5857292</th>\n",
       "      <td>Wooden Hand Black Pearl (Stout)</td>\n",
       "      <td>85913.0</td>\n",
       "      <td>Wooden Hand</td>\n",
       "      <td>4761.0</td>\n",
       "      <td>Stout</td>\n",
       "      <td>4.5</td>\n",
       "      <td>2013-02-24 11:00:00</td>\n",
       "      <td>BeerViking</td>\n",
       "      <td>73218.0</td>\n",
       "      <td>4.0</td>\n",
       "      <td>4.0</td>\n",
       "      <td>2.0</td>\n",
       "      <td>5.0</td>\n",
       "      <td>12.0</td>\n",
       "      <td>2.7</td>\n",
       "    </tr>\n",
       "    <tr>\n",
       "      <th>1890089</th>\n",
       "      <td>Maallust dOlle Grieze</td>\n",
       "      <td>189167.0</td>\n",
       "      <td>Brouwerij Maallust</td>\n",
       "      <td>12915.0</td>\n",
       "      <td>Specialty Grain</td>\n",
       "      <td>6.8</td>\n",
       "      <td>2012-12-28 11:00:00</td>\n",
       "      <td>ShivanDragon</td>\n",
       "      <td>217118.0</td>\n",
       "      <td>3.0</td>\n",
       "      <td>6.0</td>\n",
       "      <td>2.0</td>\n",
       "      <td>5.0</td>\n",
       "      <td>12.0</td>\n",
       "      <td>2.8</td>\n",
       "    </tr>\n",
       "    <tr>\n",
       "      <th>638999</th>\n",
       "      <td>Vestfyen Willemoes BBQ</td>\n",
       "      <td>329950.0</td>\n",
       "      <td>Bryggeriet Vestfyen</td>\n",
       "      <td>1242.0</td>\n",
       "      <td>Pilsener</td>\n",
       "      <td>4.8</td>\n",
       "      <td>2015-08-02 10:00:00</td>\n",
       "      <td>anders37</td>\n",
       "      <td>18419.0</td>\n",
       "      <td>3.0</td>\n",
       "      <td>5.0</td>\n",
       "      <td>2.0</td>\n",
       "      <td>4.0</td>\n",
       "      <td>12.0</td>\n",
       "      <td>2.6</td>\n",
       "    </tr>\n",
       "    <tr>\n",
       "      <th>5643917</th>\n",
       "      <td>Harviestoun Indian Summer</td>\n",
       "      <td>25884.0</td>\n",
       "      <td>Harviestoun</td>\n",
       "      <td>1560.0</td>\n",
       "      <td>Bitter</td>\n",
       "      <td>4.1</td>\n",
       "      <td>2004-04-26 10:00:00</td>\n",
       "      <td>ante</td>\n",
       "      <td>6974.0</td>\n",
       "      <td>3.0</td>\n",
       "      <td>6.0</td>\n",
       "      <td>4.0</td>\n",
       "      <td>7.0</td>\n",
       "      <td>15.0</td>\n",
       "      <td>3.5</td>\n",
       "    </tr>\n",
       "  </tbody>\n",
       "</table>\n",
       "</div>"
      ],
      "text/plain": [
       "                               beer_name   beer_id         brewery_name  \\\n",
       "5857292  Wooden Hand Black Pearl (Stout)   85913.0          Wooden Hand   \n",
       "1890089           Maallust dOlle Grieze  189167.0   Brouwerij Maallust   \n",
       "638999            Vestfyen Willemoes BBQ  329950.0  Bryggeriet Vestfyen   \n",
       "5643917        Harviestoun Indian Summer   25884.0          Harviestoun   \n",
       "\n",
       "         brewery_id            style  abv                date     user_name  \\\n",
       "5857292      4761.0            Stout  4.5 2013-02-24 11:00:00    BeerViking   \n",
       "1890089     12915.0  Specialty Grain  6.8 2012-12-28 11:00:00  ShivanDragon   \n",
       "638999       1242.0         Pilsener  4.8 2015-08-02 10:00:00      anders37   \n",
       "5643917      1560.0           Bitter  4.1 2004-04-26 10:00:00          ante   \n",
       "\n",
       "          user_id  appearance  aroma  palate  taste  overall  rating  \n",
       "5857292   73218.0         4.0    4.0     2.0    5.0     12.0     2.7  \n",
       "1890089  217118.0         3.0    6.0     2.0    5.0     12.0     2.8  \n",
       "638999    18419.0         3.0    5.0     2.0    4.0     12.0     2.6  \n",
       "5643917    6974.0         3.0    6.0     4.0    7.0     15.0     3.5  "
      ]
     },
     "execution_count": 14,
     "metadata": {},
     "output_type": "execute_result"
    }
   ],
   "source": [
    "rb_ratings.sample(4)"
   ]
  },
  {
   "cell_type": "markdown",
   "id": "ba82d2b5",
   "metadata": {},
   "source": [
    "The columns are the same for the 2 Dataframes. Each row corresponds to an individual review. Most column names are explicit. \n",
    "- 'appearance','aroma', 'palate','taste' correspond to aspect ratings (out of 5)\n",
    "- 'overall' is the mean of the 4 aspect ratings\n",
    "- 'rating' is the final rating given by the user to the beer"
   ]
  },
  {
   "cell_type": "markdown",
   "id": "7d66d8a6",
   "metadata": {},
   "source": [
    "# 0) Data cleaning"
   ]
  },
  {
   "cell_type": "code",
   "execution_count": 62,
   "id": "aa61cd41",
   "metadata": {},
   "outputs": [],
   "source": [
    "# BASIC CLEANING (to be performed on original dataframes):\n",
    "# remove useless columns (done)\n",
    "# make sure each column has the right type (done)\n",
    "# deal with relevant missing values (done)\n",
    "# clean location information:\n",
    "# -set all US locations to 'United States' (remove state information) (done)\n",
    "# -remove embedded HTML links\n",
    "# -remove leading and trailing whitespaces\n",
    "\n",
    "# LOCATION-SPECIFIC CLEANING (to be performed on a copy that will be used in parts related to location)\n",
    "# determine countries with too few reviewers from the user dataframes\n",
    "# add location information (for both users and beers) to rating dataframes\n",
    "# remove reviews from users coming from countries with too few reviewers\n",
    "# remove users from countries with too few reviewers"
   ]
  },
  {
   "cell_type": "markdown",
   "id": "9c9a2c4a-3eb4-4ec8-8284-0b770841d4b3",
   "metadata": {},
   "source": [
    "### **BASIC CLEANING**"
   ]
  },
  {
   "cell_type": "markdown",
   "id": "fec00b50",
   "metadata": {},
   "source": [
    "## Filtering Dataframes\n",
    "\n",
    "Let us start by removing columns in the different Dataframes that we will not use in our analysis."
   ]
  },
  {
   "cell_type": "markdown",
   "id": "c7166457",
   "metadata": {},
   "source": [
    "The following rows will not be used in our analysis:\n",
    "nbr_reviews, ba_score, bros_score, abv, avg_computed, zscore, nbr_matched_valid_ratings and avg_matched_valid_ratings, overall_score and style_score.\n",
    "\n",
    "Let us remove them."
   ]
  },
  {
   "cell_type": "code",
   "execution_count": 30,
   "id": "85c7439e",
   "metadata": {},
   "outputs": [
    {
     "name": "stdout",
     "output_type": "stream",
     "text": [
      "Index(['beer_id', 'beer_name', 'brewery_id', 'brewery_name', 'style',\n",
      "       'nbr_ratings', 'avg'],\n",
      "      dtype='object')\n"
     ]
    }
   ],
   "source": [
    "useless_columns_ba = ['nbr_reviews', 'ba_score', 'bros_score', 'abv', 'avg_computed', 'zscore', 'nbr_matched_valid_ratings', 'avg_matched_valid_ratings']\n",
    "ba_beers = ba_beers.drop(columns=useless_columns_ba)\n",
    "print(ba_beers.columns)"
   ]
  },
  {
   "cell_type": "code",
   "execution_count": 31,
   "id": "8fa124cf",
   "metadata": {},
   "outputs": [
    {
     "name": "stdout",
     "output_type": "stream",
     "text": [
      "Index(['beer_id', 'beer_name', 'brewery_id', 'brewery_name', 'style',\n",
      "       'nbr_ratings', 'avg'],\n",
      "      dtype='object')\n"
     ]
    }
   ],
   "source": [
    "useless_columns_rb = [col for col in useless_columns_ba if col not in ['nbr_reviews','ba_score', 'bros_score']] + ['overall_score', 'style_score']\n",
    "rb_beers = rb_beers.drop(columns=useless_columns_rb)\n",
    "print(rb_beers.columns)"
   ]
  },
  {
   "cell_type": "markdown",
   "id": "47725142",
   "metadata": {},
   "source": [
    "We will also not use the timestamps indicating the time when users joined the platforms, so let us remove this as well."
   ]
  },
  {
   "cell_type": "code",
   "execution_count": 32,
   "id": "97382d10",
   "metadata": {},
   "outputs": [
    {
     "name": "stdout",
     "output_type": "stream",
     "text": [
      "Index(['nbr_ratings', 'nbr_reviews', 'user_id', 'user_name', 'location'], dtype='object')\n"
     ]
    }
   ],
   "source": [
    "ba_users = ba_users.drop(columns='joined')\n",
    "rb_users = rb_users.drop(columns='joined')\n",
    "print(ba_users.columns)"
   ]
  },
  {
   "cell_type": "markdown",
   "id": "673f07e8",
   "metadata": {},
   "source": [
    "## Verifying value types\n",
    "\n",
    "Let us verify that the values in the different columns of the different Dataframes have the appropriate type."
   ]
  },
  {
   "cell_type": "code",
   "execution_count": 19,
   "id": "8fd8933c",
   "metadata": {},
   "outputs": [
    {
     "name": "stdout",
     "output_type": "stream",
     "text": [
      "beer_id           int64\n",
      "beer_name        object\n",
      "brewery_id        int64\n",
      "brewery_name     object\n",
      "style            object\n",
      "nbr_ratings       int64\n",
      "avg             float64\n",
      "dtype: object \n",
      " \n",
      " beer_id           int64\n",
      "beer_name        object\n",
      "brewery_id        int64\n",
      "brewery_name     object\n",
      "style            object\n",
      "nbr_ratings       int64\n",
      "avg             float64\n",
      "dtype: object\n"
     ]
    }
   ],
   "source": [
    "print(ba_beers.dtypes,'\\n','\\n',rb_beers.dtypes)"
   ]
  },
  {
   "cell_type": "code",
   "execution_count": 20,
   "id": "35eb84ac",
   "metadata": {},
   "outputs": [
    {
     "name": "stdout",
     "output_type": "stream",
     "text": [
      "nbr_ratings     int64\n",
      "nbr_reviews     int64\n",
      "user_id        object\n",
      "user_name      object\n",
      "location       object\n",
      "dtype: object \n",
      " \n",
      " nbr_ratings     int64\n",
      "user_id         int64\n",
      "user_name      object\n",
      "location       object\n",
      "dtype: object\n"
     ]
    }
   ],
   "source": [
    "print(ba_users.dtypes,'\\n','\\n',rb_users.dtypes)"
   ]
  },
  {
   "cell_type": "code",
   "execution_count": 21,
   "id": "45d4f1da",
   "metadata": {},
   "outputs": [
    {
     "name": "stdout",
     "output_type": "stream",
     "text": [
      "id            int64\n",
      "location     object\n",
      "name         object\n",
      "nbr_beers     int64\n",
      "dtype: object \n",
      " \n",
      " id            int64\n",
      "location     object\n",
      "name         object\n",
      "nbr_beers     int64\n",
      "dtype: object\n"
     ]
    }
   ],
   "source": [
    "print(ba_breweries.dtypes,'\\n','\\n',rb_breweries.dtypes)"
   ]
  },
  {
   "cell_type": "code",
   "execution_count": 33,
   "id": "c9ff32db",
   "metadata": {},
   "outputs": [
    {
     "name": "stdout",
     "output_type": "stream",
     "text": [
      "beer_id           int64\n",
      "beer_name        object\n",
      "brewery_id        int64\n",
      "brewery_name     object\n",
      "style            object\n",
      "nbr_ratings       int64\n",
      "avg             float64\n",
      "dtype: object \n",
      " \n",
      " beer_id           int64\n",
      "beer_name        object\n",
      "brewery_id        int64\n",
      "brewery_name     object\n",
      "style            object\n",
      "nbr_ratings       int64\n",
      "avg             float64\n",
      "dtype: object\n"
     ]
    }
   ],
   "source": [
    "columns_to_convert = ['beer_name', 'brewery_name', 'style']\n",
    "\n",
    "ba_beers[columns_to_convert] = ba_beers[columns_to_convert].apply(lambda col: col.astype(str))\n",
    "rb_beers[columns_to_convert] = rb_beers[columns_to_convert].apply(lambda col: col.astype(str))\n",
    "print(ba_beers.dtypes,'\\n','\\n',rb_beers.dtypes)"
   ]
  },
  {
   "cell_type": "code",
   "execution_count": 11,
   "id": "68e9034f",
   "metadata": {},
   "outputs": [
    {
     "name": "stdout",
     "output_type": "stream",
     "text": [
      "beer_name               object\n",
      "beer_id                float64\n",
      "brewery_name            object\n",
      "brewery_id             float64\n",
      "style                   object\n",
      "abv                    float64\n",
      "date            datetime64[ns]\n",
      "user_name               object\n",
      "user_id                 object\n",
      "appearance             float64\n",
      "aroma                  float64\n",
      "palate                 float64\n",
      "taste                  float64\n",
      "overall                float64\n",
      "rating                 float64\n",
      "dtype: object \n",
      " \n",
      " beer_name               object\n",
      "beer_id                float64\n",
      "brewery_name            object\n",
      "brewery_id             float64\n",
      "style                   object\n",
      "abv                    float64\n",
      "date            datetime64[ns]\n",
      "user_name               object\n",
      "user_id                float64\n",
      "appearance             float64\n",
      "aroma                  float64\n",
      "palate                 float64\n",
      "taste                  float64\n",
      "overall                float64\n",
      "rating                 float64\n",
      "dtype: object\n"
     ]
    }
   ],
   "source": [
    "print(ba_ratings.dtypes,'\\n','\\n',rb_ratings.dtypes)"
   ]
  },
  {
   "cell_type": "markdown",
   "id": "829f7a29",
   "metadata": {},
   "source": [
    "The types of the values in the different columns of the different Dataframes seem appropriate."
   ]
  },
  {
   "cell_type": "markdown",
   "id": "51106efb",
   "metadata": {},
   "source": [
    "## Dealing with missing values"
   ]
  },
  {
   "cell_type": "markdown",
   "id": "28d68465-c20c-4e55-85b0-5df4b329907a",
   "metadata": {},
   "source": [
    "*Beers with no reviews*"
   ]
  },
  {
   "cell_type": "markdown",
   "id": "3debc35f-c8ea-4976-856b-42682a0352b0",
   "metadata": {},
   "source": [
    "Let us verify that all the beers in the beer DataFrames have at least received 1 review."
   ]
  },
  {
   "cell_type": "code",
   "execution_count": 34,
   "id": "e26f5ef0-12ec-4634-ac92-02d055a9166f",
   "metadata": {},
   "outputs": [
    {
     "name": "stdout",
     "output_type": "stream",
     "text": [
      "Number of beers with no reviews (Beer Advocate): 32841\n",
      "Number of beers with no reviews (Rate Beer): 45391\n"
     ]
    }
   ],
   "source": [
    "# get the number of beers with 0 reviews\n",
    "# Beer Advocate\n",
    "ba_beers_without_reviews = ba_beers[ba_beers['nbr_ratings'] == 0].shape[0]\n",
    "print('Number of beers with no reviews (Beer Advocate):',ba_beers_without_reviews)\n",
    "\n",
    "# Rate Beer\n",
    "rb_beers_without_reviews = rb_beers[rb_beers['nbr_ratings'] == 0].shape[0]\n",
    "print('Number of beers with no reviews (Rate Beer):',rb_beers_without_reviews)"
   ]
  },
  {
   "cell_type": "markdown",
   "id": "2b54a652-7ead-4b83-b60e-48382f5c18e8",
   "metadata": {},
   "source": [
    "We can see that in Both Dataframes, there are many beers with no reviews. These beers are useless for our analysis and we can remove them from the DataFrames."
   ]
  },
  {
   "cell_type": "code",
   "execution_count": 35,
   "id": "5df33c5a-1b5b-413e-b9fe-b81cddd7bd3b",
   "metadata": {},
   "outputs": [
    {
     "name": "stdout",
     "output_type": "stream",
     "text": [
      "Number of beers with no reviews (Beer Advocate): 0\n",
      "Number of beers with no reviews (Rate Beer): 0\n"
     ]
    }
   ],
   "source": [
    "# remove beers with zero reviews\n",
    "# Beer Advocate\n",
    "ba_beers = ba_beers[ba_beers['nbr_ratings'] != 0]\n",
    "# Rate Beer\n",
    "rb_beers = rb_beers[rb_beers['nbr_ratings'] != 0]\n",
    "\n",
    "# verification:\n",
    "ba_beers_without_reviews = ba_beers[ba_beers['nbr_ratings'] == 0].shape[0]\n",
    "print('Number of beers with no reviews (Beer Advocate):',ba_beers_without_reviews)\n",
    "rb_beers_without_reviews = rb_beers[rb_beers['nbr_ratings'] == 0].shape[0]\n",
    "print('Number of beers with no reviews (Rate Beer):',rb_beers_without_reviews)"
   ]
  },
  {
   "cell_type": "markdown",
   "id": "1a4ac062-583e-4197-b6fb-4e73f57b4638",
   "metadata": {},
   "source": [
    "*Reviews with no final rating*"
   ]
  },
  {
   "cell_type": "markdown",
   "id": "43613c97-459b-4991-8800-42cf2eaba991",
   "metadata": {},
   "source": [
    "Let us now determine if some reviews lack a final rating. If that is the case, we will remove them from the rating DataFrames as we will need final ratings in our analysis. The final rating, unlike the overall rating, cannot be calculated using aspect ratings, so we cannot retrieve missing final rating values. Some reviews may lack certain aspect ratings, but we will not remove them as if they do have a final rating, we will be able to use them in many parts of our analysis."
   ]
  },
  {
   "cell_type": "code",
   "execution_count": 36,
   "id": "fd9c1405-00f2-4227-9726-4724b026e5cd",
   "metadata": {},
   "outputs": [
    {
     "name": "stdout",
     "output_type": "stream",
     "text": [
      "Number of reviews lacking a final rating (Beer Advocate): 2\n",
      "Number of reviews lacking a final rating (Rate Beer): 2\n"
     ]
    }
   ],
   "source": [
    "# get the number of reviews with Nan in the 'rating' column\n",
    "# Beer Advocate\n",
    "print('Number of reviews lacking a final rating (Beer Advocate):',ba_ratings['rating'].isna().sum())\n",
    "# Rate Beer\n",
    "print('Number of reviews lacking a final rating (Rate Beer):',rb_ratings['rating'].isna().sum())"
   ]
  },
  {
   "cell_type": "markdown",
   "id": "c6d90f2a-8dc7-4d13-b6a6-dd3db8832845",
   "metadata": {},
   "source": [
    "There are only 2 reviews lacking a final rating for each website, but let us remove them anyway."
   ]
  },
  {
   "cell_type": "code",
   "execution_count": 37,
   "id": "b7ac207a-61e4-4fa1-a230-1f4d574fd255",
   "metadata": {},
   "outputs": [
    {
     "name": "stdout",
     "output_type": "stream",
     "text": [
      "Number of reviews lacking a final rating (Beer Advocate): 0\n",
      "Number of reviews lacking a final rating (Rate Beer): 0\n"
     ]
    }
   ],
   "source": [
    "# remove reviews with no final rating\n",
    "ba_ratings = ba_ratings.dropna(subset=['rating'])\n",
    "rb_ratings = rb_ratings.dropna(subset=['rating'])\n",
    "\n",
    "# verification \n",
    "print('Number of reviews lacking a final rating (Beer Advocate):',ba_ratings['rating'].isna().sum())\n",
    "print('Number of reviews lacking a final rating (Rate Beer):',rb_ratings['rating'].isna().sum())"
   ]
  },
  {
   "cell_type": "markdown",
   "id": "50493727-3c66-4c32-ace2-1a3d7d2b9de5",
   "metadata": {},
   "source": [
    "## Cleaning location information"
   ]
  },
  {
   "cell_type": "markdown",
   "id": "7486c7b8-2f89-4d2c-87fb-296189ff8d93",
   "metadata": {},
   "source": [
    "Let us have a closer look at the values present in the 'location' column of user and brewery DataFrames."
   ]
  },
  {
   "cell_type": "code",
   "execution_count": 53,
   "id": "019c8de0-64e1-49bc-bf0b-61cf16b5e69f",
   "metadata": {},
   "outputs": [
    {
     "data": {
      "text/plain": [
       "location\n",
       "United States, California       11638\n",
       "United States, Pennsylvania      8689\n",
       "United States, New York          7432\n",
       "United States, Illinois          6866\n",
       "United States, Massachusetts     6658\n",
       "                                ...  \n",
       "Angola                              1\n",
       "Kazakhstan                          1\n",
       "Tokelau                             1\n",
       "Sri Lanka                           1\n",
       "Sint Maarten                        1\n",
       "Name: count, Length: 194, dtype: int64"
      ]
     },
     "execution_count": 53,
     "metadata": {},
     "output_type": "execute_result"
    }
   ],
   "source": [
    "ba_users['location'].value_counts()"
   ]
  },
  {
   "cell_type": "code",
   "execution_count": 56,
   "id": "852c1aff-b171-4ca2-b3a4-f08b3f95eed6",
   "metadata": {},
   "outputs": [
    {
     "data": {
      "text/plain": [
       "location\n",
       "Canada                         3255\n",
       "United States, California      2804\n",
       "England                        2734\n",
       "Poland                         1701\n",
       "United States, Pennsylvania    1632\n",
       "                               ... \n",
       "Liechtenstein                     1\n",
       "Lesotho                           1\n",
       "East Timor                        1\n",
       "Falkland Islands                  1\n",
       "Tibet                             1\n",
       "Name: count, Length: 222, dtype: int64"
      ]
     },
     "execution_count": 56,
     "metadata": {},
     "output_type": "execute_result"
    }
   ],
   "source": [
    "rb_users['location'].value_counts()"
   ]
  },
  {
   "cell_type": "code",
   "execution_count": 10,
   "id": "5c24ac53-94f8-4b55-9dc3-56eb1bc4c95f",
   "metadata": {},
   "outputs": [
    {
     "data": {
      "text/plain": [
       "location\n",
       "Germany                                                                                                                                                                          1431\n",
       "England                                                                                                                                                                           997\n",
       "United States, California                                                                                                                                                         929\n",
       "Canada                                                                                                                                                                            775\n",
       "United States, Washington                                                                                                                                                         411\n",
       "                                                                                                                                                                                 ... \n",
       "Andorra                                                                                                                                                                             1\n",
       "Botswana                                                                                                                                                                            1\n",
       "Turks and Caicos Islands                                                                                                                                                            1\n",
       "Papua New Guinea                                                                                                                                                                    1\n",
       "United States</a> | <a href=\"http://maps.google.com/maps?oi=map&q=%2C+US\" target=\"_blank\">map</a><br><a href=\"http://fullsailbrewing.com\" target=\"_blank\">fullsailbrewing.com       1\n",
       "Name: count, Length: 297, dtype: int64"
      ]
     },
     "execution_count": 10,
     "metadata": {},
     "output_type": "execute_result"
    }
   ],
   "source": [
    "ba_breweries['location'].value_counts()"
   ]
  },
  {
   "cell_type": "code",
   "execution_count": 58,
   "id": "926c9909-4d3f-4b41-ac4a-9f8b79694a45",
   "metadata": {},
   "outputs": [
    {
     "data": {
      "text/plain": [
       "location\n",
       "England                      2124\n",
       "Germany                      1999\n",
       "Italy                        1051\n",
       "Canada                        884\n",
       "United States, California     867\n",
       "                             ... \n",
       "Senegal                         1\n",
       "Mozambique                      1\n",
       "French Polynesia                1\n",
       "Papua New Guinea                1\n",
       "Gabon                           1\n",
       "Name: count, Length: 267, dtype: int64"
      ]
     },
     "execution_count": 58,
     "metadata": {},
     "output_type": "execute_result"
    }
   ],
   "source": [
    "rb_breweries['location'].value_counts()"
   ]
  },
  {
   "cell_type": "markdown",
   "id": "10e34058-01b9-49ea-9245-c8bcfda6b4a1",
   "metadata": {},
   "source": [
    "We can make 2 important observations: US locations all contain state information, and some locations contain embedded HTML links. We will remove both these HTML links and the state information, as we will not use it in our analysis. We will do so by applying a function named 'clean_location_column' which cleans the location information and that we have written in src/utils/data_utils.py()."
   ]
  },
  {
   "cell_type": "code",
   "execution_count": 38,
   "id": "64e6f570-cc1e-44fb-bf34-5e2b77b8fa62",
   "metadata": {},
   "outputs": [],
   "source": [
    "# Clean location information in user and brewery dataframes\n",
    "# Beer Advocate\n",
    "ba_users = clean_location_column (ba_users)\n",
    "ba_breweries = clean_location_column (ba_breweries)\n",
    "\n",
    "# Rate Beer\n",
    "rb_users = clean_location_column (rb_users)\n",
    "rb_breweries = clean_location_column (rb_breweries)"
   ]
  },
  {
   "cell_type": "markdown",
   "id": "75522bf5-edd0-4218-b6ec-ae1a641b3992",
   "metadata": {},
   "source": [
    "Let us now have a look at the cleaned location columns."
   ]
  },
  {
   "cell_type": "code",
   "execution_count": 56,
   "id": "5e238966-155a-4737-bfbf-20a5475c72f8",
   "metadata": {},
   "outputs": [
    {
     "data": {
      "text/plain": [
       "location\n",
       "United States                               113223\n",
       "nan                                          31279\n",
       "Canada                                        3324\n",
       "England                                        791\n",
       "Australia                                      520\n",
       "                                             ...  \n",
       "South Georgia and South Sandwich Islands         1\n",
       "Angola                                           1\n",
       "Kazakhstan                                       1\n",
       "Egypt                                            1\n",
       "Sint Maarten                                     1\n",
       "Name: count, Length: 146, dtype: int64"
      ]
     },
     "execution_count": 56,
     "metadata": {},
     "output_type": "execute_result"
    }
   ],
   "source": [
    "ba_users['location'].value_counts()"
   ]
  },
  {
   "cell_type": "code",
   "execution_count": 14,
   "id": "5269ebee-1222-499d-b9b6-937b7c43ed82",
   "metadata": {},
   "outputs": [
    {
     "data": {
      "text/plain": [
       "location\n",
       "United States       26855\n",
       "nan                 19582\n",
       "Canada               3255\n",
       "England              2734\n",
       "Poland               1701\n",
       "                    ...  \n",
       "Honduras                1\n",
       "Falkland Islands        1\n",
       "Kyrgyzstan              1\n",
       "Papua New Guinea        1\n",
       "Tibet                   1\n",
       "Name: count, Length: 174, dtype: int64"
      ]
     },
     "execution_count": 14,
     "metadata": {},
     "output_type": "execute_result"
    }
   ],
   "source": [
    "rb_users['location'].value_counts()"
   ]
  },
  {
   "cell_type": "code",
   "execution_count": 39,
   "id": "c8929b39-f073-4d83-bb7e-55ca84e5ebe1",
   "metadata": {},
   "outputs": [
    {
     "data": {
      "text/plain": [
       "location\n",
       "United States            7399\n",
       "Germany                  1431\n",
       "England                   997\n",
       "Canada                    775\n",
       "France                    402\n",
       "                         ... \n",
       "Equatorial Guinea           1\n",
       "Tajikistan                  1\n",
       "Palau                       1\n",
       "French Guiana               1\n",
       "Sao Tome and Principe       1\n",
       "Name: count, Length: 212, dtype: int64"
      ]
     },
     "execution_count": 39,
     "metadata": {},
     "output_type": "execute_result"
    }
   ],
   "source": [
    "ba_breweries['location'].value_counts()"
   ]
  },
  {
   "cell_type": "code",
   "execution_count": 16,
   "id": "f77d65fb-c6a9-465f-9dfa-d5b6f16aa3b7",
   "metadata": {},
   "outputs": [
    {
     "data": {
      "text/plain": [
       "location\n",
       "United States            6921\n",
       "England                  2124\n",
       "Germany                  1999\n",
       "Italy                    1051\n",
       "Canada                    884\n",
       "                         ... \n",
       "Sao Tome and Principe       1\n",
       "Iraq                        1\n",
       "Micronesia                  1\n",
       "French Guiana               1\n",
       "Gabon                       1\n",
       "Name: count, Length: 217, dtype: int64"
      ]
     },
     "execution_count": 16,
     "metadata": {},
     "output_type": "execute_result"
    }
   ],
   "source": [
    "rb_breweries['location'].value_counts()"
   ]
  },
  {
   "cell_type": "markdown",
   "id": "fb369a4d-31ae-424b-9b76-81c18324ed3b",
   "metadata": {},
   "source": [
    "### **'LOCATION-SPECIFIC' CLEANING**"
   ]
  },
  {
   "cell_type": "code",
   "execution_count": 26,
   "id": "88ab46c7-a3f9-454d-997f-61c284916cb3",
   "metadata": {},
   "outputs": [],
   "source": [
    "# LOCATION-SPECIFIC CLEANING (to be performed on a copy that will be used in parts related to location)\n",
    "# remove users with missing location information\n",
    "# determine countries with too few reviewers from the user dataframes\n",
    "# add user location information to rating dataframes\n",
    "# remove reviews from users coming from countries with too few reviewers\n",
    "# remove users from countries with too few reviewers\n",
    "# add beer location information to rating dataframes"
   ]
  },
  {
   "cell_type": "markdown",
   "id": "40bbfe00-a0d0-4ad4-bd97-1d034dcf1ebd",
   "metadata": {},
   "source": [
    "Several parts of our analysis will involve comparing data from different countries and will require working with the location information in the user DataFrames. In these parts, we will only consider countries with a 'sufficiently large' number of reviewers, as only a few reviewers may not be representative of an entire country. We will thus filter out countries that we consider to have not enough reviewers. We decide arbitrarily to filter out countries with less than 10 different reviewers.\n",
    "\n",
    "In this part of the data cleaning, we will work on a copy of the original DataFrames, and we will use these copies only for the parts of the analysis where we compare certain countries. Indeed, this filtering is not relevant for the parts that do not involve comparing certain countries."
   ]
  },
  {
   "cell_type": "code",
   "execution_count": 40,
   "id": "f633791c-0511-4016-914b-6113ec393c7a",
   "metadata": {},
   "outputs": [],
   "source": [
    "# create copies of the user and rating DataFrames, which will undergo filtering related to the location information\n",
    "ba_users_loc_filtered = ba_users.copy()\n",
    "rb_users_loc_filtered = rb_users.copy()\n",
    "ba_ratings_loc_filtered = ba_ratings.copy()\n",
    "rb_ratings_loc_filtered = rb_ratings.copy()"
   ]
  },
  {
   "cell_type": "markdown",
   "id": "213ed318-0892-4c94-8cae-4eb22b041c81",
   "metadata": {},
   "source": [
    "## Removing users with missing location information"
   ]
  },
  {
   "cell_type": "markdown",
   "id": "d1e122d9-5313-4158-97d0-e9c028d9e09f",
   "metadata": {},
   "source": [
    "First, let us determine if some users are missing the location information."
   ]
  },
  {
   "cell_type": "code",
   "execution_count": 43,
   "id": "093cc2f9-c96b-43ef-9975-3b2f2a0373c0",
   "metadata": {},
   "outputs": [
    {
     "name": "stdout",
     "output_type": "stream",
     "text": [
      "Number of users lacking the location information (Beer Advocate): 31279\n",
      "Number of users lacking the location information (Rate Beer): 19582\n"
     ]
    }
   ],
   "source": [
    "# get the number of users with 'nan' in the 'location' column\n",
    "# Beer Advocate\n",
    "print('Number of users lacking the location information (Beer Advocate):',ba_users_loc_filtered[ba_users_loc_filtered['location'] == 'nan'].shape[0])\n",
    "# Rate Beer\n",
    "print('Number of users lacking the location information (Rate Beer):',rb_users_loc_filtered[rb_users_loc_filtered['location'] == 'nan'].shape[0])"
   ]
  },
  {
   "cell_type": "markdown",
   "id": "b664f230-d580-40ee-8b80-7fa90059e45e",
   "metadata": {},
   "source": [
    "We can see that there are indeed some users missing the location information. Let us remove these users."
   ]
  },
  {
   "cell_type": "code",
   "execution_count": 45,
   "id": "725465ae-b308-4591-94ee-f93aad863eda",
   "metadata": {},
   "outputs": [
    {
     "name": "stdout",
     "output_type": "stream",
     "text": [
      "Number of users lacking the location information (Beer Advocate): 0\n",
      "Number of users lacking the location information (Rate Beer): 0\n"
     ]
    }
   ],
   "source": [
    "# remove users with 'nan' in the 'location' column\n",
    "ba_users_loc_filtered = ba_users_loc_filtered[ba_users_loc_filtered['location'] != 'nan']\n",
    "rb_users_loc_filtered = rb_users_loc_filtered[rb_users_loc_filtered['location'] != 'nan']\n",
    "\n",
    "# verification\n",
    "print('Number of users lacking the location information (Beer Advocate):',ba_users_loc_filtered[ba_users_loc_filtered['location'] == 'nan'].shape[0])\n",
    "print('Number of users lacking the location information (Rate Beer):',rb_users_loc_filtered[rb_users_loc_filtered['location'] == 'nan'].shape[0])"
   ]
  },
  {
   "cell_type": "markdown",
   "id": "ddac8f28-4895-462b-bb6f-a8ff314fea44",
   "metadata": {},
   "source": [
    "## Filtering out users and reviews written by users from countries with too few users"
   ]
  },
  {
   "cell_type": "markdown",
   "id": "5303cdd4-a872-42b1-aaa6-05933f92961f",
   "metadata": {},
   "source": [
    "Let us first identify the countries with a number of users that is smaller than the threshold we set earlier, that is, 10 users."
   ]
  },
  {
   "cell_type": "code",
   "execution_count": 50,
   "id": "465fbcb3-70c6-49fb-94eb-b124240f9000",
   "metadata": {},
   "outputs": [
    {
     "name": "stdout",
     "output_type": "stream",
     "text": [
      "Countries with less than 10 users across both DataFrames:\n",
      "['Antarctica', 'Cayman Islands', 'Bermuda', 'Bolivia', 'Honduras', 'Montenegro', 'Egypt', 'Tanzania', 'Uganda', 'Botswana', 'Zimbabwe', 'Albania', 'Tajikistan', 'Azerbaijan', 'Trinidad and Tobago', 'American Samoa', 'Tunisia', 'Jersey', 'Vanuatu', 'Pakistan', 'Jordan', 'Mauritius', 'Belize', 'Nicaragua', 'Barbados', 'Mozambique', 'Aruba', 'Uzbekistan', 'Nigeria', 'Palestine', 'Namibia', 'Abkhazia', 'Papua New Guinea', 'Armenia', 'Morocco', 'Nepal', 'Burkina Faso', 'Marshall Islands', 'Ascension Island', 'Vatican City', 'Hawaii', 'Algeria', 'Kosovo', 'Laos', 'Monaco', 'Bangladesh', 'Sint Maarten', 'Norfolk Island', 'Ghana', 'Slovakia', 'Saint Helena', 'Dem Rep of Congo', 'San Marino', 'Zambia', 'Iraq', 'Syria', 'Northern Mariana Islands', 'Kazakhstan', 'New Caledonia', 'Fiji Islands', 'Bouvet Island', 'Lesotho', 'Guernsey', 'Svalbard and Jan Mayen Islands', 'Bhutan', 'Ethiopia', 'Haiti', 'Antigua and Barbuda', 'Kyrgyzstan', 'Iran', 'Tokelau', 'Sudan', 'Anguilla', 'Oman', 'Liechtenstein', 'Yemen', 'East Timor', 'Falkland Islands', 'Virgin Islands (British)', 'Nagorno-Karabakh', 'Micronesia', 'Saint Lucia', 'Saint Vincent and The Grenadines', 'Tuvalu', 'Jamaica', 'Macau', 'British Indian Ocean Territory', 'Gibraltar', 'Montserrat', 'Saudi Arabia', 'Senegal', 'North Korea', 'Greenland', 'Mauritania', 'Christmas Island', 'Seychelles', 'Turkmenistan', 'Liberia', 'Togo', 'Solomon Islands', 'Angola', 'Mongolia', 'South Georgia and South Sandwich Islands', 'Equatorial Guinea', 'Burundi', 'Heard and McDonald Islands', 'Ivory Coast', 'Rwanda', 'Cuba', 'Sri Lanka', 'French Guiana', 'Malvinas', 'Tibet']\n"
     ]
    }
   ],
   "source": [
    "# concatenate the 'location' columns from the 2 user dataframes\n",
    "combined_locations = pd.concat([ba_users_loc_filtered['location'], rb_users_loc_filtered['location']])\n",
    "\n",
    "# get the counts of each unique value in 'location'\n",
    "location_counts = combined_locations.value_counts()\n",
    "\n",
    "# keep only locations with less than 10 counts\n",
    "locations_with_few_counts = location_counts[location_counts < 10]\n",
    "\n",
    "# Get the list of location values with less than 10 counts\n",
    "countries_with_few_users = locations_with_few_counts.index.tolist()\n",
    "\n",
    "print(\"Countries with less than 10 users across both DataFrames:\")\n",
    "print(countries_with_few_users)"
   ]
  },
  {
   "cell_type": "markdown",
   "id": "72d613d0-c890-4e55-8a65-aee3341010c5",
   "metadata": {},
   "source": [
    "Let us determine if filtering out these 113 countries would leave us with enough data, ie with enough countries, to perform our analysis comparing different countries."
   ]
  },
  {
   "cell_type": "code",
   "execution_count": 47,
   "id": "e038006d-748d-4c42-8243-1abd5def6c78",
   "metadata": {},
   "outputs": [
    {
     "name": "stdout",
     "output_type": "stream",
     "text": [
      "Remaining countries after filtering: 88\n"
     ]
    }
   ],
   "source": [
    "print('Remaining countries after filtering:',(len(location_counts)-len(locations_with_few_counts)))"
   ]
  },
  {
   "cell_type": "markdown",
   "id": "5f2c417d-bbca-43c1-b8db-a11cb1561920",
   "metadata": {},
   "source": [
    "Filtering out those countries would leave us with 88 countries, which is enough to perform our analysis."
   ]
  },
  {
   "cell_type": "markdown",
   "id": "2666ec3a-8403-4a98-b586-7436253be976",
   "metadata": {},
   "source": [
    "Ultimately, we would like to remove reviews from users coming from countries with too few reviewers. \n",
    "To do so, we will start by adding the user location information to review DataFrames. This will facilitate the filtering and analysis."
   ]
  },
  {
   "cell_type": "code",
   "execution_count": 48,
   "id": "8833e788-2397-453e-b37d-90eadf6abe2d",
   "metadata": {},
   "outputs": [
    {
     "name": "stdout",
     "output_type": "stream",
     "text": [
      "       beer_name   beer_id                               brewery_name  \\\n",
      "0          Régab  142544.0  Societe des Brasseries du Gabon (SOBRAGA)   \n",
      "1  Barelegs Brew   19590.0       Strangford Lough Brewing Company Ltd   \n",
      "2  Barelegs Brew   19590.0       Strangford Lough Brewing Company Ltd   \n",
      "3  Barelegs Brew   19590.0       Strangford Lough Brewing Company Ltd   \n",
      "4  Barelegs Brew   19590.0       Strangford Lough Brewing Company Ltd   \n",
      "\n",
      "   brewery_id             style  abv                date        user_name  \\\n",
      "0     37262.0   Euro Pale Lager  4.5 2015-08-20 10:00:00          nmann08   \n",
      "1     10093.0  English Pale Ale  4.5 2009-02-20 11:00:00      StJamesGate   \n",
      "2     10093.0  English Pale Ale  4.5 2006-03-13 11:00:00          mdagnew   \n",
      "3     10093.0  English Pale Ale  4.5 2004-12-01 11:00:00  helloloser12345   \n",
      "4     10093.0  English Pale Ale  4.5 2004-08-30 10:00:00       cypressbob   \n",
      "\n",
      "                 user_id  appearance  aroma  palate  taste  overall  rating  \\\n",
      "0         nmann08.184925        3.25   2.75    3.25   2.75      3.0    2.88   \n",
      "1     stjamesgate.163714        3.00   3.50    3.50   4.00      3.5    3.67   \n",
      "2          mdagnew.19527        4.00   3.50    3.50   4.00      3.5    3.73   \n",
      "3  helloloser12345.10867        4.00   3.50    4.00   4.00      4.5    3.98   \n",
      "4        cypressbob.3708        4.00   4.00    4.00   4.00      4.0    4.00   \n",
      "\n",
      "      user_location  \n",
      "0     United States  \n",
      "1     United States  \n",
      "2  Northern Ireland  \n",
      "3  Northern Ireland  \n",
      "4  Northern Ireland  \n"
     ]
    }
   ],
   "source": [
    "# merge rating dataframes with user dataframes on 'user_id' to add the'location' column to rating dataframes as 'user_location'\n",
    "\n",
    "# Beer Advocate\n",
    "ba_ratings_loc_filtered = ba_ratings_loc_filtered.merge(ba_users_loc_filtered[['user_id', 'location']], on='user_id', how='left')\n",
    "ba_ratings_loc_filtered = ba_ratings_loc_filtered.rename(columns={'location': 'user_location'})\n",
    "\n",
    "# Rate Beer\n",
    "rb_ratings_loc_filtered = rb_ratings_loc_filtered.merge(rb_users_loc_filtered[['user_id', 'location']], on='user_id', how='left')\n",
    "rb_ratings_loc_filtered = rb_ratings_loc_filtered.rename(columns={'location': 'user_location'})\n",
    "\n",
    "ba_ratings_loc_filtered.head()"
   ]
  },
  {
   "cell_type": "markdown",
   "id": "de3b66f5-0aa1-42c4-bf20-f88a4c80565c",
   "metadata": {},
   "source": [
    "We now must remove the reviews from users whose location is NaN. Such users correspond to the users lacking a ocation information that have been previously removed from the user dataframes, but which are still present in the review dataframes."
   ]
  },
  {
   "cell_type": "code",
   "execution_count": 55,
   "id": "44bbae4b-666c-401f-aa0c-4ee7aa4f0d80",
   "metadata": {},
   "outputs": [],
   "source": [
    "# remove reviews from users for which the location is NaN\n",
    "ba_ratings_loc_filtered = ba_ratings_loc_filtered.dropna(subset=['user_location'])\n",
    "rb_ratings_loc_filtered = rb_ratings_loc_filtered.dropna(subset=['user_location'])"
   ]
  },
  {
   "cell_type": "markdown",
   "id": "2259b91d-f660-4881-9429-f0c012c86e9f",
   "metadata": {},
   "source": [
    "We can now remove reviews from users coming from countries with too few reviewers."
   ]
  },
  {
   "cell_type": "code",
   "execution_count": 58,
   "id": "a4b557cf-3363-4182-83e7-cd95a3eea97d",
   "metadata": {},
   "outputs": [],
   "source": [
    "# remove reviews where 'user_location' is in the 'countries_with_few_users' list\n",
    "ba_ratings_loc_filtered = ba_ratings_loc_filtered[~ba_ratings_loc_filtered['user_location'].isin(countries_with_few_users)]\n",
    "rb_ratings_loc_filtered = rb_ratings_loc_filtered[~rb_ratings_loc_filtered['user_location'].isin(countries_with_few_users)]"
   ]
  },
  {
   "cell_type": "markdown",
   "id": "71f78225-47f3-4e0c-a63b-712b0f07bb51",
   "metadata": {},
   "source": [
    "We will now remove users coming from countries with too few reviewers from the user dataframes."
   ]
  },
  {
   "cell_type": "code",
   "execution_count": 61,
   "id": "d38f028e-0733-4cdd-8848-8ac41f177425",
   "metadata": {},
   "outputs": [],
   "source": [
    "# remove users for which 'location' is in the 'countries_with_few_users' list\n",
    "ba_users_loc_filtered = ba_users_loc_filtered[~ba_users_loc_filtered['location'].isin(countries_with_few_users)]\n",
    "rb_users_loc_filtered = rb_users_loc_filtered[~rb_users_loc_filtered['location'].isin(countries_with_few_users)]"
   ]
  },
  {
   "cell_type": "markdown",
   "id": "ae83a9e2-3e15-444b-a4ae-c10fa3a42bc2",
   "metadata": {},
   "source": [
    "## Adding brewery location information to filtered review DataFrames"
   ]
  },
  {
   "cell_type": "markdown",
   "id": "a11fbeb5-8423-4193-8162-52e2aa0d4d72",
   "metadata": {},
   "source": [
    "Finally, to facilitate our analysis, we will add the brewery location information for each beer reviewed in the review dataframes. "
   ]
  },
  {
   "cell_type": "code",
   "execution_count": 64,
   "id": "0627fa85-1774-4208-93bb-8e0c9bdf39d7",
   "metadata": {},
   "outputs": [],
   "source": [
    "ba_breweries_loc_filtered = ba_breweries.copy()\n",
    "rb_breweries_loc_filtered = rb_breweries.copy()"
   ]
  },
  {
   "cell_type": "code",
   "execution_count": 65,
   "id": "94084e35-d825-475b-86f0-c85c6c1052c1",
   "metadata": {},
   "outputs": [
    {
     "data": {
      "text/html": [
       "<div>\n",
       "<style scoped>\n",
       "    .dataframe tbody tr th:only-of-type {\n",
       "        vertical-align: middle;\n",
       "    }\n",
       "\n",
       "    .dataframe tbody tr th {\n",
       "        vertical-align: top;\n",
       "    }\n",
       "\n",
       "    .dataframe thead th {\n",
       "        text-align: right;\n",
       "    }\n",
       "</style>\n",
       "<table border=\"1\" class=\"dataframe\">\n",
       "  <thead>\n",
       "    <tr style=\"text-align: right;\">\n",
       "      <th></th>\n",
       "      <th>beer_name</th>\n",
       "      <th>beer_id</th>\n",
       "      <th>brewery_name</th>\n",
       "      <th>brewery_id</th>\n",
       "      <th>style</th>\n",
       "      <th>abv</th>\n",
       "      <th>date</th>\n",
       "      <th>user_name</th>\n",
       "      <th>user_id</th>\n",
       "      <th>appearance</th>\n",
       "      <th>aroma</th>\n",
       "      <th>palate</th>\n",
       "      <th>taste</th>\n",
       "      <th>overall</th>\n",
       "      <th>rating</th>\n",
       "      <th>user_location</th>\n",
       "      <th>brewery_location</th>\n",
       "    </tr>\n",
       "  </thead>\n",
       "  <tbody>\n",
       "    <tr>\n",
       "      <th>0</th>\n",
       "      <td>Régab</td>\n",
       "      <td>142544.0</td>\n",
       "      <td>Societe des Brasseries du Gabon (SOBRAGA)</td>\n",
       "      <td>37262.0</td>\n",
       "      <td>Euro Pale Lager</td>\n",
       "      <td>4.5</td>\n",
       "      <td>2015-08-20 10:00:00</td>\n",
       "      <td>nmann08</td>\n",
       "      <td>nmann08.184925</td>\n",
       "      <td>3.25</td>\n",
       "      <td>2.75</td>\n",
       "      <td>3.25</td>\n",
       "      <td>2.75</td>\n",
       "      <td>3.0</td>\n",
       "      <td>2.88</td>\n",
       "      <td>United States</td>\n",
       "      <td>Gabon</td>\n",
       "    </tr>\n",
       "    <tr>\n",
       "      <th>1</th>\n",
       "      <td>Barelegs Brew</td>\n",
       "      <td>19590.0</td>\n",
       "      <td>Strangford Lough Brewing Company Ltd</td>\n",
       "      <td>10093.0</td>\n",
       "      <td>English Pale Ale</td>\n",
       "      <td>4.5</td>\n",
       "      <td>2009-02-20 11:00:00</td>\n",
       "      <td>StJamesGate</td>\n",
       "      <td>stjamesgate.163714</td>\n",
       "      <td>3.00</td>\n",
       "      <td>3.50</td>\n",
       "      <td>3.50</td>\n",
       "      <td>4.00</td>\n",
       "      <td>3.5</td>\n",
       "      <td>3.67</td>\n",
       "      <td>United States</td>\n",
       "      <td>Northern Ireland</td>\n",
       "    </tr>\n",
       "    <tr>\n",
       "      <th>2</th>\n",
       "      <td>Barelegs Brew</td>\n",
       "      <td>19590.0</td>\n",
       "      <td>Strangford Lough Brewing Company Ltd</td>\n",
       "      <td>10093.0</td>\n",
       "      <td>English Pale Ale</td>\n",
       "      <td>4.5</td>\n",
       "      <td>2006-03-13 11:00:00</td>\n",
       "      <td>mdagnew</td>\n",
       "      <td>mdagnew.19527</td>\n",
       "      <td>4.00</td>\n",
       "      <td>3.50</td>\n",
       "      <td>3.50</td>\n",
       "      <td>4.00</td>\n",
       "      <td>3.5</td>\n",
       "      <td>3.73</td>\n",
       "      <td>Northern Ireland</td>\n",
       "      <td>Northern Ireland</td>\n",
       "    </tr>\n",
       "    <tr>\n",
       "      <th>3</th>\n",
       "      <td>Barelegs Brew</td>\n",
       "      <td>19590.0</td>\n",
       "      <td>Strangford Lough Brewing Company Ltd</td>\n",
       "      <td>10093.0</td>\n",
       "      <td>English Pale Ale</td>\n",
       "      <td>4.5</td>\n",
       "      <td>2004-12-01 11:00:00</td>\n",
       "      <td>helloloser12345</td>\n",
       "      <td>helloloser12345.10867</td>\n",
       "      <td>4.00</td>\n",
       "      <td>3.50</td>\n",
       "      <td>4.00</td>\n",
       "      <td>4.00</td>\n",
       "      <td>4.5</td>\n",
       "      <td>3.98</td>\n",
       "      <td>Northern Ireland</td>\n",
       "      <td>Northern Ireland</td>\n",
       "    </tr>\n",
       "    <tr>\n",
       "      <th>4</th>\n",
       "      <td>Barelegs Brew</td>\n",
       "      <td>19590.0</td>\n",
       "      <td>Strangford Lough Brewing Company Ltd</td>\n",
       "      <td>10093.0</td>\n",
       "      <td>English Pale Ale</td>\n",
       "      <td>4.5</td>\n",
       "      <td>2004-08-30 10:00:00</td>\n",
       "      <td>cypressbob</td>\n",
       "      <td>cypressbob.3708</td>\n",
       "      <td>4.00</td>\n",
       "      <td>4.00</td>\n",
       "      <td>4.00</td>\n",
       "      <td>4.00</td>\n",
       "      <td>4.0</td>\n",
       "      <td>4.00</td>\n",
       "      <td>Northern Ireland</td>\n",
       "      <td>Northern Ireland</td>\n",
       "    </tr>\n",
       "  </tbody>\n",
       "</table>\n",
       "</div>"
      ],
      "text/plain": [
       "       beer_name   beer_id                               brewery_name  \\\n",
       "0          Régab  142544.0  Societe des Brasseries du Gabon (SOBRAGA)   \n",
       "1  Barelegs Brew   19590.0       Strangford Lough Brewing Company Ltd   \n",
       "2  Barelegs Brew   19590.0       Strangford Lough Brewing Company Ltd   \n",
       "3  Barelegs Brew   19590.0       Strangford Lough Brewing Company Ltd   \n",
       "4  Barelegs Brew   19590.0       Strangford Lough Brewing Company Ltd   \n",
       "\n",
       "   brewery_id             style  abv                date        user_name  \\\n",
       "0     37262.0   Euro Pale Lager  4.5 2015-08-20 10:00:00          nmann08   \n",
       "1     10093.0  English Pale Ale  4.5 2009-02-20 11:00:00      StJamesGate   \n",
       "2     10093.0  English Pale Ale  4.5 2006-03-13 11:00:00          mdagnew   \n",
       "3     10093.0  English Pale Ale  4.5 2004-12-01 11:00:00  helloloser12345   \n",
       "4     10093.0  English Pale Ale  4.5 2004-08-30 10:00:00       cypressbob   \n",
       "\n",
       "                 user_id  appearance  aroma  palate  taste  overall  rating  \\\n",
       "0         nmann08.184925        3.25   2.75    3.25   2.75      3.0    2.88   \n",
       "1     stjamesgate.163714        3.00   3.50    3.50   4.00      3.5    3.67   \n",
       "2          mdagnew.19527        4.00   3.50    3.50   4.00      3.5    3.73   \n",
       "3  helloloser12345.10867        4.00   3.50    4.00   4.00      4.5    3.98   \n",
       "4        cypressbob.3708        4.00   4.00    4.00   4.00      4.0    4.00   \n",
       "\n",
       "      user_location  brewery_location  \n",
       "0     United States             Gabon  \n",
       "1     United States  Northern Ireland  \n",
       "2  Northern Ireland  Northern Ireland  \n",
       "3  Northern Ireland  Northern Ireland  \n",
       "4  Northern Ireland  Northern Ireland  "
      ]
     },
     "execution_count": 65,
     "metadata": {},
     "output_type": "execute_result"
    }
   ],
   "source": [
    "# rename 'id' column to 'brewerie_id' column in brewery dataframes to facilitate merging with rating dataframes\n",
    "ba_breweries_loc_filtered = ba_breweries_loc_filtered.rename(columns={'id': 'brewery_id'})\n",
    "rb_breweries_loc_filtered = rb_breweries_loc_filtered.rename(columns={'id': 'brewery_id'})\n",
    "\n",
    "# merge rating dataframes with brewery dataframes on 'brewery_id' to add the'location' column to rating dataframes as 'brewerie_location'\n",
    "\n",
    "# Beer Advocate\n",
    "ba_ratings_loc_filtered = ba_ratings_loc_filtered.merge(ba_breweries_loc_filtered[['brewery_id', 'location']], on='brewery_id', how='left')\n",
    "ba_ratings_loc_filtered = ba_ratings_loc_filtered.rename(columns={'location': 'brewery_location'})\n",
    "\n",
    "# Rate Beer\n",
    "rb_ratings_loc_filtered = rb_ratings_loc_filtered.merge(rb_breweries_loc_filtered[['brewery_id', 'location']], on='brewery_id', how='left')\n",
    "rb_ratings_loc_filtered = rb_ratings_loc_filtered.rename(columns={'location': 'brewery_location'})\n",
    "\n",
    "ba_ratings_loc_filtered.head()"
   ]
  },
  {
   "cell_type": "markdown",
   "id": "fb29d145",
   "metadata": {},
   "source": [
    "# 1) Link between culture and taste"
   ]
  },
  {
   "cell_type": "markdown",
   "id": "6980f367",
   "metadata": {},
   "source": [
    "## a) Beer style preferences"
   ]
  },
  {
   "cell_type": "code",
   "execution_count": 54,
   "id": "c8304fe6",
   "metadata": {},
   "outputs": [],
   "source": [
    "# use clustering techniques to determine beer style is most popular in each country / geographic area\n",
    "# use time information to determine if regional beer style preferences are stable (which would suggest that they are \n",
    "# strongly affected by culture)or if they vary over time"
   ]
  },
  {
   "cell_type": "markdown",
   "id": "30ac60a3",
   "metadata": {},
   "source": [
    "## b) Importance of specific beer attributes"
   ]
  },
  {
   "cell_type": "code",
   "execution_count": 55,
   "id": "715b5157",
   "metadata": {},
   "outputs": [
    {
     "data": {
      "image/png": "[encoded data removed]",
      "text/plain": [
       "<Figure size 640x480 with 1 Axes>"
      ]
     },
     "metadata": {},
     "output_type": "display_data"
    },
    {
     "data": {
      "image/png": "[encoded data removed]",
      "text/plain": [
       "<Figure size 640x480 with 1 Axes>"
      ]
     },
     "metadata": {},
     "output_type": "display_data"
    },
    {
     "data": {
      "image/png": "[encoded data removed]",
      "text/plain": [
       "<Figure size 640x480 with 1 Axes>"
      ]
     },
     "metadata": {},
     "output_type": "display_data"
    },
    {
     "data": {
      "image/png": "[encoded data removed]",
      "text/plain": [
       "<Figure size 640x480 with 1 Axes>"
      ]
     },
     "metadata": {},
     "output_type": "display_data"
    },
    {
     "data": {
      "image/png": "[encoded data removed]",
      "text/plain": [
       "<Figure size 640x480 with 1 Axes>"
      ]
     },
     "metadata": {},
     "output_type": "display_data"
    },
    {
     "data": {
      "image/png": "[encoded data removed]",
      "text/plain": [
       "<Figure size 640x480 with 1 Axes>"
      ]
     },
     "metadata": {},
     "output_type": "display_data"
    },
    {
     "data": {
      "image/png": "[encoded data removed]",
      "text/plain": [
       "<Figure size 640x480 with 1 Axes>"
      ]
     },
     "metadata": {},
     "output_type": "display_data"
    },
    {
     "data": {
      "image/png": "[encoded data removed]",
      "text/plain": [
       "<Figure size 640x480 with 1 Axes>"
      ]
     },
     "metadata": {},
     "output_type": "display_data"
    }
   ],
   "source": [
    "# perform linear regression between attribute ratings the final rating for all countries together and compare coefficients for each attribute\n",
    "# perform linear regression between attribute ratings the final rating for the different countries separately and observe the distribution of the coefficients for the different attributes across countries\n",
    "\n",
    "# Don't forget to do these kind of analysis also after merging the two different dataframes from different files\n",
    "# Firstly we visualize the distrubtion of the ratings for different  beer attributes\n",
    "attributes = ['appearance', 'aroma', 'palate', 'taste']  #\n",
    "for col in attributes:\n",
    "    plt.figure()\n",
    "    sns.histplot(ba_ratings_[col], kde=True)\n",
    "    plt.title(f\"Distribution of {col} in Beer Advocate\")\n",
    "for col in attributes:\n",
    "    plt.figure()\n",
    "    sns.histplot(rb_ratings_[col], kde=True)\n",
    "    plt.title(f\"Distribution of {col} in RateBeer\")"
   ]
  },
  {
   "cell_type": "code",
   "execution_count": 56,
   "id": "961ac9e7-59ca-4926-9539-0348a020d9b8",
   "metadata": {},
   "outputs": [
    {
     "ename": "NameError",
     "evalue": "name 'attribute_columns' is not defined",
     "output_type": "error",
     "traceback": [
      "\u001b[1;31m---------------------------------------------------------------------------\u001b[0m",
      "\u001b[1;31mNameError\u001b[0m                                 Traceback (most recent call last)",
      "Cell \u001b[1;32mIn[56], line 2\u001b[0m\n\u001b[0;32m      1\u001b[0m \u001b[38;5;66;03m# We will try to see and compare how each attributes correlates between each other \u001b[39;00m\n\u001b[1;32m----> 2\u001b[0m correlation_matrix_1 \u001b[38;5;241m=\u001b[39m ba_ratings_[attribute_columns]\u001b[38;5;241m.\u001b[39mcorr()\n\u001b[0;32m      3\u001b[0m \u001b[38;5;28mprint\u001b[39m(\u001b[38;5;124m\"\u001b[39m\u001b[38;5;124mCorrelation matrix:\u001b[39m\u001b[38;5;130;01m\\n\u001b[39;00m\u001b[38;5;124m\"\u001b[39m, correlation_matrix_1)\n\u001b[0;32m      5\u001b[0m \u001b[38;5;66;03m# Creating the plot of the correlation matrix for both data \u001b[39;00m\n",
      "\u001b[1;31mNameError\u001b[0m: name 'attribute_columns' is not defined"
     ]
    }
   ],
   "source": [
    "# We will try to see and compare how each attributes correlates between each other \n",
    "correlation_matrix_1 = ba_ratings_[attribute_columns].corr()\n",
    "print(\"Correlation matrix:\\n\", correlation_matrix_1)\n",
    "\n",
    "# Creating the plot of the correlation matrix for both data \n",
    "plt.figure(figsize=(10, 8))\n",
    "sns.heatmap(correlation_matrix, annot=True, cmap=\"cividis\")\n",
    "plt.title(\"Correlation Matrix of different attributes in Beer Advocate\")\n",
    "\n",
    "correlation_matrix_2 = rb_ratings_[attribute_columns].corr()\n",
    "print(\"Correlation matrix:\\n\", correlation_matrix_2)\n",
    "plt.figure(figsize=(10, 8))\n",
    "sns.heatmap(correlation_matrix_2, annot=True, cmap=\"viridis\")\n",
    "plt.title(\"Correlation Matrix of different attributes in Rate Beer\")\n",
    "plt.show()\n",
    "plt.close()"
   ]
  },
  {
   "cell_type": "markdown",
   "id": "47a7eae5-4e07-4d12-9162-b3391254ec2a",
   "metadata": {},
   "source": [
    "As we see from the plots and correlation matrix the different attributes of the beers generally correlates. The biggest correlation is between the palate and taste which is logical because the beers with richest palate tends to taste better."
   ]
  },
  {
   "cell_type": "code",
   "execution_count": null,
   "id": "ebf06174-0aac-45c3-9a58-6dcf223585eb",
   "metadata": {},
   "outputs": [],
   "source": []
  },
  {
   "cell_type": "markdown",
   "id": "1bf205f2",
   "metadata": {},
   "source": [
    "# 2) Location-related biases in ratings"
   ]
  },
  {
   "cell_type": "markdown",
   "id": "602da5a1",
   "metadata": {},
   "source": [
    "## a) Cultural biases"
   ]
  },
  {
   "cell_type": "code",
   "execution_count": null,
   "id": "3a47a927",
   "metadata": {},
   "outputs": [],
   "source": [
    "# determine the final rating for each country/ geographic area\n",
    "# determine if the final rating for each country/ geographic area is the same using statistical tests"
   ]
  },
  {
   "cell_type": "markdown",
   "id": "0a29b4b2",
   "metadata": {},
   "source": [
    "## b) Beer origin bias"
   ]
  },
  {
   "cell_type": "code",
   "execution_count": 47,
   "id": "32502ff9",
   "metadata": {},
   "outputs": [],
   "source": [
    "# compare the final rating of domestic vs foreign beers and determine if there is a significant difference using statistical tests\n",
    "\n",
    "# IMPORTANT NOTE: for the following task, do the following:\n",
    "# 1) for each rating dataframe, perform a value_count on the 'user_location' column: the values correspond to countries that we considered to have enough reviewers\n",
    "# 2) create a copy of the beer dataframes to remove beers whose brewerie is not in one of the countries identified above\n",
    "# task in question: determine if the final rating of a given beer is correlated with the number of reviewers from the country where the beer comes from who reviewed that beer (scatter plot + Pearson’s correlation coefficient + regression)\n",
    "\n",
    "# isolate beer enthusiasts (who wrote a very large number of reviews) and compare the final rating of domestic vs foreign beers and determine if there is a significant difference using statistical tests"
   ]
  },
  {
   "cell_type": "markdown",
   "id": "4367514f",
   "metadata": {},
   "source": [
    "# 3) Other biases"
   ]
  },
  {
   "cell_type": "markdown",
   "id": "ce1c66a0",
   "metadata": {},
   "source": [
    "## a) Seasonal biases"
   ]
  },
  {
   "cell_type": "code",
   "execution_count": null,
   "id": "1dec6525",
   "metadata": {},
   "outputs": [],
   "source": [
    "# use the time information to determine the season during which each rating was posted (only consider countries with 4 seasons)\n",
    "# group ratings by season\n",
    "# within each group, determine the average final rating of each beer style\n",
    "# compare the results for the different seasons"
   ]
  },
  {
   "cell_type": "markdown",
   "id": "45e689a5-26d6-4bb1-b92b-2aa95217b899",
   "metadata": {},
   "source": [
    "This function categorizes each month into a season to identify when each beer rating was posted. We’re only considering countries with four seasons."
   ]
  },
  {
   "cell_type": "code",
   "execution_count": null,
   "id": "5446d6e1-9dd7-47b5-ae4a-bae9858d0744",
   "metadata": {},
   "outputs": [],
   "source": [
    "# determine season based on date\n",
    "def get_season(date):\n",
    "    month = date.month\n",
    "    if month in [12, 1, 2]:\n",
    "        return 'Winter'\n",
    "    elif month in [3, 4, 5]:\n",
    "        return 'Spring'\n",
    "    elif month in [6, 7, 8]:\n",
    "        return 'Summer'\n",
    "    elif month in [9, 10, 11]:\n",
    "        return 'Fall'"
   ]
  },
  {
   "cell_type": "markdown",
   "id": "dab4c43f-b6f0-4933-ab3c-ccdc00d46b14",
   "metadata": {},
   "source": [
    "Here, we apply the get_season function to add a 'season' column to both ba_ratings_ (BeerAdvocate) and rb_ratings_ (RateBeer) datasets, ensuring each rating has its respective season assigned."
   ]
  },
  {
   "cell_type": "code",
   "execution_count": null,
   "id": "f9a32d2c-1e65-4202-8ab2-a4e09dadcf6c",
   "metadata": {},
   "outputs": [],
   "source": [
    "# Add season information to ratings dataframes\n",
    "ba_ratings_['season'] = ba_ratings_['date'].apply(lambda x: get_season(pd.to_datetime(x)))\n",
    "rb_ratings_['season'] = rb_ratings_['date'].apply(lambda x: get_season(pd.to_datetime(x)))"
   ]
  },
  {
   "cell_type": "markdown",
   "id": "84628c7c-6fe3-4dac-99f3-c4da6609a86c",
   "metadata": {},
   "source": [
    "This code block generates boxplots showing the distribution of ratings by season for each platform, providing a visual sense of seasonal variation in ratings."
   ]
  },
  {
   "cell_type": "code",
   "execution_count": null,
   "id": "3b4aa2d0-5492-4a5d-a68d-ae0fbfc7e750",
   "metadata": {},
   "outputs": [],
   "source": [
    "plt.figure(figsize=(10, 6))\n",
    "sns.boxplot(x='season', y='rating', data=ba_ratings_, palette=\"Set2\")\n",
    "plt.title(\"BeerAdvocate: Ratings Distribution by Season\")\n",
    "plt.xlabel(\"Season\")\n",
    "plt.ylabel(\"Rating\")\n",
    "plt.show()\n",
    "plt.close()"
   ]
  },
  {
   "cell_type": "code",
   "execution_count": null,
   "id": "54f9b04d-6c56-4e42-98ed-bebe6e890f88",
   "metadata": {},
   "outputs": [],
   "source": [
    "plt.figure(figsize=(10, 6))\n",
    "sns.boxplot(x='season', y='rating', data=rb_ratings_, palette=\"Set1\")\n",
    "plt.title(\"RateBeer: Ratings Distribution by Season\")\n",
    "plt.xlabel(\"Season\")\n",
    "plt.ylabel(\"Rating\")\n",
    "plt.show()\n",
    "plt.close()"
   ]
  },
  {
   "cell_type": "markdown",
   "id": "054e4ed3-72b5-4dbd-82cb-637be109bc0a",
   "metadata": {},
   "source": [
    "This part calculates the average rating for each season on both platforms and then combines these into a single DataFrame for easier comparison"
   ]
  },
  {
   "cell_type": "code",
   "execution_count": null,
   "id": "f5969e14-3b78-40b7-a0c3-9d3bf6656eef",
   "metadata": {},
   "outputs": [],
   "source": [
    "# Group by season, then calculate average final rating within each season\n",
    "ba_seasonal_avg = ba_ratings_.groupby('season')['rating'].mean().reset_index()\n",
    "rb_seasonal_avg = rb_ratings_.groupby('season')['rating'].mean().reset_index()"
   ]
  },
  {
   "cell_type": "code",
   "execution_count": null,
   "id": "12ae2d10-5a91-4f88-8761-70db08edc167",
   "metadata": {},
   "outputs": [],
   "source": [
    "# Combine BeerAdvocate and RateBeer seasonal averages\n",
    "seasonal_avg = pd.concat([ba_seasonal_avg, rb_seasonal_avg], keys=['BeerAdvocate', 'RateBeer']).reset_index(level=0).rename(columns={'level_0': 'source'})\n",
    "seasonal_avg = seasonal_avg.groupby(['season', 'source'])['rating'].mean().unstack()"
   ]
  },
  {
   "cell_type": "code",
   "execution_count": null,
   "id": "a27af10e-a3bd-4142-a882-7bb82202d408",
   "metadata": {},
   "outputs": [],
   "source": [
    "print(\"Seasonal Bias Analysis - Average Ratings per Style by Season\")\n",
    "display(seasonal_avg)"
   ]
  },
  {
   "cell_type": "markdown",
   "id": "16016a77-e5f0-4bbc-8bad-fc682f0b7af7",
   "metadata": {},
   "source": [
    "Both BeerAdvocate and RateBeer show slight variations in ratings across seasons. Average ratings on BeerAdvocate are relatively stable, with minor variations, while RateBeer ratings show a bit more fluctuation across seasons. Winter and Spring generally have slightly higher ratings than Summer and Fall, possibly due to seasonal preferences for richer or stronger beers that are typically enjoyed in cooler weather."
   ]
  },
  {
   "cell_type": "code",
   "execution_count": null,
   "id": "0a95bdb2-d17a-4ea6-8b6f-c706036715ff",
   "metadata": {},
   "outputs": [],
   "source": [
    "# Plot average ratings across seasons\n",
    "seasonal_avg.plot(kind='bar', figsize=(10, 6))\n",
    "plt.title(\"Average Ratings by Season Across BeerAdvocate and RateBeer\")\n",
    "plt.xlabel(\"Season\")\n",
    "plt.ylabel(\"Average Rating\")\n",
    "plt.legend(title='Source')\n",
    "plt.show()\n",
    "plt.close()"
   ]
  },
  {
   "cell_type": "markdown",
   "id": "a5fa150b-74cc-4d84-b74b-c245681861df",
   "metadata": {},
   "source": [
    "BeerAdvocate ratings tend to be consistently higher than those on RateBeer across all seasons, which might reflect differences in user base preferences or rating scales."
   ]
  },
  {
   "cell_type": "code",
   "execution_count": null,
   "id": "80315fd6-700a-4e08-b334-90a7f76f403f",
   "metadata": {},
   "outputs": [],
   "source": [
    "# Correlation matrix for seasonal ratings between BeerAdvocate and RateBeer\n",
    "correlation_matrix = seasonal_avg.corr()\n",
    "print(\"Correlation Matrix of Seasonal Ratings between BeerAdvocate and RateBeer\")\n",
    "display(correlation_matrix)"
   ]
  },
  {
   "cell_type": "code",
   "execution_count": null,
   "id": "26594269-ba71-4917-8114-acfe060100c4",
   "metadata": {},
   "outputs": [],
   "source": [
    "# Heatmap of correlation matrix\n",
    "plt.figure(figsize=(6, 5))\n",
    "sns.heatmap(correlation_matrix, annot=True, cmap=\"coolwarm\", fmt=\".2f\")\n",
    "plt.title(\"Correlation Matrix of Seasonal Ratings\")\n",
    "plt.show()\n",
    "plt.close()"
   ]
  },
  {
   "cell_type": "markdown",
   "id": "ef9b1bce-1a65-4c40-99e8-36b1d27b5237",
   "metadata": {},
   "source": [
    "The high correlation (0.97) between BeerAdvocate and RateBeer seasonal ratings indicates that both platforms exhibit similar seasonal patterns, despite variations in their absolute values. This strong correlation suggests a shared trend in beer preferences among users, regardless of platform differences."
   ]
  },
  {
   "cell_type": "markdown",
   "id": "93157f3c",
   "metadata": {},
   "source": [
    "## b) Experience biais"
   ]
  },
  {
   "cell_type": "code",
   "execution_count": 68,
   "id": "dac1846d",
   "metadata": {},
   "outputs": [],
   "source": [
    "# isolate users who gave a lot of ratings (based on a chosen threshold)\n",
    "# for each user, sort their reviews chronologically and assign an \"experience level\" (predefined values that will be the same for all users: n<o<p) to each rating based the count of reviews posted by that user up to that rating: new reviewer (for the first n reviews), amateur (for the n+1 th review up to the oth review), expert (for the o+1 th review until the last review)\n",
    "# calculate the average final rating for each experience level across all users\n",
    "# represent results as a bar plot\n",
    "# if a particular trend is visible,perform a paired t-test (for early vs. late reviews by the same user) to test if the rating decrease or increase is statistically significant"
   ]
  },
  {
   "cell_type": "markdown",
   "id": "a8138e61-ee73-4055-a501-d25418ecc41a",
   "metadata": {},
   "source": [
    "To analyze how users’ rating tendencies evolve with experience, we will focus on users who have posted a substantial number of reviews, based on a chosen threshold. Let us set that threshold arbitrarily to 15 reviews, which seems like a number of reviews that is high enough to be able to define different experience levels.\n",
    "\n",
    "First, let us verify that we have enough users who wrote at least this many reviews."
   ]
  },
  {
   "cell_type": "code",
   "execution_count": 53,
   "id": "2552a291-b83a-4578-943f-a2ff4d189e7d",
   "metadata": {},
   "outputs": [
    {
     "name": "stdout",
     "output_type": "stream",
     "text": [
      "Total number of users who wrote at least 15 reviews:\n",
      "54285\n"
     ]
    }
   ],
   "source": [
    "REVIEW_NB_THRESHOLD = 15\n",
    "\n",
    "print(\"Total number of users who wrote at least\",REVIEW_NB_THRESHOLD,\"reviews:\")\n",
    "print((ba_users[ba_users.nbr_ratings>=REVIEW_NB_THRESHOLD].shape[0]) + (rb_users[rb_users.nbr_ratings>=REVIEW_NB_THRESHOLD].shape[0]))"
   ]
  },
  {
   "cell_type": "markdown",
   "id": "0ad85477-3b2e-4762-b094-1e1260855d2d",
   "metadata": {},
   "source": [
    "We have more than 50 thousand users who wrote this many reviews, which seems to be enough data to do perform our analysis."
   ]
  },
  {
   "cell_type": "code",
   "execution_count": 54,
   "id": "a935d54c-4d24-4ed8-9a99-f5df0001dd38",
   "metadata": {},
   "outputs": [],
   "source": [
    "# get the id of users who wrote at least 15 reviews, and store them in a list\n",
    "prolific_ba_users = ba_users[ba_users.nbr_ratings >= REVIEW_NB_THRESHOLD]['user_id'].unique().tolist()\n",
    "prolific_rb_users = rb_users[rb_users.nbr_ratings >= REVIEW_NB_THRESHOLD]['user_id'].unique().tolist()\n",
    "\n",
    "# filter rating dataframes to isolate users who wrote at least 15 reviews\n",
    "prolific_ba_users_ratings = ba_ratings[ba_ratings.user_id.isin(prolific_ba_users)]\n",
    "prolific_rb_users_ratings = rb_ratings[rb_ratings.user_id.isin(prolific_rb_users)]"
   ]
  },
  {
   "cell_type": "markdown",
   "id": "ac5235a8-732c-4a2d-a4e7-679d0ddaf34e",
   "metadata": {},
   "source": [
    "Our analysis will start by sorting the reviews of each user chronologically and assigning an \"experience level\" to each rating based on the number of reviews they had posted up to that point. These levels will be predefined and consistent across all users: new reviewer (first n reviews), amateur (from the n+1th to the oth review), and expert (from the o+1th review onward).\n",
    "\n",
    "Let us define these experience levels arbitrarily: we will consider that a user is a new reviewer for the first 5 reviews, an amateur for the 6th to the 10th review and and expert starting from the 11th review. "
   ]
  },
  {
   "cell_type": "code",
   "execution_count": 55,
   "id": "96a57bed-7ec5-4128-a273-63473dcb7fa5",
   "metadata": {},
   "outputs": [],
   "source": [
    "# define experience levels\n",
    "NEW_REVIEWER_THRESHOLD = 5\n",
    "AMATEUR_THRESHOLD = 10"
   ]
  },
  {
   "cell_type": "markdown",
   "id": "de0316de-a670-4f7b-b72b-894a99b1cd89",
   "metadata": {},
   "source": [
    "Let us now add experience levels to the reviews of users who wrote at least 15 reviews"
   ]
  },
  {
   "cell_type": "code",
   "execution_count": 56,
   "id": "73be027c-dc78-4138-b071-e686d4baf39c",
   "metadata": {},
   "outputs": [
    {
     "data": {
      "text/html": [
       "<div>\n",
       "<style scoped>\n",
       "    .dataframe tbody tr th:only-of-type {\n",
       "        vertical-align: middle;\n",
       "    }\n",
       "\n",
       "    .dataframe tbody tr th {\n",
       "        vertical-align: top;\n",
       "    }\n",
       "\n",
       "    .dataframe thead th {\n",
       "        text-align: right;\n",
       "    }\n",
       "</style>\n",
       "<table border=\"1\" class=\"dataframe\">\n",
       "  <thead>\n",
       "    <tr style=\"text-align: right;\">\n",
       "      <th></th>\n",
       "      <th>beer_name</th>\n",
       "      <th>beer_id</th>\n",
       "      <th>brewery_name</th>\n",
       "      <th>brewery_id</th>\n",
       "      <th>style</th>\n",
       "      <th>abv</th>\n",
       "      <th>date</th>\n",
       "      <th>user_name</th>\n",
       "      <th>user_id</th>\n",
       "      <th>appearance</th>\n",
       "      <th>aroma</th>\n",
       "      <th>palate</th>\n",
       "      <th>taste</th>\n",
       "      <th>overall</th>\n",
       "      <th>rating</th>\n",
       "      <th>experience_level</th>\n",
       "    </tr>\n",
       "  </thead>\n",
       "  <tbody>\n",
       "    <tr>\n",
       "      <th>8066932</th>\n",
       "      <td>St. Bernardus Abt 12</td>\n",
       "      <td>1708.0</td>\n",
       "      <td>Brouwerij St. Bernardus NV</td>\n",
       "      <td>259.0</td>\n",
       "      <td>Quadrupel (Quad)</td>\n",
       "      <td>10.0</td>\n",
       "      <td>2012-12-25 11:00:00</td>\n",
       "      <td>--Dom--</td>\n",
       "      <td>--dom--.709199</td>\n",
       "      <td>4.5</td>\n",
       "      <td>5.00</td>\n",
       "      <td>4.50</td>\n",
       "      <td>4.5</td>\n",
       "      <td>4.50</td>\n",
       "      <td>4.62</td>\n",
       "      <td>new_reviewer</td>\n",
       "    </tr>\n",
       "    <tr>\n",
       "      <th>7506945</th>\n",
       "      <td>Northwind Imperial Stout</td>\n",
       "      <td>2886.0</td>\n",
       "      <td>Two Brothers Brewing Company</td>\n",
       "      <td>689.0</td>\n",
       "      <td>Russian Imperial Stout</td>\n",
       "      <td>9.1</td>\n",
       "      <td>2013-01-06 11:00:00</td>\n",
       "      <td>--Dom--</td>\n",
       "      <td>--dom--.709199</td>\n",
       "      <td>4.0</td>\n",
       "      <td>4.00</td>\n",
       "      <td>4.00</td>\n",
       "      <td>4.0</td>\n",
       "      <td>4.00</td>\n",
       "      <td>4.00</td>\n",
       "      <td>new_reviewer</td>\n",
       "    </tr>\n",
       "    <tr>\n",
       "      <th>5304313</th>\n",
       "      <td>90 Minute IPA</td>\n",
       "      <td>2093.0</td>\n",
       "      <td>Dogfish Head Brewings &amp; Eats</td>\n",
       "      <td>64.0</td>\n",
       "      <td>American Double / Imperial IPA</td>\n",
       "      <td>9.0</td>\n",
       "      <td>2013-01-13 11:00:00</td>\n",
       "      <td>--Dom--</td>\n",
       "      <td>--dom--.709199</td>\n",
       "      <td>5.0</td>\n",
       "      <td>4.75</td>\n",
       "      <td>4.75</td>\n",
       "      <td>4.5</td>\n",
       "      <td>4.75</td>\n",
       "      <td>4.67</td>\n",
       "      <td>new_reviewer</td>\n",
       "    </tr>\n",
       "  </tbody>\n",
       "</table>\n",
       "</div>"
      ],
      "text/plain": [
       "                        beer_name  beer_id                  brewery_name  \\\n",
       "8066932      St. Bernardus Abt 12   1708.0    Brouwerij St. Bernardus NV   \n",
       "7506945  Northwind Imperial Stout   2886.0  Two Brothers Brewing Company   \n",
       "5304313             90 Minute IPA   2093.0  Dogfish Head Brewings & Eats   \n",
       "\n",
       "         brewery_id                           style   abv                date  \\\n",
       "8066932       259.0                Quadrupel (Quad)  10.0 2012-12-25 11:00:00   \n",
       "7506945       689.0          Russian Imperial Stout   9.1 2013-01-06 11:00:00   \n",
       "5304313        64.0  American Double / Imperial IPA   9.0 2013-01-13 11:00:00   \n",
       "\n",
       "        user_name         user_id  appearance  aroma  palate  taste  overall  \\\n",
       "8066932   --Dom--  --dom--.709199         4.5   5.00    4.50    4.5     4.50   \n",
       "7506945   --Dom--  --dom--.709199         4.0   4.00    4.00    4.0     4.00   \n",
       "5304313   --Dom--  --dom--.709199         5.0   4.75    4.75    4.5     4.75   \n",
       "\n",
       "         rating experience_level  \n",
       "8066932    4.62     new_reviewer  \n",
       "7506945    4.00     new_reviewer  \n",
       "5304313    4.67     new_reviewer  "
      ]
     },
     "execution_count": 56,
     "metadata": {},
     "output_type": "execute_result"
    }
   ],
   "source": [
    "ba_ratings_with_experience_levels = assign_experience_level(prolific_ba_users_ratings, NEW_REVIEWER_THRESHOLD, AMATEUR_THRESHOLD)\n",
    "ba_ratings_with_experience_levels.head(3)"
   ]
  },
  {
   "cell_type": "code",
   "execution_count": 57,
   "id": "f588f187-4564-4043-9ca5-315498a25cc9",
   "metadata": {},
   "outputs": [
    {
     "data": {
      "text/html": [
       "<div>\n",
       "<style scoped>\n",
       "    .dataframe tbody tr th:only-of-type {\n",
       "        vertical-align: middle;\n",
       "    }\n",
       "\n",
       "    .dataframe tbody tr th {\n",
       "        vertical-align: top;\n",
       "    }\n",
       "\n",
       "    .dataframe thead th {\n",
       "        text-align: right;\n",
       "    }\n",
       "</style>\n",
       "<table border=\"1\" class=\"dataframe\">\n",
       "  <thead>\n",
       "    <tr style=\"text-align: right;\">\n",
       "      <th></th>\n",
       "      <th>beer_name</th>\n",
       "      <th>beer_id</th>\n",
       "      <th>brewery_name</th>\n",
       "      <th>brewery_id</th>\n",
       "      <th>style</th>\n",
       "      <th>abv</th>\n",
       "      <th>date</th>\n",
       "      <th>user_name</th>\n",
       "      <th>user_id</th>\n",
       "      <th>appearance</th>\n",
       "      <th>aroma</th>\n",
       "      <th>palate</th>\n",
       "      <th>taste</th>\n",
       "      <th>overall</th>\n",
       "      <th>rating</th>\n",
       "      <th>experience_level</th>\n",
       "    </tr>\n",
       "  </thead>\n",
       "  <tbody>\n",
       "    <tr>\n",
       "      <th>5973190</th>\n",
       "      <td>Worthingtons White Shield</td>\n",
       "      <td>286.0</td>\n",
       "      <td>Molson Coors UK &amp;#40;MolsonCoors&amp;#41;</td>\n",
       "      <td>26.0</td>\n",
       "      <td>Premium Bitter/ESB</td>\n",
       "      <td>5.6</td>\n",
       "      <td>2000-04-16 10:00:00</td>\n",
       "      <td>wade</td>\n",
       "      <td>2.0</td>\n",
       "      <td>3.0</td>\n",
       "      <td>10.0</td>\n",
       "      <td>4.0</td>\n",
       "      <td>9.0</td>\n",
       "      <td>18.0</td>\n",
       "      <td>4.4</td>\n",
       "      <td>new_reviewer</td>\n",
       "    </tr>\n",
       "    <tr>\n",
       "      <th>5257472</th>\n",
       "      <td>Rogue Dry Hopped St. Rogue Red Ale</td>\n",
       "      <td>596.0</td>\n",
       "      <td>Rogue Ales</td>\n",
       "      <td>96.0</td>\n",
       "      <td>Amber Ale</td>\n",
       "      <td>5.2</td>\n",
       "      <td>2000-04-23 10:00:00</td>\n",
       "      <td>wade</td>\n",
       "      <td>2.0</td>\n",
       "      <td>4.0</td>\n",
       "      <td>9.0</td>\n",
       "      <td>5.0</td>\n",
       "      <td>8.0</td>\n",
       "      <td>17.0</td>\n",
       "      <td>4.3</td>\n",
       "      <td>new_reviewer</td>\n",
       "    </tr>\n",
       "    <tr>\n",
       "      <th>4028200</th>\n",
       "      <td>Flying Dog Doggie Style Pale Ale</td>\n",
       "      <td>683.0</td>\n",
       "      <td>Flying Dog Brewery</td>\n",
       "      <td>109.0</td>\n",
       "      <td>American Pale Ale</td>\n",
       "      <td>5.5</td>\n",
       "      <td>2000-04-28 10:00:00</td>\n",
       "      <td>wade</td>\n",
       "      <td>2.0</td>\n",
       "      <td>4.0</td>\n",
       "      <td>9.0</td>\n",
       "      <td>4.0</td>\n",
       "      <td>9.0</td>\n",
       "      <td>18.0</td>\n",
       "      <td>4.4</td>\n",
       "      <td>new_reviewer</td>\n",
       "    </tr>\n",
       "  </tbody>\n",
       "</table>\n",
       "</div>"
      ],
      "text/plain": [
       "                                  beer_name  beer_id  \\\n",
       "5973190          Worthingtons White Shield    286.0   \n",
       "5257472  Rogue Dry Hopped St. Rogue Red Ale    596.0   \n",
       "4028200    Flying Dog Doggie Style Pale Ale    683.0   \n",
       "\n",
       "                                  brewery_name  brewery_id  \\\n",
       "5973190  Molson Coors UK &#40;MolsonCoors&#41;        26.0   \n",
       "5257472                             Rogue Ales        96.0   \n",
       "4028200                     Flying Dog Brewery       109.0   \n",
       "\n",
       "                      style  abv                date user_name  user_id  \\\n",
       "5973190  Premium Bitter/ESB  5.6 2000-04-16 10:00:00      wade      2.0   \n",
       "5257472           Amber Ale  5.2 2000-04-23 10:00:00      wade      2.0   \n",
       "4028200   American Pale Ale  5.5 2000-04-28 10:00:00      wade      2.0   \n",
       "\n",
       "         appearance  aroma  palate  taste  overall  rating experience_level  \n",
       "5973190         3.0   10.0     4.0    9.0     18.0     4.4     new_reviewer  \n",
       "5257472         4.0    9.0     5.0    8.0     17.0     4.3     new_reviewer  \n",
       "4028200         4.0    9.0     4.0    9.0     18.0     4.4     new_reviewer  "
      ]
     },
     "execution_count": 57,
     "metadata": {},
     "output_type": "execute_result"
    }
   ],
   "source": [
    "rb_ratings_with_experience_levels = assign_experience_level(prolific_rb_users_ratings, NEW_REVIEWER_THRESHOLD, AMATEUR_THRESHOLD)\n",
    "rb_ratings_with_experience_levels.head(3)"
   ]
  },
  {
   "cell_type": "markdown",
   "id": "eaf58d07-f85f-474f-9166-c32fe3e35fba",
   "metadata": {},
   "source": [
    "We will now calculate the average final rating (denoted as 'rating' in the ratings DataFrames) for each experience level across all users."
   ]
  },
  {
   "cell_type": "code",
   "execution_count": 60,
   "id": "23bd700b-7f27-425a-b6d1-52e787d046d8",
   "metadata": {},
   "outputs": [
    {
     "name": "stdout",
     "output_type": "stream",
     "text": [
      "BeerAdvocate:\n",
      " experience_level\n",
      "new_reviewer    3.961161\n",
      "amateur         3.925924\n",
      "expert          3.870697\n",
      "Name: rating, dtype: float64\n",
      "RateBeer:\n",
      " experience_level\n",
      "new_reviewer    3.294410\n",
      "amateur         3.300492\n",
      "expert          3.279800\n",
      "Name: rating, dtype: float64\n"
     ]
    }
   ],
   "source": [
    "experience_order = ['new_reviewer', 'amateur', 'expert']\n",
    "\n",
    "# average final ratung for each experience level for BeerAdvocate data\n",
    "ba_final_rating_by_experience_level = ba_ratings_with_experience_levels.groupby('experience_level')['rating'].mean().reindex(experience_order)\n",
    "print('BeerAdvocate:\\n',ba_final_rating_by_experience_level)\n",
    "\n",
    "# average final ratung for each experience level for RateBeer data\n",
    "rb_final_rating_by_experience_level = rb_ratings_with_experience_levels.groupby('experience_level')['rating'].mean().reindex(experience_order)\n",
    "print('RateBeer:\\n',rb_final_rating_by_experience_level)"
   ]
  },
  {
   "cell_type": "markdown",
   "id": "d61b7c57-fcf7-46fd-84e1-9c8f1acdd8d0",
   "metadata": {},
   "source": [
    "Let us visualize the results with a bar chart."
   ]
  },
  {
   "cell_type": "code",
   "execution_count": 63,
   "id": "b041343e-06dd-4463-b2a7-0e03ae9424a8",
   "metadata": {},
   "outputs": [
    {
     "data": {
      "image/png": "[encoded data removed]",
      "text/plain": [
       "<Figure size 1400x600 with 2 Axes>"
      ]
     },
     "metadata": {},
     "output_type": "display_data"
    }
   ],
   "source": [
    "plt.figure(figsize=(14, 6))\n",
    "\n",
    "plt.subplot(1, 2, 1)\n",
    "sns.barplot(x='experience_level', y='rating', data=ba_ratings_with_experience_levels, order=['new_reviewer', 'amateur', 'expert'], ci=95, palette='Greens')\n",
    "plt.title('Average final rating by experience level (Beer Advocate)')\n",
    "plt.xlabel('Experience Level')\n",
    "plt.ylabel('Average final rating')\n",
    "plt.grid(True, axis='y')\n",
    "\n",
    "plt.subplot(1, 2, 2)\n",
    "sns.barplot(x='experience_level', y='rating', data=rb_ratings_with_experience_levels, order=['new_reviewer', 'amateur', 'expert'], ci=95, palette='Blues')\n",
    "plt.title('Average final ratings by experience level (Rate Beer)')\n",
    "plt.xlabel('Experience level')\n",
    "plt.grid(True, axis='y')\n",
    "\n",
    "plt.tight_layout()\n",
    "plt.show()\n",
    "plt.close()"
   ]
  },
  {
   "cell_type": "markdown",
   "id": "adc4549a-3a9e-4d7e-8e97-0252ee4b7af8",
   "metadata": {},
   "source": [
    "For both Beer Advocate and Beer Review data, we can see that the final ratings given by users when they are \"experts\" is slightly smaller than when they are \"new reviewers\". While the difference is small, the confidence itervals do not overlap, suggesting that the differences, despite being small, may be significant.\n",
    "\n",
    "Let us investigate this phenomenon further by testing whether the average rating of reviews labeled as 'new_reviewer' is greater than the average rating of reviews labeled as 'expert' for a given user, using a one-tailed t-test."
   ]
  },
  {
   "cell_type": "code",
   "execution_count": 73,
   "id": "6cda72e6-ea5b-44fb-96b1-584a066b332e",
   "metadata": {},
   "outputs": [
    {
     "name": "stdout",
     "output_type": "stream",
     "text": [
      "T-statistic: 11.546972007985525, One-tailed P-value: 4.279385395467664e-31\n"
     ]
    }
   ],
   "source": [
    "# Beer Advocate\n",
    "# group the data by 'user_id' and 'experience_level' to calculate the average rating for each experience level and for each user\n",
    "ba_average_final_rating_by_user_and_experience_level = ba_ratings_with_experience_levels.groupby(['user_id', 'experience_level'])['rating'].mean().unstack()\n",
    "\n",
    "# perform a one-tailed t-test\n",
    "t_stat, p_value = ttest_rel(ba_average_final_rating_by_user_and_experience_level['new_reviewer'], ba_average_final_rating_by_user_and_experience_level['expert'])\n",
    "\n",
    "if t_stat > 0:  # case where 'new reviewer' average rating is greater than 'expert' average rating\n",
    "   one_tailed_p_value = p_value / 2\n",
    "else: # case where 'new reviewer' average rating is smaller than 'expert' average rating\n",
    "    one_tailed_p_value = 1 - (p_value / 2)\n",
    "\n",
    "print(f\"T-statistic: {t_stat}, One-tailed P-value: {one_tailed_p_value}\")"
   ]
  },
  {
   "cell_type": "code",
   "execution_count": 77,
   "id": "e4622dbd-72af-44ce-90a0-2ec7a102a322",
   "metadata": {},
   "outputs": [
    {
     "name": "stdout",
     "output_type": "stream",
     "text": [
      "T-statistic: nan, One-tailed P-value: nan\n"
     ]
    }
   ],
   "source": [
    "# Rate Beer\n",
    "# group the data by 'user_id' and 'experience_level' to calculate the average rating for each experience level and for each user\n",
    "rb_average_final_rating_by_user_and_experience_level = rb_ratings_with_experience_levels.groupby(['user_id', 'experience_level'])['rating'].mean().unstack()\n",
    "\n",
    "# perform a one-tailed t-test\n",
    "t_stat, p_value = ttest_rel(rb_average_final_rating_by_user_and_experience_level['new_reviewer'], rb_average_final_rating_by_user_and_experience_level['expert'])\n",
    "\n",
    "if t_stat > 0:  # case where 'new reviewer' average rating is greater than 'expert' average rating\n",
    "   one_tailed_p_value = p_value / 2\n",
    "else: # case where 'new reviewer' average rating is smaller than 'expert' average rating\n",
    "    one_tailed_p_value = 1 - (p_value / 2)\n",
    "\n",
    "print(f\"T-statistic: {t_stat}, One-tailed P-value: {one_tailed_p_value}\")"
   ]
  },
  {
   "cell_type": "code",
   "execution_count": null,
   "id": "89a12e77-c8c1-4203-b6f2-43c3c5f9f950",
   "metadata": {},
   "outputs": [],
   "source": []
  }
 ],
 "metadata": {
  "kernelspec": {
   "display_name": "Python 3 (ipykernel)",
   "language": "python",
   "name": "python3"
  },
  "language_info": {
   "codemirror_mode": {
    "name": "ipython",
    "version": 3
   },
   "file_extension": ".py",
   "mimetype": "text/x-python",
   "name": "python",
   "nbconvert_exporter": "python",
   "pygments_lexer": "ipython3",
   "version": "3.11.9"
  }
 },
 "nbformat": 4,
 "nbformat_minor": 5
}
