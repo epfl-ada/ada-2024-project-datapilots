{
 "cells": [
  {
   "cell_type": "markdown",
   "id": "d3a731f1-24db-4ba4-b628-5d09cc3adc73",
   "metadata": {},
   "source": [
    "# Modules"
   ]
  },
  {
   "cell_type": "code",
   "execution_count": 1,
   "id": "817aa5ec-0095-41bb-b9d0-2050c0a947ff",
   "metadata": {},
   "outputs": [],
   "source": [
    "import pandas as pd\n",
    "import numpy as np\n",
    "from matplotlib import pyplot as plt\n",
    "from datetime import datetime, date, time\n",
    "import seaborn as sns\n",
    "from scipy import stats\n",
    "import scipy.stats as st\n",
    "import glob"
   ]
  },
  {
   "cell_type": "markdown",
   "id": "0d1b97c3-e90e-4a37-8667-e050f93563d3",
   "metadata": {},
   "source": [
    "# Dataset"
   ]
  },
  {
   "cell_type": "markdown",
   "id": "fe4147ef-94f7-4a75-a554-e1c15c82bb40",
   "metadata": {},
   "source": [
    "The dataset used in this analysis consists of beer reviews from two beer rating websites,**BeerAdvocate** and **RateBeer**, for a period ranging from 2001 to 2017. For each website, we have 5 files:\n",
    "- users.csv: metadata about reviewers\n",
    "- beers.csv : metadata about reviewed beers\n",
    "- breweries.csv : metadata about breweries\n",
    "- ratings.txt : all reviews given by users, including numerical ratings and sometimes textual reviews\n",
    "- reviews.txt : only reviews given by users that include both numerical ratings and textual reviews\n",
    "\n",
    "In our analysis, we will not use textual reviews. Thus, we will only use ratings.txt files and not reviews.txt files, as we will use all reviews, whether or not they include textual reviews."
   ]
  },
  {
   "cell_type": "markdown",
   "id": "409aefca-a83b-4b8e-9093-30e0eb8d4053",
   "metadata": {},
   "source": [
    "### Load data into Dataframes"
   ]
  },
  {
   "cell_type": "markdown",
   "id": "3b16dd61-703d-4448-b0c3-137c4d554928",
   "metadata": {},
   "source": [
    "The .csv files are not too large and can efficiently be loaded into DataFrames."
   ]
  },
  {
   "cell_type": "code",
   "execution_count": 14,
   "id": "326a7c11-1c12-42ad-aba0-c3e374a48646",
   "metadata": {},
   "outputs": [],
   "source": [
    "BA_DATA_FOLDER = 'data/BeerAdvocate/'\n",
    "RB_DATA_FOLDER = 'data/RateBeer/'\n",
    "\n",
    "BA_USERS = BA_DATA_FOLDER+\"users.csv\"\n",
    "BA_BEERS = BA_DATA_FOLDER+\"beers.csv\"\n",
    "BA_BREWERIES = BA_DATA_FOLDER+\"breweries.csv\"\n",
    "\n",
    "RB_USERS = RB_DATA_FOLDER+\"users.csv\"\n",
    "RB_BEERS = RB_DATA_FOLDER+\"beers.csv\"\n",
    "RB_BREWERIES = RB_DATA_FOLDER+\"breweries.csv\""
   ]
  },
  {
   "cell_type": "code",
   "execution_count": 15,
   "id": "3933ff6e-e76e-4e92-bd2b-bfa8ba49722b",
   "metadata": {},
   "outputs": [],
   "source": [
    "ba_users = pd.read_csv(BA_USERS)\n",
    "ba_beers = pd.read_csv(BA_BEERS)\n",
    "ba_breweries = pd.read_csv(BA_BREWERIES)\n",
    "\n",
    "rb_users = pd.read_csv(RB_USERS)\n",
    "rb_beers = pd.read_csv(RB_BEERS)\n",
    "rb_breweries = pd.read_csv(RB_BREWERIES)"
   ]
  },
  {
   "cell_type": "markdown",
   "id": "ffa18e39-98c3-4cce-a093-793f2e770bba",
   "metadata": {},
   "source": [
    "On the other hand, the ratings.txt files are extremely large, and trying to load them directly into DataFrames leads to kernel freezes. In order to circumvent this problem, we wrote a script (review_parser.py, located in src/scripts), which processes each rating file by dividing it into parts, parsing each part, and saving as JSON. In the notebook, we then load the different JSON files into DataFrames, that we concatenate. Dividing the large .txt files into smaller JSON chunks and then loading each chunk separately, avoids trying to load the entire file into memory at once, which can cause kernel freezes due to memory overload. In addition, JSON is a format that pandas can read efficiently."
   ]
  },
  {
   "cell_type": "code",
   "execution_count": 5,
   "id": "3cdbc2d8-b8e4-48d9-bf4b-bf6a6a696147",
   "metadata": {},
   "outputs": [
    {
     "name": "stderr",
     "output_type": "stream",
     "text": [
      "C:\\Users\\athea\\AppData\\Local\\Temp\\ipykernel_23824\\3299018877.py:3: FutureWarning: The behavior of 'to_datetime' with 'unit' when parsing strings is deprecated. In a future version, strings will be parsed as datetime strings, matching the behavior without a 'unit'. To retain the old behavior, explicitly cast ints or floats to numeric type before calling to_datetime.\n",
      "  ba_df_list = [pd.read_json(file) for file in ba_json_files]\n",
      "C:\\Users\\athea\\AppData\\Local\\Temp\\ipykernel_23824\\3299018877.py:3: FutureWarning: The behavior of 'to_datetime' with 'unit' when parsing strings is deprecated. In a future version, strings will be parsed as datetime strings, matching the behavior without a 'unit'. To retain the old behavior, explicitly cast ints or floats to numeric type before calling to_datetime.\n",
      "  ba_df_list = [pd.read_json(file) for file in ba_json_files]\n"
     ]
    },
    {
     "data": {
      "text/html": [
       "<div>\n",
       "<style scoped>\n",
       "    .dataframe tbody tr th:only-of-type {\n",
       "        vertical-align: middle;\n",
       "    }\n",
       "\n",
       "    .dataframe tbody tr th {\n",
       "        vertical-align: top;\n",
       "    }\n",
       "\n",
       "    .dataframe thead th {\n",
       "        text-align: right;\n",
       "    }\n",
       "</style>\n",
       "<table border=\"1\" class=\"dataframe\">\n",
       "  <thead>\n",
       "    <tr style=\"text-align: right;\">\n",
       "      <th></th>\n",
       "      <th>beer_name</th>\n",
       "      <th>beer_id</th>\n",
       "      <th>brewery_name</th>\n",
       "      <th>brewery_id</th>\n",
       "      <th>style</th>\n",
       "      <th>abv</th>\n",
       "      <th>date</th>\n",
       "      <th>user_name</th>\n",
       "      <th>user_id</th>\n",
       "      <th>appearance</th>\n",
       "      <th>aroma</th>\n",
       "      <th>palate</th>\n",
       "      <th>taste</th>\n",
       "      <th>overall</th>\n",
       "      <th>rating</th>\n",
       "    </tr>\n",
       "  </thead>\n",
       "  <tbody>\n",
       "    <tr>\n",
       "      <th>0</th>\n",
       "      <td>Régab</td>\n",
       "      <td>142544.0</td>\n",
       "      <td>Societe des Brasseries du Gabon (SOBRAGA)</td>\n",
       "      <td>37262.0</td>\n",
       "      <td>Euro Pale Lager</td>\n",
       "      <td>4.5</td>\n",
       "      <td>2015-08-20 10:00:00</td>\n",
       "      <td>nmann08</td>\n",
       "      <td>nmann08.184925</td>\n",
       "      <td>3.25</td>\n",
       "      <td>2.75</td>\n",
       "      <td>3.25</td>\n",
       "      <td>2.75</td>\n",
       "      <td>3.0</td>\n",
       "      <td>2.88</td>\n",
       "    </tr>\n",
       "    <tr>\n",
       "      <th>1</th>\n",
       "      <td>Barelegs Brew</td>\n",
       "      <td>19590.0</td>\n",
       "      <td>Strangford Lough Brewing Company Ltd</td>\n",
       "      <td>10093.0</td>\n",
       "      <td>English Pale Ale</td>\n",
       "      <td>4.5</td>\n",
       "      <td>2009-02-20 11:00:00</td>\n",
       "      <td>StJamesGate</td>\n",
       "      <td>stjamesgate.163714</td>\n",
       "      <td>3.00</td>\n",
       "      <td>3.50</td>\n",
       "      <td>3.50</td>\n",
       "      <td>4.00</td>\n",
       "      <td>3.5</td>\n",
       "      <td>3.67</td>\n",
       "    </tr>\n",
       "    <tr>\n",
       "      <th>2</th>\n",
       "      <td>Barelegs Brew</td>\n",
       "      <td>19590.0</td>\n",
       "      <td>Strangford Lough Brewing Company Ltd</td>\n",
       "      <td>10093.0</td>\n",
       "      <td>English Pale Ale</td>\n",
       "      <td>4.5</td>\n",
       "      <td>2006-03-13 11:00:00</td>\n",
       "      <td>mdagnew</td>\n",
       "      <td>mdagnew.19527</td>\n",
       "      <td>4.00</td>\n",
       "      <td>3.50</td>\n",
       "      <td>3.50</td>\n",
       "      <td>4.00</td>\n",
       "      <td>3.5</td>\n",
       "      <td>3.73</td>\n",
       "    </tr>\n",
       "    <tr>\n",
       "      <th>3</th>\n",
       "      <td>Barelegs Brew</td>\n",
       "      <td>19590.0</td>\n",
       "      <td>Strangford Lough Brewing Company Ltd</td>\n",
       "      <td>10093.0</td>\n",
       "      <td>English Pale Ale</td>\n",
       "      <td>4.5</td>\n",
       "      <td>2004-12-01 11:00:00</td>\n",
       "      <td>helloloser12345</td>\n",
       "      <td>helloloser12345.10867</td>\n",
       "      <td>4.00</td>\n",
       "      <td>3.50</td>\n",
       "      <td>4.00</td>\n",
       "      <td>4.00</td>\n",
       "      <td>4.5</td>\n",
       "      <td>3.98</td>\n",
       "    </tr>\n",
       "    <tr>\n",
       "      <th>4</th>\n",
       "      <td>Barelegs Brew</td>\n",
       "      <td>19590.0</td>\n",
       "      <td>Strangford Lough Brewing Company Ltd</td>\n",
       "      <td>10093.0</td>\n",
       "      <td>English Pale Ale</td>\n",
       "      <td>4.5</td>\n",
       "      <td>2004-08-30 10:00:00</td>\n",
       "      <td>cypressbob</td>\n",
       "      <td>cypressbob.3708</td>\n",
       "      <td>4.00</td>\n",
       "      <td>4.00</td>\n",
       "      <td>4.00</td>\n",
       "      <td>4.00</td>\n",
       "      <td>4.0</td>\n",
       "      <td>4.00</td>\n",
       "    </tr>\n",
       "  </tbody>\n",
       "</table>\n",
       "</div>"
      ],
      "text/plain": [
       "       beer_name   beer_id                               brewery_name  \\\n",
       "0          Régab  142544.0  Societe des Brasseries du Gabon (SOBRAGA)   \n",
       "1  Barelegs Brew   19590.0       Strangford Lough Brewing Company Ltd   \n",
       "2  Barelegs Brew   19590.0       Strangford Lough Brewing Company Ltd   \n",
       "3  Barelegs Brew   19590.0       Strangford Lough Brewing Company Ltd   \n",
       "4  Barelegs Brew   19590.0       Strangford Lough Brewing Company Ltd   \n",
       "\n",
       "   brewery_id             style  abv                date        user_name  \\\n",
       "0     37262.0   Euro Pale Lager  4.5 2015-08-20 10:00:00          nmann08   \n",
       "1     10093.0  English Pale Ale  4.5 2009-02-20 11:00:00      StJamesGate   \n",
       "2     10093.0  English Pale Ale  4.5 2006-03-13 11:00:00          mdagnew   \n",
       "3     10093.0  English Pale Ale  4.5 2004-12-01 11:00:00  helloloser12345   \n",
       "4     10093.0  English Pale Ale  4.5 2004-08-30 10:00:00       cypressbob   \n",
       "\n",
       "                 user_id  appearance  aroma  palate  taste  overall  rating  \n",
       "0         nmann08.184925        3.25   2.75    3.25   2.75      3.0    2.88  \n",
       "1     stjamesgate.163714        3.00   3.50    3.50   4.00      3.5    3.67  \n",
       "2          mdagnew.19527        4.00   3.50    3.50   4.00      3.5    3.73  \n",
       "3  helloloser12345.10867        4.00   3.50    4.00   4.00      4.5    3.98  \n",
       "4        cypressbob.3708        4.00   4.00    4.00   4.00      4.0    4.00  "
      ]
     },
     "execution_count": 5,
     "metadata": {},
     "output_type": "execute_result"
    }
   ],
   "source": [
    "# Load BeerAdvocate ratings stored in json files into a single DataFrame\n",
    "ba_json_files = glob.glob(BA_DATA_FOLDER+'*.json')\n",
    "ba_df_list = [pd.read_json(file) for file in ba_json_files]\n",
    "ba_ratings = pd.concat(ba_df_list, ignore_index=True)\n",
    "ba_ratings.head()"
   ]
  },
  {
   "cell_type": "code",
   "execution_count": 8,
   "id": "fb11f725-802b-4adb-b7b3-0485722a279b",
   "metadata": {},
   "outputs": [
    {
     "name": "stderr",
     "output_type": "stream",
     "text": [
      "C:\\Users\\athea\\AppData\\Local\\Temp\\ipykernel_23824\\180671459.py:3: FutureWarning: The behavior of 'to_datetime' with 'unit' when parsing strings is deprecated. In a future version, strings will be parsed as datetime strings, matching the behavior without a 'unit'. To retain the old behavior, explicitly cast ints or floats to numeric type before calling to_datetime.\n",
      "  rb_df_list = [pd.read_json(file) for file in rb_json_files]\n",
      "C:\\Users\\athea\\AppData\\Local\\Temp\\ipykernel_23824\\180671459.py:3: FutureWarning: The behavior of 'to_datetime' with 'unit' when parsing strings is deprecated. In a future version, strings will be parsed as datetime strings, matching the behavior without a 'unit'. To retain the old behavior, explicitly cast ints or floats to numeric type before calling to_datetime.\n",
      "  rb_df_list = [pd.read_json(file) for file in rb_json_files]\n"
     ]
    },
    {
     "data": {
      "text/html": [
       "<div>\n",
       "<style scoped>\n",
       "    .dataframe tbody tr th:only-of-type {\n",
       "        vertical-align: middle;\n",
       "    }\n",
       "\n",
       "    .dataframe tbody tr th {\n",
       "        vertical-align: top;\n",
       "    }\n",
       "\n",
       "    .dataframe thead th {\n",
       "        text-align: right;\n",
       "    }\n",
       "</style>\n",
       "<table border=\"1\" class=\"dataframe\">\n",
       "  <thead>\n",
       "    <tr style=\"text-align: right;\">\n",
       "      <th></th>\n",
       "      <th>beer_name</th>\n",
       "      <th>beer_id</th>\n",
       "      <th>brewery_name</th>\n",
       "      <th>brewery_id</th>\n",
       "      <th>style</th>\n",
       "      <th>abv</th>\n",
       "      <th>date</th>\n",
       "      <th>user_name</th>\n",
       "      <th>user_id</th>\n",
       "      <th>appearance</th>\n",
       "      <th>aroma</th>\n",
       "      <th>palate</th>\n",
       "      <th>taste</th>\n",
       "      <th>overall</th>\n",
       "      <th>rating</th>\n",
       "    </tr>\n",
       "  </thead>\n",
       "  <tbody>\n",
       "    <tr>\n",
       "      <th>0</th>\n",
       "      <td>33 Export (Gabon)</td>\n",
       "      <td>410549.0</td>\n",
       "      <td>Sobraga</td>\n",
       "      <td>3198.0</td>\n",
       "      <td>Pale Lager</td>\n",
       "      <td>5.0</td>\n",
       "      <td>2016-04-26 10:00:00</td>\n",
       "      <td>Manslow</td>\n",
       "      <td>175852.0</td>\n",
       "      <td>2.0</td>\n",
       "      <td>4.0</td>\n",
       "      <td>2.0</td>\n",
       "      <td>4.0</td>\n",
       "      <td>8.0</td>\n",
       "      <td>2.0</td>\n",
       "    </tr>\n",
       "    <tr>\n",
       "      <th>1</th>\n",
       "      <td>Castel Beer (Gabon)</td>\n",
       "      <td>105273.0</td>\n",
       "      <td>Sobraga</td>\n",
       "      <td>3198.0</td>\n",
       "      <td>Pale Lager</td>\n",
       "      <td>5.2</td>\n",
       "      <td>2017-02-17 11:00:00</td>\n",
       "      <td>MAGICuenca91</td>\n",
       "      <td>442761.0</td>\n",
       "      <td>2.0</td>\n",
       "      <td>3.0</td>\n",
       "      <td>2.0</td>\n",
       "      <td>4.0</td>\n",
       "      <td>8.0</td>\n",
       "      <td>1.9</td>\n",
       "    </tr>\n",
       "    <tr>\n",
       "      <th>2</th>\n",
       "      <td>Castel Beer (Gabon)</td>\n",
       "      <td>105273.0</td>\n",
       "      <td>Sobraga</td>\n",
       "      <td>3198.0</td>\n",
       "      <td>Pale Lager</td>\n",
       "      <td>5.2</td>\n",
       "      <td>2016-06-24 10:00:00</td>\n",
       "      <td>Sibarh</td>\n",
       "      <td>288889.0</td>\n",
       "      <td>3.0</td>\n",
       "      <td>3.0</td>\n",
       "      <td>2.0</td>\n",
       "      <td>3.0</td>\n",
       "      <td>5.0</td>\n",
       "      <td>1.6</td>\n",
       "    </tr>\n",
       "    <tr>\n",
       "      <th>3</th>\n",
       "      <td>Castel Beer (Gabon)</td>\n",
       "      <td>105273.0</td>\n",
       "      <td>Sobraga</td>\n",
       "      <td>3198.0</td>\n",
       "      <td>Pale Lager</td>\n",
       "      <td>5.2</td>\n",
       "      <td>2016-01-01 11:00:00</td>\n",
       "      <td>fombe89</td>\n",
       "      <td>250510.0</td>\n",
       "      <td>4.0</td>\n",
       "      <td>3.0</td>\n",
       "      <td>1.0</td>\n",
       "      <td>2.0</td>\n",
       "      <td>5.0</td>\n",
       "      <td>1.5</td>\n",
       "    </tr>\n",
       "    <tr>\n",
       "      <th>4</th>\n",
       "      <td>Castel Beer (Gabon)</td>\n",
       "      <td>105273.0</td>\n",
       "      <td>Sobraga</td>\n",
       "      <td>3198.0</td>\n",
       "      <td>Pale Lager</td>\n",
       "      <td>5.2</td>\n",
       "      <td>2015-10-23 10:00:00</td>\n",
       "      <td>kevnic2008</td>\n",
       "      <td>122778.0</td>\n",
       "      <td>2.0</td>\n",
       "      <td>4.0</td>\n",
       "      <td>2.0</td>\n",
       "      <td>4.0</td>\n",
       "      <td>7.0</td>\n",
       "      <td>1.9</td>\n",
       "    </tr>\n",
       "  </tbody>\n",
       "</table>\n",
       "</div>"
      ],
      "text/plain": [
       "             beer_name   beer_id brewery_name  brewery_id       style  abv  \\\n",
       "0    33 Export (Gabon)  410549.0      Sobraga      3198.0  Pale Lager  5.0   \n",
       "1  Castel Beer (Gabon)  105273.0      Sobraga      3198.0  Pale Lager  5.2   \n",
       "2  Castel Beer (Gabon)  105273.0      Sobraga      3198.0  Pale Lager  5.2   \n",
       "3  Castel Beer (Gabon)  105273.0      Sobraga      3198.0  Pale Lager  5.2   \n",
       "4  Castel Beer (Gabon)  105273.0      Sobraga      3198.0  Pale Lager  5.2   \n",
       "\n",
       "                 date     user_name   user_id  appearance  aroma  palate  \\\n",
       "0 2016-04-26 10:00:00       Manslow  175852.0         2.0    4.0     2.0   \n",
       "1 2017-02-17 11:00:00  MAGICuenca91  442761.0         2.0    3.0     2.0   \n",
       "2 2016-06-24 10:00:00        Sibarh  288889.0         3.0    3.0     2.0   \n",
       "3 2016-01-01 11:00:00       fombe89  250510.0         4.0    3.0     1.0   \n",
       "4 2015-10-23 10:00:00    kevnic2008  122778.0         2.0    4.0     2.0   \n",
       "\n",
       "   taste  overall  rating  \n",
       "0    4.0      8.0     2.0  \n",
       "1    4.0      8.0     1.9  \n",
       "2    3.0      5.0     1.6  \n",
       "3    2.0      5.0     1.5  \n",
       "4    4.0      7.0     1.9  "
      ]
     },
     "execution_count": 8,
     "metadata": {},
     "output_type": "execute_result"
    }
   ],
   "source": [
    "# Load RateBeer ratings stored in json files into a single DataFrame\n",
    "rb_json_files = glob.glob(RB_DATA_FOLDER+'*.json')\n",
    "rb_df_list = [pd.read_json(file) for file in rb_json_files]\n",
    "rb_ratings = pd.concat(rb_df_list, ignore_index=True)\n",
    "rb_ratings.head()"
   ]
  },
  {
   "cell_type": "markdown",
   "id": "12805ef7-35b6-4379-ac9a-159ba5ff5fd7",
   "metadata": {},
   "source": [
    "### First look at the data\n",
    "\n",
    "We will now examine the different DataFrames in more detail."
   ]
  },
  {
   "cell_type": "code",
   "execution_count": 6,
   "id": "efc6e5ad-e6b4-4afa-a3bf-4b254ffd491c",
   "metadata": {},
   "outputs": [],
   "source": [
    "# explain the columns of users, beers, breweries and ratings DataFrames"
   ]
  },
  {
   "cell_type": "markdown",
   "id": "54774dee-6477-4b83-a52a-4869df8c9c4c",
   "metadata": {},
   "source": [
    "**BeerAdvocate beer Dataframe**"
   ]
  },
  {
   "cell_type": "code",
   "execution_count": 8,
   "id": "0d23278a-e5d5-44c7-8ea7-b0690bdd82bb",
   "metadata": {},
   "outputs": [
    {
     "data": {
      "text/html": [
       "<div>\n",
       "<style scoped>\n",
       "    .dataframe tbody tr th:only-of-type {\n",
       "        vertical-align: middle;\n",
       "    }\n",
       "\n",
       "    .dataframe tbody tr th {\n",
       "        vertical-align: top;\n",
       "    }\n",
       "\n",
       "    .dataframe thead th {\n",
       "        text-align: right;\n",
       "    }\n",
       "</style>\n",
       "<table border=\"1\" class=\"dataframe\">\n",
       "  <thead>\n",
       "    <tr style=\"text-align: right;\">\n",
       "      <th></th>\n",
       "      <th>beer_id</th>\n",
       "      <th>beer_name</th>\n",
       "      <th>brewery_id</th>\n",
       "      <th>brewery_name</th>\n",
       "      <th>style</th>\n",
       "      <th>nbr_ratings</th>\n",
       "      <th>nbr_reviews</th>\n",
       "      <th>avg</th>\n",
       "      <th>ba_score</th>\n",
       "      <th>bros_score</th>\n",
       "      <th>abv</th>\n",
       "      <th>avg_computed</th>\n",
       "      <th>zscore</th>\n",
       "      <th>nbr_matched_valid_ratings</th>\n",
       "      <th>avg_matched_valid_ratings</th>\n",
       "    </tr>\n",
       "  </thead>\n",
       "  <tbody>\n",
       "    <tr>\n",
       "      <th>81087</th>\n",
       "      <td>141821</td>\n",
       "      <td>Agrestic #26 - French Oak Wild Red Ale</td>\n",
       "      <td>2210</td>\n",
       "      <td>Firestone Walker Brewing Co.</td>\n",
       "      <td>American Wild Ale</td>\n",
       "      <td>9</td>\n",
       "      <td>0</td>\n",
       "      <td>4.16</td>\n",
       "      <td>NaN</td>\n",
       "      <td>NaN</td>\n",
       "      <td>6.2</td>\n",
       "      <td>4.158889</td>\n",
       "      <td>NaN</td>\n",
       "      <td>0</td>\n",
       "      <td>NaN</td>\n",
       "    </tr>\n",
       "    <tr>\n",
       "      <th>265260</th>\n",
       "      <td>108973</td>\n",
       "      <td>Xtrem Hop Citra</td>\n",
       "      <td>3521</td>\n",
       "      <td>De Proefbrouwerij (bvba Andelot)</td>\n",
       "      <td>Belgian IPA</td>\n",
       "      <td>2</td>\n",
       "      <td>1</td>\n",
       "      <td>3.92</td>\n",
       "      <td>NaN</td>\n",
       "      <td>NaN</td>\n",
       "      <td>7.1</td>\n",
       "      <td>3.950000</td>\n",
       "      <td>NaN</td>\n",
       "      <td>0</td>\n",
       "      <td>NaN</td>\n",
       "    </tr>\n",
       "    <tr>\n",
       "      <th>199838</th>\n",
       "      <td>42835</td>\n",
       "      <td>Ahtanum</td>\n",
       "      <td>9784</td>\n",
       "      <td>Zero Gravity Craft Brewery / American Flatbread</td>\n",
       "      <td>American Pale Wheat Ale</td>\n",
       "      <td>1</td>\n",
       "      <td>1</td>\n",
       "      <td>4.13</td>\n",
       "      <td>NaN</td>\n",
       "      <td>NaN</td>\n",
       "      <td>NaN</td>\n",
       "      <td>4.130000</td>\n",
       "      <td>NaN</td>\n",
       "      <td>0</td>\n",
       "      <td>NaN</td>\n",
       "    </tr>\n",
       "    <tr>\n",
       "      <th>63275</th>\n",
       "      <td>84206</td>\n",
       "      <td>Jonsson Råg Ale</td>\n",
       "      <td>19929</td>\n",
       "      <td>Qvänum Mat &amp; Malt</td>\n",
       "      <td>Rye Beer</td>\n",
       "      <td>4</td>\n",
       "      <td>1</td>\n",
       "      <td>3.21</td>\n",
       "      <td>NaN</td>\n",
       "      <td>NaN</td>\n",
       "      <td>5.8</td>\n",
       "      <td>3.447500</td>\n",
       "      <td>NaN</td>\n",
       "      <td>0</td>\n",
       "      <td>NaN</td>\n",
       "    </tr>\n",
       "  </tbody>\n",
       "</table>\n",
       "</div>"
      ],
      "text/plain": [
       "        beer_id                               beer_name  brewery_id  \\\n",
       "81087    141821  Agrestic #26 - French Oak Wild Red Ale        2210   \n",
       "265260   108973                         Xtrem Hop Citra        3521   \n",
       "199838    42835                                 Ahtanum        9784   \n",
       "63275     84206                         Jonsson Råg Ale       19929   \n",
       "\n",
       "                                           brewery_name  \\\n",
       "81087                      Firestone Walker Brewing Co.   \n",
       "265260                 De Proefbrouwerij (bvba Andelot)   \n",
       "199838  Zero Gravity Craft Brewery / American Flatbread   \n",
       "63275                                 Qvänum Mat & Malt   \n",
       "\n",
       "                          style  nbr_ratings  nbr_reviews   avg  ba_score  \\\n",
       "81087         American Wild Ale            9            0  4.16       NaN   \n",
       "265260              Belgian IPA            2            1  3.92       NaN   \n",
       "199838  American Pale Wheat Ale            1            1  4.13       NaN   \n",
       "63275                  Rye Beer            4            1  3.21       NaN   \n",
       "\n",
       "        bros_score  abv  avg_computed  zscore  nbr_matched_valid_ratings  \\\n",
       "81087          NaN  6.2      4.158889     NaN                          0   \n",
       "265260         NaN  7.1      3.950000     NaN                          0   \n",
       "199838         NaN  NaN      4.130000     NaN                          0   \n",
       "63275          NaN  5.8      3.447500     NaN                          0   \n",
       "\n",
       "        avg_matched_valid_ratings  \n",
       "81087                         NaN  \n",
       "265260                        NaN  \n",
       "199838                        NaN  \n",
       "63275                         NaN  "
      ]
     },
     "execution_count": 8,
     "metadata": {},
     "output_type": "execute_result"
    }
   ],
   "source": [
    "ba_beers.sample(4)"
   ]
  },
  {
   "cell_type": "markdown",
   "id": "ab8c2aeb-e307-4927-8423-945eec894cc0",
   "metadata": {},
   "source": [
    "Let us explain the different columns of the BeerAdvocate beer Dataframe, in which each row is a beer:\n",
    "- beer_id, beer_name, brewery_id, brewery_name, style are explicit\n",
    "- nbr_ratings: total number of reviews for that beer, whether or not they include textual reviews\n",
    "- nbr_reviews: number of reviews for that beer that include textual reviews\n",
    "- avg: average rating (out of 5) given to the beer based on user ratings\n",
    "- ba_score: the BeerAdvocate score assigned to the beer, which corresponds to the beer's overall rating within its style category, calculated using a trimmed mean and a custom Bayesian formula that adjusts for the beer's style, balancing the score based on the number of ratings and the style's average\n",
    "- bros_score: beer rating given by the site’s founders\n",
    "- abv: 'Alcohol by volume', which indicates the percentage of alcohol content in the beer\n",
    "- avg_computed: average rating (out of 5) recalculated using a weighted sum of the different aspect ratings\n",
    "- z_score: z-score of the beer's average rating, which is a statistical measure that indicates how many standard deviations the average rating is from the mean of all ratings from the BeerAdvocate dataset\n",
    "- nbr_matched_valid_ratings: number of valid ratings for beers that were successfully matched between two BeerAdvocate and RateBeer\n",
    "- avg_matched_valid_ratings: average rating of those matched and valid ratings across the sites\n",
    "\n",
    "The last two columns are related to the analysis performed by Robert West and Gael Lederrey in the following paper: https://dlab.epfl.ch/people/west/pub/Lederrey-West_WWW-18.pdf."
   ]
  },
  {
   "cell_type": "markdown",
   "id": "01ed55b2-c5ee-48fb-a442-5f8b015369d4",
   "metadata": {},
   "source": [
    "**RateBeer beer Dataframe**"
   ]
  },
  {
   "cell_type": "code",
   "execution_count": 17,
   "id": "c161fb2b-1767-403a-a892-25edfc887c54",
   "metadata": {},
   "outputs": [
    {
     "data": {
      "text/html": [
       "<div>\n",
       "<style scoped>\n",
       "    .dataframe tbody tr th:only-of-type {\n",
       "        vertical-align: middle;\n",
       "    }\n",
       "\n",
       "    .dataframe tbody tr th {\n",
       "        vertical-align: top;\n",
       "    }\n",
       "\n",
       "    .dataframe thead th {\n",
       "        text-align: right;\n",
       "    }\n",
       "</style>\n",
       "<table border=\"1\" class=\"dataframe\">\n",
       "  <thead>\n",
       "    <tr style=\"text-align: right;\">\n",
       "      <th></th>\n",
       "      <th>beer_id</th>\n",
       "      <th>beer_name</th>\n",
       "      <th>brewery_id</th>\n",
       "      <th>brewery_name</th>\n",
       "      <th>style</th>\n",
       "      <th>nbr_ratings</th>\n",
       "      <th>overall_score</th>\n",
       "      <th>style_score</th>\n",
       "      <th>avg</th>\n",
       "      <th>abv</th>\n",
       "      <th>avg_computed</th>\n",
       "      <th>zscore</th>\n",
       "      <th>nbr_matched_valid_ratings</th>\n",
       "      <th>avg_matched_valid_ratings</th>\n",
       "    </tr>\n",
       "  </thead>\n",
       "  <tbody>\n",
       "    <tr>\n",
       "      <th>79326</th>\n",
       "      <td>194675</td>\n",
       "      <td>Storm&amp;Anchor BPA Belgian Pale Ale</td>\n",
       "      <td>14014</td>\n",
       "      <td>Storm&amp;Anchor</td>\n",
       "      <td>Belgian Ale</td>\n",
       "      <td>4</td>\n",
       "      <td>NaN</td>\n",
       "      <td>NaN</td>\n",
       "      <td>2.96</td>\n",
       "      <td>7.9</td>\n",
       "      <td>3.275000</td>\n",
       "      <td>NaN</td>\n",
       "      <td>0</td>\n",
       "      <td>NaN</td>\n",
       "    </tr>\n",
       "    <tr>\n",
       "      <th>294663</th>\n",
       "      <td>121889</td>\n",
       "      <td>Mother Earth Tripel Over Head</td>\n",
       "      <td>10567</td>\n",
       "      <td>Mother Earth Brewing Company</td>\n",
       "      <td>Abbey Tripel</td>\n",
       "      <td>54</td>\n",
       "      <td>75.0</td>\n",
       "      <td>72.0</td>\n",
       "      <td>3.36</td>\n",
       "      <td>9.0</td>\n",
       "      <td>3.394444</td>\n",
       "      <td>NaN</td>\n",
       "      <td>0</td>\n",
       "      <td>NaN</td>\n",
       "    </tr>\n",
       "    <tr>\n",
       "      <th>147777</th>\n",
       "      <td>190475</td>\n",
       "      <td>Schouskjelleren / Flying Couch / Herslevs Perf...</td>\n",
       "      <td>12143</td>\n",
       "      <td>Schouskjelleren Mikrobryggeri</td>\n",
       "      <td>Spice/Herb/Vegetable</td>\n",
       "      <td>5</td>\n",
       "      <td>NaN</td>\n",
       "      <td>NaN</td>\n",
       "      <td>3.00</td>\n",
       "      <td>6.0</td>\n",
       "      <td>3.300000</td>\n",
       "      <td>NaN</td>\n",
       "      <td>0</td>\n",
       "      <td>NaN</td>\n",
       "    </tr>\n",
       "    <tr>\n",
       "      <th>173172</th>\n",
       "      <td>175587</td>\n",
       "      <td>I &amp; I 140 Shilling</td>\n",
       "      <td>13922</td>\n",
       "      <td>I &amp; I Brewing</td>\n",
       "      <td>Scotch Ale</td>\n",
       "      <td>2</td>\n",
       "      <td>NaN</td>\n",
       "      <td>NaN</td>\n",
       "      <td>2.71</td>\n",
       "      <td>9.0</td>\n",
       "      <td>2.600000</td>\n",
       "      <td>NaN</td>\n",
       "      <td>0</td>\n",
       "      <td>NaN</td>\n",
       "    </tr>\n",
       "  </tbody>\n",
       "</table>\n",
       "</div>"
      ],
      "text/plain": [
       "        beer_id                                          beer_name  \\\n",
       "79326    194675                  Storm&Anchor BPA Belgian Pale Ale   \n",
       "294663   121889                      Mother Earth Tripel Over Head   \n",
       "147777   190475  Schouskjelleren / Flying Couch / Herslevs Perf...   \n",
       "173172   175587                                 I & I 140 Shilling   \n",
       "\n",
       "        brewery_id                   brewery_name                 style  \\\n",
       "79326        14014                   Storm&Anchor           Belgian Ale   \n",
       "294663       10567   Mother Earth Brewing Company          Abbey Tripel   \n",
       "147777       12143  Schouskjelleren Mikrobryggeri  Spice/Herb/Vegetable   \n",
       "173172       13922                  I & I Brewing            Scotch Ale   \n",
       "\n",
       "        nbr_ratings  overall_score  style_score   avg  abv  avg_computed  \\\n",
       "79326             4            NaN          NaN  2.96  7.9      3.275000   \n",
       "294663           54           75.0         72.0  3.36  9.0      3.394444   \n",
       "147777            5            NaN          NaN  3.00  6.0      3.300000   \n",
       "173172            2            NaN          NaN  2.71  9.0      2.600000   \n",
       "\n",
       "        zscore  nbr_matched_valid_ratings  avg_matched_valid_ratings  \n",
       "79326      NaN                          0                        NaN  \n",
       "294663     NaN                          0                        NaN  \n",
       "147777     NaN                          0                        NaN  \n",
       "173172     NaN                          0                        NaN  "
      ]
     },
     "execution_count": 17,
     "metadata": {},
     "output_type": "execute_result"
    }
   ],
   "source": [
    "rb_beers.sample(4)"
   ]
  },
  {
   "cell_type": "markdown",
   "id": "c96fc7ab-14ac-46fa-92cd-ed6625c177a0",
   "metadata": {},
   "source": [
    "Let us explain the different columns of the RateBeer beer Dataframe, in which each row is a beer:\n",
    "\n",
    "The beer_id, beer_name, brewery_id, brewery_name, style, nbr_ratings, avg, abv, avg_computed, z-score, nbr_matched_valid_ratings and avg_matched_valid_ratings are the same as for the BeerAdvocate beer Dataframe.\n",
    "\n",
    "Some columns are missing compared to the BeerAdvocate beer Dataframe: ba_score and bros_score (which makes sense as these are BeerAdvocate-specific scores), and nbr_reviews.\n",
    "\n",
    "New columns are present compared to the BeerAdvocate beer Dataframe:\n",
    "- overall_score: score (out of 100) which \"reflects the rating given by RateBeer users and how this beer compares to all other beers on RateBeer\", calculated by considering the ratings given by each user and the total number of ratings for the beer\n",
    "- style_score: score given to the beer (out of 100) specifically within its style category"
   ]
  },
  {
   "cell_type": "markdown",
   "id": "e72a9eda-af03-441a-8ed7-e5ad0460b037",
   "metadata": {},
   "source": [
    "**BeerAdvocate user Dataframe**"
   ]
  },
  {
   "cell_type": "code",
   "execution_count": 24,
   "id": "ab6c6888-1999-4bcb-b950-8321913db7b7",
   "metadata": {},
   "outputs": [
    {
     "data": {
      "text/html": [
       "<div>\n",
       "<style scoped>\n",
       "    .dataframe tbody tr th:only-of-type {\n",
       "        vertical-align: middle;\n",
       "    }\n",
       "\n",
       "    .dataframe tbody tr th {\n",
       "        vertical-align: top;\n",
       "    }\n",
       "\n",
       "    .dataframe thead th {\n",
       "        text-align: right;\n",
       "    }\n",
       "</style>\n",
       "<table border=\"1\" class=\"dataframe\">\n",
       "  <thead>\n",
       "    <tr style=\"text-align: right;\">\n",
       "      <th></th>\n",
       "      <th>nbr_ratings</th>\n",
       "      <th>nbr_reviews</th>\n",
       "      <th>user_id</th>\n",
       "      <th>user_name</th>\n",
       "      <th>joined</th>\n",
       "      <th>location</th>\n",
       "    </tr>\n",
       "  </thead>\n",
       "  <tbody>\n",
       "    <tr>\n",
       "      <th>137845</th>\n",
       "      <td>1</td>\n",
       "      <td>0</td>\n",
       "      <td>danewooldridge.543854</td>\n",
       "      <td>danewooldridge</td>\n",
       "      <td>1.293275e+09</td>\n",
       "      <td>United States, Georgia</td>\n",
       "    </tr>\n",
       "    <tr>\n",
       "      <th>114778</th>\n",
       "      <td>2</td>\n",
       "      <td>0</td>\n",
       "      <td>millerbeer1.810253</td>\n",
       "      <td>MillerBeer1</td>\n",
       "      <td>1.403345e+09</td>\n",
       "      <td>NaN</td>\n",
       "    </tr>\n",
       "    <tr>\n",
       "      <th>24966</th>\n",
       "      <td>35</td>\n",
       "      <td>0</td>\n",
       "      <td>joh04587.607764</td>\n",
       "      <td>joh04587</td>\n",
       "      <td>1.309601e+09</td>\n",
       "      <td>United States, Wisconsin</td>\n",
       "    </tr>\n",
       "    <tr>\n",
       "      <th>121167</th>\n",
       "      <td>3</td>\n",
       "      <td>3</td>\n",
       "      <td>jawstone.658</td>\n",
       "      <td>jawstone</td>\n",
       "      <td>1.030615e+09</td>\n",
       "      <td>United States, Pennsylvania</td>\n",
       "    </tr>\n",
       "  </tbody>\n",
       "</table>\n",
       "</div>"
      ],
      "text/plain": [
       "        nbr_ratings  nbr_reviews                user_id       user_name  \\\n",
       "137845            1            0  danewooldridge.543854  danewooldridge   \n",
       "114778            2            0     millerbeer1.810253     MillerBeer1   \n",
       "24966            35            0        joh04587.607764        joh04587   \n",
       "121167            3            3           jawstone.658        jawstone   \n",
       "\n",
       "              joined                     location  \n",
       "137845  1.293275e+09       United States, Georgia  \n",
       "114778  1.403345e+09                          NaN  \n",
       "24966   1.309601e+09     United States, Wisconsin  \n",
       "121167  1.030615e+09  United States, Pennsylvania  "
      ]
     },
     "execution_count": 24,
     "metadata": {},
     "output_type": "execute_result"
    }
   ],
   "source": [
    "ba_users.sample(4)"
   ]
  },
  {
   "cell_type": "markdown",
   "id": "070b3ce0-a5ea-41c7-a9b9-cbc266c0c146",
   "metadata": {},
   "source": [
    "Let us explain the different columns of the BeerAdvocate user Dataframe, in which each row is a reviewer:\n",
    "- nbr_ratings, nbr_reviews, user_id, user_name, and location are explicit\n",
    "- joined: timestamp indicating when the user joined BeerAdvocate in Unix timestamp format (the number of seconds since January 1, 1970, 00:00:00 UTC)"
   ]
  },
  {
   "cell_type": "markdown",
   "id": "592dd210-dd3d-47da-9bd6-7d07666bb7be",
   "metadata": {},
   "source": [
    "**RateBeer user Dataframe**"
   ]
  },
  {
   "cell_type": "code",
   "execution_count": 23,
   "id": "ca91c2e3-9c3e-4b0a-9938-f4caaf9522aa",
   "metadata": {},
   "outputs": [
    {
     "data": {
      "text/html": [
       "<div>\n",
       "<style scoped>\n",
       "    .dataframe tbody tr th:only-of-type {\n",
       "        vertical-align: middle;\n",
       "    }\n",
       "\n",
       "    .dataframe tbody tr th {\n",
       "        vertical-align: top;\n",
       "    }\n",
       "\n",
       "    .dataframe thead th {\n",
       "        text-align: right;\n",
       "    }\n",
       "</style>\n",
       "<table border=\"1\" class=\"dataframe\">\n",
       "  <thead>\n",
       "    <tr style=\"text-align: right;\">\n",
       "      <th></th>\n",
       "      <th>nbr_ratings</th>\n",
       "      <th>user_id</th>\n",
       "      <th>user_name</th>\n",
       "      <th>joined</th>\n",
       "      <th>location</th>\n",
       "    </tr>\n",
       "  </thead>\n",
       "  <tbody>\n",
       "    <tr>\n",
       "      <th>3054</th>\n",
       "      <td>93</td>\n",
       "      <td>18030</td>\n",
       "      <td>DougiePhiTau</td>\n",
       "      <td>1.102676e+09</td>\n",
       "      <td>NaN</td>\n",
       "    </tr>\n",
       "    <tr>\n",
       "      <th>79</th>\n",
       "      <td>5319</td>\n",
       "      <td>105677</td>\n",
       "      <td>mr_h</td>\n",
       "      <td>1.272881e+09</td>\n",
       "      <td>Scotland</td>\n",
       "    </tr>\n",
       "    <tr>\n",
       "      <th>54888</th>\n",
       "      <td>1</td>\n",
       "      <td>99689</td>\n",
       "      <td>blobby</td>\n",
       "      <td>1.262689e+09</td>\n",
       "      <td>United States, Florida</td>\n",
       "    </tr>\n",
       "    <tr>\n",
       "      <th>51129</th>\n",
       "      <td>2</td>\n",
       "      <td>358729</td>\n",
       "      <td>Carolust</td>\n",
       "      <td>1.424257e+09</td>\n",
       "      <td>Mexico</td>\n",
       "    </tr>\n",
       "  </tbody>\n",
       "</table>\n",
       "</div>"
      ],
      "text/plain": [
       "       nbr_ratings  user_id     user_name        joined  \\\n",
       "3054            93    18030  DougiePhiTau  1.102676e+09   \n",
       "79            5319   105677          mr_h  1.272881e+09   \n",
       "54888            1    99689        blobby  1.262689e+09   \n",
       "51129            2   358729      Carolust  1.424257e+09   \n",
       "\n",
       "                     location  \n",
       "3054                      NaN  \n",
       "79                   Scotland  \n",
       "54888  United States, Florida  \n",
       "51129                  Mexico  "
      ]
     },
     "execution_count": 23,
     "metadata": {},
     "output_type": "execute_result"
    }
   ],
   "source": [
    "rb_users.sample(4)"
   ]
  },
  {
   "cell_type": "markdown",
   "id": "38a2d497-2a05-4aae-9559-1202af180eb4",
   "metadata": {},
   "source": [
    "Let us explain the different columns of the RateBeer user Dataframe, in which each row is a reviewer:\n",
    "\n",
    "The columns are the same as in the BeerAdvocate user Dataframe (joined is obviously the timestamp indicating when the user joined RateBeer and not BeerAdvocate), except that nbr_reviews is missing."
   ]
  },
  {
   "cell_type": "markdown",
   "id": "0e168376-cdaf-40c4-8fbc-cff927932d97",
   "metadata": {},
   "source": [
    "**Brewery Dataframes**"
   ]
  },
  {
   "cell_type": "code",
   "execution_count": 27,
   "id": "73ae84fc-63d3-451f-b9f5-a4e4018d8e31",
   "metadata": {},
   "outputs": [
    {
     "data": {
      "text/html": [
       "<div>\n",
       "<style scoped>\n",
       "    .dataframe tbody tr th:only-of-type {\n",
       "        vertical-align: middle;\n",
       "    }\n",
       "\n",
       "    .dataframe tbody tr th {\n",
       "        vertical-align: top;\n",
       "    }\n",
       "\n",
       "    .dataframe thead th {\n",
       "        text-align: right;\n",
       "    }\n",
       "</style>\n",
       "<table border=\"1\" class=\"dataframe\">\n",
       "  <thead>\n",
       "    <tr style=\"text-align: right;\">\n",
       "      <th></th>\n",
       "      <th>id</th>\n",
       "      <th>location</th>\n",
       "      <th>name</th>\n",
       "      <th>nbr_beers</th>\n",
       "    </tr>\n",
       "  </thead>\n",
       "  <tbody>\n",
       "    <tr>\n",
       "      <th>6527</th>\n",
       "      <td>40992</td>\n",
       "      <td>Brazil</td>\n",
       "      <td>Cervejaria Ouropretana</td>\n",
       "      <td>6</td>\n",
       "    </tr>\n",
       "    <tr>\n",
       "      <th>4880</th>\n",
       "      <td>24713</td>\n",
       "      <td>Switzerland</td>\n",
       "      <td>Brauerei AG Luzern</td>\n",
       "      <td>0</td>\n",
       "    </tr>\n",
       "    <tr>\n",
       "      <th>6233</th>\n",
       "      <td>4173</td>\n",
       "      <td>Spain</td>\n",
       "      <td>Grupo Cruzcampo SA</td>\n",
       "      <td>16</td>\n",
       "    </tr>\n",
       "    <tr>\n",
       "      <th>8731</th>\n",
       "      <td>33846</td>\n",
       "      <td>United States, California</td>\n",
       "      <td>Los Angeles Ale Works</td>\n",
       "      <td>25</td>\n",
       "    </tr>\n",
       "  </tbody>\n",
       "</table>\n",
       "</div>"
      ],
      "text/plain": [
       "         id                   location                    name  nbr_beers\n",
       "6527  40992                     Brazil  Cervejaria Ouropretana          6\n",
       "4880  24713                Switzerland      Brauerei AG Luzern          0\n",
       "6233   4173                      Spain      Grupo Cruzcampo SA         16\n",
       "8731  33846  United States, California   Los Angeles Ale Works         25"
      ]
     },
     "execution_count": 27,
     "metadata": {},
     "output_type": "execute_result"
    }
   ],
   "source": [
    "ba_breweries.sample(4)"
   ]
  },
  {
   "cell_type": "code",
   "execution_count": 29,
   "id": "7dbcdc37-96ca-45e2-adf5-a4d286f3151a",
   "metadata": {},
   "outputs": [
    {
     "data": {
      "text/html": [
       "<div>\n",
       "<style scoped>\n",
       "    .dataframe tbody tr th:only-of-type {\n",
       "        vertical-align: middle;\n",
       "    }\n",
       "\n",
       "    .dataframe tbody tr th {\n",
       "        vertical-align: top;\n",
       "    }\n",
       "\n",
       "    .dataframe thead th {\n",
       "        text-align: right;\n",
       "    }\n",
       "</style>\n",
       "<table border=\"1\" class=\"dataframe\">\n",
       "  <thead>\n",
       "    <tr style=\"text-align: right;\">\n",
       "      <th></th>\n",
       "      <th>id</th>\n",
       "      <th>location</th>\n",
       "      <th>name</th>\n",
       "      <th>nbr_beers</th>\n",
       "    </tr>\n",
       "  </thead>\n",
       "  <tbody>\n",
       "    <tr>\n",
       "      <th>11794</th>\n",
       "      <td>8674</td>\n",
       "      <td>Venezuela</td>\n",
       "      <td>AmBev Venezuela</td>\n",
       "      <td>3</td>\n",
       "    </tr>\n",
       "    <tr>\n",
       "      <th>15860</th>\n",
       "      <td>18083</td>\n",
       "      <td>United States, Maryland</td>\n",
       "      <td>Mullys Brewery</td>\n",
       "      <td>17</td>\n",
       "    </tr>\n",
       "    <tr>\n",
       "      <th>14739</th>\n",
       "      <td>5580</td>\n",
       "      <td>United States, Washington</td>\n",
       "      <td>Heads Up Brewing Company</td>\n",
       "      <td>18</td>\n",
       "    </tr>\n",
       "    <tr>\n",
       "      <th>16730</th>\n",
       "      <td>23909</td>\n",
       "      <td>United States, Virginia</td>\n",
       "      <td>Bristol Brewery</td>\n",
       "      <td>11</td>\n",
       "    </tr>\n",
       "  </tbody>\n",
       "</table>\n",
       "</div>"
      ],
      "text/plain": [
       "          id                   location                      name  nbr_beers\n",
       "11794   8674                  Venezuela           AmBev Venezuela          3\n",
       "15860  18083    United States, Maryland           Mullys Brewery         17\n",
       "14739   5580  United States, Washington  Heads Up Brewing Company         18\n",
       "16730  23909    United States, Virginia           Bristol Brewery         11"
      ]
     },
     "execution_count": 29,
     "metadata": {},
     "output_type": "execute_result"
    }
   ],
   "source": [
    "rb_breweries.sample(4)"
   ]
  },
  {
   "cell_type": "markdown",
   "id": "942c8c7f-abbe-405d-96e8-4ea5e8628e24",
   "metadata": {},
   "source": [
    "The columns are explicit and are the same for the 2 websites. Each row is a brewery."
   ]
  },
  {
   "cell_type": "markdown",
   "id": "b63e01d8-7b92-4a7d-b298-1517c2c3da30",
   "metadata": {},
   "source": [
    "**Rating Dataframes**"
   ]
  },
  {
   "cell_type": "code",
   "execution_count": 31,
   "id": "d165bf0f-8aec-4454-8258-13ab9e939ac1",
   "metadata": {},
   "outputs": [
    {
     "ename": "NameError",
     "evalue": "name 'ba_ratings' is not defined",
     "output_type": "error",
     "traceback": [
      "\u001b[1;31m---------------------------------------------------------------------------\u001b[0m",
      "\u001b[1;31mNameError\u001b[0m                                 Traceback (most recent call last)",
      "Cell \u001b[1;32mIn[31], line 1\u001b[0m\n\u001b[1;32m----> 1\u001b[0m ba_ratings\u001b[38;5;241m.\u001b[39msample(\u001b[38;5;241m4\u001b[39m)\n",
      "\u001b[1;31mNameError\u001b[0m: name 'ba_ratings' is not defined"
     ]
    }
   ],
   "source": [
    "ba_ratings.sample(4)"
   ]
  },
  {
   "cell_type": "code",
   "execution_count": 37,
   "id": "067f6131-2ab3-4d1b-8615-8d243b685fe5",
   "metadata": {},
   "outputs": [
    {
     "ename": "NameError",
     "evalue": "name 'rb_ratings' is not defined",
     "output_type": "error",
     "traceback": [
      "\u001b[1;31m---------------------------------------------------------------------------\u001b[0m",
      "\u001b[1;31mNameError\u001b[0m                                 Traceback (most recent call last)",
      "Cell \u001b[1;32mIn[37], line 1\u001b[0m\n\u001b[1;32m----> 1\u001b[0m rb_ratings\u001b[38;5;241m.\u001b[39msample(\u001b[38;5;241m4\u001b[39m)\n",
      "\u001b[1;31mNameError\u001b[0m: name 'rb_ratings' is not defined"
     ]
    }
   ],
   "source": [
    "rb_ratings.sample(4)"
   ]
  },
  {
   "cell_type": "markdown",
   "id": "ed1a35f7-557c-4c48-9bf0-2b4fd180bea2",
   "metadata": {},
   "source": [
    "The columns are the same for the 2 Dataframes. Each row corresponds to an individual review. Most column names are explicit. \n",
    "- 'appearance','aroma', 'palate','taste' correspond to aspect ratings (out of 5)\n",
    "- 'overall' is the mean of the 4 aspect ratings\n",
    "- 'rating' is the final rating given by the user to the beer"
   ]
  },
  {
   "cell_type": "markdown",
   "id": "42d1962e-2051-4db1-9d02-8644a25f4e3e",
   "metadata": {},
   "source": [
    "# 0) Data cleaning"
   ]
  },
  {
   "cell_type": "code",
   "execution_count": 43,
   "id": "8fa56452-c41e-45f4-aa1b-ae54b178c220",
   "metadata": {},
   "outputs": [],
   "source": [
    "# make sure each column has the right type\n",
    "# deal with missing or Nan values\n",
    "# check the correspondance between brewery_id in the beers DataFrames and brewery_id in the breweries Dataframes\n",
    "# set all US locations to 'United States' (remove state information)\n",
    "# remove any embedded HTML links in the location strings\n",
    "# remove countries with too few reviewers"
   ]
  },
  {
   "cell_type": "markdown",
   "id": "f40ad818-8b19-4eee-ac29-5fb7da5d9b1b",
   "metadata": {},
   "source": [
    "# 1) Link between culture and taste"
   ]
  },
  {
   "cell_type": "markdown",
   "id": "79f9c501-af10-4219-a5d3-68bccb141f05",
   "metadata": {},
   "source": [
    "## a) Beer style preferences"
   ]
  },
  {
   "cell_type": "code",
   "execution_count": 17,
   "id": "2f86c884-4d21-4354-8202-1c9833c9c003",
   "metadata": {},
   "outputs": [],
   "source": [
    "# use clustering techniques to determine beer style is most popular in each country / geographic area\n",
    "# use time information to determine if regional beer style preferences are stable (which would suggest that they are \n",
    "# strongly affected by culture)or if they vary over time"
   ]
  },
  {
   "cell_type": "markdown",
   "id": "5983a7d5-7c30-414f-a018-06ea6bc7ef71",
   "metadata": {},
   "source": [
    "## b) Importance of specific beer attributes"
   ]
  },
  {
   "cell_type": "code",
   "execution_count": 14,
   "id": "1ecb8aec-7393-4973-a836-f8cd44708931",
   "metadata": {},
   "outputs": [],
   "source": [
    "# perform linear regression between attribute ratings the final rating for all countries together and compare coefficients for each attribute\n",
    "# perform linear regression between attribute ratings the final rating for the different countries separately and observe the distribution of the coefficients for the different attributes across countries"
   ]
  },
  {
   "cell_type": "markdown",
   "id": "c01f5940-35af-427b-b75f-1d971a42d990",
   "metadata": {},
   "source": [
    "# 2) Location-related biases in ratings"
   ]
  },
  {
   "cell_type": "markdown",
   "id": "037f969a-228d-4ec8-bb87-b720d89e001f",
   "metadata": {},
   "source": [
    "## a) Cultural biases"
   ]
  },
  {
   "cell_type": "code",
   "execution_count": 15,
   "id": "5610c865-9208-43c0-8f42-fddd4a159ee4",
   "metadata": {},
   "outputs": [],
   "source": [
    "# determine the final rating for each country/ geographic area\n",
    "# determine if the final rating for each country/ geographic area is the same using statistical tests"
   ]
  },
  {
   "cell_type": "markdown",
   "id": "610ad20b-5961-408e-a124-d2ecaf99a0ad",
   "metadata": {},
   "source": [
    "## b) Beer origin bias"
   ]
  },
  {
   "cell_type": "code",
   "execution_count": 16,
   "id": "a0350cbf-f773-4db5-81c7-a08aef2f9f37",
   "metadata": {},
   "outputs": [],
   "source": [
    "# compare the final rating of domestic vs foreign beers and determine if there is a significant difference using statistical tests\n",
    "# determine if the final rating of a given beer is correlated with the number of reviewers from the country where the beer comes from who reviewed that beer (scatter plot + Pearson’s correlation coefficient + regression)\n",
    "# isolate beer enthusiasts (who wrote a very large number of reviews) and compare the final rating of domestic vs foreign beers and determine if there is a significant difference using statistical tests"
   ]
  },
  {
   "cell_type": "markdown",
   "id": "ce8cc7a4-05e3-4d31-8bd0-2bc692acb0ad",
   "metadata": {},
   "source": [
    "# 3) Other biases"
   ]
  },
  {
   "cell_type": "markdown",
   "id": "10db9d36-424f-48a0-96e0-22e1274bd46d",
   "metadata": {},
   "source": [
    "## a) Seasonal biases"
   ]
  },
  {
   "cell_type": "code",
   "execution_count": 19,
   "id": "89d52126-3c0a-4505-80c0-4266f7041665",
   "metadata": {},
   "outputs": [],
   "source": [
    "# use the time information to determine the season during which each rating was posted (only consider countries with 4 seasons)\n",
    "# group ratings by season\n",
    "# within each group, determine the average final rating of each beer style\n",
    "# compare the results for the different seasons"
   ]
  },
  {
   "cell_type": "markdown",
   "id": "5a90222b-dccb-4064-8f22-38326863b6bd",
   "metadata": {},
   "source": [
    "## b) Experience biais"
   ]
  },
  {
   "cell_type": "code",
   "execution_count": 20,
   "id": "7d1b5e93-edad-4670-8c8e-ab1a11aa4be3",
   "metadata": {},
   "outputs": [],
   "source": [
    "# isolate users who gave a lot of ratings (based on a chosen threshold)\n",
    "# for each user, sort their reviews chronologically and assign an \"experience level\" (predefined values that will be the same for all users: n<o<p) to each rating based the count of reviews posted by that user up to that rating: new reviewer (for the first n reviews), amateur (for the n+1 th review up to the oth review), expert (for the o+1 th review until the last review)\n",
    "# calculate the average final rating for each experience level across all users\n",
    "# represent results as a bar plot\n",
    "# if a particular trend is visible,perform a paired t-test (for early vs. late reviews by the same user) to test if the rating decrease or increase is statistically significant"
   ]
  }
 ],
 "metadata": {
  "kernelspec": {
   "display_name": "Python [conda env:ada] *",
   "language": "python",
   "name": "conda-env-ada-py"
  },
  "language_info": {
   "codemirror_mode": {
    "name": "ipython",
    "version": 3
   },
   "file_extension": ".py",
   "mimetype": "text/x-python",
   "name": "python",
   "nbconvert_exporter": "python",
   "pygments_lexer": "ipython3",
   "version": "3.11.9"
  }
 },
 "nbformat": 4,
 "nbformat_minor": 5
}
